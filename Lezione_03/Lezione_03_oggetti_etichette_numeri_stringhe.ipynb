{
 "cells": [
  {
   "cell_type": "markdown",
   "metadata": {
    "heading_collapsed": true
   },
   "source": [
    "# Oggetti"
   ]
  },
  {
   "cell_type": "markdown",
   "metadata": {
    "hidden": true
   },
   "source": [
    "In Python tutto è un **oggetto**, cioè l'istanza di una classe. La classe è un modello su cui si basano gli oggetti, una sorta di calco."
   ]
  },
  {
   "cell_type": "markdown",
   "metadata": {
    "hidden": true
   },
   "source": [
    "La classe **Automobile** ad esempio, prevede alcuni attributi: colore, cilindrata, numero di porte, etc..."
   ]
  },
  {
   "cell_type": "markdown",
   "metadata": {
    "hidden": true
   },
   "source": [
    "Quando esegue del codice, Python valuta delle **espressioni** (combinazioni di valori, operatori e variabili-etichette) producendo un **valore**, che è rappresentato in memoria come un **oggetto**."
   ]
  },
  {
   "cell_type": "markdown",
   "metadata": {
    "hidden": true
   },
   "source": [
    "Quando un oggetto non serve più, un meccanismo definito **garbage collector** si occupa di eliminarlo e liberare la memoria"
   ]
  },
  {
   "cell_type": "markdown",
   "metadata": {
    "hidden": true
   },
   "source": [
    "Gli oggetti che costituiscono il cuore di Python sono detti **oggetti built-in** e si dividono in:\n",
    "* tipi built-in\n",
    "* funzioni built-in\n",
    "* classi\n",
    "* eccezioni built-in"
   ]
  },
  {
   "cell_type": "markdown",
   "metadata": {
    "heading_collapsed": true
   },
   "source": [
    "# Etichette"
   ]
  },
  {
   "cell_type": "markdown",
   "metadata": {
    "hidden": true
   },
   "source": [
    "Per semplicità chiameremo le etichette **variabili**, anche se più formalmente sono **riferimenti** agli oggetti.  "
   ]
  },
  {
   "cell_type": "markdown",
   "metadata": {
    "hidden": true
   },
   "source": [
    "Per creare dei riferimenti all'istanza di una classe, quindi a un oggetto, usiamo l'**operatore di assegnamento** (=)"
   ]
  },
  {
   "cell_type": "code",
   "execution_count": 158,
   "metadata": {
    "ExecuteTime": {
     "end_time": "2021-02-12T20:35:25.393356Z",
     "start_time": "2021-02-12T20:35:25.388895Z"
    },
    "hidden": true
   },
   "outputs": [],
   "source": [
    "# l'oggetto di tipo 'int' 15 viene 'legato' all'etichetta 'numero'. \n",
    "# L'etichetta 'numero' quindi ora è un 'riferimento' all'oggetto 15 \n",
    "numero = 15"
   ]
  },
  {
   "cell_type": "markdown",
   "metadata": {
    "hidden": true
   },
   "source": [
    "Possiamo assegnare ad una variabile un valore (quindi un oggetto) oppure un'espressione, cioè una sequenza di valori e operazioni che producono un valore"
   ]
  },
  {
   "cell_type": "code",
   "execution_count": 160,
   "metadata": {
    "ExecuteTime": {
     "end_time": "2021-02-12T20:38:31.925889Z",
     "start_time": "2021-02-12T20:38:31.921315Z"
    },
    "hidden": true
   },
   "outputs": [
    {
     "name": "stdout",
     "output_type": "stream",
     "text": [
      "52\n"
     ]
    }
   ],
   "source": [
    "area = 15 * 3 + 7\n",
    "print(area)"
   ]
  },
  {
   "cell_type": "markdown",
   "metadata": {
    "heading_collapsed": true,
    "hidden": true
   },
   "source": [
    "## Nomi delle etichette"
   ]
  },
  {
   "cell_type": "markdown",
   "metadata": {
    "hidden": true
   },
   "source": [
    "Nomi di variabili:\n",
    "1. Possono contenere solo ed esclusivamente: \n",
    "    * lettere minuscole e/o maiuscole, \n",
    "    * numeri, \n",
    "    * simbolo \\_\n",
    "2. Non possono iniziare con un numero\n",
    "3. Non possono essere uguali alle **parole riservate** del linguaggio, cioè:\n",
    "|||||\n",
    "|---|---|---|---|\n",
    "| False | None | True | and |\n",
    "| as | assert | async | await |\n",
    "| break | class | continue | def |\n",
    "| del | elif | else | except |\n",
    "| finally | for | from | global |\n",
    "| if | import | in | is |\n",
    "| lambda | nonlocal | not | or |\n",
    "| pass | raise | return | try |\n",
    "| while | with | yield |"
   ]
  },
  {
   "cell_type": "markdown",
   "metadata": {
    "ExecuteTime": {
     "end_time": "2021-02-12T13:14:03.255810Z",
     "start_time": "2021-02-12T13:14:03.252217Z"
    },
    "heading_collapsed": true
   },
   "source": [
    "# Tipi built-in"
   ]
  },
  {
   "cell_type": "markdown",
   "metadata": {
    "ExecuteTime": {
     "end_time": "2021-02-12T13:14:03.255810Z",
     "start_time": "2021-02-12T13:14:03.252217Z"
    },
    "hidden": true
   },
   "source": [
    "è l'insieme dei *tipi* built-in:\n",
    "\n",
    "* Numeri (**int**, **float**, **bool**, **complex**) \n",
    "* Insiemi (**set**)\n",
    "* Sequenze (**str**, **list**, **tuple**, **byte**)\n",
    "* Dizionari (**dict**)"
   ]
  },
  {
   "cell_type": "markdown",
   "metadata": {
    "hidden": true
   },
   "source": [
    "I tipi del **core data type** appartengono ad una categoria di oggetti chiamati *classi*, o *tipi*  \n",
    "Intuitivamente:\n",
    "il numero intero **17** appartiene al tipo **int**, o, formalmente, è un'istanza della classe **int**"
   ]
  },
  {
   "cell_type": "markdown",
   "metadata": {
    "hidden": true
   },
   "source": [
    "Per sapere a quale tipo appartenga un oggetto:   \n",
    "`type(...oggetto...)`"
   ]
  },
  {
   "cell_type": "code",
   "execution_count": 162,
   "metadata": {
    "ExecuteTime": {
     "end_time": "2021-02-12T20:39:28.235979Z",
     "start_time": "2021-02-12T20:39:28.230631Z"
    },
    "hidden": true
   },
   "outputs": [
    {
     "name": "stdout",
     "output_type": "stream",
     "text": [
      "<class 'int'>\n"
     ]
    }
   ],
   "source": [
    "numero = 17\n",
    "print(type(numero))\n",
    "# int"
   ]
  },
  {
   "cell_type": "markdown",
   "metadata": {
    "heading_collapsed": true,
    "hidden": true
   },
   "source": [
    "## identità"
   ]
  },
  {
   "cell_type": "markdown",
   "metadata": {
    "ExecuteTime": {
     "end_time": "2021-02-12T13:48:30.628635Z",
     "start_time": "2021-02-12T13:48:30.622963Z"
    },
    "hidden": true
   },
   "source": [
    "Ogni oggetto è caratterizzato da un numero univoco detto **identità**, a cui si accede con la locuzione seguente:\n",
    "`id(...oggetto...)`"
   ]
  },
  {
   "cell_type": "code",
   "execution_count": 26,
   "metadata": {
    "ExecuteTime": {
     "end_time": "2021-02-12T13:49:43.760409Z",
     "start_time": "2021-02-12T13:49:43.754412Z"
    },
    "hidden": true
   },
   "outputs": [
    {
     "data": {
      "text/plain": [
       "94685974078592"
      ]
     },
     "execution_count": 26,
     "metadata": {},
     "output_type": "execute_result"
    }
   ],
   "source": [
    "numero = 17\n",
    "id(numero)"
   ]
  },
  {
   "cell_type": "markdown",
   "metadata": {
    "ExecuteTime": {
     "end_time": "2021-02-12T14:01:39.722120Z",
     "start_time": "2021-02-12T14:01:39.716668Z"
    },
    "heading_collapsed": true,
    "hidden": true
   },
   "source": [
    "## attributi"
   ]
  },
  {
   "cell_type": "markdown",
   "metadata": {
    "hidden": true
   },
   "source": [
    "Ogni oggetto possiede degli **attributi**, a cui si accede con:  \n",
    "`dir(...oggetto...)`"
   ]
  },
  {
   "cell_type": "code",
   "execution_count": 29,
   "metadata": {
    "ExecuteTime": {
     "end_time": "2021-02-12T14:04:42.716762Z",
     "start_time": "2021-02-12T14:04:42.708728Z"
    },
    "hidden": true,
    "scrolled": true
   },
   "outputs": [
    {
     "data": {
      "text/plain": [
       "['__abs__',\n",
       " '__add__',\n",
       " '__and__',\n",
       " '__bool__',\n",
       " '__ceil__',\n",
       " '__class__',\n",
       " '__delattr__',\n",
       " '__dir__',\n",
       " '__divmod__',\n",
       " '__doc__',\n",
       " '__eq__',\n",
       " '__float__',\n",
       " '__floor__',\n",
       " '__floordiv__',\n",
       " '__format__',\n",
       " '__ge__',\n",
       " '__getattribute__',\n",
       " '__getnewargs__',\n",
       " '__gt__',\n",
       " '__hash__',\n",
       " '__index__',\n",
       " '__init__',\n",
       " '__init_subclass__',\n",
       " '__int__',\n",
       " '__invert__',\n",
       " '__le__',\n",
       " '__lshift__',\n",
       " '__lt__',\n",
       " '__mod__',\n",
       " '__mul__',\n",
       " '__ne__',\n",
       " '__neg__',\n",
       " '__new__',\n",
       " '__or__',\n",
       " '__pos__',\n",
       " '__pow__',\n",
       " '__radd__',\n",
       " '__rand__',\n",
       " '__rdivmod__',\n",
       " '__reduce__',\n",
       " '__reduce_ex__',\n",
       " '__repr__',\n",
       " '__rfloordiv__',\n",
       " '__rlshift__',\n",
       " '__rmod__',\n",
       " '__rmul__',\n",
       " '__ror__',\n",
       " '__round__',\n",
       " '__rpow__',\n",
       " '__rrshift__',\n",
       " '__rshift__',\n",
       " '__rsub__',\n",
       " '__rtruediv__',\n",
       " '__rxor__',\n",
       " '__setattr__',\n",
       " '__sizeof__',\n",
       " '__str__',\n",
       " '__sub__',\n",
       " '__subclasshook__',\n",
       " '__truediv__',\n",
       " '__trunc__',\n",
       " '__xor__',\n",
       " 'bit_length',\n",
       " 'conjugate',\n",
       " 'denominator',\n",
       " 'from_bytes',\n",
       " 'imag',\n",
       " 'numerator',\n",
       " 'real',\n",
       " 'to_bytes']"
      ]
     },
     "execution_count": 29,
     "metadata": {},
     "output_type": "execute_result"
    }
   ],
   "source": [
    "numero = 17\n",
    "dir(numero)"
   ]
  },
  {
   "cell_type": "markdown",
   "metadata": {
    "hidden": true
   },
   "source": [
    "Gli **attributi** sono degli identificativi accessibili per mezzo del *delimitatore* **punto**"
   ]
  },
  {
   "cell_type": "code",
   "execution_count": 43,
   "metadata": {
    "ExecuteTime": {
     "end_time": "2021-02-12T14:16:33.667598Z",
     "start_time": "2021-02-12T14:16:33.661724Z"
    },
    "hidden": true
   },
   "outputs": [
    {
     "data": {
      "text/plain": [
       "17"
      ]
     },
     "execution_count": 43,
     "metadata": {},
     "output_type": "execute_result"
    }
   ],
   "source": [
    "numero = 17\n",
    "numero.numerator"
   ]
  },
  {
   "cell_type": "markdown",
   "metadata": {
    "hidden": true
   },
   "source": [
    "Ogni *tipo* ha i suoi attributi. Ciò significa che gli attributi del tipo *int* sono diversi agli attributi del tipo *float*"
   ]
  },
  {
   "cell_type": "markdown",
   "metadata": {
    "hidden": true
   },
   "source": [
    "Gli attributi possono essere **chiamabili** (e in questo caso saranno chiamati **metodi**) oppure non chiamabili, e in questo caso saranno semplici attributi che restituiscono un valore.  \n",
    "Un attributo (non chiamabile) è come una variabile che contiene un valore. Un attributo chiamabile (cioè un *metodo*) è un blocco di codice che compie delle operazioni"
   ]
  },
  {
   "cell_type": "markdown",
   "metadata": {
    "hidden": true
   },
   "source": [
    "Alcuni attributi (il cui nome è preceduto e seguito dal doppio *underscore* -> \\__nomeattributo\\__) sono definiti attributi speciali, o *magici* e hanno funzioni specifiche che vedremo in seguito."
   ]
  },
  {
   "cell_type": "code",
   "execution_count": 44,
   "metadata": {
    "ExecuteTime": {
     "end_time": "2021-02-12T14:18:12.235324Z",
     "start_time": "2021-02-12T14:18:12.230902Z"
    },
    "hidden": true
   },
   "outputs": [],
   "source": [
    "numero = 17"
   ]
  },
  {
   "cell_type": "code",
   "execution_count": 77,
   "metadata": {
    "ExecuteTime": {
     "end_time": "2021-02-12T14:28:03.754979Z",
     "start_time": "2021-02-12T14:28:03.749474Z"
    },
    "hidden": true
   },
   "outputs": [
    {
     "data": {
      "text/plain": [
       "17"
      ]
     },
     "execution_count": 77,
     "metadata": {},
     "output_type": "execute_result"
    }
   ],
   "source": [
    "# attributo non chiamabile\n",
    "numero.numerator"
   ]
  },
  {
   "cell_type": "code",
   "execution_count": 79,
   "metadata": {
    "ExecuteTime": {
     "end_time": "2021-02-12T14:28:53.448667Z",
     "start_time": "2021-02-12T14:28:53.442939Z"
    },
    "hidden": true
   },
   "outputs": [
    {
     "data": {
      "text/plain": [
       "5"
      ]
     },
     "execution_count": 79,
     "metadata": {},
     "output_type": "execute_result"
    }
   ],
   "source": [
    "# attributo chiamabile\n",
    "numero.bit_length()"
   ]
  },
  {
   "cell_type": "markdown",
   "metadata": {
    "hidden": true
   },
   "source": [
    "Per sapere se l'attributo di un tipo sia chiamabile si usa:  \n",
    "`callable(...oggetto...)`"
   ]
  },
  {
   "cell_type": "code",
   "execution_count": 80,
   "metadata": {
    "ExecuteTime": {
     "end_time": "2021-02-12T14:29:51.065204Z",
     "start_time": "2021-02-12T14:29:51.060305Z"
    },
    "hidden": true
   },
   "outputs": [],
   "source": [
    "numero = 17"
   ]
  },
  {
   "cell_type": "code",
   "execution_count": 81,
   "metadata": {
    "ExecuteTime": {
     "end_time": "2021-02-12T14:30:04.302220Z",
     "start_time": "2021-02-12T14:30:04.296278Z"
    },
    "hidden": true
   },
   "outputs": [
    {
     "data": {
      "text/plain": [
       "True"
      ]
     },
     "execution_count": 81,
     "metadata": {},
     "output_type": "execute_result"
    }
   ],
   "source": [
    "callable(numero.bit_length)"
   ]
  },
  {
   "cell_type": "code",
   "execution_count": 82,
   "metadata": {
    "ExecuteTime": {
     "end_time": "2021-02-12T14:30:11.901002Z",
     "start_time": "2021-02-12T14:30:11.894898Z"
    },
    "hidden": true
   },
   "outputs": [
    {
     "data": {
      "text/plain": [
       "False"
      ]
     },
     "execution_count": 82,
     "metadata": {},
     "output_type": "execute_result"
    }
   ],
   "source": [
    "callable(numero.numerator)"
   ]
  },
  {
   "cell_type": "markdown",
   "metadata": {
    "heading_collapsed": true
   },
   "source": [
    "# I numeri"
   ]
  },
  {
   "cell_type": "markdown",
   "metadata": {
    "hidden": true
   },
   "source": [
    "I numeri appartengono alle classi *int*, *float*, *bool* e *complex* \n",
    "Per ora ci occupiamo solo di *int* (numeri interi) e *float* (numeri con la virgola)"
   ]
  },
  {
   "cell_type": "markdown",
   "metadata": {
    "hidden": true
   },
   "source": [
    "Intuitivamente, si possono compiere su di essi le consuete operazioni aritmetiche con i seguenti operatori (built-in):\n",
    "\n",
    "```\n",
    "+    addizione \n",
    "*    moltiplicazione\n",
    "-    sottrazione\n",
    "/    divisione\n",
    "**   elevamento a potenza\n",
    "//   divisione intera\n",
    "%    modulo (resto)\n",
    "```\n",
    "\n",
    "che ci permettono di usare Python come una calcolatrice:"
   ]
  },
  {
   "cell_type": "code",
   "execution_count": 144,
   "metadata": {
    "ExecuteTime": {
     "end_time": "2021-02-12T16:18:52.982109Z",
     "start_time": "2021-02-12T16:18:52.976836Z"
    },
    "hidden": true
   },
   "outputs": [
    {
     "data": {
      "text/plain": [
       "12"
      ]
     },
     "execution_count": 144,
     "metadata": {},
     "output_type": "execute_result"
    }
   ],
   "source": [
    "5 + 7"
   ]
  },
  {
   "cell_type": "code",
   "execution_count": 145,
   "metadata": {
    "ExecuteTime": {
     "end_time": "2021-02-12T16:19:00.507546Z",
     "start_time": "2021-02-12T16:19:00.502660Z"
    },
    "hidden": true
   },
   "outputs": [
    {
     "data": {
      "text/plain": [
       "35"
      ]
     },
     "execution_count": 145,
     "metadata": {},
     "output_type": "execute_result"
    }
   ],
   "source": [
    "7 * 3 + 14"
   ]
  },
  {
   "cell_type": "markdown",
   "metadata": {
    "hidden": true
   },
   "source": [
    "Il flusso delle operazioni procede secondo le regole di precedenza degli operatori:\n",
    "\n",
    "1. **\n",
    "2. / // % *\n",
    "3. \\+ -\n",
    "\n",
    "Il flusso può essere cambiato tramite le parentesi, che aumentano la priorità di una operazione"
   ]
  },
  {
   "cell_type": "code",
   "execution_count": 147,
   "metadata": {
    "ExecuteTime": {
     "end_time": "2021-02-12T16:19:25.028064Z",
     "start_time": "2021-02-12T16:19:25.022527Z"
    },
    "hidden": true
   },
   "outputs": [
    {
     "data": {
      "text/plain": [
       "40"
      ]
     },
     "execution_count": 147,
     "metadata": {},
     "output_type": "execute_result"
    }
   ],
   "source": [
    "(7 + 3) * 4"
   ]
  },
  {
   "cell_type": "markdown",
   "metadata": {
    "hidden": true
   },
   "source": [
    "Se compio delle operazioni su dei *float* il valore restituito sarà sempre di tipo *float*. Se compio delle operazioni sugli *int* il valore restituito sarà *int* oppure *float*. Ad esempio una divisione fra numeri interi restituisce come risultato con la virgola."
   ]
  },
  {
   "cell_type": "code",
   "execution_count": 150,
   "metadata": {
    "ExecuteTime": {
     "end_time": "2021-02-12T16:46:00.482576Z",
     "start_time": "2021-02-12T16:46:00.475608Z"
    },
    "hidden": true
   },
   "outputs": [
    {
     "name": "stdout",
     "output_type": "stream",
     "text": [
      "la variabile numero1 è di tipo: <class 'int'>\n",
      "la variabile numero1 è di tipo: <class 'int'>\n",
      "Il risultato della divisione è di tipo: <class 'float'>\n"
     ]
    }
   ],
   "source": [
    "numero1 = 14\n",
    "numero2 = 8\n",
    "\n",
    "print(\"la variabile numero1 è di tipo:\", type(numero1))\n",
    "print(\"la variabile numero1 è di tipo:\", type(numero2))\n",
    "\n",
    "divisione = numero1 / numero2\n",
    "print(\"Il risultato della divisione è di tipo:\", type(divisione))"
   ]
  },
  {
   "cell_type": "markdown",
   "metadata": {
    "hidden": true
   },
   "source": [
    "## Esercizi"
   ]
  },
  {
   "cell_type": "markdown",
   "metadata": {
    "hidden": true
   },
   "source": [
    "### Esercizio 1"
   ]
  },
  {
   "cell_type": "markdown",
   "metadata": {
    "hidden": true
   },
   "source": [
    "**Problema**: calcolare l'area di un triangolo a partire dalla base e dall'altezza"
   ]
  },
  {
   "cell_type": "code",
   "execution_count": 153,
   "metadata": {
    "ExecuteTime": {
     "end_time": "2021-02-12T18:52:40.448705Z",
     "start_time": "2021-02-12T18:52:40.443380Z"
    },
    "hidden": true
   },
   "outputs": [
    {
     "name": "stdout",
     "output_type": "stream",
     "text": [
      "L'area del triangolo con base 15 e altezza 13 è uguale a 97.5\n"
     ]
    }
   ],
   "source": [
    "# definisco la base\n",
    "base = 15\n",
    "\n",
    "#definisco l'altezza\n",
    "altezza = 13\n",
    "\n",
    "# calcolo l'area\n",
    "area = base * altezza / 2\n",
    "\n",
    "# stampo il risultato\n",
    "print(f\"L'area del triangolo con base {base} e altezza {altezza} è uguale a {area}\")"
   ]
  },
  {
   "cell_type": "markdown",
   "metadata": {
    "heading_collapsed": true,
    "hidden": true
   },
   "source": [
    "### Esercizio 2"
   ]
  },
  {
   "cell_type": "markdown",
   "metadata": {
    "hidden": true
   },
   "source": [
    "**Problema**: Il volume di una sfera di raggio r è $\\frac{4}{3}\\pi r^3$. Che volume ha una sfera di raggio 5?  \n",
    "N.B. assumiamo $\\pi = 3.14$"
   ]
  },
  {
   "cell_type": "code",
   "execution_count": 155,
   "metadata": {
    "ExecuteTime": {
     "end_time": "2021-02-12T19:15:13.173348Z",
     "start_time": "2021-02-12T19:15:13.170389Z"
    },
    "hidden": true
   },
   "outputs": [],
   "source": [
    "# svolgimento"
   ]
  },
  {
   "cell_type": "markdown",
   "metadata": {
    "heading_collapsed": true,
    "hidden": true
   },
   "source": [
    "### Esercizio 3"
   ]
  },
  {
   "cell_type": "markdown",
   "metadata": {
    "hidden": true
   },
   "source": [
    "**Problema**: Il prezzo di copertina di un libro è 24,95 euro, ma una libreria ottiene il 40% di sconto. I costi di spedizione sono 3 euro per la prima copia e 0.75 centesimi per ogni copia aggiuntiva.  \n",
    "Qual è il costo totale di 60 copie?"
   ]
  },
  {
   "cell_type": "code",
   "execution_count": 156,
   "metadata": {
    "ExecuteTime": {
     "end_time": "2021-02-12T19:15:22.120745Z",
     "start_time": "2021-02-12T19:15:22.117817Z"
    },
    "hidden": true
   },
   "outputs": [],
   "source": [
    "# svolgimento"
   ]
  },
  {
   "cell_type": "markdown",
   "metadata": {
    "heading_collapsed": true
   },
   "source": [
    "# Le stringhe"
   ]
  },
  {
   "cell_type": "markdown",
   "metadata": {
    "heading_collapsed": true,
    "hidden": true
   },
   "source": [
    "## definizione"
   ]
  },
  {
   "cell_type": "markdown",
   "metadata": {
    "hidden": true
   },
   "source": [
    "rappresentate da una sequenza di caratteri Unicode di lunghezza arbitraria, racchiusi tra apici singoli, virgolette, tripli apici singoli o triple virgolette"
   ]
  },
  {
   "cell_type": "code",
   "execution_count": 84,
   "metadata": {
    "ExecuteTime": {
     "end_time": "2021-02-12T14:34:58.469722Z",
     "start_time": "2021-02-12T14:34:58.463624Z"
    },
    "hidden": true
   },
   "outputs": [
    {
     "data": {
      "text/plain": [
       "'francesco'"
      ]
     },
     "execution_count": 84,
     "metadata": {},
     "output_type": "execute_result"
    }
   ],
   "source": [
    "\"francesco\"\n",
    "'francesco'\n",
    "\"\"\"francesco\"\"\""
   ]
  },
  {
   "cell_type": "markdown",
   "metadata": {
    "hidden": true
   },
   "source": [
    "Se all'interno della stringa ho bisogno di rappresentare un apice o una virgoletta, uso come delimitatori dei simboli *diversi* da quelli presenti all'interno della stringa"
   ]
  },
  {
   "cell_type": "code",
   "execution_count": 85,
   "metadata": {
    "ExecuteTime": {
     "end_time": "2021-02-12T14:36:07.692301Z",
     "start_time": "2021-02-12T14:36:07.686864Z"
    },
    "hidden": true
   },
   "outputs": [
    {
     "data": {
      "text/plain": [
       "\"ci vediamo all'una\""
      ]
     },
     "execution_count": 85,
     "metadata": {},
     "output_type": "execute_result"
    }
   ],
   "source": [
    "\"ci vediamo all'una\""
   ]
  },
  {
   "cell_type": "code",
   "execution_count": 86,
   "metadata": {
    "ExecuteTime": {
     "end_time": "2021-02-12T14:36:23.895412Z",
     "start_time": "2021-02-12T14:36:23.890391Z"
    },
    "hidden": true
   },
   "outputs": [
    {
     "ename": "SyntaxError",
     "evalue": "invalid syntax (<ipython-input-86-38857c42d6cd>, line 1)",
     "output_type": "error",
     "traceback": [
      "\u001b[0;36m  File \u001b[0;32m\"<ipython-input-86-38857c42d6cd>\"\u001b[0;36m, line \u001b[0;32m1\u001b[0m\n\u001b[0;31m    'ci vediamo all'una'\u001b[0m\n\u001b[0m                      ^\u001b[0m\n\u001b[0;31mSyntaxError\u001b[0m\u001b[0;31m:\u001b[0m invalid syntax\n"
     ]
    }
   ],
   "source": [
    "'ci vediamo all'una'"
   ]
  },
  {
   "cell_type": "code",
   "execution_count": 87,
   "metadata": {
    "ExecuteTime": {
     "end_time": "2021-02-12T14:37:08.834941Z",
     "start_time": "2021-02-12T14:37:08.829442Z"
    },
    "hidden": true
   },
   "outputs": [
    {
     "data": {
      "text/plain": [
       "\"ci\\nvediamo\\nall'una\""
      ]
     },
     "execution_count": 87,
     "metadata": {},
     "output_type": "execute_result"
    }
   ],
   "source": [
    "# con le triple virgolette posso scrivere stringhe multilinea:\n",
    "\"\"\"ci\n",
    "vediamo\n",
    "all'una\"\"\""
   ]
  },
  {
   "cell_type": "markdown",
   "metadata": {
    "hidden": true
   },
   "source": [
    "### Rapporto della funzione print() con le stringhe"
   ]
  },
  {
   "cell_type": "markdown",
   "metadata": {
    "hidden": true
   },
   "source": [
    "Senza la funzione `print()` la stringa viene mostrata sul display nella sua interezza, senza formattazione e includendo i caratteri speciali (\"\\n\")"
   ]
  },
  {
   "cell_type": "code",
   "execution_count": 88,
   "metadata": {
    "ExecuteTime": {
     "end_time": "2021-02-12T14:38:38.924032Z",
     "start_time": "2021-02-12T14:38:38.920790Z"
    },
    "hidden": true
   },
   "outputs": [],
   "source": [
    "frase = \"\"\"ci vediamo\n",
    "all'una\"\"\""
   ]
  },
  {
   "cell_type": "code",
   "execution_count": 89,
   "metadata": {
    "ExecuteTime": {
     "end_time": "2021-02-12T14:38:41.674148Z",
     "start_time": "2021-02-12T14:38:41.668582Z"
    },
    "hidden": true
   },
   "outputs": [
    {
     "data": {
      "text/plain": [
       "\"ci vediamo\\nall'una\""
      ]
     },
     "execution_count": 89,
     "metadata": {},
     "output_type": "execute_result"
    }
   ],
   "source": [
    "frase"
   ]
  },
  {
   "cell_type": "code",
   "execution_count": 90,
   "metadata": {
    "ExecuteTime": {
     "end_time": "2021-02-12T14:38:53.387977Z",
     "start_time": "2021-02-12T14:38:53.384179Z"
    },
    "hidden": true
   },
   "outputs": [
    {
     "name": "stdout",
     "output_type": "stream",
     "text": [
      "ci vediamo\n",
      "all'una\n"
     ]
    }
   ],
   "source": [
    "print(frase)"
   ]
  },
  {
   "cell_type": "markdown",
   "metadata": {
    "hidden": true
   },
   "source": [
    "Una stringa è una *sequenza ordinata* di caratteri. I suoi elementi sono associati ad un numero intero chiamato *indice*"
   ]
  },
  {
   "cell_type": "code",
   "execution_count": 91,
   "metadata": {
    "ExecuteTime": {
     "end_time": "2021-02-12T14:41:43.419770Z",
     "start_time": "2021-02-12T14:41:43.414075Z"
    },
    "hidden": true
   },
   "outputs": [
    {
     "data": {
      "text/plain": [
       "'f'"
      ]
     },
     "execution_count": 91,
     "metadata": {},
     "output_type": "execute_result"
    }
   ],
   "source": [
    "nome = \"francesco\"\n",
    "# l'indice 0 è il primo carattere:\n",
    "nome[0]"
   ]
  },
  {
   "cell_type": "code",
   "execution_count": 92,
   "metadata": {
    "ExecuteTime": {
     "end_time": "2021-02-12T14:41:59.000124Z",
     "start_time": "2021-02-12T14:41:58.994673Z"
    },
    "hidden": true
   },
   "outputs": [
    {
     "data": {
      "text/plain": [
       "'r'"
      ]
     },
     "execution_count": 92,
     "metadata": {},
     "output_type": "execute_result"
    }
   ],
   "source": [
    "# l'indice 1 è il secondo...\n",
    "nome[1]"
   ]
  },
  {
   "cell_type": "markdown",
   "metadata": {
    "heading_collapsed": true,
    "hidden": true
   },
   "source": [
    "## attributi delle stringhe"
   ]
  },
  {
   "cell_type": "code",
   "execution_count": 93,
   "metadata": {
    "ExecuteTime": {
     "end_time": "2021-02-12T14:43:46.586140Z",
     "start_time": "2021-02-12T14:43:46.577893Z"
    },
    "hidden": true
   },
   "outputs": [
    {
     "data": {
      "text/plain": [
       "['__add__',\n",
       " '__class__',\n",
       " '__contains__',\n",
       " '__delattr__',\n",
       " '__dir__',\n",
       " '__doc__',\n",
       " '__eq__',\n",
       " '__format__',\n",
       " '__ge__',\n",
       " '__getattribute__',\n",
       " '__getitem__',\n",
       " '__getnewargs__',\n",
       " '__gt__',\n",
       " '__hash__',\n",
       " '__init__',\n",
       " '__init_subclass__',\n",
       " '__iter__',\n",
       " '__le__',\n",
       " '__len__',\n",
       " '__lt__',\n",
       " '__mod__',\n",
       " '__mul__',\n",
       " '__ne__',\n",
       " '__new__',\n",
       " '__reduce__',\n",
       " '__reduce_ex__',\n",
       " '__repr__',\n",
       " '__rmod__',\n",
       " '__rmul__',\n",
       " '__setattr__',\n",
       " '__sizeof__',\n",
       " '__str__',\n",
       " '__subclasshook__',\n",
       " 'capitalize',\n",
       " 'casefold',\n",
       " 'center',\n",
       " 'count',\n",
       " 'encode',\n",
       " 'endswith',\n",
       " 'expandtabs',\n",
       " 'find',\n",
       " 'format',\n",
       " 'format_map',\n",
       " 'index',\n",
       " 'isalnum',\n",
       " 'isalpha',\n",
       " 'isascii',\n",
       " 'isdecimal',\n",
       " 'isdigit',\n",
       " 'isidentifier',\n",
       " 'islower',\n",
       " 'isnumeric',\n",
       " 'isprintable',\n",
       " 'isspace',\n",
       " 'istitle',\n",
       " 'isupper',\n",
       " 'join',\n",
       " 'ljust',\n",
       " 'lower',\n",
       " 'lstrip',\n",
       " 'maketrans',\n",
       " 'partition',\n",
       " 'replace',\n",
       " 'rfind',\n",
       " 'rindex',\n",
       " 'rjust',\n",
       " 'rpartition',\n",
       " 'rsplit',\n",
       " 'rstrip',\n",
       " 'split',\n",
       " 'splitlines',\n",
       " 'startswith',\n",
       " 'strip',\n",
       " 'swapcase',\n",
       " 'title',\n",
       " 'translate',\n",
       " 'upper',\n",
       " 'zfill']"
      ]
     },
     "execution_count": 93,
     "metadata": {},
     "output_type": "execute_result"
    }
   ],
   "source": [
    "dir(nome) # potrei scrivere anche dir(str) per accedere \n",
    "          # agli attributi del tipo stringa in generale"
   ]
  },
  {
   "cell_type": "markdown",
   "metadata": {
    "ExecuteTime": {
     "end_time": "2021-02-12T14:44:21.182092Z",
     "start_time": "2021-02-12T14:44:21.178804Z"
    },
    "hidden": true
   },
   "source": [
    "### Esempi di attributi e metodi sulle stringhe"
   ]
  },
  {
   "cell_type": "code",
   "execution_count": 96,
   "metadata": {
    "ExecuteTime": {
     "end_time": "2021-02-12T14:45:06.129465Z",
     "start_time": "2021-02-12T14:45:06.122853Z"
    },
    "hidden": true
   },
   "outputs": [
    {
     "data": {
      "text/plain": [
       "'Francesco'"
      ]
     },
     "execution_count": 96,
     "metadata": {},
     "output_type": "execute_result"
    }
   ],
   "source": [
    "nome.capitalize() # rende maiuscolo il primo carattere e minuscoli tutti gli altri"
   ]
  },
  {
   "cell_type": "code",
   "execution_count": 98,
   "metadata": {
    "ExecuteTime": {
     "end_time": "2021-02-12T14:46:20.105147Z",
     "start_time": "2021-02-12T14:46:20.099867Z"
    },
    "hidden": true
   },
   "outputs": [
    {
     "data": {
      "text/plain": [
       "'FRANCESCO'"
      ]
     },
     "execution_count": 98,
     "metadata": {},
     "output_type": "execute_result"
    }
   ],
   "source": [
    "nome.upper() # rende maiuscoli tutti i caratteri"
   ]
  },
  {
   "cell_type": "code",
   "execution_count": 115,
   "metadata": {
    "ExecuteTime": {
     "end_time": "2021-02-12T14:48:36.251877Z",
     "start_time": "2021-02-12T14:48:36.246437Z"
    },
    "hidden": true
   },
   "outputs": [
    {
     "data": {
      "text/plain": [
       "True"
      ]
     },
     "execution_count": 115,
     "metadata": {},
     "output_type": "execute_result"
    }
   ],
   "source": [
    "nome.islower() # ritorna True se tutti i caratteri sono minuscoli"
   ]
  },
  {
   "cell_type": "code",
   "execution_count": 125,
   "metadata": {
    "ExecuteTime": {
     "end_time": "2021-02-12T14:57:46.424471Z",
     "start_time": "2021-02-12T14:57:46.419982Z"
    },
    "hidden": true
   },
   "outputs": [
    {
     "name": "stdout",
     "output_type": "stream",
     "text": [
      "str(object='') -> str\n",
      "str(bytes_or_buffer[, encoding[, errors]]) -> str\n",
      "\n",
      "Create a new string object from the given object. If encoding or\n",
      "errors is specified, then the object must expose a data buffer\n",
      "that will be decoded using the given encoding and error handler.\n",
      "Otherwise, returns the result of object.__str__() (if defined)\n",
      "or repr(object).\n",
      "encoding defaults to sys.getdefaultencoding().\n",
      "errors defaults to 'strict'.\n"
     ]
    }
   ],
   "source": [
    "print(nome.__doc__) # stampa la 'docstring' riferita al tipo, \n",
    "                    # cioè una breve stringa di documentazione"
   ]
  },
  {
   "cell_type": "code",
   "execution_count": 131,
   "metadata": {
    "ExecuteTime": {
     "end_time": "2021-02-12T15:02:02.426141Z",
     "start_time": "2021-02-12T15:02:02.420717Z"
    },
    "hidden": true
   },
   "outputs": [
    {
     "data": {
      "text/plain": [
       "5"
      ]
     },
     "execution_count": 131,
     "metadata": {},
     "output_type": "execute_result"
    }
   ],
   "source": [
    "nome.index('e') # resituisce l'indice del carattere (o della sequenza di caratteri) \n",
    "                # all'interno della stringa"
   ]
  },
  {
   "cell_type": "code",
   "execution_count": 127,
   "metadata": {
    "ExecuteTime": {
     "end_time": "2021-02-12T15:00:57.332601Z",
     "start_time": "2021-02-12T15:00:57.327948Z"
    },
    "hidden": true
   },
   "outputs": [
    {
     "name": "stdout",
     "output_type": "stream",
     "text": [
      "Help on built-in function index:\n",
      "\n",
      "index(...) method of builtins.str instance\n",
      "    S.index(sub[, start[, end]]) -> int\n",
      "    \n",
      "    Return the lowest index in S where substring sub is found, \n",
      "    such that sub is contained within S[start:end].  Optional\n",
      "    arguments start and end are interpreted as in slice notation.\n",
      "    \n",
      "    Raises ValueError when the substring is not found.\n",
      "\n"
     ]
    }
   ],
   "source": [
    "help(nome.index)"
   ]
  },
  {
   "cell_type": "markdown",
   "metadata": {
    "heading_collapsed": true,
    "hidden": true
   },
   "source": [
    "## Alcune funzioni che operano sulle stringhe"
   ]
  },
  {
   "cell_type": "code",
   "execution_count": 215,
   "metadata": {
    "ExecuteTime": {
     "end_time": "2021-02-12T21:17:55.340432Z",
     "start_time": "2021-02-12T21:17:55.336236Z"
    },
    "hidden": true
   },
   "outputs": [
    {
     "name": "stdout",
     "output_type": "stream",
     "text": [
      "francesco\n"
     ]
    }
   ],
   "source": [
    "print(\"francesco\") # stampa sul display la stringa formattata"
   ]
  },
  {
   "cell_type": "code",
   "execution_count": 214,
   "metadata": {
    "ExecuteTime": {
     "end_time": "2021-02-12T21:17:28.824871Z",
     "start_time": "2021-02-12T21:17:28.819350Z"
    },
    "hidden": true
   },
   "outputs": [
    {
     "data": {
      "text/plain": [
       "9"
      ]
     },
     "execution_count": 214,
     "metadata": {},
     "output_type": "execute_result"
    }
   ],
   "source": [
    "len(\"francesco\") # restituisce la lunghezza di una stringa, cioè il numero di caratteri\n",
    "                    # di cui è composta"
   ]
  },
  {
   "cell_type": "markdown",
   "metadata": {
    "ExecuteTime": {
     "end_time": "2021-02-12T21:28:55.697505Z",
     "start_time": "2021-02-12T21:28:55.691738Z"
    },
    "hidden": true
   },
   "source": [
    "Conversione da stringa a numero:  \n",
    "Possiamo usare la classe **int** per convertire una stringa in un intero"
   ]
  },
  {
   "cell_type": "code",
   "execution_count": 228,
   "metadata": {
    "ExecuteTime": {
     "end_time": "2021-02-12T21:30:05.983370Z",
     "start_time": "2021-02-12T21:30:05.980361Z"
    },
    "hidden": true
   },
   "outputs": [],
   "source": [
    "stringa_numerica = \"14\""
   ]
  },
  {
   "cell_type": "code",
   "execution_count": 229,
   "metadata": {
    "ExecuteTime": {
     "end_time": "2021-02-12T21:30:14.622303Z",
     "start_time": "2021-02-12T21:30:14.617071Z"
    },
    "hidden": true
   },
   "outputs": [
    {
     "data": {
      "text/plain": [
       "str"
      ]
     },
     "execution_count": 229,
     "metadata": {},
     "output_type": "execute_result"
    }
   ],
   "source": [
    "type(stringa_numerica)"
   ]
  },
  {
   "cell_type": "code",
   "execution_count": 230,
   "metadata": {
    "ExecuteTime": {
     "end_time": "2021-02-12T21:30:39.546254Z",
     "start_time": "2021-02-12T21:30:39.541972Z"
    },
    "hidden": true
   },
   "outputs": [
    {
     "name": "stdout",
     "output_type": "stream",
     "text": [
      "14\n"
     ]
    }
   ],
   "source": [
    "stringa_convertita = int(stringa_numerica)\n",
    "print(stringa_convertita)"
   ]
  },
  {
   "cell_type": "code",
   "execution_count": 231,
   "metadata": {
    "ExecuteTime": {
     "end_time": "2021-02-12T21:30:45.951009Z",
     "start_time": "2021-02-12T21:30:45.944424Z"
    },
    "hidden": true
   },
   "outputs": [
    {
     "data": {
      "text/plain": [
       "int"
      ]
     },
     "execution_count": 231,
     "metadata": {},
     "output_type": "execute_result"
    }
   ],
   "source": [
    "type(stringa_convertita)"
   ]
  },
  {
   "cell_type": "markdown",
   "metadata": {
    "heading_collapsed": true,
    "hidden": true
   },
   "source": [
    "## operatori sulle stringhe"
   ]
  },
  {
   "cell_type": "code",
   "execution_count": 218,
   "metadata": {
    "ExecuteTime": {
     "end_time": "2021-02-12T21:19:27.357130Z",
     "start_time": "2021-02-12T21:19:27.350561Z"
    },
    "hidden": true
   },
   "outputs": [
    {
     "data": {
      "text/plain": [
       "'bazingabazingabazingabazinga'"
      ]
     },
     "execution_count": 218,
     "metadata": {},
     "output_type": "execute_result"
    }
   ],
   "source": [
    "\"bazinga\" * 4 # il simbolo * ripete la stringa n volte"
   ]
  },
  {
   "cell_type": "code",
   "execution_count": 219,
   "metadata": {
    "ExecuteTime": {
     "end_time": "2021-02-12T21:19:40.002342Z",
     "start_time": "2021-02-12T21:19:39.996564Z"
    },
    "hidden": true
   },
   "outputs": [
    {
     "data": {
      "text/plain": [
       "'bazingascherzavo'"
      ]
     },
     "execution_count": 219,
     "metadata": {},
     "output_type": "execute_result"
    }
   ],
   "source": [
    "\"bazinga\" + \"scherzavo\" # il simbolo + concatena le stringhe"
   ]
  },
  {
   "cell_type": "markdown",
   "metadata": {
    "hidden": true
   },
   "source": [
    "Come per le operazioni aritmetiche, anche gli operatori sulle stringhe seguono le regole di precedenza:  \n",
    "\\* ha precedenza su +"
   ]
  },
  {
   "cell_type": "code",
   "execution_count": 224,
   "metadata": {
    "ExecuteTime": {
     "end_time": "2021-02-12T21:23:20.099223Z",
     "start_time": "2021-02-12T21:23:20.093246Z"
    },
    "hidden": true
   },
   "outputs": [
    {
     "data": {
      "text/plain": [
       "'ciao a tutti a tutti '"
      ]
     },
     "execution_count": 224,
     "metadata": {},
     "output_type": "execute_result"
    }
   ],
   "source": [
    "\"ciao \" + \"a tutti \" * 2 "
   ]
  },
  {
   "cell_type": "code",
   "execution_count": 225,
   "metadata": {
    "ExecuteTime": {
     "end_time": "2021-02-12T21:23:34.008537Z",
     "start_time": "2021-02-12T21:23:34.003238Z"
    },
    "hidden": true
   },
   "outputs": [
    {
     "data": {
      "text/plain": [
       "'ciao a tutti ciao a tutti '"
      ]
     },
     "execution_count": 225,
     "metadata": {},
     "output_type": "execute_result"
    }
   ],
   "source": [
    "(\"ciao \" + \"a tutti \") * 2 "
   ]
  },
  {
   "cell_type": "markdown",
   "metadata": {
    "heading_collapsed": true,
    "hidden": true
   },
   "source": [
    "## *slicing* sulle stringhe"
   ]
  },
  {
   "cell_type": "code",
   "execution_count": 133,
   "metadata": {
    "ExecuteTime": {
     "end_time": "2021-02-12T15:16:39.092879Z",
     "start_time": "2021-02-12T15:16:39.089479Z"
    },
    "hidden": true
   },
   "outputs": [],
   "source": [
    "frase = \"usa la forza luke\""
   ]
  },
  {
   "cell_type": "markdown",
   "metadata": {
    "hidden": true
   },
   "source": [
    "Lo *slicing* permette di *selezionare* porzioni di stringhe.  \n",
    "Lo slicing si definisce attraverso la seguente forma:  \n",
    "\n",
    "`str[start:end:step]`\n",
    "\n",
    "dove `str` è la stringa da processare, `start` è l'indice iniziale, `end` è il primo indice da NON considerare, `step` è il passo con cui procedere.  \n",
    "\n",
    "Posso anche usare una sintassi abbreviata, omettendo quindi alcuni parametri:\n",
    "\n",
    "`str[start]` --> restituisce solo il carattere all'indice `start`  \n",
    "`str[start:end]` --> restituisce tutti i caratteri compresi fra `start` e `end`"
   ]
  },
  {
   "cell_type": "code",
   "execution_count": 142,
   "metadata": {
    "ExecuteTime": {
     "end_time": "2021-02-12T16:08:02.508980Z",
     "start_time": "2021-02-12T16:08:02.499863Z"
    },
    "hidden": true
   },
   "outputs": [
    {
     "data": {
      "text/plain": [
       "'ekul azrof al asu'"
      ]
     },
     "execution_count": 142,
     "metadata": {},
     "output_type": "execute_result"
    }
   ],
   "source": [
    "frase[4] # restituisce il quinto carattere della stringa (quinto elemento=indice 4)\n",
    "# 'l'\n",
    "\n",
    "frase[4:12] # restituisce la sottostringa dall'indice 4 e all'indice 12 (escluso)\n",
    "# 'la forza'\n",
    "\n",
    "frase[4:] # restituisce la sottostringa dall'indice 4 in poi... (fino alla fine)\n",
    "# 'la forza luke'\n",
    "\n",
    "frase[:12] # restituisce la sottostringa dall'inizio all'indice 12 (escluso)\n",
    "# 'usa la forza'\n",
    "\n",
    "frase[:] # restituisce tutta la stringa\n",
    "# 'usa la forza luke'\n",
    "\n",
    "frase[:-1] # resituisce il carattere all'ultimo indice\n",
    "# 'e'\n",
    "\n",
    "frase[:-1] # resituisce il carattere all'ultimo indice\n",
    "# 'e'\n",
    "\n",
    "frase[:12:2] # restituisce la sottostringa che inizia da 0 e arriva a 12 \n",
    "                # procedendo in avanti di 2 caratteri\n",
    "# 'ual oz'\n",
    "# traduzione di frase[:12:2]:\n",
    "# restituiscimi i caratteri: 0, 2, 4, 6, 8, 10\n",
    "\n",
    "frase[::3] # restituisce la stringa da 0, ogni 3 caratteri fino alla fine\n",
    "# 'u  r k'\n",
    "\n",
    "frase[-1::-1] # inizia dall'ultimo carattere, \n",
    "                # vai avanti fino alla fine e procedi a ritroso"
   ]
  },
  {
   "cell_type": "markdown",
   "metadata": {
    "heading_collapsed": true,
    "hidden": true
   },
   "source": [
    "## interpolazione"
   ]
  },
  {
   "cell_type": "code",
   "execution_count": 200,
   "metadata": {
    "ExecuteTime": {
     "end_time": "2021-02-12T21:06:06.826563Z",
     "start_time": "2021-02-12T21:06:06.822101Z"
    },
    "hidden": true
   },
   "outputs": [
    {
     "name": "stdout",
     "output_type": "stream",
     "text": [
      "scrivo il numero 15\n"
     ]
    }
   ],
   "source": [
    "numero = 15\n",
    "print(f\"scrivo il numero {numero}\")"
   ]
  },
  {
   "cell_type": "markdown",
   "metadata": {
    "heading_collapsed": true,
    "hidden": true
   },
   "source": [
    "## Esercizi"
   ]
  },
  {
   "cell_type": "markdown",
   "metadata": {
    "heading_collapsed": true,
    "hidden": true
   },
   "source": [
    "### Esercizio 1"
   ]
  },
  {
   "cell_type": "markdown",
   "metadata": {
    "ExecuteTime": {
     "end_time": "2021-02-12T21:09:14.179641Z",
     "start_time": "2021-02-12T21:09:14.174711Z"
    },
    "hidden": true
   },
   "source": [
    "data la seguente stringa:  \n",
    "\"**Albert Einstein definì la follia come il ripetere alla nausea la stessa azione aspettandosi dei risultati diversi.**\"  \n",
    "contare quante volte compare la sillaba \"**te**\""
   ]
  },
  {
   "cell_type": "code",
   "execution_count": 202,
   "metadata": {
    "ExecuteTime": {
     "end_time": "2021-02-12T21:11:05.728041Z",
     "start_time": "2021-02-12T21:11:05.724725Z"
    },
    "hidden": true
   },
   "outputs": [],
   "source": [
    "# svolgimento\n",
    "stringa = \"\"\"Albert Einstein definì la follia come il ripetere \n",
    "alla nausea la stessa azione aspettandosi dei risultati diversi.\"\"\" "
   ]
  },
  {
   "cell_type": "code",
   "execution_count": 205,
   "metadata": {
    "ExecuteTime": {
     "end_time": "2021-02-12T21:11:42.534517Z",
     "start_time": "2021-02-12T21:11:42.528304Z"
    },
    "hidden": true
   },
   "outputs": [
    {
     "name": "stdout",
     "output_type": "stream",
     "text": [
      "Help on built-in function count:\n",
      "\n",
      "count(...) method of builtins.str instance\n",
      "    S.count(sub[, start[, end]]) -> int\n",
      "    \n",
      "    Return the number of non-overlapping occurrences of substring sub in\n",
      "    string S[start:end].  Optional arguments start and end are\n",
      "    interpreted as in slice notation.\n",
      "\n"
     ]
    }
   ],
   "source": [
    "# faccio introspezione sul tipo stringa\n",
    "help(stringa.count)"
   ]
  },
  {
   "cell_type": "code",
   "execution_count": 206,
   "metadata": {
    "ExecuteTime": {
     "end_time": "2021-02-12T21:11:59.029827Z",
     "start_time": "2021-02-12T21:11:59.023950Z"
    },
    "hidden": true
   },
   "outputs": [
    {
     "data": {
      "text/plain": [
       "3"
      ]
     },
     "execution_count": 206,
     "metadata": {},
     "output_type": "execute_result"
    }
   ],
   "source": [
    "stringa.count(\"te\")"
   ]
  },
  {
   "cell_type": "markdown",
   "metadata": {
    "heading_collapsed": true,
    "hidden": true
   },
   "source": [
    "### Esercizio 2"
   ]
  },
  {
   "cell_type": "markdown",
   "metadata": {
    "hidden": true
   },
   "source": [
    "Stampare per 10 volte la stringa \"**Python e' bello tra la la**\""
   ]
  },
  {
   "cell_type": "code",
   "execution_count": 210,
   "metadata": {
    "ExecuteTime": {
     "end_time": "2021-02-12T21:14:15.060109Z",
     "start_time": "2021-02-12T21:14:15.056832Z"
    },
    "hidden": true
   },
   "outputs": [],
   "source": [
    "stringa = \"Python e' bello tra la la\\n\""
   ]
  },
  {
   "cell_type": "code",
   "execution_count": 213,
   "metadata": {
    "ExecuteTime": {
     "end_time": "2021-02-12T21:14:29.203530Z",
     "start_time": "2021-02-12T21:14:29.198734Z"
    },
    "hidden": true
   },
   "outputs": [
    {
     "name": "stdout",
     "output_type": "stream",
     "text": [
      "Python e' bello tra la la\n",
      "Python e' bello tra la la\n",
      "Python e' bello tra la la\n",
      "Python e' bello tra la la\n",
      "Python e' bello tra la la\n",
      "Python e' bello tra la la\n",
      "Python e' bello tra la la\n",
      "Python e' bello tra la la\n",
      "Python e' bello tra la la\n",
      "Python e' bello tra la la\n",
      "\n"
     ]
    }
   ],
   "source": [
    "print(stringa * 10)"
   ]
  },
  {
   "cell_type": "markdown",
   "metadata": {
    "heading_collapsed": true,
    "hidden": true
   },
   "source": [
    "### Esercizio 3"
   ]
  },
  {
   "cell_type": "markdown",
   "metadata": {
    "hidden": true
   },
   "source": [
    "Date le stringhe `\"biologia\"`, `\"molecolare\"` e `\"e' meglio\"`, creare una stringa composta \"ma biologia molecolare e' meglio\" e poi replicarla 100 volte."
   ]
  },
  {
   "cell_type": "code",
   "execution_count": 226,
   "metadata": {
    "ExecuteTime": {
     "end_time": "2021-02-12T21:24:14.939015Z",
     "start_time": "2021-02-12T21:24:14.935627Z"
    },
    "hidden": true
   },
   "outputs": [],
   "source": [
    "# svolgimento"
   ]
  }
 ],
 "metadata": {
  "kernelspec": {
   "display_name": "Python 3",
   "language": "python",
   "name": "python3"
  },
  "language_info": {
   "codemirror_mode": {
    "name": "ipython",
    "version": 3
   },
   "file_extension": ".py",
   "mimetype": "text/x-python",
   "name": "python",
   "nbconvert_exporter": "python",
   "pygments_lexer": "ipython3",
   "version": "3.7.6"
  }
 },
 "nbformat": 4,
 "nbformat_minor": 5
}
