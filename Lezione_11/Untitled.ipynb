{
 "cells": [
  {
   "cell_type": "markdown",
   "id": "furnished-singer",
   "metadata": {},
   "source": [
    "# Ciclo WHILE"
   ]
  },
  {
   "cell_type": "markdown",
   "id": "outdoor-context",
   "metadata": {},
   "source": [
    "Con un ciclo **while** possiamo interare un blocco di codice finché una condizione è **True**\n",
    "\n",
    "```python\n",
    "while condizione:\n",
    "    # esegui codice\n",
    "    # esegui altro codice\n",
    "```"
   ]
  },
  {
   "cell_type": "markdown",
   "id": "right-edwards",
   "metadata": {},
   "source": [
    "## Esempio"
   ]
  },
  {
   "cell_type": "markdown",
   "id": "activated-joseph",
   "metadata": {},
   "source": [
    "stampa un numero finché è minore di 10. Esempio di output:\n",
    "\n",
    "```python\n",
    "0\n",
    "1\n",
    "2\n",
    "3\n",
    "4\n",
    "5\n",
    "6\n",
    "7\n",
    "8\n",
    "9\n",
    "```"
   ]
  },
  {
   "cell_type": "code",
   "execution_count": 3,
   "id": "rolled-natural",
   "metadata": {
    "ExecuteTime": {
     "end_time": "2021-04-16T11:46:37.147009Z",
     "start_time": "2021-04-16T11:46:37.139956Z"
    }
   },
   "outputs": [
    {
     "name": "stdout",
     "output_type": "stream",
     "text": [
      "0\n",
      "1\n",
      "2\n",
      "3\n",
      "4\n",
      "5\n",
      "6\n",
      "7\n",
      "8\n",
      "9\n"
     ]
    }
   ],
   "source": [
    "# dichiaro la variabile n e la inizializzo al valore 0\n",
    "n = 0\n",
    "\n",
    "# se il numero è minore di 10\n",
    "while n < 10:\n",
    "    # stampa il numero\n",
    "    print(n)\n",
    "    # incremento la variabile n di 1\n",
    "    n = n + 1"
   ]
  },
  {
   "cell_type": "markdown",
   "id": "adjusted-credits",
   "metadata": {},
   "source": [
    "## Esempio"
   ]
  },
  {
   "cell_type": "markdown",
   "id": "generous-therapist",
   "metadata": {},
   "source": [
    "Scrivi una funzione chiamata **guess()** che ti chieda di indovinare un numero da 0 a 9 (incluso). Finché non indovini ti chiede di continuare a tentare."
   ]
  },
  {
   "cell_type": "code",
   "execution_count": 4,
   "id": "commercial-flashing",
   "metadata": {
    "ExecuteTime": {
     "end_time": "2021-04-16T11:49:21.934575Z",
     "start_time": "2021-04-16T11:49:21.931100Z"
    }
   },
   "outputs": [],
   "source": [
    "# importo il modulo per la generazione dei numeri casuali\n",
    "import random"
   ]
  },
  {
   "cell_type": "code",
   "execution_count": 27,
   "id": "exciting-poker",
   "metadata": {
    "ExecuteTime": {
     "end_time": "2021-04-16T11:54:11.136362Z",
     "start_time": "2021-04-16T11:54:11.129881Z"
    }
   },
   "outputs": [],
   "source": [
    "def guess():\n",
    "    numero_da_indovinare = random.randint(0,9)\n",
    "    test = None\n",
    "    \n",
    "    while test != numero_da_indovinare:\n",
    "        test = int(input(\"indovina il numero: \"))\n",
    "        \n",
    "    print(f\"Bravo, era proprio {test}\")"
   ]
  },
  {
   "cell_type": "markdown",
   "id": "molecular-access",
   "metadata": {},
   "source": [
    "## Esercizio"
   ]
  },
  {
   "cell_type": "markdown",
   "id": "ordered-texas",
   "metadata": {},
   "source": [
    "Prendere la funzione precedente **guess()** e aggiungere un controllo sul valore inserito, se è più basso di quello da indovinare, stampa *Troppo basso!*, se è più alto stampa *Troppo alto!*, altrimenti esci"
   ]
  },
  {
   "cell_type": "code",
   "execution_count": 34,
   "id": "wrong-corner",
   "metadata": {
    "ExecuteTime": {
     "end_time": "2021-04-16T12:01:36.903566Z",
     "start_time": "2021-04-16T12:01:36.901078Z"
    }
   },
   "outputs": [],
   "source": [
    "# svolgimento"
   ]
  },
  {
   "cell_type": "markdown",
   "id": "roman-haven",
   "metadata": {},
   "source": [
    "## Esercizio"
   ]
  },
  {
   "cell_type": "markdown",
   "id": "bored-visibility",
   "metadata": {},
   "source": [
    "Scrivere una funzione **riempi_a_caso()** che crea una lista di lunghezza stabilita da un argomento di funzione e costituita da numeri interi casuali compresi fra 0 e 100. Usare un ciclo **while** e il metodo delle liste **append()**. "
   ]
  },
  {
   "cell_type": "code",
   "execution_count": 36,
   "id": "premier-chuck",
   "metadata": {
    "ExecuteTime": {
     "end_time": "2021-04-16T12:24:33.901027Z",
     "start_time": "2021-04-16T12:24:33.896514Z"
    }
   },
   "outputs": [],
   "source": [
    "def riempi_a_caso(lunghezza):\n",
    "    pass"
   ]
  }
 ],
 "metadata": {
  "kernelspec": {
   "display_name": "Python 3",
   "language": "python",
   "name": "python3"
  },
  "language_info": {
   "codemirror_mode": {
    "name": "ipython",
    "version": 3
   },
   "file_extension": ".py",
   "mimetype": "text/x-python",
   "name": "python",
   "nbconvert_exporter": "python",
   "pygments_lexer": "ipython3",
   "version": "3.7.6"
  }
 },
 "nbformat": 4,
 "nbformat_minor": 5
}
