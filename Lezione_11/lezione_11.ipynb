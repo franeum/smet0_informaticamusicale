{
 "cells": [
  {
   "cell_type": "markdown",
   "metadata": {
    "heading_collapsed": true
   },
   "source": [
    "# Ciclo WHILE"
   ]
  },
  {
   "cell_type": "markdown",
   "metadata": {
    "hidden": true
   },
   "source": [
    "Con un ciclo **while** possiamo interare un blocco di codice finché una condizione è **True**\n",
    "\n",
    "```python\n",
    "while condizione:\n",
    "    # esegui codice\n",
    "    # esegui altro codice\n",
    "```"
   ]
  },
  {
   "cell_type": "markdown",
   "metadata": {
    "hidden": true
   },
   "source": [
    "Appena la condizione diventa falsa il ciclo while si interrompe e il programma passa oltre. In linguaggio naturale potremmo tradurre un ciclo while nel modo seguente:\n",
    "\n",
    "```python\n",
    "finché una condizione è vera\n",
    "    fai qualcosa\n",
    "altrimenti esci e prosegui\n",
    "```"
   ]
  },
  {
   "cell_type": "markdown",
   "metadata": {
    "heading_collapsed": true,
    "hidden": true
   },
   "source": [
    "## Esempio"
   ]
  },
  {
   "cell_type": "markdown",
   "metadata": {
    "hidden": true
   },
   "source": [
    "stampa un numero finché è minore di 10. Esempio di output:\n",
    "\n",
    "```python\n",
    "0\n",
    "1\n",
    "2\n",
    "3\n",
    "4\n",
    "5\n",
    "6\n",
    "7\n",
    "8\n",
    "9\n",
    "```"
   ]
  },
  {
   "cell_type": "code",
   "execution_count": 1,
   "metadata": {
    "ExecuteTime": {
     "end_time": "2021-04-16T16:04:07.393241Z",
     "start_time": "2021-04-16T16:04:07.389492Z"
    },
    "hidden": true
   },
   "outputs": [
    {
     "name": "stdout",
     "output_type": "stream",
     "text": [
      "0\n",
      "1\n",
      "2\n",
      "3\n",
      "4\n",
      "5\n",
      "6\n",
      "7\n",
      "8\n",
      "9\n",
      "finito\n"
     ]
    }
   ],
   "source": [
    "# dichiaro la variabile n e la inizializzo al valore 0\n",
    "n = 0\n",
    "\n",
    "while n < 10:\n",
    "    # se il numero è minore di 10\n",
    "    # stampo il numero\n",
    "    print(n)\n",
    "    # e incremento la variabile n di 1\n",
    "    n = n + 1\n",
    "    # ricomincio il ciclo\n",
    "\n",
    "# alla fine esco e vado avanti\n",
    "print(\"finito\")"
   ]
  },
  {
   "cell_type": "markdown",
   "metadata": {
    "heading_collapsed": true,
    "hidden": true
   },
   "source": [
    "## Esempio"
   ]
  },
  {
   "cell_type": "markdown",
   "metadata": {
    "hidden": true
   },
   "source": [
    "Scrivi una funzione chiamata **guess()** che ti chieda di indovinare un numero da 0 a 9 (incluso) finché non indivini."
   ]
  },
  {
   "cell_type": "code",
   "execution_count": 6,
   "metadata": {
    "ExecuteTime": {
     "end_time": "2021-04-16T16:09:05.317604Z",
     "start_time": "2021-04-16T16:09:05.315021Z"
    },
    "hidden": true
   },
   "outputs": [],
   "source": [
    "# importo il modulo per la generazione dei numeri casuali\n",
    "import random"
   ]
  },
  {
   "cell_type": "code",
   "execution_count": 5,
   "metadata": {
    "ExecuteTime": {
     "end_time": "2021-04-16T16:09:02.303591Z",
     "start_time": "2021-04-16T16:09:02.301049Z"
    },
    "hidden": true
   },
   "outputs": [],
   "source": [
    "def guess():\n",
    "    numero_da_indovinare = random.randint(0,9)\n",
    "    test = None\n",
    "    \n",
    "    while test != numero_da_indovinare:\n",
    "        test = int(input(\"indovina il numero: \"))\n",
    "        \n",
    "    print(f\"Bravo, era proprio {test}\")"
   ]
  },
  {
   "cell_type": "markdown",
   "metadata": {
    "heading_collapsed": true,
    "hidden": true
   },
   "source": [
    "## Esercizio"
   ]
  },
  {
   "cell_type": "markdown",
   "metadata": {
    "hidden": true
   },
   "source": [
    "Prendere la funzione precedente **guess()** e aggiungere un controllo sul valore inserito, se è più basso di quello da indovinare, stampa *Troppo basso!*, se è più alto stampa *Troppo alto!*"
   ]
  },
  {
   "cell_type": "code",
   "execution_count": 34,
   "metadata": {
    "ExecuteTime": {
     "end_time": "2021-04-16T12:01:36.903566Z",
     "start_time": "2021-04-16T12:01:36.901078Z"
    },
    "hidden": true
   },
   "outputs": [],
   "source": [
    "# svolgimento"
   ]
  },
  {
   "cell_type": "markdown",
   "metadata": {
    "heading_collapsed": true,
    "hidden": true
   },
   "source": [
    "## Esercizio"
   ]
  },
  {
   "cell_type": "markdown",
   "metadata": {
    "hidden": true
   },
   "source": [
    "Scrivere una funzione **riempi_a_caso()** che crea una lista di lunghezza stabilita da un argomento di funzione e costituita da numeri interi casuali compresi fra 0 e 100. Usare un ciclo **while** e il metodo delle liste **append()**. "
   ]
  },
  {
   "cell_type": "code",
   "execution_count": 36,
   "metadata": {
    "ExecuteTime": {
     "end_time": "2021-04-16T12:24:33.901027Z",
     "start_time": "2021-04-16T12:24:33.896514Z"
    },
    "hidden": true
   },
   "outputs": [],
   "source": [
    "def riempi_a_caso(lunghezza):\n",
    "    pass"
   ]
  },
  {
   "cell_type": "markdown",
   "metadata": {
    "heading_collapsed": true
   },
   "source": [
    "# Esercizi vari"
   ]
  },
  {
   "cell_type": "markdown",
   "metadata": {
    "heading_collapsed": true,
    "hidden": true
   },
   "source": [
    "## Esercizio"
   ]
  },
  {
   "cell_type": "markdown",
   "metadata": {
    "hidden": true
   },
   "source": [
    "Scrivi una funzione **check_3()** che retituisce una lista con i numeri i numeri da 0 a *n* (dato come argomento) eccetto quelli che sono multipli di 3\n",
    "\n",
    "Esempio:\n",
    "\n",
    "```python\n",
    "check_3(10)\n",
    "\n",
    ">>> [0,1,2,4,5,7,8,10]\n",
    "```\n",
    "\n",
    "Usare il condizionale **if** all'interno di un ciclo **for** (insieme a **range()**) oppure un ciclo **while** (a scelta)"
   ]
  },
  {
   "cell_type": "code",
   "execution_count": 40,
   "metadata": {
    "ExecuteTime": {
     "end_time": "2021-04-16T17:21:57.457497Z",
     "start_time": "2021-04-16T17:21:57.455581Z"
    },
    "hidden": true
   },
   "outputs": [],
   "source": [
    "# svolgimento"
   ]
  },
  {
   "cell_type": "markdown",
   "metadata": {
    "heading_collapsed": true,
    "hidden": true
   },
   "source": [
    "## Esercizio"
   ]
  },
  {
   "cell_type": "markdown",
   "metadata": {
    "hidden": true
   },
   "source": [
    "Scrivi una funzione che restituisca il numero di cifre contenuti in una stringa data come argomento \n",
    "\n",
    "Esempio:\n",
    "```python\n",
    "howmanynumbers(\"ciao io ho 13 anni\")\n",
    "\n",
    ">>> 2\n",
    "```"
   ]
  },
  {
   "cell_type": "code",
   "execution_count": 14,
   "metadata": {
    "ExecuteTime": {
     "end_time": "2021-04-16T16:51:32.886927Z",
     "start_time": "2021-04-16T16:51:32.881446Z"
    },
    "hidden": true
   },
   "outputs": [],
   "source": [
    "# svolgimento"
   ]
  },
  {
   "cell_type": "markdown",
   "metadata": {
    "heading_collapsed": true,
    "hidden": true
   },
   "source": [
    "## Esercizio"
   ]
  },
  {
   "cell_type": "markdown",
   "metadata": {
    "hidden": true
   },
   "source": [
    "Scrivere una funzione **char_category()** che prende come argomento una stringa e stampi il numero di lettere e il numero di cifre presenti nellas tringa.\n",
    "\n",
    "Esempio:\n",
    "\n",
    "```python\n",
    "char_category('esercizio n. 2.3')\n",
    "\n",
    ">>> Lettere: 10\n",
    ">>> Cifre: 2\n",
    "```"
   ]
  },
  {
   "cell_type": "code",
   "execution_count": 41,
   "metadata": {
    "ExecuteTime": {
     "end_time": "2021-04-16T17:46:14.622431Z",
     "start_time": "2021-04-16T17:46:14.620619Z"
    },
    "hidden": true
   },
   "outputs": [],
   "source": [
    "# svolgimento"
   ]
  },
  {
   "cell_type": "markdown",
   "metadata": {
    "heading_collapsed": true,
    "hidden": true
   },
   "source": [
    "## Esercizio"
   ]
  },
  {
   "cell_type": "markdown",
   "metadata": {
    "ExecuteTime": {
     "end_time": "2021-04-16T21:21:50.013691Z",
     "start_time": "2021-04-16T21:21:50.005362Z"
    },
    "hidden": true
   },
   "source": [
    "Stampare il seguente pattern:\n",
    "\n",
    "```python\n",
    "1 \n",
    "1 2 \n",
    "1 2 3 \n",
    "1 2 3 4 \n",
    "1 2 3 4 5\n",
    "```"
   ]
  },
  {
   "cell_type": "code",
   "execution_count": 6,
   "metadata": {
    "ExecuteTime": {
     "end_time": "2021-04-16T21:27:31.686568Z",
     "start_time": "2021-04-16T21:27:31.681048Z"
    },
    "hidden": true
   },
   "outputs": [],
   "source": [
    "# svolgimento"
   ]
  },
  {
   "cell_type": "markdown",
   "metadata": {
    "heading_collapsed": true
   },
   "source": [
    "# Bonus Track"
   ]
  },
  {
   "cell_type": "markdown",
   "metadata": {
    "hidden": true
   },
   "source": [
    "Scrivi una funzione **check_password()** che controlli la validità di una password. La password deve avere le seguenti caratteristiche:\n",
    "- Almeno un carattere minuscolo\n",
    "- Almeno un carattere maiuscolo\n",
    "- Almeno una cifra compresa fra 0 e 9\n",
    "- Almeno un carattere speciale fra **$#@**\n",
    "- Lunghezza compresa fra 8 e 16 caratteri\n",
    "\n",
    "Se la password è valida, ritornare **True**, altrimenti **False**"
   ]
  },
  {
   "cell_type": "code",
   "execution_count": 39,
   "metadata": {
    "ExecuteTime": {
     "end_time": "2021-04-16T17:15:06.243906Z",
     "start_time": "2021-04-16T17:15:06.241535Z"
    },
    "hidden": true
   },
   "outputs": [],
   "source": [
    "# svolgimento\n",
    "\n",
    "minuscoli = \"qwertyuiopasdfghjklzxcvbnm\"\n",
    "maiuscoli = \"QWERTYUIOPASDFGHJKLZXCVBNM\"\n",
    "cifre = \"0123456789\"\n",
    "speciali = \"$#@\""
   ]
  }
 ],
 "metadata": {
  "kernelspec": {
   "display_name": "Python 3",
   "language": "python",
   "name": "python3"
  },
  "language_info": {
   "codemirror_mode": {
    "name": "ipython",
    "version": 3
   },
   "file_extension": ".py",
   "mimetype": "text/x-python",
   "name": "python",
   "nbconvert_exporter": "python",
   "pygments_lexer": "ipython3",
   "version": "3.7.6"
  },
  "toc": {
   "base_numbering": 1,
   "nav_menu": {},
   "number_sections": true,
   "sideBar": true,
   "skip_h1_title": false,
   "title_cell": "Table of Contents",
   "title_sidebar": "Contents",
   "toc_cell": false,
   "toc_position": {},
   "toc_section_display": true,
   "toc_window_display": false
  }
 },
 "nbformat": 4,
 "nbformat_minor": 5
}
