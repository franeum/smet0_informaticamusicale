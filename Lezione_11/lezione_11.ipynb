{
 "cells": [
  {
   "cell_type": "markdown",
   "metadata": {},
   "source": [
    "# Ciclo WHILE"
   ]
  },
  {
   "cell_type": "markdown",
   "metadata": {},
   "source": [
    "Con un ciclo **while** possiamo interare un blocco di codice finché una condizione è **True**\n",
    "\n",
    "```python\n",
    "while condizione:\n",
    "    # esegui codice\n",
    "    # esegui altro codice\n",
    "```"
   ]
  },
  {
   "cell_type": "markdown",
   "metadata": {},
   "source": [
    "Appena la condizione diventa falsa il ciclo while si interrompe e il programma passa oltre. In linguaggio naturale potremmo tradurre un ciclo while nel modo seguente:\n",
    "\n",
    "```python\n",
    "finché una condizione è vera\n",
    "    fai qualcosa\n",
    "altrimenti esci e prosegui\n",
    "```"
   ]
  },
  {
   "cell_type": "markdown",
   "metadata": {},
   "source": [
    "## Esempio"
   ]
  },
  {
   "cell_type": "markdown",
   "metadata": {},
   "source": [
    "stampa un numero finché è minore di 10. Esempio di output:\n",
    "\n",
    "```python\n",
    "0\n",
    "1\n",
    "2\n",
    "3\n",
    "4\n",
    "5\n",
    "6\n",
    "7\n",
    "8\n",
    "9\n",
    "```"
   ]
  },
  {
   "cell_type": "code",
   "execution_count": 1,
   "metadata": {
    "ExecuteTime": {
     "end_time": "2021-04-16T16:04:07.393241Z",
     "start_time": "2021-04-16T16:04:07.389492Z"
    }
   },
   "outputs": [
    {
     "name": "stdout",
     "output_type": "stream",
     "text": [
      "0\n",
      "1\n",
      "2\n",
      "3\n",
      "4\n",
      "5\n",
      "6\n",
      "7\n",
      "8\n",
      "9\n",
      "finito\n"
     ]
    }
   ],
   "source": [
    "# dichiaro la variabile n e la inizializzo al valore 0\n",
    "n = 0\n",
    "\n",
    "while n < 10:\n",
    "    # se il numero è minore di 10\n",
    "    # stampo il numero\n",
    "    print(n)\n",
    "    # e incremento la variabile n di 1\n",
    "    n = n + 1\n",
    "    # ricomincio il ciclo\n",
    "\n",
    "# alla fine esco e vado avanti\n",
    "print(\"finito\")"
   ]
  },
  {
   "cell_type": "markdown",
   "metadata": {},
   "source": [
    "## Esempio"
   ]
  },
  {
   "cell_type": "markdown",
   "metadata": {},
   "source": [
    "Scrivi una funzione chiamata **guess()** che ti chieda di indovinare un numero da 0 a 9 (incluso) finché non indivini."
   ]
  },
  {
   "cell_type": "code",
   "execution_count": 1,
   "metadata": {
    "ExecuteTime": {
     "end_time": "2021-04-17T12:55:46.264779Z",
     "start_time": "2021-04-17T12:55:46.258923Z"
    }
   },
   "outputs": [],
   "source": [
    "# importo il modulo per la generazione dei numeri casuali\n",
    "import random"
   ]
  },
  {
   "cell_type": "code",
   "execution_count": 4,
   "metadata": {
    "ExecuteTime": {
     "end_time": "2021-04-17T13:09:15.365920Z",
     "start_time": "2021-04-17T13:09:15.362535Z"
    }
   },
   "outputs": [],
   "source": [
    "import random\n",
    "\n",
    "def guess():\n",
    "    numero_da_indovinare = random.randint(0,9)\n",
    "    test = None\n",
    "    \n",
    "    while test != numero_da_indovinare:\n",
    "        test = int(input(\"indovina il numero: \"))\n",
    "        \n",
    "    print(f\"Bravo, era proprio {test}\")"
   ]
  },
  {
   "cell_type": "code",
   "execution_count": 3,
   "metadata": {
    "ExecuteTime": {
     "end_time": "2021-04-17T12:56:23.524262Z",
     "start_time": "2021-04-17T12:55:54.957946Z"
    }
   },
   "outputs": [
    {
     "name": "stdout",
     "output_type": "stream",
     "text": [
      "indovina il numero: 1\n",
      "indovina il numero: 2\n",
      "indovina il numero: 3\n",
      "indovina il numero: 4\n",
      "indovina il numero: 5\n",
      "Bravo, era proprio 5\n"
     ]
    }
   ],
   "source": [
    "guess()"
   ]
  },
  {
   "cell_type": "markdown",
   "metadata": {},
   "source": [
    "## Esercizio"
   ]
  },
  {
   "cell_type": "markdown",
   "metadata": {},
   "source": [
    "Prendere la funzione precedente **guess()** e aggiungere un controllo sul valore inserito, se è più basso di quello da indovinare, stampa *Troppo basso!*, se è più alto stampa *Troppo alto!*"
   ]
  },
  {
   "cell_type": "code",
   "execution_count": 34,
   "metadata": {
    "ExecuteTime": {
     "end_time": "2021-04-16T12:01:36.903566Z",
     "start_time": "2021-04-16T12:01:36.901078Z"
    }
   },
   "outputs": [],
   "source": [
    "# svolgimento"
   ]
  },
  {
   "cell_type": "markdown",
   "metadata": {},
   "source": [
    "## Esercizio"
   ]
  },
  {
   "cell_type": "markdown",
   "metadata": {},
   "source": [
    "Scrivere una funzione **riempi_a_caso()** che crea una lista di lunghezza stabilita da un argomento di funzione e costituita da numeri interi casuali compresi fra 0 e 100. Usare un ciclo **while** e il metodo delle liste **append()**. "
   ]
  },
  {
   "cell_type": "code",
   "execution_count": 8,
   "metadata": {
    "ExecuteTime": {
     "end_time": "2021-04-17T13:28:25.215513Z",
     "start_time": "2021-04-17T13:28:25.212586Z"
    }
   },
   "outputs": [],
   "source": [
    "def riempi_a_caso(lunghezza=10):\n",
    "    lista = []\n",
    "    c = 0\n",
    "    while c < lunghezza:\n",
    "        num = random.randint(0,100)\n",
    "        \n",
    "        c = c + 1\n",
    "        lista.append(num)\n",
    "        \n",
    "    return lista"
   ]
  },
  {
   "cell_type": "code",
   "execution_count": 9,
   "metadata": {
    "ExecuteTime": {
     "end_time": "2021-04-17T13:28:28.636178Z",
     "start_time": "2021-04-17T13:28:28.627012Z"
    }
   },
   "outputs": [
    {
     "data": {
      "text/plain": [
       "[20, 30, 39, 92, 58, 27, 98, 16, 54, 63]"
      ]
     },
     "execution_count": 9,
     "metadata": {},
     "output_type": "execute_result"
    }
   ],
   "source": [
    "riempi_a_caso()"
   ]
  },
  {
   "cell_type": "code",
   "execution_count": null,
   "metadata": {},
   "outputs": [],
   "source": []
  },
  {
   "cell_type": "markdown",
   "metadata": {},
   "source": [
    "# Esercizi vari"
   ]
  },
  {
   "cell_type": "markdown",
   "metadata": {},
   "source": [
    "## Esercizio"
   ]
  },
  {
   "cell_type": "markdown",
   "metadata": {},
   "source": [
    "Scrivi una funzione **check_3()** che retituisce una lista con i numeri i numeri da 0 a *n* (dato come argomento) eccetto quelli che sono multipli di 3\n",
    "\n",
    "Esempio:\n",
    "\n",
    "```python\n",
    "check_3(10)\n",
    "\n",
    ">>> [0,1,2,4,5,7,8,10]\n",
    "```\n",
    "\n",
    "Usare il condizionale **if** all'interno di un ciclo **for** (insieme a **range()**) oppure un ciclo **while** (a scelta)"
   ]
  },
  {
   "cell_type": "code",
   "execution_count": 18,
   "metadata": {
    "ExecuteTime": {
     "end_time": "2021-04-17T13:50:00.415245Z",
     "start_time": "2021-04-17T13:50:00.408717Z"
    }
   },
   "outputs": [],
   "source": [
    "# svolgimento\n",
    "\n",
    "def check_3(massimo):\n",
    "    lista = [0]\n",
    "    \n",
    "    for num in range(1,massimo+1):\n",
    "        if num % 3 != 0:\n",
    "            lista.append(num)\n",
    "            \n",
    "    return lista"
   ]
  },
  {
   "cell_type": "code",
   "execution_count": 19,
   "metadata": {
    "ExecuteTime": {
     "end_time": "2021-04-17T13:50:01.646339Z",
     "start_time": "2021-04-17T13:50:01.641738Z"
    }
   },
   "outputs": [
    {
     "data": {
      "text/plain": [
       "[0, 1, 2, 4, 5, 7, 8, 10, 11, 13, 14, 16, 17, 19, 20]"
      ]
     },
     "execution_count": 19,
     "metadata": {},
     "output_type": "execute_result"
    }
   ],
   "source": [
    "check_3(20)"
   ]
  },
  {
   "cell_type": "markdown",
   "metadata": {},
   "source": [
    "## Esercizio"
   ]
  },
  {
   "cell_type": "markdown",
   "metadata": {},
   "source": [
    "Scrivi una funzione che restituisca il numero di cifre contenute in una stringa data come argomento \n",
    "\n",
    "Esempio:\n",
    "```python\n",
    "howmanynumbers(\"ciao io ho 13 anni\")\n",
    "\n",
    ">>> 2\n",
    "```"
   ]
  },
  {
   "cell_type": "code",
   "execution_count": 14,
   "metadata": {
    "ExecuteTime": {
     "end_time": "2021-04-16T16:51:32.886927Z",
     "start_time": "2021-04-16T16:51:32.881446Z"
    }
   },
   "outputs": [],
   "source": [
    "# svolgimento"
   ]
  },
  {
   "cell_type": "code",
   "execution_count": 23,
   "metadata": {
    "ExecuteTime": {
     "end_time": "2021-04-17T14:14:36.243221Z",
     "start_time": "2021-04-17T14:14:36.227900Z"
    }
   },
   "outputs": [],
   "source": [
    "def howmanynumbers(frase):\n",
    "    quanti_numeri = 0\n",
    "    \n",
    "    for carattere in frase:\n",
    "        if carattere in '0123456789':\n",
    "            quanti_numeri += 1\n",
    "            \n",
    "    return quanti_numeri"
   ]
  },
  {
   "cell_type": "code",
   "execution_count": 24,
   "metadata": {
    "ExecuteTime": {
     "end_time": "2021-04-17T14:14:54.226896Z",
     "start_time": "2021-04-17T14:14:54.223102Z"
    }
   },
   "outputs": [
    {
     "data": {
      "text/plain": [
       "3"
      ]
     },
     "execution_count": 24,
     "metadata": {},
     "output_type": "execute_result"
    }
   ],
   "source": [
    "howmanynumbers(\"ciao 2 4 a tutti 6\")"
   ]
  },
  {
   "cell_type": "markdown",
   "metadata": {},
   "source": [
    "## Esercizio"
   ]
  },
  {
   "cell_type": "markdown",
   "metadata": {},
   "source": [
    "Scrivere una funzione **char_category()** che prende come argomento una stringa e stampi il numero di lettere e il numero di cifre presenti nellas tringa.\n",
    "\n",
    "Esempio:\n",
    "\n",
    "```python\n",
    "char_category('esercizio n. 2.3')\n",
    "\n",
    ">>> Lettere: 10\n",
    ">>> Cifre: 2\n",
    "```"
   ]
  },
  {
   "cell_type": "code",
   "execution_count": 41,
   "metadata": {
    "ExecuteTime": {
     "end_time": "2021-04-16T17:46:14.622431Z",
     "start_time": "2021-04-16T17:46:14.620619Z"
    }
   },
   "outputs": [],
   "source": [
    "# svolgimento"
   ]
  },
  {
   "cell_type": "markdown",
   "metadata": {},
   "source": [
    "## Esercizio"
   ]
  },
  {
   "cell_type": "markdown",
   "metadata": {
    "ExecuteTime": {
     "end_time": "2021-04-16T21:21:50.013691Z",
     "start_time": "2021-04-16T21:21:50.005362Z"
    }
   },
   "source": [
    "Stampare il seguente pattern:\n",
    "\n",
    "```python\n",
    "1 \n",
    "1 2 \n",
    "1 2 3 \n",
    "1 2 3 4 \n",
    "1 2 3 4 5\n",
    "```"
   ]
  },
  {
   "cell_type": "code",
   "execution_count": 27,
   "metadata": {
    "ExecuteTime": {
     "end_time": "2021-04-17T14:16:55.175636Z",
     "start_time": "2021-04-17T14:16:55.162866Z"
    }
   },
   "outputs": [
    {
     "data": {
      "text/plain": [
       "'3'"
      ]
     },
     "execution_count": 27,
     "metadata": {},
     "output_type": "execute_result"
    }
   ],
   "source": [
    "str(3)"
   ]
  },
  {
   "cell_type": "code",
   "execution_count": 6,
   "metadata": {
    "ExecuteTime": {
     "end_time": "2021-04-16T21:27:31.686568Z",
     "start_time": "2021-04-16T21:27:31.681048Z"
    }
   },
   "outputs": [],
   "source": [
    "# svolgimento"
   ]
  },
  {
   "cell_type": "markdown",
   "metadata": {
    "heading_collapsed": true
   },
   "source": [
    "# Bonus Track"
   ]
  },
  {
   "cell_type": "markdown",
   "metadata": {
    "hidden": true
   },
   "source": [
    "Scrivi una funzione **check_password()** che controlli la validità di una password. La password deve avere le seguenti caratteristiche:\n",
    "- Almeno un carattere minuscolo\n",
    "- Almeno un carattere maiuscolo\n",
    "- Almeno una cifra compresa fra 0 e 9\n",
    "- Almeno un carattere speciale fra **$#@**\n",
    "- Lunghezza compresa fra 8 e 16 caratteri\n",
    "\n",
    "Se la password è valida, ritornare **True**, altrimenti **False**"
   ]
  },
  {
   "cell_type": "code",
   "execution_count": 39,
   "metadata": {
    "ExecuteTime": {
     "end_time": "2021-04-16T17:15:06.243906Z",
     "start_time": "2021-04-16T17:15:06.241535Z"
    },
    "hidden": true
   },
   "outputs": [],
   "source": [
    "# svolgimento\n",
    "\n",
    "minuscoli = \"qwertyuiopasdfghjklzxcvbnm\"\n",
    "maiuscoli = \"QWERTYUIOPASDFGHJKLZXCVBNM\"\n",
    "cifre = \"0123456789\"\n",
    "speciali = \"$#@\""
   ]
  }
 ],
 "metadata": {
  "kernelspec": {
   "display_name": "Python 3",
   "language": "python",
   "name": "python3"
  },
  "language_info": {
   "codemirror_mode": {
    "name": "ipython",
    "version": 3
   },
   "file_extension": ".py",
   "mimetype": "text/x-python",
   "name": "python",
   "nbconvert_exporter": "python",
   "pygments_lexer": "ipython3",
   "version": "3.7.4"
  },
  "toc": {
   "base_numbering": 1,
   "nav_menu": {},
   "number_sections": true,
   "sideBar": true,
   "skip_h1_title": false,
   "title_cell": "Table of Contents",
   "title_sidebar": "Contents",
   "toc_cell": false,
   "toc_position": {},
   "toc_section_display": true,
   "toc_window_display": false
  }
 },
 "nbformat": 4,
 "nbformat_minor": 5
}
