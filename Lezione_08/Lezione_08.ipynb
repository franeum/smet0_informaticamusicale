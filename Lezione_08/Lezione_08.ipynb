{
 "cells": [
  {
   "cell_type": "markdown",
   "metadata": {},
   "source": [
    "# Il segnale elettrico nei circuiti digitali"
   ]
  },
  {
   "cell_type": "markdown",
   "metadata": {
    "ExecuteTime": {
     "end_time": "2021-03-19T18:25:50.243333Z",
     "start_time": "2021-03-19T18:25:50.238361Z"
    }
   },
   "source": [
    "<u>SEGNALE</u>  \n",
    "una grandezza fisica la cui variazione nel tempo trasmette un'informazione."
   ]
  },
  {
   "cell_type": "markdown",
   "metadata": {},
   "source": [
    "<u>SEGNALE ELETTRICO</u>  \n",
    "Un segnale elettrico è un particolare tipo di segnale caratterizzato da una variazione di **corrente elettrica** o di **tensione** all'interno di un conduttore o in un punto di un circuito elettrico o elettronico."
   ]
  },
  {
   "cell_type": "markdown",
   "metadata": {},
   "source": [
    "<u>SEGNALE ELETTRICO DIGITALE</u>  \n",
    "Nei circuiti digitali (come i computer) i segnali vengono manipolati tramite i transistor, che cambiando la tensione al passaggio di corrente e possono far assumere al segnale 2 stati: HIGH e LOW, quindi un valore di tensione massima e uno di valore minimo."
   ]
  },
  {
   "attachments": {
    "squarewave.jpg": {
     "image/jpeg": "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"
    }
   },
   "cell_type": "markdown",
   "metadata": {},
   "source": [
    "![squarewave.jpg](attachment:squarewave.jpg)"
   ]
  },
  {
   "cell_type": "markdown",
   "metadata": {},
   "source": [
    "La successione dei livelli di tensione costituisce un segnale digitale, che, in virtù di essere un segnale, trasmette informazione. Per questo motivo in informatica il sistema numerico utilizzato è quello binario."
   ]
  },
  {
   "cell_type": "markdown",
   "metadata": {},
   "source": [
    "# Sistema binario"
   ]
  },
  {
   "cell_type": "markdown",
   "metadata": {},
   "source": [
    "**Sistema di numerazione posizionale in base 2**"
   ]
  },
  {
   "cell_type": "markdown",
   "metadata": {},
   "source": [
    "<u>Sistema numerico</u>:\n",
    "* Modo per rappresentare numeri facendo uso di **simboli**  \n",
    "\n",
    "<u>Posizionale</u>:\n",
    "* I simboli assumono valori diversi a seconda della posizione che assumono  \n",
    "\n",
    "<u>In base 2</u>:\n",
    "* Il numero dei simboli per rappresentare i numeri è 2  "
   ]
  },
  {
   "cell_type": "markdown",
   "metadata": {},
   "source": [
    "Il sistema binario quindi usa 2 simboli: 0 (zero) e 1 (uno)."
   ]
  },
  {
   "cell_type": "markdown",
   "metadata": {},
   "source": [
    "L'unità minima di segnale trasferito (e quindi informazione) è costituita dal **bit**, che può assumere il valore di 0 o 1, ed è quindi in grado di rappresentare solo 2 valori.  \n",
    "Per rappresentare 4 valori (cioè i numeri da 0 a 3) ci sarà bisogno di usare almeno 2 bit, infatti con 2 bit opssiamo avere 4 diverse combinazioni:"
   ]
  },
  {
   "cell_type": "markdown",
   "metadata": {},
   "source": [
    "00, 01, 10, 11"
   ]
  },
  {
   "cell_type": "markdown",
   "metadata": {},
   "source": [
    "# Aritmetica del sistema binario"
   ]
  },
  {
   "cell_type": "markdown",
   "metadata": {},
   "source": [
    "Che rapporto c'è fra il numero dei bit e la quantità di valori che si possono esprimere?"
   ]
  },
  {
   "cell_type": "markdown",
   "metadata": {},
   "source": [
    "|numero di bit|valori rappresentabili|\n",
    "|---|---|\n",
    "|1|2|\n",
    "|2|4|\n",
    "|3|8|\n",
    "|4|16|"
   ]
  },
  {
   "cell_type": "markdown",
   "metadata": {},
   "source": [
    "Per sapere quanti valori possiamo rappresentare eseguiamo la seguente operazione:\n",
    "    \n",
    "$$2^b$$\n",
    "\n",
    "dove *b* è il numero dei bit"
   ]
  },
  {
   "cell_type": "markdown",
   "metadata": {},
   "source": [
    "## Esercitazione"
   ]
  },
  {
   "cell_type": "markdown",
   "metadata": {},
   "source": [
    "Definiamo una funzione che prenda un valore che rappresenta il numero dei bit e restituisca il numero di valori rappresentabili."
   ]
  },
  {
   "cell_type": "code",
   "execution_count": null,
   "metadata": {
    "ExecuteTime": {
     "end_time": "2021-03-19T19:37:25.842445Z",
     "start_time": "2021-03-19T19:37:25.839890Z"
    }
   },
   "outputs": [],
   "source": [
    "# svolgimento"
   ]
  },
  {
   "cell_type": "code",
   "execution_count": 2,
   "metadata": {
    "ExecuteTime": {
     "end_time": "2021-03-20T13:59:05.668291Z",
     "start_time": "2021-03-20T13:59:05.659274Z"
    }
   },
   "outputs": [],
   "source": [
    "def numbit(n_bit):\n",
    "    return 2**n_bit"
   ]
  },
  {
   "cell_type": "code",
   "execution_count": 3,
   "metadata": {
    "ExecuteTime": {
     "end_time": "2021-03-20T13:59:13.172482Z",
     "start_time": "2021-03-20T13:59:13.156192Z"
    }
   },
   "outputs": [
    {
     "data": {
      "text/plain": [
       "256"
      ]
     },
     "execution_count": 3,
     "metadata": {},
     "output_type": "execute_result"
    }
   ],
   "source": [
    "numbit(8)"
   ]
  },
  {
   "cell_type": "code",
   "execution_count": null,
   "metadata": {},
   "outputs": [],
   "source": []
  },
  {
   "cell_type": "code",
   "execution_count": null,
   "metadata": {},
   "outputs": [],
   "source": []
  },
  {
   "cell_type": "markdown",
   "metadata": {},
   "source": [
    "Ma se abbiamo ad esempio 3 bit, come facciamo a sapere come costruire esattamente i valori? Apparentemente:\n",
    "\n",
    "|bit1|bit2|bit3|\n",
    "|--|--|--|\n",
    "|1|0|0|\n",
    "|0|1|0|\n",
    "|0|0|1|\n",
    "\n",
    "sono 3 gruppi uguali, 2 bit sono a zero e uno ad 1."
   ]
  },
  {
   "cell_type": "markdown",
   "metadata": {},
   "source": [
    "Per questo esiste il concetto di **POSIZIONE**. La posizione dei bit (in una sequenza) serve a determinare il valore rappresentato. \n",
    "\n",
    "|pos_3|pos_2|pos_1|pos_0|\n",
    "|--|--|--|--|\n",
    "|$$2^3$$|$$2^2$$|$$2^1$$|$$2^0$$|\n",
    "|$$8$$|$$4$$|$$2$$|$$1$$|"
   ]
  },
  {
   "cell_type": "markdown",
   "metadata": {},
   "source": [
    "Per calcolare il valore decimale di un numero binario è necessaria la seguente operazione:\n",
    "$$\\sum_{k=0}^n(2^k bit_k)$$\n",
    "\n",
    "che tradotto significa: sommare tutti i valori dei bit moltiplicati per 2 elevato per il suo numero di posizione."
   ]
  },
  {
   "cell_type": "markdown",
   "metadata": {},
   "source": [
    "Facciamo un esempio:  \n",
    "prendiamo il numero binario 10011 e traduciamolo in numero decimale.\n",
    "\n",
    "|posizioni|pos_4|pos_3|pos_2|pos_1|pos_0|\n",
    "|---|---|--|--|--|--|\n",
    "|bit|$$1$$|$$0$$|$$0$$|$$1$$|$$1$$|\n",
    "|moltiplicatori|$$16$$$$(2^4)$$|$$8$$$$(2^3)$$|$$4$$$$(2^2)$$|$$2$$$$(2^1)$$|$$1$$$$(2^0)$$|\n",
    "|operazione|$$1\\cdot16$$|$$0\\cdot8$$|$$0\\cdot4$$|$$1\\cdot2$$|$$1\\cdot1$$|\n",
    "\n",
    "Operazione finale (somma):\n",
    "$$16+0+0+2+1=19$$"
   ]
  },
  {
   "cell_type": "markdown",
   "metadata": {},
   "source": [
    "$$10011_2 = 19_{10}$$ "
   ]
  },
  {
   "cell_type": "code",
   "execution_count": 4,
   "metadata": {
    "ExecuteTime": {
     "end_time": "2021-03-20T14:03:43.801812Z",
     "start_time": "2021-03-20T14:03:43.798558Z"
    }
   },
   "outputs": [],
   "source": [
    "# 101010"
   ]
  },
  {
   "cell_type": "code",
   "execution_count": 5,
   "metadata": {
    "ExecuteTime": {
     "end_time": "2021-03-20T14:05:07.530446Z",
     "start_time": "2021-03-20T14:05:07.523928Z"
    }
   },
   "outputs": [
    {
     "data": {
      "text/plain": [
       "42"
      ]
     },
     "execution_count": 5,
     "metadata": {},
     "output_type": "execute_result"
    }
   ],
   "source": [
    "1*32 + 0*16 + 1*8 + 0*4 + 1*2 + 0*1"
   ]
  },
  {
   "cell_type": "code",
   "execution_count": null,
   "metadata": {},
   "outputs": [],
   "source": [
    "# 1 0 1 0 1 0\n",
    "16 + 0 + 8  + 0  + 2  + 0 = 42"
   ]
  },
  {
   "cell_type": "markdown",
   "metadata": {},
   "source": [
    "# Esercitazione"
   ]
  },
  {
   "cell_type": "markdown",
   "metadata": {},
   "source": [
    "Definiamo una funzione `bin2int()` che prenda un numero binario espresso come stringa e lo retistuisca convertito in numero intero."
   ]
  },
  {
   "cell_type": "code",
   "execution_count": 1,
   "metadata": {
    "ExecuteTime": {
     "end_time": "2021-03-20T13:40:02.390134Z",
     "start_time": "2021-03-20T13:40:02.386559Z"
    }
   },
   "outputs": [],
   "source": [
    "# svolgimento"
   ]
  },
  {
   "cell_type": "code",
   "execution_count": 12,
   "metadata": {
    "ExecuteTime": {
     "end_time": "2021-03-20T14:29:28.643320Z",
     "start_time": "2021-03-20T14:29:28.633819Z"
    }
   },
   "outputs": [],
   "source": [
    "def bin2int(bitstring):\n",
    "    position = 0\n",
    "    totale = 0\n",
    "    \n",
    "    for bit in bitstring[::-1]:\n",
    "        temp = int(bit) * (2**position)\n",
    "        totale = totale + temp\n",
    "        position += 1\n",
    "        \n",
    "    return totale"
   ]
  },
  {
   "cell_type": "code",
   "execution_count": 11,
   "metadata": {
    "ExecuteTime": {
     "end_time": "2021-03-20T14:28:35.047380Z",
     "start_time": "2021-03-20T14:28:35.038331Z"
    }
   },
   "outputs": [
    {
     "data": {
      "text/plain": [
       "42"
      ]
     },
     "execution_count": 11,
     "metadata": {},
     "output_type": "execute_result"
    }
   ],
   "source": [
    "bin2int(\"101010\")"
   ]
  },
  {
   "cell_type": "code",
   "execution_count": null,
   "metadata": {},
   "outputs": [],
   "source": []
  },
  {
   "cell_type": "code",
   "execution_count": null,
   "metadata": {},
   "outputs": [],
   "source": []
  },
  {
   "cell_type": "markdown",
   "metadata": {
    "ExecuteTime": {
     "end_time": "2021-03-19T19:25:53.730362Z",
     "start_time": "2021-03-19T19:25:53.725369Z"
    }
   },
   "source": [
    "# Il MIDI"
   ]
  },
  {
   "cell_type": "markdown",
   "metadata": {},
   "source": [
    "Musical Instrument Digital Interface:\n",
    "1. E' il **protocollo** che permette ai dispositivi musicali elettronici di interagire\n",
    "2. Il segnale è **seriale**, quindi le informazioni vengono trasmese in serie, un valore alla volta"
   ]
  },
  {
   "cell_type": "markdown",
   "metadata": {},
   "source": [
    "Senza addentrarci nei meandri del protocollo, per ora ci basterà dire che un dispositivo invia i segnali MIDI in serie, a gruppi di 8 bit chiamati **byte** "
   ]
  },
  {
   "cell_type": "markdown",
   "metadata": {},
   "source": [
    "Generalmente un messaggio MIDI si compone almeno due 2 byte:\n",
    "1. **status byte**\n",
    "2. **data byte**"
   ]
  },
  {
   "cell_type": "markdown",
   "metadata": {},
   "source": [
    "## Status Byte"
   ]
  },
  {
   "cell_type": "markdown",
   "metadata": {},
   "source": [
    "è costituito da un byte così suddiviso:\n",
    "\n",
    "* 4 bit per dire che tipo di dati seguiranno\n",
    "* 4 bit per il canale midi di destinazione"
   ]
  },
  {
   "cell_type": "markdown",
   "metadata": {},
   "source": [
    "Ad esempio il messaggio **10010100** (che convertito in base 10 è 148)\n",
    "\n",
    "può essere interpretato in questo modo:\n",
    "\n",
    "1. dividiamo il byte in due frammenti da 4: **1001** e **0100**\n",
    "\n",
    "2. Il primo *nibble* (così si chiamano i frammenti da 4 bit) rappresenta in base 10 il numero 9 e questo significa cle il mesaggio è di tipo 9 (NOTEON)\n",
    "\n",
    "3. Il secondo *nibble* rappresenta il numero 4, (quindi il quinto elemento se iniziamo a contare da 0) e rappresenta il canale.\n",
    "\n",
    "In sintesi il messaggio 148 significa: MESSAGGIO DI TIPO NOTEON SUL QUINTO CANALE"
   ]
  },
  {
   "cell_type": "markdown",
   "metadata": {},
   "source": [
    "## Data Byte"
   ]
  },
  {
   "cell_type": "markdown",
   "metadata": {},
   "source": [
    "Un Data Byte è così formato:\n",
    "1. 1 bit che (posto sempre a zero) che avverte che si tratta di data byte\n",
    "2. 7 bit che codificano il dato da inviare (valori da 0 a 127 incluso)"
   ]
  },
  {
   "cell_type": "markdown",
   "metadata": {},
   "source": [
    "Ad esempio; un Data Byte pari a 00101001 significa semplicemente 41"
   ]
  },
  {
   "cell_type": "markdown",
   "metadata": {},
   "source": [
    "A seconda del tipo di messaggio (definito come abbiamo visto nello Status Byte), ci possono essere uno o più data bytes consecutivi. Il messaggio di tipo NOTEON (type 9), necessita di 2 data bytes, uno per la nota e un'altro per la VELOCITY, cioè il volume."
   ]
  },
  {
   "cell_type": "markdown",
   "metadata": {},
   "source": [
    "# Esempio: eseguire una nota su uno strumento MIDI"
   ]
  },
  {
   "cell_type": "markdown",
   "metadata": {},
   "source": [
    "Per inviare un messaggio di esecuzione su una tastiera midi avremo bisogno di 3 byte:\n",
    "1. Status Byte con messaggio di tipo NOTEON (9) + un canale (per esempio il 2)\n",
    "2. Data Byte con il numero della nota da eseguire (0-127)\n",
    "3. Data Byte con il valore della VELOCITY, cioè il volume (0-127)\n",
    "\n",
    "costruiamo lo status byte:\n",
    "il primo nibble vale 9, cioè in binario 1001\n",
    "il secondo nibble vale 1 (cioè il canale 2), quindi in binario 0001\n",
    "se accostiamo i due nibble avremo 10010001 = 145\n",
    "\n",
    "Manderemo in esecuzione la nota 60 (il do4), quindi il messaggio sarà: 00111100\n",
    "A un volume di 64: 01000000"
   ]
  },
  {
   "cell_type": "markdown",
   "metadata": {},
   "source": [
    "In qualche modo invieremo, in sequenza i 3 bytes seguenti (tradotti per nostra comodità in base 10):\n",
    "- 145, 60, 64"
   ]
  },
  {
   "cell_type": "markdown",
   "metadata": {},
   "source": [
    "Per terminare la nota, invia lo stesso messaggio, ma con VELOCITY pari a 0:\n",
    "- 145, 60, 0"
   ]
  },
  {
   "cell_type": "markdown",
   "metadata": {},
   "source": [
    "# Installiamo python-rtmidi"
   ]
  },
  {
   "cell_type": "markdown",
   "metadata": {},
   "source": [
    "```bash\n",
    "pip install python-rtmidi\n",
    "```"
   ]
  },
  {
   "cell_type": "code",
   "execution_count": null,
   "metadata": {},
<<<<<<< HEAD
=======
   "outputs": [],
   "source": []
  },
  {
   "cell_type": "code",
   "execution_count": 13,
   "metadata": {
    "ExecuteTime": {
     "end_time": "2021-03-20T14:54:04.946064Z",
     "start_time": "2021-03-20T14:54:04.924240Z"
    }
   },
>>>>>>> ca1cbf430de661273675e117032370c9c077fd9d
   "outputs": [],
   "source": [
    "import rtmidi"
   ]
  },
  {
   "cell_type": "code",
   "execution_count": 14,
   "metadata": {
    "ExecuteTime": {
     "end_time": "2021-03-20T14:54:15.950283Z",
     "start_time": "2021-03-20T14:54:15.940934Z"
    }
   },
   "outputs": [
    {
     "data": {
      "text/plain": [
       "'1.4.7'"
      ]
     },
     "execution_count": 14,
     "metadata": {},
     "output_type": "execute_result"
    }
   ],
   "source": [
    "rtmidi.__version__"
   ]
  },
  {
   "cell_type": "code",
   "execution_count": 15,
   "metadata": {
    "ExecuteTime": {
     "end_time": "2021-03-20T14:55:14.780820Z",
     "start_time": "2021-03-20T14:55:14.777022Z"
    }
   },
   "outputs": [],
   "source": [
    "import time"
   ]
  },
  {
   "cell_type": "code",
   "execution_count": 16,
   "metadata": {
    "ExecuteTime": {
     "end_time": "2021-03-20T14:56:14.348452Z",
     "start_time": "2021-03-20T14:56:14.325623Z"
    }
   },
   "outputs": [],
   "source": [
    "midiout = rtmidi.MidiOut()"
   ]
  },
  {
   "cell_type": "code",
   "execution_count": 17,
   "metadata": {
    "ExecuteTime": {
     "end_time": "2021-03-20T14:56:20.222548Z",
     "start_time": "2021-03-20T14:56:20.217068Z"
    }
   },
   "outputs": [
    {
     "data": {
      "text/plain": [
       "<rtmidi._rtmidi.MidiOut at 0x1050759b0>"
      ]
     },
     "execution_count": 17,
     "metadata": {},
     "output_type": "execute_result"
    }
   ],
   "source": [
    "midiout"
   ]
  },
  {
   "cell_type": "code",
   "execution_count": 28,
   "metadata": {
    "ExecuteTime": {
     "end_time": "2021-03-20T15:19:07.847294Z",
     "start_time": "2021-03-20T15:19:07.839053Z"
    }
   },
   "outputs": [
    {
     "data": {
      "text/plain": [
       "['Driver IAC Bus IAC 1', 'VMPK Input']"
      ]
     },
     "execution_count": 28,
     "metadata": {},
     "output_type": "execute_result"
    }
   ],
   "source": [
    "midiout.get_ports()"
   ]
  },
  {
   "cell_type": "code",
   "execution_count": 29,
   "metadata": {
    "ExecuteTime": {
     "end_time": "2021-03-20T15:19:09.163156Z",
     "start_time": "2021-03-20T15:19:09.156039Z"
    }
   },
   "outputs": [],
   "source": [
    "available_ports = midiout.get_ports()"
   ]
  },
  {
   "cell_type": "code",
   "execution_count": 42,
   "metadata": {
    "ExecuteTime": {
     "end_time": "2021-03-20T15:31:48.702550Z",
     "start_time": "2021-03-20T15:31:48.698127Z"
    }
   },
   "outputs": [
    {
     "data": {
      "text/plain": [
       "<rtmidi._rtmidi.MidiOut at 0x1050759b0>"
      ]
     },
     "execution_count": 42,
     "metadata": {},
     "output_type": "execute_result"
    }
   ],
   "source": [
    "midiout.open_port(1)"
   ]
  },
  {
   "cell_type": "code",
   "execution_count": 41,
   "metadata": {
    "ExecuteTime": {
     "end_time": "2021-03-20T15:31:45.705867Z",
     "start_time": "2021-03-20T15:31:45.701467Z"
    }
   },
   "outputs": [],
   "source": [
    "midiout.close_port()"
   ]
  },
  {
   "cell_type": "code",
   "execution_count": 49,
   "metadata": {
    "ExecuteTime": {
     "end_time": "2021-03-20T15:36:32.190559Z",
     "start_time": "2021-03-20T15:36:32.185264Z"
    }
   },
   "outputs": [
    {
     "data": {
      "text/plain": [
       "'VMPK Input'"
      ]
     },
     "execution_count": 49,
     "metadata": {},
     "output_type": "execute_result"
    }
   ],
   "source": [
    "midiout.get_port_name(1)"
   ]
  },
  {
   "cell_type": "code",
   "execution_count": null,
   "metadata": {},
   "outputs": [],
   "source": []
  },
  {
   "cell_type": "code",
   "execution_count": null,
   "metadata": {},
   "outputs": [],
   "source": []
  },
  {
   "cell_type": "code",
   "execution_count": 43,
   "metadata": {
    "ExecuteTime": {
<<<<<<< HEAD
     "end_time": "2021-03-19T20:11:26.898670Z",
     "start_time": "2021-03-19T20:11:26.886656Z"
=======
     "end_time": "2021-03-20T15:31:52.554153Z",
     "start_time": "2021-03-20T15:31:52.549473Z"
>>>>>>> ca1cbf430de661273675e117032370c9c077fd9d
    }
   },
   "outputs": [],
   "source": [
    "messaggio1 = [144,60,64] # NOTEON\n",
    "messaggio2 = [144,60,0] # noteoff"
   ]
  },
  {
   "cell_type": "code",
   "execution_count": 44,
   "metadata": {
    "ExecuteTime": {
     "end_time": "2021-03-20T15:31:54.649746Z",
     "start_time": "2021-03-20T15:31:54.644558Z"
    }
   },
   "outputs": [],
   "source": [
    "midiout.send_message(messaggio1)"
   ]
  },
  {
   "cell_type": "code",
   "execution_count": 45,
   "metadata": {
    "ExecuteTime": {
     "end_time": "2021-03-20T15:31:56.320685Z",
     "start_time": "2021-03-20T15:31:56.317975Z"
    }
   },
   "outputs": [],
   "source": [
    "midiout.send_message(messaggio2)"
   ]
  },
  {
   "cell_type": "code",
   "execution_count": 34,
   "metadata": {
    "ExecuteTime": {
     "end_time": "2021-03-20T15:20:17.877712Z",
     "start_time": "2021-03-20T15:20:17.874267Z"
    }
   },
   "outputs": [],
   "source": [
    "import random"
   ]
  },
  {
   "cell_type": "code",
   "execution_count": null,
   "metadata": {},
<<<<<<< HEAD
=======
   "outputs": [],
   "source": []
  },
  {
   "cell_type": "code",
   "execution_count": 39,
   "metadata": {
    "ExecuteTime": {
     "end_time": "2021-03-20T15:28:24.933099Z",
     "start_time": "2021-03-20T15:28:23.917341Z"
    }
   },
>>>>>>> ca1cbf430de661273675e117032370c9c077fd9d
   "outputs": [],
   "source": [
    "for i in range(2):\n",
    "    note = random.randint(48,73)\n",
    "    midiout.send_message([144, note, 64])\n",
    "    time.sleep(0.5)\n",
    "    midiout.send_message([144, note, 0])"
   ]
  },
  {
   "cell_type": "code",
   "execution_count": null,
   "metadata": {},
   "outputs": [],
   "source": []
  },
  {
   "cell_type": "code",
   "execution_count": 1,
   "metadata": {
    "ExecuteTime": {
<<<<<<< HEAD
     "end_time": "2021-03-26T17:11:19.745633Z",
     "start_time": "2021-03-26T17:11:19.704049Z"
=======
     "end_time": "2021-03-19T20:12:29.547096Z",
     "start_time": "2021-03-19T20:12:29.527029Z"
>>>>>>> ca1cbf430de661273675e117032370c9c077fd9d
    }
   },
   "outputs": [
    {
     "ename": "ModuleNotFoundError",
     "evalue": "No module named 'rtmidi'",
     "output_type": "error",
     "traceback": [
      "\u001b[0;31m---------------------------------------------------------------------------\u001b[0m",
      "\u001b[0;31mModuleNotFoundError\u001b[0m                       Traceback (most recent call last)",
      "\u001b[0;32m<ipython-input-1-f92580bb84c4>\u001b[0m in \u001b[0;36m<module>\u001b[0;34m\u001b[0m\n\u001b[1;32m      1\u001b[0m \u001b[0;32mimport\u001b[0m \u001b[0mtime\u001b[0m\u001b[0;34m\u001b[0m\u001b[0;34m\u001b[0m\u001b[0m\n\u001b[0;32m----> 2\u001b[0;31m \u001b[0;32mimport\u001b[0m \u001b[0mrtmidi\u001b[0m\u001b[0;34m\u001b[0m\u001b[0;34m\u001b[0m\u001b[0m\n\u001b[0m\u001b[1;32m      3\u001b[0m \u001b[0;34m\u001b[0m\u001b[0m\n\u001b[1;32m      4\u001b[0m \u001b[0mmidiout\u001b[0m \u001b[0;34m=\u001b[0m \u001b[0mrtmidi\u001b[0m\u001b[0;34m.\u001b[0m\u001b[0mMidiOut\u001b[0m\u001b[0;34m(\u001b[0m\u001b[0;34m)\u001b[0m\u001b[0;34m\u001b[0m\u001b[0;34m\u001b[0m\u001b[0m\n",
      "\u001b[0;31mModuleNotFoundError\u001b[0m: No module named 'rtmidi'"
     ]
    }
   ],
   "source": [
    "import time\n",
    "import rtmidi\n",
    "\n",
    "midiout = rtmidi.MidiOut()"
   ]
  },
  {
   "cell_type": "code",
   "execution_count": 4,
   "metadata": {
    "ExecuteTime": {
     "end_time": "2021-03-19T20:12:41.703978Z",
     "start_time": "2021-03-19T20:12:41.699847Z"
    }
   },
   "outputs": [
    {
     "data": {
      "text/plain": [
       "'1.4.7'"
      ]
     },
     "execution_count": 4,
     "metadata": {},
     "output_type": "execute_result"
    }
   ],
   "source": [
    "rtmidi.__version__"
   ]
  },
  {
   "cell_type": "code",
   "execution_count": 5,
   "metadata": {
    "ExecuteTime": {
     "end_time": "2021-03-19T20:13:08.202007Z",
     "start_time": "2021-03-19T20:13:08.194411Z"
    }
   },
   "outputs": [],
   "source": [
    "available_ports = midiout.get_ports()"
   ]
  },
  {
   "cell_type": "code",
   "execution_count": 6,
   "metadata": {
    "ExecuteTime": {
     "end_time": "2021-03-19T20:13:32.461718Z",
     "start_time": "2021-03-19T20:13:32.457058Z"
    }
   },
   "outputs": [
    {
     "data": {
      "text/plain": [
       "['Driver IAC Bus IAC 1', 'VMPK Input']"
      ]
     },
     "execution_count": 6,
     "metadata": {},
     "output_type": "execute_result"
    }
   ],
   "source": [
    "available_ports"
   ]
  },
  {
   "cell_type": "code",
   "execution_count": 7,
   "metadata": {
    "ExecuteTime": {
     "end_time": "2021-03-19T20:13:53.749305Z",
     "start_time": "2021-03-19T20:13:53.744347Z"
    }
   },
   "outputs": [
    {
     "data": {
      "text/plain": [
       "<rtmidi._rtmidi.MidiOut at 0x105a32cb0>"
      ]
     },
     "execution_count": 7,
     "metadata": {},
     "output_type": "execute_result"
    }
   ],
   "source": [
    "midiout.open_port(1)"
   ]
  },
  {
   "cell_type": "code",
   "execution_count": 8,
   "metadata": {
    "ExecuteTime": {
     "end_time": "2021-03-19T20:14:06.657087Z",
     "start_time": "2021-03-19T20:14:06.654077Z"
    }
   },
   "outputs": [],
   "source": [
    "note_on = [144, 60, 112] # channel 1, middle C, velocity 112\n",
    "note_off = [144, 60, 0]"
   ]
  },
  {
   "cell_type": "code",
   "execution_count": 22,
   "metadata": {
    "ExecuteTime": {
     "end_time": "2021-03-19T20:20:18.904418Z",
     "start_time": "2021-03-19T20:20:13.304039Z"
    }
   },
   "outputs": [],
   "source": [
    "scale = [0,2,4,5,7,9,11,12]\n",
    "\n",
    "for i in range(22):\n",
    "    midiout.send_message(build_noteon(scale[i%8]+60))\n",
    "    time.sleep(0.25)\n",
    "    midiout.send_message(build_noteoff(scale[i%8]+60))"
   ]
  },
  {
   "cell_type": "code",
   "execution_count": 24,
   "metadata": {
    "ExecuteTime": {
     "end_time": "2021-03-19T20:28:53.589862Z",
     "start_time": "2021-03-19T20:28:53.585894Z"
    }
   },
   "outputs": [],
   "source": [
    "def build_noteon(note):\n",
    "    return [144,note,60]\n",
    "\n",
    "def build_noteoff(note):\n",
    "    return [128,note,0]"
   ]
  },
  {
   "cell_type": "code",
   "execution_count": 25,
   "metadata": {
    "ExecuteTime": {
     "end_time": "2021-03-19T20:29:04.759983Z",
     "start_time": "2021-03-19T20:29:04.757219Z"
    }
   },
   "outputs": [],
   "source": [
    "midiout.send_message(build_noteon(scale[30%8]+60))"
   ]
  },
  {
   "cell_type": "code",
   "execution_count": 26,
   "metadata": {
    "ExecuteTime": {
     "end_time": "2021-03-19T20:29:06.456869Z",
     "start_time": "2021-03-19T20:29:06.453408Z"
    }
   },
   "outputs": [],
   "source": [
    "midiout.send_message(build_noteoff(scale[30%8]+60))"
   ]
  }
 ],
 "metadata": {
  "kernelspec": {
   "display_name": "Python 3",
   "language": "python",
   "name": "python3"
  },
  "language_info": {
   "codemirror_mode": {
    "name": "ipython",
    "version": 3
   },
   "file_extension": ".py",
   "mimetype": "text/x-python",
   "name": "python",
   "nbconvert_exporter": "python",
   "pygments_lexer": "ipython3",
   "version": "3.7.4"
  },
  "toc": {
   "base_numbering": 1,
   "nav_menu": {},
   "number_sections": true,
   "sideBar": true,
   "skip_h1_title": false,
   "title_cell": "Table of Contents",
   "title_sidebar": "Contents",
   "toc_cell": false,
   "toc_position": {},
   "toc_section_display": true,
   "toc_window_display": false
  }
 },
 "nbformat": 4,
 "nbformat_minor": 4
}
