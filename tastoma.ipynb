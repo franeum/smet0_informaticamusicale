{
 "cells": [
  {
   "cell_type": "code",
   "execution_count": null,
   "metadata": {
    "collapsed": true
   },
   "outputs": [],
   "source": []
  },
  {
   "cell_type": "markdown",
   "metadata": {},
   "source": [
    "#### 2. Quali due comandi puoi usare per avere informazioni di oggetti e funzioni definite? \n",
    "1.  \n",
    "2.  "
   ]
  },
  {
   "cell_type": "code",
   "execution_count": null,
   "metadata": {
    "collapsed": true
   },
   "outputs": [],
   "source": []
  },
  {
   "cell_type": "markdown",
   "metadata": {},
   "source": [
    "#### 3. Elenca meno un tipi di oggetto built-in immutabile\n",
    "1.  \n",
    "2. "
   ]
  },
  {
   "cell_type": "code",
   "execution_count": null,
   "metadata": {
    "collapsed": true
   },
   "outputs": [],
   "source": []
  },
  {
   "cell_type": "markdown",
   "metadata": {},
   "source": [
    "#### 4. Elenca almeno un tipi di oggetto built-in mutabile\n",
    "1.  \n",
    "2. "
   ]
  },
  {
   "cell_type": "code",
   "execution_count": null,
   "metadata": {
    "collapsed": true
   },
   "outputs": [],
   "source": []
  },
  {
   "cell_type": "code",
   "execution_count": null,
   "metadata": {
    "collapsed": true
   },
   "outputs": [],
   "source": []
  },
  {
   "cell_type": "markdown",
   "metadata": {},
   "source": [
    "#### 6. Crea e manipola una lista\n",
    "1. Dichiara una lista di nome `lettere` e valori le prima 5 lettere dell'alfabeto.\n",
    "2. Stampa la lunghezza della lista `lettere` con l'apposito modulo\n",
    "3. Stampa le seconda lettera\n",
    "4. Aggiungi la sesta lettera dell'alfabeto a fine `lettere`\n",
    "5. Stampa una selezione di `lettere` dalla terza lettera fino all'ultima della lista"
   ]
  },
  {
   "cell_type": "code",
   "execution_count": null,
   "metadata": {
    "collapsed": true
   },
   "outputs": [],
   "source": []
  },
  {
   "cell_type": "markdown",
   "metadata": {},
   "source": [
    "#### 7. Crea e manipola un dizionario\n",
    "1. Dichiara un dizionario col nome `fonetico` con cinque copie chiavi valori:   \n",
    "    * A \tAlfa\n",
    "    * B \tBravo\n",
    "    * C \tCharlie\n",
    "    * D \tDelta \n",
    "    * E \tEcho\n",
    "\n",
    "    \n",
    "    \n",
    "2. Stampa il valore corrispondendente alla chiave `C`\n",
    "3. Aggiungi la coppia chiave valore F Foxtrot"
   ]
  },
  {
   "cell_type": "code",
   "execution_count": null,
   "metadata": {
    "collapsed": true
   },
   "outputs": [],
   "source": []
  },
  {
   "cell_type": "code",
   "execution_count": null,
   "metadata": {},
   "outputs": [],
   "source": []
  },
  {
   "cell_type": "markdown",
   "metadata": {},
   "source": [
    "#### 8. Crea un if tale che:\n",
    "1. Data una distanza dalla terra di 100 km assegnata alla variabile `dist_km`\n",
    "2. Stampi la seguenti stringhe:\n",
    "    * \"Sei nella troposfera\" se `dist_km` è compresa fra i 0 e 10 km\n",
    "    * \"Sei nella stratosfera\" se `dist_km` è compresa fra i 11 e 50 km\n",
    "    * \"Sei nella mesosfera\" se `dist_km` è compresa fra i 51 e 80 km\n",
    "    * \"Sei nella termosfera\" se `dist_km` è compresa fra i 81 e 500 km\n",
    "    * \"Sei nell'esosfera\" se `dist_km` è compresa fra i 501 e 10000 km\n",
    "    * \"Non so dove sei!\" in tutti gli altri casi"
   ]
  },
  {
   "cell_type": "code",
   "execution_count": null,
   "metadata": {
    "collapsed": true
   },
   "outputs": [],
   "source": []
  },
  {
   "cell_type": "markdown",
   "metadata": {},
   "source": [
    "#### 9. Crea un ciclo for\n",
    "1. Per ogni elementi del dizionario `fonetico` dichiarato sopra mi stampi la stringa del tipo\n",
    "\"A è alpha.\""
   ]
  },
  {
   "cell_type": "code",
   "execution_count": null,
   "metadata": {
    "collapsed": true
   },
   "outputs": [],
   "source": []
  },
  {
   "cell_type": "markdown",
   "metadata": {},
   "source": [
    "#### 11. Crea e richiama una funzione\n",
    "1. Crea una funzione tale che prenda come input una stringa con più parole...\n",
    "2. ... e che restituisca il numero di parole separate da uno spazio\n",
    "3. La funzione deve essere completa di descrizione al suo interno\n",
    "4. Richiamare la funzione per \"Guido van Rossum\"\n",
    "5. Richiamare la funzione per \"Monty Python references appear frequently in Python code and culture\""
   ]
  },
  {
   "cell_type": "code",
   "execution_count": null,
   "metadata": {
    "collapsed": true
   },
   "outputs": [],
   "source": []
  },
  {
   "cell_type": "markdown",
   "metadata": {
    "collapsed": true
   },
   "source": [
    "1. Chiedi all'utente la sua età con input()\n",
    "2. Trova la data di nascita\n",
    "3. Stampa la data di nascita (output esempio \"La tua data di nascita è il 1990\")"
   ]
  },
  {
   "cell_type": "code",
   "execution_count": null,
   "metadata": {},
   "outputs": [],
   "source": []
  },
  {
   "cell_type": "markdown",
   "metadata": {},
   "source": [
    "1. Crea una funzione pari(n) che abbia come input un intero n e come output solo i numeri pari da 0 a n (con n compreso se pari)\n",
    "2. Richiama la funzione per n=11\n",
    "3. Richiama la funzione per n=30"
   ]
  },
  {
   "cell_type": "code",
   "execution_count": null,
   "metadata": {},
   "outputs": [],
   "source": []
  },
  {
   "cell_type": "markdown",
   "metadata": {},
   "source": [
    "\n",
    "## Condizione if\n",
    "\n",
    "Dato nome = 'Guido van Rossum' Crea una condizione if tale che stampi:\n",
    "\n",
    "    'Questa stringa non contiente spazi' se non ha spazi,\n",
    "    'Questa stringa ha due parole' se ne ha due parole,\n",
    "    'Questa stringa ha tre parole' se ne ha tre.\n",
    "    Se non rientra in nessuno dei casi precedenti contrario stampa 'Questa stringa ha molte parole'.\n",
    "\n"
   ]
  }
 ],
 "metadata": {
  "kernelspec": {
   "display_name": "Python 3",
   "language": "python",
   "name": "python3"
  },
  "language_info": {
   "codemirror_mode": {
    "name": "ipython",
    "version": 3
   },
   "file_extension": ".py",
   "mimetype": "text/x-python",
   "name": "python",
   "nbconvert_exporter": "python",
   "pygments_lexer": "ipython3",
   "version": "3.7.6"
  },
  "toc": {
   "base_numbering": 1,
   "nav_menu": {},
   "number_sections": true,
   "sideBar": true,
   "skip_h1_title": false,
   "title_cell": "Table of Contents",
   "title_sidebar": "Contents",
   "toc_cell": false,
   "toc_position": {},
   "toc_section_display": true,
   "toc_window_display": false
  }
 },
 "nbformat": 4,
 "nbformat_minor": 2
}
