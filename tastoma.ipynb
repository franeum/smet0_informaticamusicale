{
 "cells": [
  {
   "cell_type": "markdown",
   "metadata": {
    "collapsed": true
   },
   "source": [
    "# Verifica Python SMET propedeutico"
   ]
  },
  {
   "cell_type": "markdown",
   "metadata": {},
   "source": [
    "#### Quale funzione puoi usare per avere informazioni su un oggetto?"
   ]
  },
  {
   "cell_type": "code",
   "execution_count": null,
   "metadata": {},
   "outputs": [],
   "source": []
  },
  {
   "cell_type": "markdown",
   "metadata": {},
   "source": [
    "#### Come richiami la pagina di `help` di un oggetto, un metodo e una funzione?"
   ]
  },
  {
   "cell_type": "code",
   "execution_count": null,
   "metadata": {
    "collapsed": true
   },
   "outputs": [],
   "source": []
  },
  {
   "cell_type": "markdown",
   "metadata": {},
   "source": [
    "#### Assegnare un valore alla variabile `x` ed eseguire la seguente operazione (e stampare il risultato)\n",
    "\n",
    "$$x = 15$$\n",
    "\n",
    "$$7.2 + \\frac{1.1x}{9} \\cdot 128$$"
   ]
  },
  {
   "cell_type": "code",
   "execution_count": null,
   "metadata": {},
   "outputs": [],
   "source": []
  },
  {
   "cell_type": "markdown",
   "metadata": {},
   "source": [
    "#### Usando gli operatori di confronto (`!=`, `<`, `>`, `==`, `>=`, `<=`): \n",
    "* scrivere almeno tre espressioni (con soli numeri interi) che restituiscano **True** e tre che restituiscano **False**"
   ]
  },
  {
   "cell_type": "code",
   "execution_count": null,
   "metadata": {},
   "outputs": [],
   "source": []
  },
  {
   "cell_type": "code",
   "execution_count": null,
   "metadata": {},
   "outputs": [],
   "source": []
  },
  {
   "cell_type": "markdown",
   "metadata": {},
   "source": [
    "#### Calcolare l'area di un trapezio usando 4 variabili chiamate rispettivamente: \n",
    "* `base_maggiore` \n",
    "* `base_minore`\n",
    "* `altezza` \n",
    "* `area`\n",
    "\n",
    "Popolare le prim tre variabili con i seguenti valori: `12`, `14.6`, `7.5` e poi inserire nella variabile `area` il risultato del calcolo.  \n",
    "Infine stampare l'area con l'opportuna funzione"
   ]
  },
  {
   "cell_type": "code",
   "execution_count": null,
   "metadata": {},
   "outputs": [],
   "source": []
  },
  {
   "cell_type": "markdown",
   "metadata": {},
   "source": [
    "#### Spiega le seguenti righe di codice"
   ]
  },
  {
   "cell_type": "code",
   "execution_count": 9,
   "metadata": {
    "ExecuteTime": {
     "end_time": "2021-05-14T13:08:33.700742Z",
     "start_time": "2021-05-14T13:08:33.695645Z"
    }
   },
   "outputs": [
    {
     "data": {
      "text/plain": [
       "True"
      ]
     },
     "execution_count": 9,
     "metadata": {},
     "output_type": "execute_result"
    }
   ],
   "source": [
    "x = 10\n",
    "5 < x < 15\n",
    "\n",
    "# Spiegazione"
   ]
  },
  {
   "cell_type": "code",
   "execution_count": null,
   "metadata": {},
   "outputs": [],
   "source": []
  },
  {
   "cell_type": "markdown",
   "metadata": {},
   "source": [
    "#### Tra questo elenco di tipi, scegli almeno 2 immutabili e 2 mutabili: `int, float, bool, list, dict, tuple, string`\n",
    "1. immutabile:   \n",
    "2. immutabile:  \n",
    "3. mutabile:  \n",
    "4. mutabile:  "
   ]
  },
  {
   "cell_type": "code",
   "execution_count": null,
   "metadata": {
    "collapsed": true
   },
   "outputs": [],
   "source": []
  },
  {
   "cell_type": "markdown",
   "metadata": {},
   "source": [
    "#### Crea e manipola una lista\n",
    "1. Dichiara una lista di nome `note` che abbia come elementi le prime sei note della scala di do maggiore\n",
    "2. Stampa la lunghezza della lista `note` ottenuta con la giusta funzione\n",
    "3. Stampa le seconda nota (con la notazione a slice \\[...\\])\n",
    "4. Aggiungi la settima nota della scala di do maggiore alla fine della lista\n",
    "5. Stampa una selezione di `note` dalla terza nota fino all'ultima della lista"
   ]
  },
  {
   "cell_type": "code",
   "execution_count": null,
   "metadata": {},
   "outputs": [],
   "source": []
  },
  {
   "cell_type": "markdown",
   "metadata": {
    "collapsed": true
   },
   "source": [
    "#### Crea e manipola un dizionario\n",
    "1. Crea un dizionario `durate` con le seguenti caratteristiche:\n",
    "    - chiave: nome della durata (semibreve, minima, etc... fino alla semicroma)\n",
    "    - valore: durata (in quarti, ottavi e sedicesimi: \"4/4\", \"2/4\", etc...)\n",
    "2. Stampa il valore corrispondente alla chiave `croma`\n",
    "3. Aggiungi la coppia chiave:valore `biscroma`:`1/32`\n",
    "4. Stampa l'intero dizionario"
   ]
  },
  {
   "cell_type": "code",
   "execution_count": null,
   "metadata": {},
   "outputs": [],
   "source": []
  },
  {
   "cell_type": "markdown",
   "metadata": {},
   "source": [
    "#### Crea un ciclo for\n",
    "1. *Per ogni coppia chiave:valore* del dizionario `durate`, creato prima, stampa la stringa del tipo\n",
    "`\"La semibreve dura 4/4\"`"
   ]
  },
  {
   "cell_type": "code",
   "execution_count": null,
   "metadata": {},
   "outputs": [],
   "source": []
  },
  {
   "cell_type": "markdown",
   "metadata": {},
   "source": [
    "#### 8. Crea un if tale che:\n",
    "1. Data una distanza dalla terra di 100 km assegnata alla variabile `dist_km`\n",
    "2. Stampi la seguenti stringhe:\n",
    "    * \"Sei nella troposfera\" se `dist_km` è compresa fra i 0 e 10 km\n",
    "    * \"Sei nella stratosfera\" se `dist_km` è compresa fra i 11 e 50 km\n",
    "    * \"Sei nella mesosfera\" se `dist_km` è compresa fra i 51 e 80 km\n",
    "    * \"Sei nella termosfera\" se `dist_km` è compresa fra i 81 e 500 km\n",
    "    * \"Sei nell'esosfera\" se `dist_km` è compresa fra i 501 e 10000 km\n",
    "    * \"Non so dove sei!\" in tutti gli altri casi"
   ]
  },
  {
   "cell_type": "markdown",
   "metadata": {
    "collapsed": true
   },
   "source": [
    "#### Crea un if con le seguenti caratteristiche:\n",
    "1. data una variabile `pitch` espressa in valori MIDI (0-127)\n",
    "2. calcoli la distanza dal \"do centrale\" (pitch: 60)\n",
    "3. e stampi:\n",
    "    - \"la distanza è meno di un'ottava\" se la distanza è minore di 12\n",
    "    - \"la distanza è meno di due ottave\" se la distanza è minore di 24\n",
    "    -"
   ]
  },
  {
   "cell_type": "code",
   "execution_count": null,
   "metadata": {
    "collapsed": true
   },
   "outputs": [],
   "source": []
  },
  {
   "cell_type": "markdown",
   "metadata": {},
   "source": [
    "#### Crea una funzione `nota()` che prenda in input una nota espressa in valore (intero) MIDI (0-127) e:\n",
    "* Stampi il nome della nota (do, do#, re, mi, ... )<sup>[1](#note1)</sup> e l'ottava di appartenenza<sup>[2](#note2)</sup> separate da un trattino (`-`)\n",
    "\n",
    "\n",
    "<div><p style=\"font-size: 0.75em\"><a name=\"note1\">1</a>: usare l'operatore modulo che restituisca l'indice di una lista che contiene i nomi delle note (<code>%</code>)</div></p>\n",
    "<div><p style=\"font-size: 0.75em\"><a name=\"note2\">2</a>: usare l'operatore divisione intera (<code>//</code>)</div></p>\n",
    "\n",
    "##### Esempi: \n",
    "\n",
    "```py\n",
    ">>> che_nota(73)\n",
    ">>> \"do#-6\"\n",
    "\n",
    ">>> che_nota(12)\n",
    ">>> \"do-1\"\n",
    "```"
   ]
  },
  {
   "cell_type": "markdown",
   "metadata": {},
   "source": [
    "#### 11. Crea e richiama una funzione\n",
    "1. Crea una funzione tale che prenda come input una stringa con più parole...\n",
    "2. ... e che restituisca il numero di parole separate da uno spazio\n",
    "3. La funzione deve essere completa di descrizione al suo interno\n",
    "4. Richiamare la funzione per \"Guido van Rossum\"\n",
    "5. Richiamare la funzione per \"Monty Python references appear frequently in Python code and culture\""
   ]
  },
  {
   "cell_type": "code",
   "execution_count": null,
   "metadata": {
    "collapsed": true
   },
   "outputs": [],
   "source": []
  },
  {
   "cell_type": "markdown",
   "metadata": {},
   "source": [
    "#### funzione input()\n",
    "\n",
    "1. Chiedi all'utente di inserire la sua età tramite la funzione input()\n",
    "2. Calcola  (e stampa) l'anno di nascita\n",
    "\n",
    "##### Esempio:\n",
    "\n",
    "```py\n",
    "Quanti anni hai? 14\n",
    "Il tuo anno di nascita è il 2007\n",
    "```"
   ]
  },
  {
   "cell_type": "code",
   "execution_count": null,
   "metadata": {},
   "outputs": [],
   "source": []
  },
  {
   "cell_type": "code",
   "execution_count": null,
   "metadata": {},
   "outputs": [],
   "source": []
  },
  {
   "cell_type": "markdown",
   "metadata": {},
   "source": [
    "#### Crea la funzione pari(n)\n",
    "* Il cui argomento si l'intero `n` e restituisca (tramite l'istruzione **return**) una lista di numeri pari compresi fra 0 e *n*\n",
    "* Chiama la funzione per n = 11\n",
    "* Chiama la funzione per n = 30\n",
    "\n",
    "##### Esempio:\n",
    "\n",
    "```py\n",
    ">>> pari(12)\n",
    ">>> [0,2,4,6,8,10,12]\n",
    "```"
   ]
  },
  {
   "cell_type": "code",
   "execution_count": null,
   "metadata": {},
   "outputs": [],
   "source": []
  },
  {
   "cell_type": "markdown",
   "metadata": {},
   "source": [
    "\n",
    "## Condizione if\n",
    "\n",
    "Dato nome = 'Guido van Rossum' Crea una condizione if tale che stampi:\n",
    "\n",
    "    'Questa stringa non contiente spazi' se non ha spazi,\n",
    "    'Questa stringa ha due parole' se ne ha due parole,\n",
    "    'Questa stringa ha tre parole' se ne ha tre.\n",
    "    Se non rientra in nessuno dei casi precedenti contrario stampa 'Questa stringa ha molte parole'.\n",
    "\n"
   ]
  }
 ],
 "metadata": {
  "kernelspec": {
   "display_name": "Python 3",
   "language": "python",
   "name": "python3"
  },
  "language_info": {
   "codemirror_mode": {
    "name": "ipython",
    "version": 3
   },
   "file_extension": ".py",
   "mimetype": "text/x-python",
   "name": "python",
   "nbconvert_exporter": "python",
   "pygments_lexer": "ipython3",
   "version": "3.7.6"
  },
  "toc": {
   "base_numbering": 1,
   "nav_menu": {},
   "number_sections": true,
   "sideBar": true,
   "skip_h1_title": false,
   "title_cell": "Table of Contents",
   "title_sidebar": "Contents",
   "toc_cell": false,
   "toc_position": {},
   "toc_section_display": true,
   "toc_window_display": false
  }
 },
 "nbformat": 4,
 "nbformat_minor": 2
}
