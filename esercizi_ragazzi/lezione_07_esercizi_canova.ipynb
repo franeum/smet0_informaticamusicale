{
 "cells": [
  {
   "cell_type": "markdown",
   "metadata": {
    "heading_collapsed": true
   },
   "source": [
    "# Esercizio"
   ]
  },
  {
   "cell_type": "markdown",
   "metadata": {
    "hidden": true
   },
   "source": [
    "Scrivi una funzione che stampi un grafico che mostri la lunghezza dei valori in una lista. Ogni numero costituirà una stringa formata dal simbolo `#`.\n",
    "Esempio, la lista `[1,5,12]` corrisponderà alle seguenti 3 stringhe:\n",
    "\n",
    "```\n",
    "*\n",
    "*****\n",
    "************\n",
    "```"
   ]
  },
  {
   "cell_type": "code",
   "execution_count": 1,
   "metadata": {
    "hidden": true
   },
   "outputs": [],
   "source": [
    "def graf_list (lista) :\n",
    "    for n in lista :\n",
    "        print (\"*\" * n)\n",
    "    "
   ]
  },
  {
   "cell_type": "code",
   "execution_count": 2,
   "metadata": {
    "hidden": true
   },
   "outputs": [
    {
     "name": "stdout",
     "output_type": "stream",
     "text": [
      "*\n",
      "**\n",
      "***\n"
     ]
    }
   ],
   "source": [
    "graf_list([1,2,3])"
   ]
  },
  {
   "cell_type": "markdown",
   "metadata": {
    "heading_collapsed": true
   },
   "source": [
    "# Esercizio"
   ]
  },
  {
   "cell_type": "markdown",
   "metadata": {
    "hidden": true
   },
   "source": [
    "Scrivi una funzione denominata `lunghezze` che accetti una frase (come stringa) e che restituisca una lista con formata dalla lunghezza di ogni parola.\n",
    "\n",
    "Esempio: \n",
    "```python\n",
    "lunghezze(\"buongiorno a tutti voi\")\n",
    "\n",
    ">>> [10, 1, 5, 3]\n",
    "```"
   ]
  },
  {
   "cell_type": "code",
   "execution_count": 8,
   "metadata": {
    "hidden": true
   },
   "outputs": [
    {
     "data": {
      "text/plain": [
       "[2, 5, 2, 6]"
      ]
     },
     "execution_count": 8,
     "metadata": {},
     "output_type": "execute_result"
    }
   ],
   "source": [
    "def lunghezze(frase):\n",
    "    r =[]\n",
    "    for parola in frase.split():\n",
    "        r.append (len(parola))\n",
    "    return r\n",
    "lunghezze(\"mi piace la musica\")"
   ]
  },
  {
   "cell_type": "markdown",
   "metadata": {
    "heading_collapsed": true
   },
   "source": [
    "# Esercizio"
   ]
  },
  {
   "cell_type": "markdown",
   "metadata": {
    "hidden": true
   },
   "source": [
    "Scrivi una funzione `multiplo` che determini se un numero sia multiplo di 2, 3, 5. La funzione deve stampare `2` nel primo caso, `3` nel secondo, `5` nel terzo e `False` in tutti gli altri casi.\n",
    "\n",
    "Esempio:\n",
    "```python\n",
    "multiplo(81)\n",
    "\n",
    ">>> 3\n",
    "```"
   ]
  },
  {
   "cell_type": "code",
   "execution_count": 1,
   "metadata": {
    "ExecuteTime": {
     "end_time": "2021-03-18T11:33:20.170753Z",
     "start_time": "2021-03-18T11:33:20.164715Z"
    },
    "hidden": true
   },
   "outputs": [
    {
     "name": "stdout",
     "output_type": "stream",
     "text": [
      "2\n",
      "3\n",
      "5\n"
     ]
    }
   ],
   "source": [
    "def multiplo(numero):\n",
    "    if numero % 2  == 0 :\n",
    "        print(\"2\")\n",
    "    if numero % 3 == 0:\n",
    "        print(\"3\")\n",
    "    if numero % 5 == 0:\n",
    "        print(\"5\")\n",
    "    else :print (\"False\")\n",
    "multiplo(30)"
   ]
  },
  {
   "cell_type": "markdown",
   "metadata": {},
   "source": [
    "# Esercizio"
   ]
  },
  {
   "cell_type": "markdown",
   "metadata": {},
   "source": [
    "Scrivi una funzione `misura_secondi` che prende come argomenti 3 valori: `giorni`, `ore`, `minuti` e che restituisca la somma tra queste grandezze espressa in `secondi`\n",
    "\n",
    "Esempio:\n",
    "```python\n",
    "misura_secondi(1,13,4)\n",
    "\n",
    ">>> 133440\n",
    "```"
   ]
  },
  {
   "cell_type": "code",
   "execution_count": 2,
   "metadata": {
    "ExecuteTime": {
     "end_time": "2021-03-18T11:34:00.068808Z",
     "start_time": "2021-03-18T11:34:00.060950Z"
    }
   },
   "outputs": [
    {
     "data": {
      "text/plain": [
       "133440"
      ]
     },
     "execution_count": 2,
     "metadata": {},
     "output_type": "execute_result"
    }
   ],
   "source": [
    "def misura_secondi (giorni, ore, minuti):\n",
    "    r=0\n",
    "    r = r + minuti * 60\n",
    "    r = r + ore * 60 * 60\n",
    "    r = r + giorni * 60 * 60 * 24\n",
    "    return r\n",
    "misura_secondi(1,13,4)"
   ]
  }
 ],
 "metadata": {
  "kernelspec": {
   "display_name": "Python 3",
   "language": "python",
   "name": "python3"
  },
  "language_info": {
   "codemirror_mode": {
    "name": "ipython",
    "version": 3
   },
   "file_extension": ".py",
   "mimetype": "text/x-python",
   "name": "python",
   "nbconvert_exporter": "python",
   "pygments_lexer": "ipython3",
   "version": "3.7.4"
  },
  "toc": {
   "base_numbering": 1,
   "nav_menu": {},
   "number_sections": true,
   "sideBar": true,
   "skip_h1_title": false,
   "title_cell": "Table of Contents",
   "title_sidebar": "Contents",
   "toc_cell": false,
   "toc_position": {},
   "toc_section_display": true,
   "toc_window_display": false
  }
 },
 "nbformat": 4,
 "nbformat_minor": 4
}
