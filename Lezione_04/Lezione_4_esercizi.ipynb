{
 "cells": [
  {
   "cell_type": "markdown",
   "metadata": {},
   "source": [
    "## Divina Commedia"
   ]
  },
  {
   "cell_type": "markdown",
   "metadata": {},
   "source": [
    "Prendere la stringa **\"per me si va ne la città dolente, per me si va ne l’etterno dolore, per me si va tra la perduta gente.\"** e stamparla con print() in modo che appaia in questo modo.\n",
    "\n",
    "> *per me si va ne la città dolente,  \n",
    "per me si va ne l’etterno dolore,  \n",
    "per me si va tra la perduta gente.*\n",
    "\n",
    "Usare opportunamente la sequenza di escape **\\n** (*new line*).  \n",
    "Consiglio: l'inizio di ogni verso è lo stesso per tutti i versi. Inserisci **\"per me si va \"** in una variabile e usala quando serve in una f-string."
   ]
  },
  {
   "cell_type": "code",
   "execution_count": 1,
   "metadata": {
    "ExecuteTime": {
     "end_time": "2021-02-19T17:02:27.842071Z",
     "start_time": "2021-02-19T17:02:27.840111Z"
    }
   },
   "outputs": [],
   "source": [
    "# svolgimento"
   ]
  },
  {
   "cell_type": "markdown",
   "metadata": {},
   "source": [
    "## Filastrocca"
   ]
  },
  {
   "cell_type": "markdown",
   "metadata": {},
   "source": [
    "Prendere la stringa __\"Twinkle, twinkle, little star, How I wonder what you are! Up above the world so high, Like a diamond in the sky. Twinkle, twinkle, little star, How I wonder what you are\"__ e stamparla in modo che si presenti in questo modo:\n",
    "\n",
    "------\n",
    "\n",
    "```\n",
    "Twinkle, twinkle, little star,  \n",
    "    How I wonder what you are!  \n",
    "        Up above the world so high,   \n",
    "        Like a diamond in the sky.  \n",
    "Twinkle, twinkle, little star,  \n",
    "    How I wonder what you are  \n",
    "```\n",
    "\n",
    "---\n",
    "\n",
    "Usare opportunamente le sequenze di escape **\\n** (*new line*) e **\\t** (*tabulazione*)."
   ]
  },
  {
   "cell_type": "code",
   "execution_count": 5,
   "metadata": {
    "ExecuteTime": {
     "end_time": "2021-02-19T17:20:23.882318Z",
     "start_time": "2021-02-19T17:20:23.880366Z"
    }
   },
   "outputs": [],
   "source": [
    "# svolgimento"
   ]
  },
  {
   "cell_type": "markdown",
   "metadata": {},
   "source": [
    "## Nome retrogado"
   ]
  },
  {
   "cell_type": "markdown",
   "metadata": {},
   "source": [
    "Scrivi un programma che prenda in input il tuo nome e cognome (in due richiest successive) e li stampa in ordine inverso (dall'ultimo al primo carattere) separati da uno spazio"
   ]
  },
  {
   "cell_type": "code",
   "execution_count": 2,
   "metadata": {
    "ExecuteTime": {
     "end_time": "2021-02-19T22:25:22.995515Z",
     "start_time": "2021-02-19T22:25:22.988289Z"
    }
   },
   "outputs": [],
   "source": [
    "# svolgimento"
   ]
  },
  {
   "cell_type": "markdown",
   "metadata": {},
   "source": [
    "## Pari o dispari"
   ]
  },
  {
   "cell_type": "markdown",
   "metadata": {},
   "source": [
    "Scrivi un programma che prenda in input un numero intero e stampi se è un numero pari o un numero dispari.  \n",
    "Usare l'operatore modulo (%) e le istruzioni condizionali"
   ]
  },
  {
   "cell_type": "code",
   "execution_count": 4,
   "metadata": {
    "ExecuteTime": {
     "end_time": "2021-02-19T17:19:17.240401Z",
     "start_time": "2021-02-19T17:19:17.236788Z"
    }
   },
   "outputs": [],
   "source": [
    "# svolgimento"
   ]
  },
  {
   "cell_type": "markdown",
   "metadata": {},
   "source": [
    "## Prodotto e Somma"
   ]
  },
  {
   "cell_type": "markdown",
   "metadata": {},
   "source": [
    "Dati due interi, calcola il loro prodotto; se quest'ultimo è minore di 1000, stampalo, altrimenti stampa la somma dei due numei e stampala"
   ]
  },
  {
   "cell_type": "code",
   "execution_count": 6,
   "metadata": {
    "ExecuteTime": {
     "end_time": "2021-02-19T17:25:30.226138Z",
     "start_time": "2021-02-19T17:25:30.224248Z"
    }
   },
   "outputs": [],
   "source": [
    "# svolgimento"
   ]
  },
  {
   "cell_type": "markdown",
   "metadata": {},
   "source": [
    "## Indici di stringhe"
   ]
  },
  {
   "cell_type": "markdown",
   "metadata": {},
   "source": [
    "Data la stringa **supercalifragilistichespiralidoso**, restituisci una stringa formata dai soli caratteri il cui indice è dispari (lo 0 è considerato pari).   \n",
    "Usa la tecnica dello *slicing*."
   ]
  },
  {
   "cell_type": "code",
   "execution_count": 8,
   "metadata": {
    "ExecuteTime": {
     "end_time": "2021-02-19T17:29:17.262399Z",
     "start_time": "2021-02-19T17:29:17.258633Z"
    }
   },
   "outputs": [],
   "source": [
    "# svolgimento"
   ]
  },
  {
   "cell_type": "markdown",
   "metadata": {},
   "source": [
    "## Intervalli MIDI"
   ]
  },
  {
   "cell_type": "markdown",
   "metadata": {},
   "source": [
    "Dato il valore MIDI che rappresenta il \"Do centrale\" (60) e dato un altro valore MIDI in entrata (compreso fra 0 e 127), fornire in output l'intervallo fra i due valori.   \n",
    "**Trick**: per ottenere il valore assoluto di un numero, si può usare la funzione abs(numero). Il valore assoluto di un valore, è il valore privato del segno. Esempio: il valore assoluto di -10 è 10."
   ]
  },
  {
   "cell_type": "code",
   "execution_count": null,
   "metadata": {},
   "outputs": [],
   "source": [
    "# svolgimento"
   ]
  },
  {
   "cell_type": "markdown",
   "metadata": {},
   "source": [
    "## Accordo maggiore"
   ]
  },
  {
   "cell_type": "markdown",
   "metadata": {},
   "source": [
    "Prendi in input un valore midi (incluso fra 0 e 127) e stampa un accordo maggiore di 3 valori MIDI che abbia coma prima nota il valore in entrata e come seconda e terza nota la terza e quinta dell'accordo.   \n",
    "\n",
    "In semitoni, l'accordo maggiore è composto da tre note, una fondamentale, una terza (+4 semitoni rispetto alla fondamentale) e una quinta (+7 rispetto alla fondamentale)  "
   ]
  },
  {
   "cell_type": "code",
   "execution_count": 2,
   "metadata": {
    "ExecuteTime": {
     "end_time": "2021-02-19T22:46:45.470578Z",
     "start_time": "2021-02-19T22:46:45.464508Z"
    }
   },
   "outputs": [],
   "source": [
    "# svolgimento"
   ]
  }
 ],
 "metadata": {
  "kernelspec": {
   "display_name": "Python 3",
   "language": "python",
   "name": "python3"
  },
  "language_info": {
   "codemirror_mode": {
    "name": "ipython",
    "version": 3
   },
   "file_extension": ".py",
   "mimetype": "text/x-python",
   "name": "python",
   "nbconvert_exporter": "python",
   "pygments_lexer": "ipython3",
   "version": "3.7.6"
  },
  "toc": {
   "base_numbering": 1,
   "nav_menu": {},
   "number_sections": true,
   "sideBar": true,
   "skip_h1_title": false,
   "title_cell": "Table of Contents",
   "title_sidebar": "Contents",
   "toc_cell": false,
   "toc_position": {},
   "toc_section_display": true,
   "toc_window_display": false
  }
 },
 "nbformat": 4,
 "nbformat_minor": 2
}
