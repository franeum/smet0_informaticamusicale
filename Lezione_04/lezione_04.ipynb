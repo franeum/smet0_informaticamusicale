{
 "cells": [
  {
   "cell_type": "markdown",
   "metadata": {},
   "source": [
    "## Espressioni"
   ]
  },
  {
   "cell_type": "markdown",
   "metadata": {},
   "source": [
    "In Python un'espressione è tutto ciò che può essere valutato e che restituisce un oggetto"
   ]
  },
  {
   "cell_type": "code",
   "execution_count": 66,
   "metadata": {
    "ExecuteTime": {
     "end_time": "2021-02-17T18:33:10.555083Z",
     "start_time": "2021-02-17T18:33:10.548723Z"
    }
   },
   "outputs": [
    {
     "data": {
      "text/plain": [
       "78.0"
      ]
     },
     "execution_count": 66,
     "metadata": {},
     "output_type": "execute_result"
    }
   ],
   "source": [
    "(4 + 8) * 13 / 2 # espressione formata da 4 interi e 3 operatori, \n",
    "                # resistuisce un oggetto di tipo float"
   ]
  },
  {
   "cell_type": "markdown",
   "metadata": {},
   "source": [
    "### Espressioni booleane"
   ]
  },
  {
   "cell_type": "markdown",
   "metadata": {},
   "source": [
    "Un'espressione booleana è un'espressione che può resistuire solo due valori: **True** o **False**.  \n",
    "Si ottiene mettendo a confronto due o più espressioni, tramite gli operatori di confronto."
   ]
  },
  {
   "cell_type": "code",
   "execution_count": 67,
   "metadata": {
    "ExecuteTime": {
     "end_time": "2021-02-17T18:35:49.514837Z",
     "start_time": "2021-02-17T18:35:49.508351Z"
    }
   },
   "outputs": [
    {
     "data": {
      "text/plain": [
       "True"
      ]
     },
     "execution_count": 67,
     "metadata": {},
     "output_type": "execute_result"
    }
   ],
   "source": [
    "10 > 5 # espressione formata da due interi e un operatore di confronto (maggiore di)"
   ]
  },
  {
   "cell_type": "code",
   "execution_count": 68,
   "metadata": {
    "ExecuteTime": {
     "end_time": "2021-02-17T18:36:00.839456Z",
     "start_time": "2021-02-17T18:36:00.834253Z"
    }
   },
   "outputs": [
    {
     "data": {
      "text/plain": [
       "False"
      ]
     },
     "execution_count": 68,
     "metadata": {},
     "output_type": "execute_result"
    }
   ],
   "source": [
    "10 < 5"
   ]
  },
  {
   "cell_type": "markdown",
   "metadata": {},
   "source": [
    "| simbolo | funzione |\n",
    "|---|---|\n",
    "|==|uguale a|\n",
    "|!=|diverso da|\n",
    "|<|minore di|\n",
    "|>|maggiore di|\n",
    "|<=|minore o uguale a|\n",
    "|>=|maggiore o uguale a|"
   ]
  },
  {
   "cell_type": "code",
   "execution_count": 74,
   "metadata": {
    "ExecuteTime": {
     "end_time": "2021-02-17T18:56:40.028908Z",
     "start_time": "2021-02-17T18:56:40.026186Z"
    }
   },
   "outputs": [],
   "source": [
    "x = 5\n",
    "y = 10"
   ]
  },
  {
   "cell_type": "code",
   "execution_count": 75,
   "metadata": {
    "ExecuteTime": {
     "end_time": "2021-02-17T18:56:48.592029Z",
     "start_time": "2021-02-17T18:56:48.586630Z"
    }
   },
   "outputs": [
    {
     "data": {
      "text/plain": [
       "True"
      ]
     },
     "execution_count": 75,
     "metadata": {},
     "output_type": "execute_result"
    }
   ],
   "source": [
    "x < y"
   ]
  },
  {
   "cell_type": "code",
   "execution_count": 76,
   "metadata": {
    "ExecuteTime": {
     "end_time": "2021-02-17T18:56:54.338272Z",
     "start_time": "2021-02-17T18:56:54.332082Z"
    }
   },
   "outputs": [
    {
     "data": {
      "text/plain": [
       "False"
      ]
     },
     "execution_count": 76,
     "metadata": {},
     "output_type": "execute_result"
    }
   ],
   "source": [
    "x == y"
   ]
  },
  {
   "cell_type": "markdown",
   "metadata": {},
   "source": [
    "## Stringhe"
   ]
  },
  {
   "cell_type": "markdown",
   "metadata": {},
   "source": [
    "### Definizione"
   ]
  },
  {
   "cell_type": "markdown",
   "metadata": {},
   "source": [
    "Sequenza **ordinata** e **indicizzata** di caratteri di lunghezza arbitraria, delimitata da apici singoli, virgolette, tripli apici singoli o triple virgolette"
   ]
  },
  {
   "cell_type": "code",
   "execution_count": null,
   "metadata": {},
   "outputs": [],
   "source": [
    "\"francesco\"\n",
    "'francesco'\n",
    "'''francesco'''\n",
    "\"\"\"francesco\"\"\""
   ]
  },
  {
   "cell_type": "markdown",
   "metadata": {},
   "source": [
    "Se all'interno della stringa ho bisogno di rappresentare un apice o una virgoletta, uso come delimitatori dei simboli *diversi* da quelli presenti all'interno della stringa"
   ]
  },
  {
   "cell_type": "code",
   "execution_count": null,
   "metadata": {},
   "outputs": [],
   "source": [
    "\"ci vediamo all'una\""
   ]
  },
  {
   "cell_type": "code",
   "execution_count": null,
   "metadata": {},
   "outputs": [],
   "source": [
    "'ci vediamo all'una'"
   ]
  },
  {
   "cell_type": "code",
   "execution_count": null,
   "metadata": {},
   "outputs": [],
   "source": [
    "# con le triple virgolette posso scrivere stringhe multilinea:\n",
    "\"\"\"ci\n",
    "vediamo\n",
    "all'una\"\"\""
   ]
  },
  {
   "cell_type": "markdown",
   "metadata": {},
   "source": [
    "Una stringa è **ordinata**, quindi l'ordine dei caratteri conta"
   ]
  },
  {
   "cell_type": "code",
   "execution_count": 2,
   "metadata": {
    "ExecuteTime": {
     "end_time": "2021-02-17T15:07:02.171090Z",
     "start_time": "2021-02-17T15:07:02.164840Z"
    }
   },
   "outputs": [
    {
     "data": {
      "text/plain": [
       "False"
      ]
     },
     "execution_count": 2,
     "metadata": {},
     "output_type": "execute_result"
    }
   ],
   "source": [
    "\"ciao\" == \"caio\""
   ]
  },
  {
   "cell_type": "markdown",
   "metadata": {},
   "source": [
    "Una stringa è **indicizzata**, quindi ogni carattere ha una *posizione* detta **indice**, che inizia da 0 (zero) e che ci permette di accedere ai singoli caratteri tramite l'**operatore slice**\n",
    "\n",
    "Esempio, per la stringa **'ciao'**:  \n",
    "\n",
    "| index | carattere |\n",
    "| --- | --- |\n",
    "| 0 | 'c' |\n",
    "| 1 | 'i' |\n",
    "| 2 | 'a' |\n",
    "| 3 | 'o' |"
   ]
  },
  {
   "cell_type": "code",
   "execution_count": 40,
   "metadata": {
    "ExecuteTime": {
     "end_time": "2021-02-17T16:35:09.343516Z",
     "start_time": "2021-02-17T16:35:09.339826Z"
    }
   },
   "outputs": [],
   "source": [
    "nome = \"Sheldon\""
   ]
  },
  {
   "cell_type": "code",
   "execution_count": 41,
   "metadata": {
    "ExecuteTime": {
     "end_time": "2021-02-17T16:35:18.599909Z",
     "start_time": "2021-02-17T16:35:18.594003Z"
    }
   },
   "outputs": [
    {
     "data": {
      "text/plain": [
       "'S'"
      ]
     },
     "execution_count": 41,
     "metadata": {},
     "output_type": "execute_result"
    }
   ],
   "source": [
    "# il primo elemento ha indice 0:\n",
    "nome[0]"
   ]
  },
  {
   "cell_type": "code",
   "execution_count": 42,
   "metadata": {
    "ExecuteTime": {
     "end_time": "2021-02-17T16:35:19.886088Z",
     "start_time": "2021-02-17T16:35:19.880681Z"
    }
   },
   "outputs": [
    {
     "data": {
      "text/plain": [
       "'h'"
      ]
     },
     "execution_count": 42,
     "metadata": {},
     "output_type": "execute_result"
    }
   ],
   "source": [
    "# il secondo elemento ha indice 1\n",
    "nome[1]"
   ]
  },
  {
   "cell_type": "code",
   "execution_count": 43,
   "metadata": {
    "ExecuteTime": {
     "end_time": "2021-02-17T16:35:24.936088Z",
     "start_time": "2021-02-17T16:35:24.929405Z"
    }
   },
   "outputs": [
    {
     "data": {
      "text/plain": [
       "'n'"
      ]
     },
     "execution_count": 43,
     "metadata": {},
     "output_type": "execute_result"
    }
   ],
   "source": [
    "# l'ultimo elemento (in questo caso) ha indice 18\n",
    "nome[6]"
   ]
  },
  {
   "cell_type": "markdown",
   "metadata": {},
   "source": [
    "Per ottenere l'ultimo elemento posso anche (comodamente) dire a python di restituire \"il primo carattere dalla fine\", con la notazione a numeri negativi"
   ]
  },
  {
   "cell_type": "code",
   "execution_count": 44,
   "metadata": {
    "ExecuteTime": {
     "end_time": "2021-02-17T16:35:28.072341Z",
     "start_time": "2021-02-17T16:35:28.066272Z"
    }
   },
   "outputs": [
    {
     "data": {
      "text/plain": [
       "'n'"
      ]
     },
     "execution_count": 44,
     "metadata": {},
     "output_type": "execute_result"
    }
   ],
   "source": [
    "nome[-1] # ultimo carattere"
   ]
  },
  {
   "cell_type": "code",
   "execution_count": 45,
   "metadata": {
    "ExecuteTime": {
     "end_time": "2021-02-17T16:35:31.309877Z",
     "start_time": "2021-02-17T16:35:31.304154Z"
    }
   },
   "outputs": [
    {
     "data": {
      "text/plain": [
       "'o'"
      ]
     },
     "execution_count": 45,
     "metadata": {},
     "output_type": "execute_result"
    }
   ],
   "source": [
    "nome[-2] # il penultimo"
   ]
  },
  {
   "cell_type": "markdown",
   "metadata": {},
   "source": [
    "### Operatori su stringhe"
   ]
  },
  {
   "cell_type": "markdown",
   "metadata": {},
   "source": [
    "Sulle stringhe si può operare con due operatori:  \n",
    "\n",
    "l'operatore * (stringa * numero intero):"
   ]
  },
  {
   "cell_type": "code",
   "execution_count": 60,
   "metadata": {
    "ExecuteTime": {
     "end_time": "2021-02-17T18:01:41.103177Z",
     "start_time": "2021-02-17T18:01:41.096879Z"
    }
   },
   "outputs": [
    {
     "data": {
      "text/plain": [
       "'stringastringastringa'"
      ]
     },
     "execution_count": 60,
     "metadata": {},
     "output_type": "execute_result"
    }
   ],
   "source": [
    "\"stringa\" * 3"
   ]
  },
  {
   "cell_type": "markdown",
   "metadata": {},
   "source": [
    "l'operatore + (concatenamento, stringa + stringa):"
   ]
  },
  {
   "cell_type": "code",
   "execution_count": 61,
   "metadata": {
    "ExecuteTime": {
     "end_time": "2021-02-17T18:02:05.965033Z",
     "start_time": "2021-02-17T18:02:05.959793Z"
    }
   },
   "outputs": [
    {
     "data": {
      "text/plain": [
       "'stringa vuota'"
      ]
     },
     "execution_count": 61,
     "metadata": {},
     "output_type": "execute_result"
    }
   ],
   "source": [
    "\"stringa\" + \" vuota\""
   ]
  },
  {
   "cell_type": "code",
   "execution_count": 62,
   "metadata": {
    "ExecuteTime": {
     "end_time": "2021-02-17T18:04:50.235705Z",
     "start_time": "2021-02-17T18:04:50.229978Z"
    }
   },
   "outputs": [
    {
     "data": {
      "text/plain": [
       "'121212'"
      ]
     },
     "execution_count": 62,
     "metadata": {},
     "output_type": "execute_result"
    }
   ],
   "source": [
    "\"12\" * 3"
   ]
  },
  {
   "cell_type": "markdown",
   "metadata": {
    "heading_collapsed": true
   },
   "source": [
    "### Slicing"
   ]
  },
  {
   "cell_type": "markdown",
   "metadata": {
    "hidden": true
   },
   "source": [
    "L'operatore **slice** ci permette di selezionare non solo il singolo carattere di una stringa tramite il suo indice, ma anche intere porzioni di stringa (sotto-stringhe o **substrings**).  \n",
    "\n",
    "La seguente forma:\n",
    "\n",
    "```python\n",
    "stringa[start:stop]\n",
    "```\n",
    "\n",
    "dove *start* è l'indice del primo carattere e *stop* l'indice dell'ultimo carattere (escluso), ci permette di estrarre da *stringa* una sottostringa"
   ]
  },
  {
   "cell_type": "code",
   "execution_count": 25,
   "metadata": {
    "ExecuteTime": {
     "end_time": "2021-02-17T15:27:58.552498Z",
     "start_time": "2021-02-17T15:27:58.548641Z"
    },
    "hidden": true
   },
   "outputs": [],
   "source": [
    "s = \"usa la forza\""
   ]
  },
  {
   "cell_type": "code",
   "execution_count": 28,
   "metadata": {
    "ExecuteTime": {
     "end_time": "2021-02-17T15:30:27.978775Z",
     "start_time": "2021-02-17T15:30:27.972801Z"
    },
    "hidden": true
   },
   "outputs": [
    {
     "data": {
      "text/plain": [
       "'usa'"
      ]
     },
     "execution_count": 28,
     "metadata": {},
     "output_type": "execute_result"
    }
   ],
   "source": [
    "s[0:3] # ottengo la sottostringa di s inclusa fra il primo carattere (indice 0)\n",
    "        # e il quarto carattere (indice 3), escludendo quest'ultimo"
   ]
  },
  {
   "cell_type": "markdown",
   "metadata": {
    "hidden": true
   },
   "source": [
    "Esempio, rappresentiamo al stringa **'usa la forza'**\n",
    "\n",
    "|'u'|'s'|'a'|' '|'l'|'a'|' '|'f'|'o'|'r'|'z'|'a'|\n",
    "|---|---|---|---|---|---|---|---|---|---|---|---|\n",
    "|0|1|2|3|4|5|6|7|8|9|10|11|\n",
    "\n",
    "la forma **[0:3]** restituirà i caratteri dall'indice 0 all'indice 3 (escluso):  \n",
    "\n",
    "|'u'|'s'|'a'|\n",
    "|---|---|---|\n",
    "|0|1|2|"
   ]
  },
  {
   "cell_type": "code",
   "execution_count": 30,
   "metadata": {
    "ExecuteTime": {
     "end_time": "2021-02-17T15:30:44.472210Z",
     "start_time": "2021-02-17T15:30:44.465937Z"
    },
    "hidden": true
   },
   "outputs": [
    {
     "data": {
      "text/plain": [
       "'la'"
      ]
     },
     "execution_count": 30,
     "metadata": {},
     "output_type": "execute_result"
    }
   ],
   "source": [
    "s[4:6] # caratteri da 4 a 6, quindi il 4 e 5"
   ]
  },
  {
   "cell_type": "code",
   "execution_count": 32,
   "metadata": {
    "ExecuteTime": {
     "end_time": "2021-02-17T15:31:44.125933Z",
     "start_time": "2021-02-17T15:31:44.120017Z"
    },
    "hidden": true
   },
   "outputs": [
    {
     "data": {
      "text/plain": [
       "'forza'"
      ]
     },
     "execution_count": 32,
     "metadata": {},
     "output_type": "execute_result"
    }
   ],
   "source": [
    "# posso anche indicare solo il carattere di partenza\n",
    "s[7:] # prendo i caratteri \"dall'indice 7 in poi...\""
   ]
  },
  {
   "cell_type": "code",
   "execution_count": 39,
   "metadata": {
    "ExecuteTime": {
     "end_time": "2021-02-17T16:23:06.914999Z",
     "start_time": "2021-02-17T16:23:06.909464Z"
    },
    "hidden": true
   },
   "outputs": [
    {
     "data": {
      "text/plain": [
       "'usa la'"
      ]
     },
     "execution_count": 39,
     "metadata": {},
     "output_type": "execute_result"
    }
   ],
   "source": [
    "# ...o indicare solo il punto di arrivo\n",
    "s[:6] # prendo i caratteri dall'inizio fino all'indice 6"
   ]
  },
  {
   "cell_type": "code",
   "execution_count": null,
   "metadata": {
    "hidden": true
   },
   "outputs": [],
   "source": []
  },
  {
   "cell_type": "markdown",
   "metadata": {
    "hidden": true
   },
   "source": [
    "|'u'|'s'|'a'|' '|'l'|'a'|' '|'f'|'o'|'r'|'z'|'a'|\n",
    "|---|---|---|---|---|---|---|---|---|---|---|---|\n",
    "|0|1|2|3|4|5|6|7|8|9|10|11|\n",
    "\n",
    "|'u'||'a'||'l'||' '||'o'||'z'||\n",
    "|---|---|---|---|---|---|---|---|---|---|---|---|\n",
    "|0||2||4||6||8||10||"
   ]
  },
  {
   "cell_type": "markdown",
   "metadata": {
    "heading_collapsed": true
   },
   "source": [
    "### step"
   ]
  },
  {
   "cell_type": "markdown",
   "metadata": {
    "hidden": true
   },
   "source": [
    "L'operatore *slice* mette a disposizione un terzo parametro opzionale (*step*) che permeette di definire il *passo* con cui procedere nella lettura sequenziale dei caratteri\n",
    "\n",
    "La forma generale dell'operatore di slicing diventa quindi:\n",
    "\n",
    "```python\n",
    "stringa[start:stop:step]\n",
    "```"
   ]
  },
  {
   "cell_type": "markdown",
   "metadata": {
    "hidden": true
   },
   "source": [
    "Esempio: data la stringa **'slheeolndaornd'**, cosa otteniamo dallo slicing [0:14:2]?"
   ]
  },
  {
   "attachments": {
    "slicing_step01.png": {
     "image/png": "[encoded data removed]"
    }
   },
   "cell_type": "markdown",
   "metadata": {
    "hidden": true
   },
   "source": [
    "![slicing_step01.png](attachment:slicing_step01.png)"
   ]
  },
  {
   "attachments": {
    "slicing_step02.png": {
     "image/png": "[encoded data removed]"
    }
   },
   "cell_type": "markdown",
   "metadata": {
    "hidden": true
   },
   "source": [
    "![slicing_step02.png](attachment:slicing_step02.png)"
   ]
  },
  {
   "cell_type": "markdown",
   "metadata": {
    "hidden": true
   },
   "source": [
    "E dallo slicing [1:14:2]?"
   ]
  },
  {
   "attachments": {
    "slicing_step03.png": {
     "image/png": "[encoded data removed]"
    }
   },
   "cell_type": "markdown",
   "metadata": {
    "hidden": true
   },
   "source": [
    "![slicing_step03.png](attachment:slicing_step03.png)"
   ]
  },
  {
   "cell_type": "code",
   "execution_count": 56,
   "metadata": {
    "ExecuteTime": {
     "end_time": "2021-02-17T17:14:37.285870Z",
     "start_time": "2021-02-17T17:14:37.279833Z"
    },
    "hidden": true
   },
   "outputs": [
    {
     "name": "stdout",
     "output_type": "stream",
     "text": [
      "sheldon\n",
      "leonard\n"
     ]
    }
   ],
   "source": [
    "names = 'slheeolndaornd'\n",
    "print(names[0::2])\n",
    "print(names[1::2])"
   ]
  },
  {
   "cell_type": "markdown",
   "metadata": {},
   "source": [
    "## Esercizi"
   ]
  },
  {
   "cell_type": "code",
   "execution_count": null,
   "metadata": {},
   "outputs": [],
   "source": []
  }
 ],
 "metadata": {
  "kernelspec": {
   "display_name": "Python 3",
   "language": "python",
   "name": "python3"
  },
  "language_info": {
   "codemirror_mode": {
    "name": "ipython",
    "version": 3
   },
   "file_extension": ".py",
   "mimetype": "text/x-python",
   "name": "python",
   "nbconvert_exporter": "python",
   "pygments_lexer": "ipython3",
   "version": "3.7.4"
  }
 },
 "nbformat": 4,
 "nbformat_minor": 4
}
