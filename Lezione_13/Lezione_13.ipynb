{
 "cells": [
  {
   "cell_type": "markdown",
   "metadata": {},
   "source": [
    "## Riepilogo dizionari"
   ]
  },
  {
   "cell_type": "code",
   "execution_count": 25,
   "metadata": {
    "ExecuteTime": {
     "end_time": "2021-05-07T22:51:37.610225Z",
     "start_time": "2021-05-07T22:51:37.603137Z"
    }
   },
   "outputs": [],
   "source": [
    "###"
   ]
  },
  {
   "cell_type": "markdown",
   "metadata": {},
   "source": [
    "## Esercizio"
   ]
  },
  {
   "cell_type": "markdown",
   "metadata": {},
   "source": [
    "Creare un dizionario che contenga come chiavi i miei dati anagrafici: nome, cognome, eta, luogo di nascita. Esempio di output:"
   ]
  },
  {
   "cell_type": "code",
   "execution_count": 24,
   "metadata": {
    "ExecuteTime": {
     "end_time": "2021-05-07T22:45:25.132868Z",
     "start_time": "2021-05-07T22:45:25.122511Z"
    }
   },
   "outputs": [
    {
     "name": "stdout",
     "output_type": "stream",
     "text": [
      "{'nome': 'Sheldon', 'cognome': 'Cooper', 'eta': 30, 'luogo_di_nascita': 'Dallas'}\n"
     ]
    }
   ],
   "source": [
    "sheldon = {\n",
    "    'nome':'Sheldon',\n",
    "    'cognome':'Cooper',\n",
    "    'eta':30,\n",
    "    'luogo_di_nascita':'Dallas'\n",
    "}\n",
    "print(sheldon)"
   ]
  },
  {
   "cell_type": "markdown",
   "metadata": {},
   "source": [
    "## Esercizio"
   ]
  },
  {
   "cell_type": "markdown",
   "metadata": {},
   "source": [
    "Date le due liste:"
   ]
  },
  {
   "cell_type": "code",
   "execution_count": 1,
   "metadata": {
    "ExecuteTime": {
     "end_time": "2021-05-07T21:38:24.311168Z",
     "start_time": "2021-05-07T21:38:24.308007Z"
    }
   },
   "outputs": [],
   "source": [
    "nomi = ('Francesco','Dante','Giovanni')\n",
    "cognomi = ('Petrarca','Alighieri','Boccaccio')"
   ]
  },
  {
   "cell_type": "markdown",
   "metadata": {},
   "source": [
    "Restituire una lista di dizionari. All'interno di ogni dizionari si trovano due chiavi: 'nome' e 'cognome'. La lista in uscita sarà la seguente:\n",
    "\n",
    "```py\n",
    "[\n",
    "    {'nome':'Francesco', 'cognome':'Petrarca'},\n",
    "    {'nome':'Dante', 'cognome':'Alieghieri'},\n",
    "    {'nome':'Giovanni', 'cognome':'Boccaccio'}\n",
    "]\n",
    "```"
   ]
  },
  {
   "cell_type": "code",
   "execution_count": 2,
   "metadata": {
    "ExecuteTime": {
     "end_time": "2021-05-07T21:42:18.639278Z",
     "start_time": "2021-05-07T21:42:18.633782Z"
    }
   },
   "outputs": [],
   "source": [
    "# svolgimento"
   ]
  },
  {
   "cell_type": "markdown",
   "metadata": {},
   "source": [
    "## Esercizio"
   ]
  },
  {
   "cell_type": "markdown",
   "metadata": {},
   "source": [
    "Scrivere una funzione **numera_stringa()** che accetti come argomento una stringa e resituisca un dizionario in cui le chiavi sono le posizioni delle lettere (l'indice) e i valori sono le lettere stesse. \n",
    "\n",
    "Esempio:"
   ]
  },
  {
   "cell_type": "code",
   "execution_count": 6,
   "metadata": {
    "ExecuteTime": {
     "end_time": "2021-05-07T21:55:33.096912Z",
     "start_time": "2021-05-07T21:55:33.088265Z"
    }
   },
   "outputs": [
    {
     "data": {
      "text/plain": [
       "{0: 'F', 1: 'e', 2: 'l', 3: 'd', 4: 'm', 5: 'a', 6: 'n'}"
      ]
     },
     "execution_count": 6,
     "metadata": {},
     "output_type": "execute_result"
    }
   ],
   "source": [
    "{\n",
    "    0: 'F',\n",
    "    1: 'e',\n",
    "    2: 'l',\n",
    "    3: 'd',\n",
    "    4: 'm',\n",
    "    5: 'a',\n",
    "    6: 'n'\n",
    "}"
   ]
  },
  {
   "cell_type": "markdown",
   "metadata": {},
   "source": [
    "## Esercizio"
   ]
  },
  {
   "cell_type": "markdown",
   "metadata": {},
   "source": [
    "Scrivi una funzione list2delta() che accetta come argomento una lista di numeri, e restituisca una lista che rappresenti le differenze (delta) fra elementi adiacenti.\n",
    "\n",
    "Esempio:\n",
    "\n",
    "```py\n",
    ">>> list2delta([1,5,7,13,8])\n",
    ">>> [4, 2, 6, -5]\n",
    "```"
   ]
  },
  {
   "cell_type": "markdown",
   "metadata": {},
   "source": [
    "## Esercizio"
   ]
  },
  {
   "cell_type": "markdown",
   "metadata": {},
   "source": [
    "Scrivi una funzione delta2list() che accetti due argomenti: un numero e una lista di delta. \n",
    "In uscita ci sarà una lista che inizia col numero dato e abbia come elementi successivi i valori sommati a quelli della lista data.\n",
    "\n",
    "Esempio:\n",
    "\n",
    "```py\n",
    ">>> delta2list(10, [2,4,6,-3])\n",
    ">>> [10, 12, 16, 20, 17]\n",
    "```"
   ]
  },
  {
   "cell_type": "markdown",
   "metadata": {},
   "source": [
    "## Esercizio"
   ]
  },
  {
   "cell_type": "markdown",
   "metadata": {},
   "source": [
    "Scrivi una funzione **traslitterazione()** che accetti come argomento una lista di numeri interi e restituisca una lista con i valori corrispondenti espressi in lettere. Se un numero è maggiore di 9 verrà tradotto come 'troppo alto'"
   ]
  },
  {
   "cell_type": "markdown",
   "metadata": {},
   "source": [
    "```py\n",
    ">>> traslitterazione([1,3,6,9,15])\n",
    ">>> ['uno','tre','sei','nove','troppo alto]\n",
    "```"
   ]
  }
 ],
 "metadata": {
  "kernelspec": {
   "display_name": "Python 3",
   "language": "python",
   "name": "python3"
  },
  "language_info": {
   "codemirror_mode": {
    "name": "ipython",
    "version": 3
   },
   "file_extension": ".py",
   "mimetype": "text/x-python",
   "name": "python",
   "nbconvert_exporter": "python",
   "pygments_lexer": "ipython3",
   "version": "3.7.6"
  },
  "toc": {
   "base_numbering": 1,
   "nav_menu": {},
   "number_sections": true,
   "sideBar": true,
   "skip_h1_title": false,
   "title_cell": "Table of Contents",
   "title_sidebar": "Contents",
   "toc_cell": false,
   "toc_position": {},
   "toc_section_display": true,
   "toc_window_display": false
  }
 },
 "nbformat": 4,
 "nbformat_minor": 4
}
