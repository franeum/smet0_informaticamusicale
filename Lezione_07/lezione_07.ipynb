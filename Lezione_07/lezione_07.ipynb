{
 "cells": [
  {
   "cell_type": "markdown",
   "metadata": {},
   "source": [
    "# Funzioni"
   ]
  },
  {
   "cell_type": "markdown",
   "metadata": {},
   "source": [
    "Una funzione è un blocco di istruzioni che compiono azioni, costruito in modo da essere utilizzato più volte richiamandolo. Possono dipendere da argomenti che verranno indicati fra parentesi."
   ]
  },
  {
   "cell_type": "markdown",
   "metadata": {
    "heading_collapsed": true
   },
   "source": [
    "## Funzioni built-in"
   ]
  },
  {
   "cell_type": "markdown",
   "metadata": {
    "hidden": true
   },
   "source": [
    "Vediamo alcuni esempi, puoi usare help(nome_funzione) per avere più informazioni. Ad esempio help(len)"
   ]
  },
  {
   "cell_type": "code",
   "execution_count": 1,
   "metadata": {
    "ExecuteTime": {
     "end_time": "2021-03-13T13:43:59.138424Z",
     "start_time": "2021-03-13T13:43:59.127688Z"
    },
    "hidden": true
   },
   "outputs": [
    {
     "data": {
      "text/plain": [
       "4"
      ]
     },
     "execution_count": 1,
     "metadata": {},
     "output_type": "execute_result"
    }
   ],
   "source": [
    "len(\"ciao\")"
   ]
  },
  {
   "cell_type": "code",
   "execution_count": 2,
   "metadata": {
    "ExecuteTime": {
     "end_time": "2021-03-13T13:44:21.728076Z",
     "start_time": "2021-03-13T13:44:21.718216Z"
    },
    "hidden": true
   },
   "outputs": [
    {
     "data": {
      "text/plain": [
       "8"
      ]
     },
     "execution_count": 2,
     "metadata": {},
     "output_type": "execute_result"
    }
   ],
   "source": [
    "len([1,4,2,8,5,9,1,\"ciao\"])"
   ]
  },
  {
   "cell_type": "code",
   "execution_count": 4,
   "metadata": {
    "ExecuteTime": {
     "end_time": "2021-03-13T13:46:03.739011Z",
     "start_time": "2021-03-13T13:46:03.734349Z"
    },
    "hidden": true
   },
   "outputs": [],
   "source": [
    "a = [1,4,2,8,5,9,1,\"ciao\"]"
   ]
  },
  {
   "cell_type": "code",
   "execution_count": 5,
   "metadata": {
    "ExecuteTime": {
     "end_time": "2021-03-13T13:46:15.498208Z",
     "start_time": "2021-03-13T13:46:15.492434Z"
    },
    "hidden": true
   },
   "outputs": [
    {
     "data": {
      "text/plain": [
       "4"
      ]
     },
     "execution_count": 5,
     "metadata": {},
     "output_type": "execute_result"
    }
   ],
   "source": [
    "len(a[7])"
   ]
  },
  {
   "cell_type": "code",
   "execution_count": 6,
   "metadata": {
    "ExecuteTime": {
     "end_time": "2021-03-13T13:46:45.378353Z",
     "start_time": "2021-03-13T13:46:45.370988Z"
    },
    "hidden": true
   },
   "outputs": [
    {
     "data": {
      "text/plain": [
       "8"
      ]
     },
     "execution_count": 6,
     "metadata": {},
     "output_type": "execute_result"
    }
   ],
   "source": [
    "len([1,4,2,8,5,9,1,[1,5,8]])"
   ]
  },
  {
   "cell_type": "code",
   "execution_count": 3,
   "metadata": {
    "ExecuteTime": {
     "end_time": "2021-03-13T13:44:43.909205Z",
     "start_time": "2021-03-13T13:44:43.902012Z"
    },
    "hidden": true
   },
   "outputs": [
    {
     "name": "stdout",
     "output_type": "stream",
     "text": [
      "Help on built-in function len in module builtins:\n",
      "\n",
      "len(obj, /)\n",
      "    Return the number of items in a container.\n",
      "\n"
     ]
    }
   ],
   "source": [
    "help(len)"
   ]
  },
  {
   "cell_type": "code",
   "execution_count": 11,
   "metadata": {
    "ExecuteTime": {
     "end_time": "2021-03-13T13:47:58.356423Z",
     "start_time": "2021-03-13T13:47:58.352004Z"
    },
    "hidden": true
   },
   "outputs": [
    {
     "data": {
      "text/plain": [
       "'mondo'"
      ]
     },
     "execution_count": 11,
     "metadata": {},
     "output_type": "execute_result"
    }
   ],
   "source": [
    "max([\"aba\",\"mondo\",\"ciao\"])"
   ]
  },
  {
   "cell_type": "code",
   "execution_count": 12,
   "metadata": {
    "ExecuteTime": {
     "end_time": "2021-03-13T13:48:03.971026Z",
     "start_time": "2021-03-13T13:48:03.965934Z"
    },
    "hidden": true
   },
   "outputs": [
    {
     "name": "stdout",
     "output_type": "stream",
     "text": [
      "Help on built-in function max in module builtins:\n",
      "\n",
      "max(...)\n",
      "    max(iterable, *[, default=obj, key=func]) -> value\n",
      "    max(arg1, arg2, *args, *[, key=func]) -> value\n",
      "    \n",
      "    With a single iterable argument, return its biggest item. The\n",
      "    default keyword-only argument specifies an object to return if\n",
      "    the provided iterable is empty.\n",
      "    With two or more arguments, return the largest argument.\n",
      "\n"
     ]
    }
   ],
   "source": [
    "help(max)"
   ]
  },
  {
   "cell_type": "markdown",
   "metadata": {
    "heading_collapsed": true
   },
   "source": [
    "## Definire funzioni"
   ]
  },
  {
   "cell_type": "markdown",
   "metadata": {
    "hidden": true
   },
   "source": [
    "Possiamo definire nuove funzioni con la seguente sintassi:\n",
    "\n",
    "```python\n",
    "def nome_funzione(formal parameters):\n",
    "    \"\"\"docstring\"\"\"\n",
    "    # body\n",
    "    return valore_da_ritornare\n",
    "```\n",
    "\n",
    "Sicuramente una funzione conterrà l'istruzione di definizione(`def`) e un nome. Il resto è opzionale"
   ]
  },
  {
   "cell_type": "markdown",
   "metadata": {
    "hidden": true
   },
   "source": [
    "La funzione più semplice è la seguente"
   ]
  },
  {
   "cell_type": "code",
   "execution_count": 16,
   "metadata": {
    "ExecuteTime": {
     "end_time": "2021-03-13T13:50:47.560953Z",
     "start_time": "2021-03-13T13:50:47.557305Z"
    },
    "hidden": true
   },
   "outputs": [],
   "source": [
    "def non_faccio_nulla():\n",
    "    \"\"\"Sono una funzione pigra, non faccio niente\"\"\"\n",
    "    pass"
   ]
  },
  {
   "cell_type": "markdown",
   "metadata": {
    "ExecuteTime": {
     "end_time": "2021-03-12T23:17:27.634036Z",
     "start_time": "2021-03-12T23:17:27.624066Z"
    },
    "hidden": true
   },
   "source": [
    "`pass` è una dichiarazione che non fa nulla, serve come segnaposto per future implementazioni di funzioni, cicli, etc..."
   ]
  },
  {
   "cell_type": "markdown",
   "metadata": {
    "hidden": true
   },
   "source": [
    "Richiamo la funzione"
   ]
  },
  {
   "cell_type": "code",
   "execution_count": 17,
   "metadata": {
    "ExecuteTime": {
     "end_time": "2021-03-13T13:50:58.222178Z",
     "start_time": "2021-03-13T13:50:58.219196Z"
    },
    "hidden": true
   },
   "outputs": [],
   "source": [
    "non_faccio_nulla()"
   ]
  },
  {
   "cell_type": "code",
   "execution_count": 18,
   "metadata": {
    "ExecuteTime": {
     "end_time": "2021-03-13T13:51:09.524464Z",
     "start_time": "2021-03-13T13:51:09.519653Z"
    },
    "hidden": true
   },
   "outputs": [
    {
     "name": "stdout",
     "output_type": "stream",
     "text": [
      "Help on function non_faccio_nulla in module __main__:\n",
      "\n",
      "non_faccio_nulla()\n",
      "    Sono una funzione pigra, non faccio niente\n",
      "\n"
     ]
    }
   ],
   "source": [
    "help(non_faccio_nulla)"
   ]
  },
  {
   "cell_type": "markdown",
   "metadata": {
    "hidden": true
   },
   "source": [
    "Definiamo una funzione stampa_ciao_mondo() che stampa la stringa \"Ciao Mondo\""
   ]
  },
  {
   "cell_type": "code",
   "execution_count": 19,
   "metadata": {
    "ExecuteTime": {
     "end_time": "2021-03-13T13:52:15.543895Z",
     "start_time": "2021-03-13T13:52:15.535692Z"
    },
    "hidden": true
   },
   "outputs": [],
   "source": [
    "def stampa_ciao_mondo():\n",
    "    print(\"*\" * 20)\n",
    "    print(\"Ciao Mondo\")\n",
    "    print(\"*\" * 20)"
   ]
  },
  {
   "cell_type": "code",
   "execution_count": 20,
   "metadata": {
    "ExecuteTime": {
     "end_time": "2021-03-13T13:52:30.165007Z",
     "start_time": "2021-03-13T13:52:30.161101Z"
    },
    "hidden": true
   },
   "outputs": [
    {
     "name": "stdout",
     "output_type": "stream",
     "text": [
      "********************\n",
      "Ciao Mondo\n",
      "********************\n"
     ]
    }
   ],
   "source": [
    "stampa_ciao_mondo()"
   ]
  },
  {
   "cell_type": "markdown",
   "metadata": {
    "heading_collapsed": true
   },
   "source": [
    "## Funzioni che *ritornano* valori"
   ]
  },
  {
   "cell_type": "markdown",
   "metadata": {
    "hidden": true
   },
   "source": [
    "Le funzioni possono ritornare valori. Quando in una funzione si trova la la parola chiave `return`, significa che la funzione restituisce un valore (un numero, una stringa o un altro oggetto python)"
   ]
  },
  {
   "attachments": {
    "call_func.jpg": {
     "image/jpeg": "[encoded data removed]"
    }
   },
   "cell_type": "markdown",
   "metadata": {
    "hidden": true
   },
   "source": [
    "![call_func.jpg](attachment:call_func.jpg)"
   ]
  },
  {
   "cell_type": "markdown",
   "metadata": {
    "hidden": true
   },
   "source": [
    "Definiamo una funzione che restituisce il prodotto fra 12 e 15"
   ]
  },
  {
   "cell_type": "code",
   "execution_count": 24,
   "metadata": {
    "ExecuteTime": {
     "end_time": "2021-03-13T13:57:43.661289Z",
     "start_time": "2021-03-13T13:57:43.657346Z"
    },
    "hidden": true
   },
   "outputs": [],
   "source": [
    "def prod_12_15():\n",
    "    return 12 * 15"
   ]
  },
  {
   "cell_type": "code",
   "execution_count": 26,
   "metadata": {
    "ExecuteTime": {
     "end_time": "2021-03-13T13:57:59.104550Z",
     "start_time": "2021-03-13T13:57:59.100839Z"
    },
    "hidden": true
   },
   "outputs": [],
   "source": [
    "risultato = prod_12_15()"
   ]
  },
  {
   "cell_type": "code",
   "execution_count": 27,
   "metadata": {
    "ExecuteTime": {
     "end_time": "2021-03-13T13:58:04.950697Z",
     "start_time": "2021-03-13T13:58:04.946633Z"
    },
    "hidden": true
   },
   "outputs": [
    {
     "data": {
      "text/plain": [
       "180"
      ]
     },
     "execution_count": 27,
     "metadata": {},
     "output_type": "execute_result"
    }
   ],
   "source": [
    "risultato"
   ]
  },
  {
   "cell_type": "markdown",
   "metadata": {
    "heading_collapsed": true
   },
   "source": [
    "## Funzioni che accettano argomenti"
   ]
  },
  {
   "cell_type": "markdown",
   "metadata": {
    "hidden": true
   },
   "source": [
    "Le funzioni servono a `generalizzare` delle operazioni, quindi la funzione precedente (il prodotto fra 12 e 15) non ha molto senso, perché è estremamente specifica. Piuttosto potremmo scrivere una funzione che moltiplica due numeri QUALSIASI. Per questo si possono scrivere funzioni che accettano `argomenti`"
   ]
  },
  {
   "cell_type": "markdown",
   "metadata": {
    "hidden": true
   },
   "source": [
    "Definiamo una funzione che moltiplica 2 valori qualsiasi"
   ]
  },
  {
   "cell_type": "code",
   "execution_count": 30,
   "metadata": {
    "ExecuteTime": {
     "end_time": "2021-03-13T13:59:47.500412Z",
     "start_time": "2021-03-13T13:59:47.496326Z"
    },
    "hidden": true
   },
   "outputs": [],
   "source": [
    "def mult(numero1, numero2):\n",
    "    return numero1 * numero2"
   ]
  },
  {
   "cell_type": "markdown",
   "metadata": {
    "hidden": true
   },
   "source": [
    "chiamiamo la funzione con due argomenti numerici"
   ]
  },
  {
   "cell_type": "code",
   "execution_count": 31,
   "metadata": {
    "ExecuteTime": {
     "end_time": "2021-03-13T14:00:02.568952Z",
     "start_time": "2021-03-13T14:00:02.564311Z"
    },
    "hidden": true
   },
   "outputs": [
    {
     "data": {
      "text/plain": [
       "180"
      ]
     },
     "execution_count": 31,
     "metadata": {},
     "output_type": "execute_result"
    }
   ],
   "source": [
    "mult(12,15)"
   ]
  },
  {
   "cell_type": "code",
   "execution_count": 32,
   "metadata": {
    "ExecuteTime": {
     "end_time": "2021-03-13T14:00:16.113816Z",
     "start_time": "2021-03-13T14:00:16.108812Z"
    },
    "hidden": true
   },
   "outputs": [
    {
     "data": {
      "text/plain": [
       "286"
      ]
     },
     "execution_count": 32,
     "metadata": {},
     "output_type": "execute_result"
    }
   ],
   "source": [
    "mult(13,22)"
   ]
  },
  {
   "cell_type": "markdown",
   "metadata": {
    "hidden": true
   },
   "source": [
    "Definiamo una funzione che calcoli il quadrato di qualunque numero"
   ]
  },
  {
   "cell_type": "code",
   "execution_count": 33,
   "metadata": {
    "ExecuteTime": {
     "end_time": "2021-03-13T14:01:21.101756Z",
     "start_time": "2021-03-13T14:01:21.096484Z"
    },
    "hidden": true
   },
   "outputs": [],
   "source": [
    "def quadrato(numero):\n",
    "    quad = numero * numero\n",
    "    return quad"
   ]
  },
  {
   "cell_type": "code",
   "execution_count": 34,
   "metadata": {
    "ExecuteTime": {
     "end_time": "2021-03-13T14:01:32.993922Z",
     "start_time": "2021-03-13T14:01:32.989953Z"
    },
    "hidden": true
   },
   "outputs": [
    {
     "data": {
      "text/plain": [
       "10000"
      ]
     },
     "execution_count": 34,
     "metadata": {},
     "output_type": "execute_result"
    }
   ],
   "source": [
    "quadrato(100)"
   ]
  },
  {
   "cell_type": "code",
   "execution_count": 35,
   "metadata": {
    "ExecuteTime": {
     "end_time": "2021-03-13T14:01:56.718649Z",
     "start_time": "2021-03-13T14:01:56.714582Z"
    },
    "hidden": true
   },
   "outputs": [
    {
     "data": {
      "text/plain": [
       "156.25"
      ]
     },
     "execution_count": 35,
     "metadata": {},
     "output_type": "execute_result"
    }
   ],
   "source": [
    "quadrato(12.5)"
   ]
  },
  {
   "cell_type": "markdown",
   "metadata": {
    "hidden": true
   },
   "source": [
    "Usiamo la funzione quadrato() in un ciclo ```for``` per calcolare il quadrato dei primi 10 numeri naturali e immediatamente dopo calcolare il quadrato dei numeri daturali da 101 a 110"
   ]
  },
  {
   "cell_type": "code",
   "execution_count": 37,
   "metadata": {
    "ExecuteTime": {
     "end_time": "2021-03-13T14:03:52.574625Z",
     "start_time": "2021-03-13T14:03:52.561938Z"
    },
    "hidden": true
   },
   "outputs": [
    {
     "name": "stdout",
     "output_type": "stream",
     "text": [
      "1\n",
      "4\n",
      "9\n",
      "16\n",
      "25\n",
      "36\n",
      "49\n",
      "64\n",
      "81\n",
      "100\n",
      "10201\n",
      "10404\n",
      "10609\n",
      "10816\n",
      "11025\n",
      "11236\n",
      "11449\n",
      "11664\n",
      "11881\n",
      "12100\n"
     ]
    }
   ],
   "source": [
    "for n in range(1,11):\n",
    "    print(quadrato(n))\n",
    "    \n",
    "for n in range(101,111):\n",
    "    print(quadrato(n))"
   ]
  },
  {
   "cell_type": "markdown",
   "metadata": {
    "heading_collapsed": true
   },
   "source": [
    "## Esercizio"
   ]
  },
  {
   "cell_type": "markdown",
   "metadata": {
    "hidden": true
   },
   "source": [
    "scrivere una funzione che accetta come argomento un carattere e restituisce `True` se una vocale, `False` se non lo è"
   ]
  },
  {
   "cell_type": "code",
   "execution_count": 42,
   "metadata": {
    "ExecuteTime": {
     "end_time": "2021-03-13T14:09:11.256388Z",
     "start_time": "2021-03-13T14:09:11.251740Z"
    },
    "hidden": true
   },
   "outputs": [],
   "source": [
    "def vocale(carattere):\n",
    "    if carattere.lower() in 'aeiou':\n",
    "        return True\n",
    "    else:\n",
    "        return False"
   ]
  },
  {
   "cell_type": "code",
   "execution_count": 43,
   "metadata": {
    "ExecuteTime": {
     "end_time": "2021-03-13T14:09:13.283005Z",
     "start_time": "2021-03-13T14:09:13.279179Z"
    },
    "hidden": true
   },
   "outputs": [
    {
     "data": {
      "text/plain": [
       "True"
      ]
     },
     "execution_count": 43,
     "metadata": {},
     "output_type": "execute_result"
    }
   ],
   "source": [
    "vocale('A')"
   ]
  },
  {
   "cell_type": "markdown",
   "metadata": {
    "hidden": true
   },
   "source": [
    "versione sintetica:"
   ]
  },
  {
   "cell_type": "code",
   "execution_count": 44,
   "metadata": {
    "ExecuteTime": {
     "end_time": "2021-03-13T14:09:56.094442Z",
     "start_time": "2021-03-13T14:09:56.089947Z"
    },
    "hidden": true
   },
   "outputs": [],
   "source": [
    "def vocale2(carattere):\n",
    "    return carattere.lower() in 'aeiou'"
   ]
  },
  {
   "cell_type": "code",
   "execution_count": 46,
   "metadata": {
    "ExecuteTime": {
     "end_time": "2021-03-13T14:10:07.092490Z",
     "start_time": "2021-03-13T14:10:07.085578Z"
    },
    "hidden": true
   },
   "outputs": [
    {
     "data": {
      "text/plain": [
       "False"
      ]
     },
     "execution_count": 46,
     "metadata": {},
     "output_type": "execute_result"
    }
   ],
   "source": [
    "vocale2('b')"
   ]
  },
  {
   "cell_type": "markdown",
   "metadata": {
    "heading_collapsed": true
   },
   "source": [
    "## Esercizio"
   ]
  },
  {
   "cell_type": "markdown",
   "metadata": {
    "hidden": true
   },
   "source": [
    "Scrivi una funzione a cui viene passata una parola e riconosce se si tratta di un palindromo. Un palindromo è una parola che è uguale in qualunque senso si legga (originale o inversa).\n",
    "Esempio: \"anna\" è un palindromio, \"antonio\" no"
   ]
  },
  {
   "cell_type": "code",
   "execution_count": 47,
   "metadata": {
    "ExecuteTime": {
     "end_time": "2021-03-13T14:11:42.332899Z",
     "start_time": "2021-03-13T14:11:42.327124Z"
    },
    "hidden": true
   },
   "outputs": [
    {
     "data": {
      "text/plain": [
       "'oaic'"
      ]
     },
     "execution_count": 47,
     "metadata": {},
     "output_type": "execute_result"
    }
   ],
   "source": [
    "\"ciao\"[::-1]"
   ]
  },
  {
   "cell_type": "markdown",
   "metadata": {},
   "source": [
    "## Esercizio"
   ]
  },
  {
   "cell_type": "markdown",
   "metadata": {
    "ExecuteTime": {
     "end_time": "2021-03-13T00:06:25.732402Z",
     "start_time": "2021-03-13T00:06:25.719850Z"
    }
   },
   "source": [
    "Scrivere una funzione che ritorni la lunghezza di una lista (senza usare la funzione `len`). La funzione, ovviamente, accetterà una lista come argomento."
   ]
  },
  {
   "cell_type": "code",
   "execution_count": 13,
   "metadata": {
    "ExecuteTime": {
     "end_time": "2021-03-13T15:07:29.415539Z",
     "start_time": "2021-03-13T15:07:29.405885Z"
    }
   },
   "outputs": [],
   "source": [
    "def length(values):\n",
    "    \"\"\"ritorna la lunghezza di una lista\"\"\"\n",
    "    counter = 0\n",
    "    \n",
    "    for element in values:\n",
    "        print(element, \"aggiungo 1 al contatore, che ora vale\", counter + 1)\n",
    "        counter = counter + 1\n",
    "        \n",
    "    return counter"
   ]
  },
  {
   "cell_type": "code",
   "execution_count": 15,
   "metadata": {
    "ExecuteTime": {
     "end_time": "2021-03-13T15:08:15.790076Z",
     "start_time": "2021-03-13T15:08:15.779554Z"
    }
   },
   "outputs": [
    {
     "name": "stdout",
     "output_type": "stream",
     "text": [
      "1 aggiungo 1 al contatore, che ora vale 1\n",
      "3 aggiungo 1 al contatore, che ora vale 2\n",
      "2 aggiungo 1 al contatore, che ora vale 3\n",
      "6 aggiungo 1 al contatore, che ora vale 4\n",
      "4 aggiungo 1 al contatore, che ora vale 5\n",
      "8 aggiungo 1 al contatore, che ora vale 6\n",
      "65 aggiungo 1 al contatore, che ora vale 7\n",
      "5 aggiungo 1 al contatore, che ora vale 8\n",
      "3 aggiungo 1 al contatore, che ora vale 9\n",
      "3 aggiungo 1 al contatore, che ora vale 10\n",
      "7 aggiungo 1 al contatore, che ora vale 11\n",
      "12 aggiungo 1 al contatore, che ora vale 12\n",
      "ciao aggiungo 1 al contatore, che ora vale 13\n",
      "[1, 2, 3] aggiungo 1 al contatore, che ora vale 14\n"
     ]
    },
    {
     "data": {
      "text/plain": [
       "14"
      ]
     },
     "execution_count": 15,
     "metadata": {},
     "output_type": "execute_result"
    }
   ],
   "source": [
    "length([1,3,2,6,4,8,65,5,3,3,7,12,\"ciao\",[1,2,3]])"
   ]
  },
  {
   "cell_type": "code",
   "execution_count": 16,
   "metadata": {
    "ExecuteTime": {
     "end_time": "2021-03-13T15:09:06.599338Z",
     "start_time": "2021-03-13T15:09:06.589843Z"
    }
   },
   "outputs": [
    {
     "name": "stdout",
     "output_type": "stream",
     "text": [
      "s aggiungo 1 al contatore, che ora vale 1\n",
      "u aggiungo 1 al contatore, che ora vale 2\n",
      "p aggiungo 1 al contatore, che ora vale 3\n",
      "e aggiungo 1 al contatore, che ora vale 4\n",
      "r aggiungo 1 al contatore, che ora vale 5\n",
      "c aggiungo 1 al contatore, che ora vale 6\n",
      "a aggiungo 1 al contatore, che ora vale 7\n",
      "z aggiungo 1 al contatore, che ora vale 8\n",
      "z aggiungo 1 al contatore, che ora vale 9\n",
      "o aggiungo 1 al contatore, che ora vale 10\n",
      "l aggiungo 1 al contatore, che ora vale 11\n",
      "a aggiungo 1 al contatore, che ora vale 12\n"
     ]
    },
    {
     "data": {
      "text/plain": [
       "12"
      ]
     },
     "execution_count": 16,
     "metadata": {},
     "output_type": "execute_result"
    }
   ],
   "source": [
    "length(\"supercazzola\")"
   ]
  },
  {
   "cell_type": "code",
   "execution_count": null,
   "metadata": {},
   "outputs": [],
   "source": []
  },
  {
   "cell_type": "code",
   "execution_count": 17,
   "metadata": {
    "ExecuteTime": {
     "end_time": "2021-03-13T15:13:44.971673Z",
     "start_time": "2021-03-13T15:13:44.967793Z"
    }
   },
   "outputs": [],
   "source": [
    "import random"
   ]
  },
  {
   "cell_type": "code",
   "execution_count": 29,
   "metadata": {
    "ExecuteTime": {
     "end_time": "2021-03-13T15:15:08.747621Z",
     "start_time": "2021-03-13T15:15:08.741525Z"
    }
   },
   "outputs": [
    {
     "data": {
      "text/plain": [
       "38"
      ]
     },
     "execution_count": 29,
     "metadata": {},
     "output_type": "execute_result"
    }
   ],
   "source": [
    "random.randint(1,100)"
   ]
  },
  {
   "cell_type": "code",
   "execution_count": 30,
   "metadata": {
    "ExecuteTime": {
     "end_time": "2021-03-13T15:15:36.076958Z",
     "start_time": "2021-03-13T15:15:36.072187Z"
    }
   },
   "outputs": [
    {
     "data": {
      "text/plain": [
       "0.2853529415209779"
      ]
     },
     "execution_count": 30,
     "metadata": {},
     "output_type": "execute_result"
    }
   ],
   "source": [
    "random.random()"
   ]
  },
  {
   "cell_type": "code",
   "execution_count": 37,
   "metadata": {
    "ExecuteTime": {
     "end_time": "2021-03-13T15:16:22.694992Z",
     "start_time": "2021-03-13T15:16:22.687036Z"
    }
   },
   "outputs": [
    {
     "data": {
      "text/plain": [
       "7"
      ]
     },
     "execution_count": 37,
     "metadata": {},
     "output_type": "execute_result"
    }
   ],
   "source": [
    "random.choice([1,5,7,9])"
   ]
  },
  {
   "cell_type": "code",
   "execution_count": 49,
   "metadata": {
    "ExecuteTime": {
     "end_time": "2021-03-13T15:21:08.630517Z",
     "start_time": "2021-03-13T15:21:08.623832Z"
    }
   },
   "outputs": [
    {
     "data": {
      "text/plain": [
       "[67, 71, 71, 60, 72, 62, 60, 71]"
      ]
     },
     "execution_count": 49,
     "metadata": {},
     "output_type": "execute_result"
    }
   ],
   "source": [
    "random.choices([60,62,64,65,67,69,71,72],k=8)"
   ]
  },
  {
   "cell_type": "code",
   "execution_count": 51,
   "metadata": {
    "ExecuteTime": {
     "end_time": "2021-03-13T15:22:49.186228Z",
     "start_time": "2021-03-13T15:22:49.182579Z"
    }
   },
   "outputs": [],
   "source": [
    "import time"
   ]
  },
  {
   "cell_type": "code",
   "execution_count": 53,
   "metadata": {
    "ExecuteTime": {
     "end_time": "2021-03-13T15:23:00.892228Z",
     "start_time": "2021-03-13T15:22:57.884241Z"
    }
   },
   "outputs": [
    {
     "name": "stdout",
     "output_type": "stream",
     "text": [
      "ciao\n",
      "mondo\n"
     ]
    }
   ],
   "source": [
    "print(\"ciao\")\n",
    "time.sleep(3)\n",
    "print(\"mondo\")"
   ]
  },
  {
   "cell_type": "code",
   "execution_count": 54,
   "metadata": {
    "ExecuteTime": {
     "end_time": "2021-03-13T15:24:32.283939Z",
     "start_time": "2021-03-13T15:24:20.192502Z"
    }
   },
   "outputs": [
    {
     "name": "stdout",
     "output_type": "stream",
     "text": [
      "72\n",
      "64\n",
      "64\n",
      "64\n",
      "60\n",
      "69\n",
      "67\n",
      "72\n",
      "62\n",
      "60\n",
      "65\n",
      "62\n",
      "72\n",
      "67\n",
      "64\n",
      "65\n",
      "72\n",
      "65\n",
      "69\n",
      "69\n",
      "72\n",
      "67\n",
      "62\n",
      "64\n"
     ]
    }
   ],
   "source": [
    "for i in range(24):\n",
    "    print(random.choice([60,62,64,65,67,69,71,72]))\n",
    "    time.sleep(0.5)"
   ]
  },
  {
   "cell_type": "code",
   "execution_count": null,
   "metadata": {},
   "outputs": [],
   "source": []
  },
  {
   "cell_type": "code",
   "execution_count": null,
   "metadata": {},
   "outputs": [],
   "source": []
  },
  {
   "cell_type": "code",
   "execution_count": 5,
   "metadata": {
    "ExecuteTime": {
     "end_time": "2021-03-13T14:54:39.377948Z",
     "start_time": "2021-03-13T14:54:39.371966Z"
    }
   },
   "outputs": [],
   "source": [
    "a = [1,6,4,3,8,7,5,34]"
   ]
  },
  {
   "cell_type": "code",
   "execution_count": 6,
   "metadata": {
    "ExecuteTime": {
     "end_time": "2021-03-13T14:54:55.302929Z",
     "start_time": "2021-03-13T14:54:55.300186Z"
    }
   },
   "outputs": [],
   "source": [
    "counter = 0"
   ]
  },
  {
   "cell_type": "code",
   "execution_count": null,
   "metadata": {},
   "outputs": [],
   "source": [
    "counter = counter + 1"
   ]
  },
  {
   "cell_type": "code",
   "execution_count": null,
   "metadata": {},
   "outputs": [],
   "source": [
    "return counter"
   ]
  },
  {
   "cell_type": "code",
   "execution_count": null,
   "metadata": {},
   "outputs": [],
   "source": []
  },
  {
   "cell_type": "code",
   "execution_count": null,
   "metadata": {},
   "outputs": [],
   "source": []
  },
  {
   "cell_type": "code",
   "execution_count": null,
   "metadata": {},
   "outputs": [],
   "source": []
  },
  {
   "cell_type": "code",
   "execution_count": null,
   "metadata": {},
   "outputs": [],
   "source": []
  },
  {
   "cell_type": "code",
   "execution_count": null,
   "metadata": {},
   "outputs": [],
   "source": []
  },
  {
   "cell_type": "code",
   "execution_count": null,
   "metadata": {},
   "outputs": [],
   "source": []
  },
  {
   "cell_type": "code",
   "execution_count": null,
   "metadata": {},
   "outputs": [],
   "source": []
  },
  {
   "cell_type": "code",
   "execution_count": null,
   "metadata": {},
   "outputs": [],
   "source": []
  },
  {
   "cell_type": "code",
   "execution_count": null,
   "metadata": {},
   "outputs": [],
   "source": []
  },
  {
   "cell_type": "code",
   "execution_count": null,
   "metadata": {},
   "outputs": [],
   "source": []
  },
  {
   "cell_type": "code",
   "execution_count": 55,
   "metadata": {
    "ExecuteTime": {
     "end_time": "2021-03-13T15:34:15.475117Z",
     "start_time": "2021-03-13T15:34:14.864953Z"
    }
   },
   "outputs": [
    {
     "name": "stdout",
     "output_type": "stream",
     "text": [
      "['Driver IAC Bus IAC 1', 'VMPK Input']\n"
     ]
    }
   ],
   "source": [
    "import time\n",
    "import rtmidi\n",
    "\n",
    "midiout = rtmidi.MidiOut()\n",
    "available_ports = midiout.get_ports()\n",
    "print(available_ports)\n",
    "\n",
    "if available_ports:\n",
    "    midiout.open_port(1)\n",
    "else:\n",
    "    midiout.open_virtual_port(\"My virtual output\")\n",
    "\n",
    "with midiout:\n",
    "    note_on = [0x90, 60, 112] # channel 1, middle C, velocity 112\n",
    "    note_off = [0x80, 60, 0]\n",
    "    midiout.send_message(note_on)\n",
    "    time.sleep(0.5)\n",
    "    midiout.send_message(note_off)\n",
    "    time.sleep(0.1)"
   ]
  },
  {
   "cell_type": "code",
   "execution_count": 1,
   "metadata": {
    "ExecuteTime": {
     "end_time": "2021-03-13T14:51:03.594623Z",
     "start_time": "2021-03-13T14:51:03.582025Z"
    }
   },
   "outputs": [
    {
     "data": {
      "text/plain": [
       "144"
      ]
     },
     "execution_count": 1,
     "metadata": {},
     "output_type": "execute_result"
    }
   ],
   "source": [
    "0x90"
   ]
  }
 ],
 "metadata": {
  "kernelspec": {
   "display_name": "Python 3",
   "language": "python",
   "name": "python3"
  },
  "language_info": {
   "codemirror_mode": {
    "name": "ipython",
    "version": 3
   },
   "file_extension": ".py",
   "mimetype": "text/x-python",
   "name": "python",
   "nbconvert_exporter": "python",
   "pygments_lexer": "ipython3",
   "version": "3.7.6"
  },
  "toc": {
   "base_numbering": 1,
   "nav_menu": {},
   "number_sections": true,
   "sideBar": true,
   "skip_h1_title": false,
   "title_cell": "Table of Contents",
   "title_sidebar": "Contents",
   "toc_cell": false,
   "toc_position": {},
   "toc_section_display": true,
   "toc_window_display": true
  }
 },
 "nbformat": 4,
 "nbformat_minor": 4
}
