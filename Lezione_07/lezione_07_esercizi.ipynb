{
 "cells": [
  {
   "cell_type": "markdown",
   "metadata": {
    "heading_collapsed": true
   },
   "source": [
    "# Esercizio"
   ]
  },
  {
   "cell_type": "markdown",
   "metadata": {
    "hidden": true
   },
   "source": [
    "Scrivi una funzione che stampi un grafico che mostri la lunghezza dei valori in una lista. Ogni numero costituirà una stringa formata dal simbolo `#`.\n",
    "Esempio, la lista `[1,5,12]` corrisponderà alle seguenti 3 stringhe:\n",
    "\n",
    "```\n",
    "*\n",
    "*****\n",
    "************\n",
    "```"
   ]
  },
  {
   "cell_type": "markdown",
   "metadata": {
    "heading_collapsed": true
   },
   "source": [
    "# Esercizio"
   ]
  },
  {
   "cell_type": "markdown",
   "metadata": {
    "hidden": true
   },
   "source": [
    "Scrivi una funzione denominata `lunghezze` che accetti una frase (come stringa) e che restituisca una lista con formata dalla lunghezza di ogni parola.\n",
    "\n",
    "Esempio: \n",
    "```python\n",
    "lunghezze(\"buongiorno a tutti voi\")\n",
    "\n",
    ">>> [10, 1, 5, 3]\n",
    "```"
   ]
  },
  {
   "cell_type": "markdown",
   "metadata": {
    "heading_collapsed": true
   },
   "source": [
    "# Esercizio"
   ]
  },
  {
   "cell_type": "markdown",
   "metadata": {
    "hidden": true
   },
   "source": [
    "Scrivi una funzione `multiplo` che determini se un numero sia multiplo di 2, 3, 5. La funzione deve stampare `2` nel primo caso, `3` nel secondo, `5` nel terzo e `False` in tutti gli altri casi.\n",
    "\n",
    "Esempio:\n",
    "```python\n",
    "multiplo(81)\n",
    "\n",
    ">>> 3\n",
    "```"
   ]
  },
  {
   "cell_type": "markdown",
   "metadata": {
    "heading_collapsed": true
   },
   "source": [
    "# Esercizio"
   ]
  },
  {
   "cell_type": "markdown",
   "metadata": {
    "hidden": true
   },
   "source": [
    "Scrivi una funzione `misura_secondi` che prende come argomenti 3 valori: `giorni`, `ore`, `minuti` e che restituisca la somma tra queste grandezze espressa in `secondi`\n",
    "\n",
    "Esempio:\n",
    "```python\n",
    "misura_secondi(1,13,4)\n",
    "\n",
    ">>> 133440\n",
    "```"
   ]
  }
 ],
 "metadata": {
  "kernelspec": {
   "display_name": "Python 3",
   "language": "python",
   "name": "python3"
  },
  "language_info": {
   "codemirror_mode": {
    "name": "ipython",
    "version": 3
   },
   "file_extension": ".py",
   "mimetype": "text/x-python",
   "name": "python",
   "nbconvert_exporter": "python",
   "pygments_lexer": "ipython3",
   "version": "3.7.6"
  },
  "toc": {
   "base_numbering": 1,
   "nav_menu": {},
   "number_sections": true,
   "sideBar": true,
   "skip_h1_title": false,
   "title_cell": "Table of Contents",
   "title_sidebar": "Contents",
   "toc_cell": false,
   "toc_position": {},
   "toc_section_display": true,
   "toc_window_display": false
  }
 },
 "nbformat": 4,
 "nbformat_minor": 4
}
