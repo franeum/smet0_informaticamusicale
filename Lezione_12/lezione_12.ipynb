{
 "cells": [
  {
   "cell_type": "markdown",
   "metadata": {},
   "source": [
    "# I Dizionari"
   ]
  },
  {
   "cell_type": "markdown",
   "metadata": {},
   "source": [
    "Il dizionario (*dict*) è un oggetto che contiene elementi formati da coppie chiave (*key*) e valore (*value*). Piè formalmente un dizionario permette di *mappare* chiavi in valori corrispondenti."
   ]
  },
  {
   "cell_type": "markdown",
   "metadata": {},
   "source": [
    "Creazione di un dizionario:"
   ]
  },
  {
   "cell_type": "code",
   "execution_count": 1,
   "metadata": {
    "ExecuteTime": {
     "end_time": "2021-04-24T13:03:21.938819Z",
     "start_time": "2021-04-24T13:03:21.934268Z"
    }
   },
   "outputs": [],
   "source": [
    "a = dict() # oppure:\n",
    "a = {}"
   ]
  },
  {
   "cell_type": "code",
   "execution_count": 2,
   "metadata": {
    "ExecuteTime": {
     "end_time": "2021-04-24T13:03:23.448347Z",
     "start_time": "2021-04-24T13:03:23.440331Z"
    }
   },
   "outputs": [
    {
     "data": {
      "text/plain": [
       "{}"
      ]
     },
     "execution_count": 2,
     "metadata": {},
     "output_type": "execute_result"
    }
   ],
   "source": [
    "a"
   ]
  },
  {
   "cell_type": "code",
   "execution_count": 3,
   "metadata": {
    "ExecuteTime": {
     "end_time": "2021-04-24T13:03:31.531681Z",
     "start_time": "2021-04-24T13:03:31.522324Z"
    }
   },
   "outputs": [
    {
     "data": {
      "text/plain": [
       "dict"
      ]
     },
     "execution_count": 3,
     "metadata": {},
     "output_type": "execute_result"
    }
   ],
   "source": [
    "type(a)"
   ]
  },
  {
   "cell_type": "code",
   "execution_count": 4,
   "metadata": {
    "ExecuteTime": {
     "end_time": "2021-04-24T13:04:04.020991Z",
     "start_time": "2021-04-24T13:04:04.014846Z"
    }
   },
   "outputs": [],
   "source": [
    "anagrafica = {\n",
    "    'nome':'sheldon',\n",
    "    'cognome':'cooper',\n",
    "    'eta':30\n",
    "}"
   ]
  },
  {
   "cell_type": "code",
   "execution_count": 5,
   "metadata": {
    "ExecuteTime": {
     "end_time": "2021-04-24T13:04:10.188889Z",
     "start_time": "2021-04-24T13:04:10.176179Z"
    }
   },
   "outputs": [
    {
     "data": {
      "text/plain": [
       "{'nome': 'sheldon', 'cognome': 'cooper', 'eta': 30}"
      ]
     },
     "execution_count": 5,
     "metadata": {},
     "output_type": "execute_result"
    }
   ],
   "source": [
    "anagrafica"
   ]
  },
  {
   "cell_type": "markdown",
   "metadata": {},
   "source": [
    "A differenza delle liste, in cui è possibile accedere a un valore dal suo indice, in un dizionare si accede ad un valore dalla sua chiave:"
   ]
  },
  {
   "cell_type": "code",
   "execution_count": 6,
   "metadata": {
    "ExecuteTime": {
     "end_time": "2021-04-24T13:05:02.890087Z",
     "start_time": "2021-04-24T13:05:02.883089Z"
    }
   },
   "outputs": [
    {
     "data": {
      "text/plain": [
       "'sheldon'"
      ]
     },
     "execution_count": 6,
     "metadata": {},
     "output_type": "execute_result"
    }
   ],
   "source": [
    "anagrafica['nome']"
   ]
  },
  {
   "cell_type": "markdown",
   "metadata": {},
   "source": [
    "Per conoscere le chiavi contenute in un dizionario:"
   ]
  },
  {
   "cell_type": "code",
   "execution_count": 7,
   "metadata": {
    "ExecuteTime": {
     "end_time": "2021-04-24T13:05:27.583293Z",
     "start_time": "2021-04-24T13:05:27.571150Z"
    }
   },
   "outputs": [
    {
     "data": {
      "text/plain": [
       "dict_keys(['nome', 'cognome', 'eta'])"
      ]
     },
     "execution_count": 7,
     "metadata": {},
     "output_type": "execute_result"
    }
   ],
   "source": [
    "anagrafica.keys()"
   ]
  },
  {
   "cell_type": "markdown",
   "metadata": {},
   "source": [
    "L'oggetto resistuito da questo metodo è un *iterabile*, cioè un oggetto su cui possiamo iterare con un ciclo, per esempio *for*:"
   ]
  },
  {
   "cell_type": "code",
   "execution_count": 8,
   "metadata": {
    "ExecuteTime": {
     "end_time": "2021-04-24T13:05:56.540148Z",
     "start_time": "2021-04-24T13:05:56.532499Z"
    }
   },
   "outputs": [
    {
     "name": "stdout",
     "output_type": "stream",
     "text": [
      "nome\n",
      "cognome\n",
      "eta\n"
     ]
    }
   ],
   "source": [
    "for k in anagrafica.keys():\n",
    "    print(k)"
   ]
  },
  {
   "cell_type": "code",
   "execution_count": 9,
   "metadata": {
    "ExecuteTime": {
     "end_time": "2021-04-24T13:06:49.885945Z",
     "start_time": "2021-04-24T13:06:49.878914Z"
    }
   },
   "outputs": [],
   "source": [
    "anagrafica['sesso'] = 'maschio'"
   ]
  },
  {
   "cell_type": "code",
   "execution_count": 10,
   "metadata": {
    "ExecuteTime": {
     "end_time": "2021-04-24T13:06:57.319585Z",
     "start_time": "2021-04-24T13:06:57.313767Z"
    }
   },
   "outputs": [
    {
     "data": {
      "text/plain": [
       "{'nome': 'sheldon', 'cognome': 'cooper', 'eta': 30, 'sesso': 'maschio'}"
      ]
     },
     "execution_count": 10,
     "metadata": {},
     "output_type": "execute_result"
    }
   ],
   "source": [
    "anagrafica"
   ]
  },
  {
   "cell_type": "markdown",
   "metadata": {},
   "source": [
    "Allo stesso modo, con un ciclo *for* possiamo estrarre tutti i valori associati alle chiavi, uno alla volta:"
   ]
  },
  {
   "cell_type": "code",
   "execution_count": 11,
   "metadata": {
    "ExecuteTime": {
     "end_time": "2021-04-24T13:07:45.991940Z",
     "start_time": "2021-04-24T13:07:45.977785Z"
    }
   },
   "outputs": [
    {
     "name": "stdout",
     "output_type": "stream",
     "text": [
      "nome sheldon\n",
      "cognome cooper\n",
      "eta 30\n",
      "sesso maschio\n"
     ]
    }
   ],
   "source": [
    "for k in anagrafica.keys():\n",
    "    print(k, anagrafica[k])"
   ]
  },
  {
   "cell_type": "markdown",
   "metadata": {},
   "source": [
    "Metodi importanti dei dizionari:"
   ]
  },
  {
   "cell_type": "code",
   "execution_count": 12,
   "metadata": {
    "ExecuteTime": {
     "end_time": "2021-04-24T13:08:02.680988Z",
     "start_time": "2021-04-24T13:08:02.675901Z"
    }
   },
   "outputs": [
    {
     "data": {
      "text/plain": [
       "dict_keys(['nome', 'cognome', 'eta', 'sesso'])"
      ]
     },
     "execution_count": 12,
     "metadata": {},
     "output_type": "execute_result"
    }
   ],
   "source": [
    "anagrafica.keys()"
   ]
  },
  {
   "cell_type": "code",
   "execution_count": 13,
   "metadata": {
    "ExecuteTime": {
     "end_time": "2021-04-24T13:08:09.713190Z",
     "start_time": "2021-04-24T13:08:09.707787Z"
    }
   },
   "outputs": [
    {
     "data": {
      "text/plain": [
       "dict_values(['sheldon', 'cooper', 30, 'maschio'])"
      ]
     },
     "execution_count": 13,
     "metadata": {},
     "output_type": "execute_result"
    }
   ],
   "source": [
    "anagrafica.values()"
   ]
  },
  {
   "cell_type": "code",
   "execution_count": 14,
   "metadata": {
    "ExecuteTime": {
     "end_time": "2021-04-24T13:08:28.324419Z",
     "start_time": "2021-04-24T13:08:28.317420Z"
    }
   },
   "outputs": [
    {
     "data": {
      "text/plain": [
       "dict_items([('nome', 'sheldon'), ('cognome', 'cooper'), ('eta', 30), ('sesso', 'maschio')])"
      ]
     },
     "execution_count": 14,
     "metadata": {},
     "output_type": "execute_result"
    }
   ],
   "source": [
    "anagrafica.items()"
   ]
  },
  {
   "cell_type": "code",
   "execution_count": 17,
   "metadata": {
    "ExecuteTime": {
     "end_time": "2021-04-24T13:09:32.239853Z",
     "start_time": "2021-04-24T13:09:32.232051Z"
    }
   },
   "outputs": [],
   "source": [
    "anagrafica[0] = \"ciao\""
   ]
  },
  {
   "cell_type": "code",
   "execution_count": 18,
   "metadata": {
    "ExecuteTime": {
     "end_time": "2021-04-24T13:09:34.133222Z",
     "start_time": "2021-04-24T13:09:34.120566Z"
    }
   },
   "outputs": [
    {
     "data": {
      "text/plain": [
       "{'nome': 'sheldon',\n",
       " 'cognome': 'cooper',\n",
       " 'eta': 30,\n",
       " 'sesso': 'maschio',\n",
       " 0: 'ciao'}"
      ]
     },
     "execution_count": 18,
     "metadata": {},
     "output_type": "execute_result"
    }
   ],
   "source": [
    "anagrafica"
   ]
  },
  {
   "cell_type": "code",
   "execution_count": 19,
   "metadata": {
    "ExecuteTime": {
     "end_time": "2021-04-24T13:10:54.380554Z",
     "start_time": "2021-04-24T13:10:54.375836Z"
    }
   },
   "outputs": [
    {
     "data": {
      "text/plain": [
       "['__class__',\n",
       " '__contains__',\n",
       " '__delattr__',\n",
       " '__delitem__',\n",
       " '__dir__',\n",
       " '__doc__',\n",
       " '__eq__',\n",
       " '__format__',\n",
       " '__ge__',\n",
       " '__getattribute__',\n",
       " '__getitem__',\n",
       " '__gt__',\n",
       " '__hash__',\n",
       " '__init__',\n",
       " '__init_subclass__',\n",
       " '__iter__',\n",
       " '__le__',\n",
       " '__len__',\n",
       " '__lt__',\n",
       " '__ne__',\n",
       " '__new__',\n",
       " '__reduce__',\n",
       " '__reduce_ex__',\n",
       " '__repr__',\n",
       " '__setattr__',\n",
       " '__setitem__',\n",
       " '__sizeof__',\n",
       " '__str__',\n",
       " '__subclasshook__',\n",
       " 'clear',\n",
       " 'copy',\n",
       " 'fromkeys',\n",
       " 'get',\n",
       " 'items',\n",
       " 'keys',\n",
       " 'pop',\n",
       " 'popitem',\n",
       " 'setdefault',\n",
       " 'update',\n",
       " 'values']"
      ]
     },
     "execution_count": 19,
     "metadata": {},
     "output_type": "execute_result"
    }
   ],
   "source": [
    "dir(anagrafica)"
   ]
  },
  {
   "cell_type": "markdown",
   "metadata": {},
   "source": [
    "Aggiungere un elemento a un dizionario:"
   ]
  },
  {
   "cell_type": "code",
   "execution_count": 20,
   "metadata": {
    "ExecuteTime": {
     "end_time": "2021-04-24T13:11:35.373736Z",
     "start_time": "2021-04-24T13:11:35.370049Z"
    }
   },
   "outputs": [],
   "source": [
    "anagrafica['citta'] = 'galveston'"
   ]
  },
  {
   "cell_type": "code",
   "execution_count": 21,
   "metadata": {
    "ExecuteTime": {
     "end_time": "2021-04-24T13:11:39.078293Z",
     "start_time": "2021-04-24T13:11:39.070990Z"
    }
   },
   "outputs": [
    {
     "data": {
      "text/plain": [
       "{'nome': 'sheldon',\n",
       " 'cognome': 'cooper',\n",
       " 'eta': 30,\n",
       " 'sesso': 'maschio',\n",
       " 0: 'ciao',\n",
       " 'citta': 'galveston'}"
      ]
     },
     "execution_count": 21,
     "metadata": {},
     "output_type": "execute_result"
    }
   ],
   "source": [
    "anagrafica"
   ]
  },
  {
   "cell_type": "code",
   "execution_count": 22,
   "metadata": {
    "ExecuteTime": {
     "end_time": "2021-04-24T13:12:33.954083Z",
     "start_time": "2021-04-24T13:12:33.951724Z"
    }
   },
   "outputs": [],
   "source": [
    "del anagrafica[0]"
   ]
  },
  {
   "cell_type": "code",
   "execution_count": 23,
   "metadata": {
    "ExecuteTime": {
     "end_time": "2021-04-24T13:12:38.024121Z",
     "start_time": "2021-04-24T13:12:38.006887Z"
    }
   },
   "outputs": [
    {
     "data": {
      "text/plain": [
       "{'nome': 'sheldon',\n",
       " 'cognome': 'cooper',\n",
       " 'eta': 30,\n",
       " 'sesso': 'maschio',\n",
       " 'citta': 'galveston'}"
      ]
     },
     "execution_count": 23,
     "metadata": {},
     "output_type": "execute_result"
    }
   ],
   "source": [
    "anagrafica"
   ]
  },
  {
   "cell_type": "markdown",
   "metadata": {},
   "source": [
    "Posso collezionare dizionari in una lista:"
   ]
  },
  {
   "cell_type": "code",
   "execution_count": 24,
   "metadata": {
    "ExecuteTime": {
     "end_time": "2021-04-24T13:14:50.361613Z",
     "start_time": "2021-04-24T13:14:50.355082Z"
    }
   },
   "outputs": [],
   "source": [
    "bbt = [\n",
    "    {\n",
    "        'nome':'sheldon',\n",
    "        'cognome':'cooper',\n",
    "        'citta':'galveston'\n",
    "    },\n",
    "    {\n",
    "        'nome':'leonard',\n",
    "        'cognome':'hofstadter',\n",
    "        'citta':'new jersey'\n",
    "    },\n",
    "    {\n",
    "        'nome':'rajesh',\n",
    "        'cognome':'koothrappali',\n",
    "        'citta':'new dehli'\n",
    "    },\n",
    "    {\n",
    "        'nome':'howard',\n",
    "        'cognome':'wolowitz',\n",
    "        'citta':'new york'\n",
    "    }\n",
    "]"
   ]
  },
  {
   "cell_type": "code",
   "execution_count": 25,
   "metadata": {
    "ExecuteTime": {
     "end_time": "2021-04-24T13:15:13.827235Z",
     "start_time": "2021-04-24T13:15:13.821821Z"
    }
   },
   "outputs": [
    {
     "name": "stdout",
     "output_type": "stream",
     "text": [
      "{'nome': 'sheldon', 'cognome': 'cooper', 'citta': 'galveston'}\n",
      "{'nome': 'leonard', 'cognome': 'hofstadter', 'citta': 'new jersey'}\n",
      "{'nome': 'rajesh', 'cognome': 'koothrappali', 'citta': 'new dehli'}\n",
      "{'nome': 'howard', 'cognome': 'wolowitz', 'citta': 'new york'}\n"
     ]
    }
   ],
   "source": [
    "for person in bbt:\n",
    "    print(person)"
   ]
  },
  {
   "cell_type": "code",
   "execution_count": 26,
   "metadata": {
    "ExecuteTime": {
     "end_time": "2021-04-24T13:17:44.639248Z",
     "start_time": "2021-04-24T13:17:44.632524Z"
    }
   },
   "outputs": [],
   "source": [
    "alpha = {\n",
    "    0: 'ciao',\n",
    "    1: {\n",
    "        'nome':'mbuto',\n",
    "        'cognome': 'antani'\n",
    "    }\n",
    "}"
   ]
  },
  {
   "cell_type": "code",
   "execution_count": 27,
   "metadata": {
    "ExecuteTime": {
     "end_time": "2021-04-24T13:17:47.756062Z",
     "start_time": "2021-04-24T13:17:47.748269Z"
    }
   },
   "outputs": [
    {
     "data": {
      "text/plain": [
       "{0: 'ciao', 1: {'nome': 'mbuto', 'cognome': 'antani'}}"
      ]
     },
     "execution_count": 27,
     "metadata": {},
     "output_type": "execute_result"
    }
   ],
   "source": [
    "alpha"
   ]
  },
  {
   "cell_type": "code",
   "execution_count": 28,
   "metadata": {
    "ExecuteTime": {
     "end_time": "2021-04-24T13:18:32.490099Z",
     "start_time": "2021-04-24T13:18:32.484264Z"
    }
   },
   "outputs": [
    {
     "data": {
      "text/plain": [
       "'mbuto'"
      ]
     },
     "execution_count": 28,
     "metadata": {},
     "output_type": "execute_result"
    }
   ],
   "source": [
    "alpha[1]['nome']"
   ]
  },
  {
   "cell_type": "code",
   "execution_count": null,
   "metadata": {},
   "outputs": [],
   "source": []
  },
  {
   "cell_type": "markdown",
   "metadata": {},
   "source": [
    "## Esercitazione"
   ]
  },
  {
   "cell_type": "markdown",
   "metadata": {},
   "source": [
    "Elencare tutti i nomi propri:"
   ]
  },
  {
   "cell_type": "code",
   "execution_count": 31,
   "metadata": {
    "ExecuteTime": {
     "end_time": "2021-04-24T13:20:52.580831Z",
     "start_time": "2021-04-24T13:20:52.573438Z"
    }
   },
   "outputs": [
    {
     "name": "stdout",
     "output_type": "stream",
     "text": [
      "sheldon cooper\n",
      "leonard hofstadter\n",
      "rajesh koothrappali\n",
      "howard wolowitz\n"
     ]
    }
   ],
   "source": [
    "for person in bbt:\n",
    "    print(person['nome'], person['cognome'])"
   ]
  },
  {
   "cell_type": "markdown",
   "metadata": {},
   "source": [
    "Elencare tutti i cognomi:"
   ]
  },
  {
   "cell_type": "code",
   "execution_count": 30,
   "metadata": {
    "ExecuteTime": {
     "end_time": "2021-04-24T13:20:33.366357Z",
     "start_time": "2021-04-24T13:20:33.361294Z"
    }
   },
   "outputs": [
    {
     "name": "stdout",
     "output_type": "stream",
     "text": [
      "cooper\n",
      "hofstadter\n",
      "koothrappali\n",
      "wolowitz\n"
     ]
    }
   ],
   "source": [
    "for person in bbt:\n",
    "    print(person['cognome'])"
   ]
  },
  {
   "cell_type": "markdown",
   "metadata": {},
   "source": [
    "## Eseritazione"
   ]
  },
  {
   "cell_type": "markdown",
   "metadata": {},
   "source": [
    "Elencare i nomi in ordine alfabetico. Usare il metodo **.sort()** o la funzione **sorted()**"
   ]
  },
  {
   "cell_type": "code",
   "execution_count": 32,
   "metadata": {
    "ExecuteTime": {
     "end_time": "2021-04-24T13:23:29.659607Z",
     "start_time": "2021-04-24T13:23:29.654282Z"
    }
   },
   "outputs": [],
   "source": [
    "nomi = []\n",
    "\n",
    "for person in bbt:\n",
    "    nomi.append(person['nome'])"
   ]
  },
  {
   "cell_type": "code",
   "execution_count": 33,
   "metadata": {
    "ExecuteTime": {
     "end_time": "2021-04-24T13:23:32.604243Z",
     "start_time": "2021-04-24T13:23:32.599706Z"
    }
   },
   "outputs": [
    {
     "data": {
      "text/plain": [
       "['sheldon', 'leonard', 'rajesh', 'howard']"
      ]
     },
     "execution_count": 33,
     "metadata": {},
     "output_type": "execute_result"
    }
   ],
   "source": [
    "nomi"
   ]
  },
  {
   "cell_type": "code",
   "execution_count": 34,
   "metadata": {
    "ExecuteTime": {
     "end_time": "2021-04-24T13:23:51.645544Z",
     "start_time": "2021-04-24T13:23:51.642519Z"
    }
   },
   "outputs": [],
   "source": [
    "nomi.sort()"
   ]
  },
  {
   "cell_type": "code",
   "execution_count": 35,
   "metadata": {
    "ExecuteTime": {
     "end_time": "2021-04-24T13:23:57.328143Z",
     "start_time": "2021-04-24T13:23:57.322550Z"
    }
   },
   "outputs": [
    {
     "data": {
      "text/plain": [
       "['howard', 'leonard', 'rajesh', 'sheldon']"
      ]
     },
     "execution_count": 35,
     "metadata": {},
     "output_type": "execute_result"
    }
   ],
   "source": [
    "nomi"
   ]
  },
  {
   "cell_type": "code",
   "execution_count": 36,
   "metadata": {
    "ExecuteTime": {
     "end_time": "2021-04-24T13:24:13.804057Z",
     "start_time": "2021-04-24T13:24:13.795280Z"
    }
   },
   "outputs": [
    {
     "name": "stdout",
     "output_type": "stream",
     "text": [
      "howard\n",
      "leonard\n",
      "rajesh\n",
      "sheldon\n"
     ]
    }
   ],
   "source": [
    "for nome in nomi:\n",
    "    print(nome)"
   ]
  },
  {
   "cell_type": "markdown",
   "metadata": {},
   "source": [
    "# Creare dizionari programmaticamente"
   ]
  },
  {
   "cell_type": "markdown",
   "metadata": {},
   "source": [
    "Creiamo un dizionario con un algoritmo.  \n",
    "Vogliamo che il dizionario, che chiamaremo *quintupli*, abbia come chiave i primi 5 numeri interi e come valori i suoi quintupli.  \n",
    "Esempio:  \n",
    "\n",
    "```python\n",
    "{\n",
    "    1: 5,\n",
    "    2: 10,\n",
    "    3: 15,\n",
    "    4: 20,\n",
    "    5: 25\n",
    "}\n",
    "```"
   ]
  },
  {
   "cell_type": "code",
   "execution_count": 37,
   "metadata": {
    "ExecuteTime": {
     "end_time": "2021-04-24T13:25:36.735229Z",
     "start_time": "2021-04-24T13:25:36.724145Z"
    }
   },
   "outputs": [],
   "source": [
    "quintupli = {}"
   ]
  },
  {
   "cell_type": "code",
   "execution_count": 38,
   "metadata": {
    "ExecuteTime": {
     "end_time": "2021-04-24T13:26:38.198035Z",
     "start_time": "2021-04-24T13:26:38.186804Z"
    }
   },
   "outputs": [],
   "source": [
    "for n in range(1,6):\n",
    "    quintupli[n] = n * 5"
   ]
  },
  {
   "cell_type": "code",
   "execution_count": 39,
   "metadata": {
    "ExecuteTime": {
     "end_time": "2021-04-24T13:26:44.319119Z",
     "start_time": "2021-04-24T13:26:44.313934Z"
    }
   },
   "outputs": [
    {
     "data": {
      "text/plain": [
       "{1: 5, 2: 10, 3: 15, 4: 20, 5: 25}"
      ]
     },
     "execution_count": 39,
     "metadata": {},
     "output_type": "execute_result"
    }
   ],
   "source": [
    "quintupli"
   ]
  },
  {
   "cell_type": "code",
   "execution_count": null,
   "metadata": {},
   "outputs": [],
   "source": [
    "cittadini = [\n",
    "    {\n",
    "        'nome':\"\",\n",
    "        \n",
    "    }\n",
    "]"
   ]
  },
  {
   "cell_type": "markdown",
   "metadata": {},
   "source": [
    "# Importare il dataset sui 500 migliori album del XX secolo (secondo la rivista Rolling Stones)"
   ]
  },
  {
   "cell_type": "code",
   "execution_count": 1,
   "metadata": {
    "ExecuteTime": {
     "end_time": "2021-04-24T16:27:20.276447Z",
     "start_time": "2021-04-24T16:27:20.006476Z"
    }
   },
   "outputs": [],
   "source": [
    "import pandas as pd\n",
    "\n",
    "albums = pd.read_csv(\"albumlist.csv\")\n",
    "albums = albums.to_dict(orient='records')"
   ]
  },
  {
   "cell_type": "code",
   "execution_count": 2,
   "metadata": {
    "ExecuteTime": {
     "end_time": "2021-04-24T16:27:22.938665Z",
     "start_time": "2021-04-24T16:27:22.913118Z"
    }
   },
   "outputs": [
    {
     "data": {
      "text/plain": [
       "[{'Number': 1,\n",
       "  'Year': 1967,\n",
       "  'Album': \"Sgt. Pepper's Lonely Hearts Club Band\",\n",
       "  'Artist': 'The Beatles',\n",
       "  'Genre': 'Rock',\n",
       "  'Subgenre': 'Rock & Roll, Psychedelic Rock'},\n",
       " {'Number': 2,\n",
       "  'Year': 1966,\n",
       "  'Album': 'Pet Sounds',\n",
       "  'Artist': 'The Beach Boys',\n",
       "  'Genre': 'Rock',\n",
       "  'Subgenre': 'Pop Rock, Psychedelic Rock'},\n",
       " {'Number': 3,\n",
       "  'Year': 1966,\n",
       "  'Album': 'Revolver',\n",
       "  'Artist': 'The Beatles',\n",
       "  'Genre': 'Rock',\n",
       "  'Subgenre': 'Psychedelic Rock, Pop Rock'}]"
      ]
     },
     "execution_count": 2,
     "metadata": {},
     "output_type": "execute_result"
    }
   ],
   "source": [
    "albums[:3]"
   ]
  },
  {
   "cell_type": "code",
   "execution_count": 4,
   "metadata": {
    "ExecuteTime": {
     "end_time": "2021-04-24T13:51:03.447080Z",
     "start_time": "2021-04-24T13:51:03.434299Z"
    }
   },
   "outputs": [
    {
     "data": {
      "text/plain": [
       "500"
      ]
     },
     "execution_count": 4,
     "metadata": {},
     "output_type": "execute_result"
    }
   ],
   "source": [
    "len(albums)"
   ]
  },
  {
   "cell_type": "markdown",
   "metadata": {},
   "source": [
    "## Esercizio"
   ]
  },
  {
   "cell_type": "markdown",
   "metadata": {},
   "source": [
    "Qual è l'anno meno recente di pubblicazione? e il più recente?   \n",
    "- Suggerimento: a partire dal dizionario costruisci una lista con tutti gli anni di pubblicazione e poi usa le funzioni min() e max() per trovare il più vecchio e il più recente"
   ]
  },
  {
   "cell_type": "code",
   "execution_count": null,
   "metadata": {
    "ExecuteTime": {
     "end_time": "2021-04-23T21:21:15.618428Z",
     "start_time": "2021-04-23T21:21:15.613122Z"
    }
   },
   "outputs": [],
   "source": [
    "# svolgimento"
   ]
  },
  {
   "cell_type": "code",
   "execution_count": 8,
   "metadata": {
    "ExecuteTime": {
     "end_time": "2021-04-24T14:08:22.295107Z",
     "start_time": "2021-04-24T14:08:22.286650Z"
    }
   },
   "outputs": [],
   "source": [
    "anni = []\n",
    "\n",
    "for album in albums:\n",
    "    anni.append(album['Year'])"
   ]
  },
  {
   "cell_type": "code",
   "execution_count": 10,
   "metadata": {
    "ExecuteTime": {
     "end_time": "2021-04-24T14:08:39.904016Z",
     "start_time": "2021-04-24T14:08:39.900577Z"
    }
   },
   "outputs": [
    {
     "data": {
      "text/plain": [
       "2011"
      ]
     },
     "execution_count": 10,
     "metadata": {},
     "output_type": "execute_result"
    }
   ],
   "source": [
    "max(anni)"
   ]
  },
  {
   "cell_type": "code",
   "execution_count": 11,
   "metadata": {
    "ExecuteTime": {
     "end_time": "2021-04-24T14:08:45.802117Z",
     "start_time": "2021-04-24T14:08:45.790979Z"
    }
   },
   "outputs": [
    {
     "data": {
      "text/plain": [
       "1955"
      ]
     },
     "execution_count": 11,
     "metadata": {},
     "output_type": "execute_result"
    }
   ],
   "source": [
    "min(anni)"
   ]
  },
  {
   "cell_type": "code",
   "execution_count": 13,
   "metadata": {
    "ExecuteTime": {
     "end_time": "2021-04-24T14:10:37.594301Z",
     "start_time": "2021-04-24T14:10:37.590738Z"
    }
   },
   "outputs": [
    {
     "name": "stdout",
     "output_type": "stream",
     "text": [
      "Il disco più vecchio è del 1955\n",
      "Il disco più nuovo è del 2011\n"
     ]
    }
   ],
   "source": [
    "anni = []\n",
    "\n",
    "for al in albums:\n",
    "    anni.append(al['Year'])\n",
    "    \n",
    "print(\"Il disco più vecchio è del\", min(anni))\n",
    "print(\"Il disco più nuovo è del\", max(anni))"
   ]
  },
  {
   "cell_type": "markdown",
   "metadata": {},
   "source": [
    "## Esercizio"
   ]
  },
  {
   "cell_type": "markdown",
   "metadata": {},
   "source": [
    "Elenca tutti i generi presenti nella collezione, senza ripetizioni (la chiave per il genere, nel dizionario, è **Genre**)"
   ]
  },
  {
   "cell_type": "code",
   "execution_count": null,
   "metadata": {
    "ExecuteTime": {
     "end_time": "2021-04-23T21:27:10.691854Z",
     "start_time": "2021-04-23T21:27:10.682700Z"
    }
   },
   "outputs": [],
   "source": [
    "# svolgimento"
   ]
  },
  {
   "cell_type": "code",
   "execution_count": 14,
   "metadata": {
    "ExecuteTime": {
     "end_time": "2021-04-24T14:33:01.785370Z",
     "start_time": "2021-04-24T14:33:01.780114Z"
    }
   },
   "outputs": [],
   "source": [
    "generi = []\n",
    "\n",
    "for a in albums:\n",
    "    generi.append(a['Genre'])"
   ]
  },
  {
   "cell_type": "code",
   "execution_count": 16,
   "metadata": {
    "ExecuteTime": {
     "end_time": "2021-04-24T14:35:05.836829Z",
     "start_time": "2021-04-24T14:35:05.829943Z"
    }
   },
   "outputs": [],
   "source": [
    "generi_unique = []\n",
    "\n",
    "for gen in generi:\n",
    "    if gen not in generi_unique:\n",
    "        generi_unique.append(gen)"
   ]
  },
  {
   "cell_type": "code",
   "execution_count": 19,
   "metadata": {
    "ExecuteTime": {
     "end_time": "2021-04-24T14:35:36.613798Z",
     "start_time": "2021-04-24T14:35:36.606977Z"
    },
    "scrolled": true
   },
   "outputs": [
    {
     "data": {
      "text/plain": [
       "['Rock',\n",
       " 'Rock, Pop',\n",
       " 'Funk / Soul',\n",
       " 'Rock, Blues',\n",
       " 'Jazz',\n",
       " 'Jazz, Rock, Blues, Folk, World, & Country',\n",
       " 'Funk / Soul, Pop',\n",
       " 'Blues',\n",
       " 'Pop',\n",
       " 'Rock, Folk, World, & Country',\n",
       " 'Folk, World, & Country',\n",
       " 'Classical, Stage & Screen',\n",
       " 'Reggae',\n",
       " 'Hip Hop',\n",
       " 'Jazz, Funk / Soul',\n",
       " 'Rock, Funk / Soul, Pop',\n",
       " 'Electronic, Rock',\n",
       " 'Jazz, Rock, Funk / Soul, Folk, World, & Country',\n",
       " 'Jazz, Rock, Funk / Soul, Pop, Folk, World, & Country',\n",
       " 'Funk / Soul, Stage & Screen',\n",
       " 'Electronic, Rock, Funk / Soul, Stage & Screen',\n",
       " 'Rock, Funk / Soul',\n",
       " 'Rock, Reggae',\n",
       " 'Jazz, Pop',\n",
       " 'Funk / Soul, Folk, World, & Country',\n",
       " 'Latin, Funk / Soul',\n",
       " 'Funk / Soul, Blues',\n",
       " 'Reggae,�Pop,�Folk, World, & Country,�Stage & Screen',\n",
       " 'Electronic,�Stage & Screen',\n",
       " 'Jazz, Rock, Funk / Soul, Blues',\n",
       " 'Jazz, Rock',\n",
       " 'Rock, Latin, Funk / Soul',\n",
       " 'Electronic, Rock, Pop',\n",
       " 'Hip Hop, Rock, Funk / Soul',\n",
       " 'Electronic, Pop',\n",
       " 'Rock, Blues, Pop',\n",
       " 'Electronic, Rock, Funk / Soul, Pop',\n",
       " 'Rock, Funk / Soul, Folk, World, & Country',\n",
       " 'Rock,�Blues',\n",
       " 'Rock, Pop, Folk, World, & Country',\n",
       " 'Rock, Latin',\n",
       " 'Rock, Stage & Screen',\n",
       " 'Rock, Blues, Folk, World, & Country',\n",
       " 'Electronic',\n",
       " 'Electronic, Funk / Soul, Pop',\n",
       " 'Pop, Folk, World, & Country',\n",
       " 'Electronic, Hip Hop, Pop',\n",
       " 'Blues, Folk, World, & Country',\n",
       " 'Electronic, Hip Hop, Funk / Soul, Pop',\n",
       " 'Rock, Funk / Soul, Blues, Pop, Folk, World, & Country',\n",
       " 'Jazz, Pop, Folk, World, & Country',\n",
       " 'Jazz, Rock, Pop',\n",
       " 'Hip Hop, Funk / Soul',\n",
       " 'Hip Hop, Rock',\n",
       " 'Electronic, Hip Hop, Funk / Soul',\n",
       " 'Funk / Soul,�Folk, World, & Country',\n",
       " 'Electronic, Hip Hop, Reggae, Pop',\n",
       " 'Electronic, Reggae',\n",
       " 'Electronic, Funk / Soul',\n",
       " 'Rock, Funk / Soul, Blues',\n",
       " 'Rock,�Pop',\n",
       " 'Electronic, Rock, Funk / Soul, Blues, Pop',\n",
       " 'Rock, Reggae, Latin']"
      ]
     },
     "execution_count": 19,
     "metadata": {},
     "output_type": "execute_result"
    }
   ],
   "source": [
    "generi_unique"
   ]
  },
  {
   "cell_type": "code",
   "execution_count": 14,
   "metadata": {
    "ExecuteTime": {
     "end_time": "2021-04-24T16:56:57.574298Z",
     "start_time": "2021-04-24T16:56:57.570475Z"
    }
   },
   "outputs": [],
   "source": [
    "generi = []\n",
    "\n",
    "for a in albums:\n",
    "    generi.append(a['Genre'])"
   ]
  },
  {
   "cell_type": "markdown",
   "metadata": {
    "heading_collapsed": true
   },
   "source": [
    "## Esercizio"
   ]
  },
  {
   "cell_type": "markdown",
   "metadata": {
    "hidden": true
   },
   "source": [
    "Elenca tutti gli artisti in ordine alfabetico"
   ]
  },
  {
   "cell_type": "code",
   "execution_count": null,
   "metadata": {
    "ExecuteTime": {
     "end_time": "2021-04-23T21:27:59.724678Z",
     "start_time": "2021-04-23T21:27:59.718620Z"
    },
    "hidden": true
   },
   "outputs": [],
   "source": [
    "# svolgimento"
   ]
  }
 ],
 "metadata": {
  "kernelspec": {
   "display_name": "Python 3",
   "language": "python",
   "name": "python3"
  },
  "language_info": {
   "codemirror_mode": {
    "name": "ipython",
    "version": 3
   },
   "file_extension": ".py",
   "mimetype": "text/x-python",
   "name": "python",
   "nbconvert_exporter": "python",
   "pygments_lexer": "ipython3",
   "version": "3.7.4"
  },
  "toc": {
   "base_numbering": 1,
   "nav_menu": {},
   "number_sections": true,
   "sideBar": true,
   "skip_h1_title": false,
   "title_cell": "Table of Contents",
   "title_sidebar": "Contents",
   "toc_cell": false,
   "toc_position": {},
   "toc_section_display": true,
   "toc_window_display": false
  }
 },
 "nbformat": 4,
 "nbformat_minor": 4
}
