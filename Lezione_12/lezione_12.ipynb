{
 "cells": [
  {
   "cell_type": "markdown",
   "metadata": {
    "heading_collapsed": true
   },
   "source": [
    "# I Dizionari"
   ]
  },
  {
   "cell_type": "markdown",
   "metadata": {
    "hidden": true
   },
   "source": [
    "Il dizionario (*dict*) è un oggetto che contiene elementi formati da coppie chiave (*key*) e valore (*value*). Piè formalmente un dizionario permette di *mappare* chiavi in valori corrispondenti."
   ]
  },
  {
   "cell_type": "markdown",
   "metadata": {
    "hidden": true
   },
   "source": [
    "Creazione di un dizionario:"
   ]
  },
  {
   "cell_type": "code",
   "execution_count": null,
   "metadata": {
    "ExecuteTime": {
     "end_time": "2021-04-23T20:18:46.447574Z",
     "start_time": "2021-04-23T20:18:46.437156Z"
    },
    "hidden": true
   },
   "outputs": [],
   "source": [
    "a = dict() # oppure:\n",
    "a = {}"
   ]
  },
  {
   "cell_type": "code",
   "execution_count": null,
   "metadata": {
    "ExecuteTime": {
     "end_time": "2021-04-23T20:18:49.281362Z",
     "start_time": "2021-04-23T20:18:49.268815Z"
    },
    "hidden": true
   },
   "outputs": [],
   "source": [
    "a"
   ]
  },
  {
   "cell_type": "code",
   "execution_count": null,
   "metadata": {
    "ExecuteTime": {
     "end_time": "2021-04-23T20:18:58.464765Z",
     "start_time": "2021-04-23T20:18:58.453403Z"
    },
    "hidden": true
   },
   "outputs": [],
   "source": [
    "type(a)"
   ]
  },
  {
   "cell_type": "code",
   "execution_count": null,
   "metadata": {
    "ExecuteTime": {
     "end_time": "2021-04-23T20:10:46.420725Z",
     "start_time": "2021-04-23T20:10:46.417328Z"
    },
    "hidden": true
   },
   "outputs": [],
   "source": [
    "anagrafica = {\n",
    "    'nome':'sheldon',\n",
    "    'cognome':'cooper',\n",
    "    'eta':30\n",
    "}"
   ]
  },
  {
   "cell_type": "markdown",
   "metadata": {
    "hidden": true
   },
   "source": [
    "A differenza delle liste, in cui è possibile accedere a un valore dal suo indice, in un dizionare si accede ad un valore dalla sua chiave:"
   ]
  },
  {
   "cell_type": "code",
   "execution_count": null,
   "metadata": {
    "ExecuteTime": {
     "end_time": "2021-04-23T20:11:39.648756Z",
     "start_time": "2021-04-23T20:11:39.610587Z"
    },
    "hidden": true
   },
   "outputs": [],
   "source": [
    "anagrafica['nome']"
   ]
  },
  {
   "cell_type": "markdown",
   "metadata": {
    "hidden": true
   },
   "source": [
    "Per conoscere le chiavi contenute in un dizionario:"
   ]
  },
  {
   "cell_type": "code",
   "execution_count": null,
   "metadata": {
    "ExecuteTime": {
     "end_time": "2021-04-23T20:13:39.434250Z",
     "start_time": "2021-04-23T20:13:39.422107Z"
    },
    "hidden": true
   },
   "outputs": [],
   "source": [
    "anagrafica.keys()"
   ]
  },
  {
   "cell_type": "markdown",
   "metadata": {
    "hidden": true
   },
   "source": [
    "L'oggetto resistuito da questo metodo è un *iterabile*, cioè un oggetto su cui possiamo iterare con un ciclo, per esempio *for*:"
   ]
  },
  {
   "cell_type": "code",
   "execution_count": null,
   "metadata": {
    "ExecuteTime": {
     "end_time": "2021-04-23T20:15:28.982947Z",
     "start_time": "2021-04-23T20:15:28.972094Z"
    },
    "hidden": true
   },
   "outputs": [],
   "source": [
    "for k in anagrafica.keys():\n",
    "    print(k)"
   ]
  },
  {
   "cell_type": "markdown",
   "metadata": {
    "hidden": true
   },
   "source": [
    "Allo stesso modo, con un ciclo *for* possiamo estrarre tutti i valori associati alle chiavi, uno alla volta:"
   ]
  },
  {
   "cell_type": "code",
   "execution_count": null,
   "metadata": {
    "ExecuteTime": {
     "end_time": "2021-04-23T20:16:57.927606Z",
     "start_time": "2021-04-23T20:16:57.917034Z"
    },
    "hidden": true
   },
   "outputs": [],
   "source": [
    "for k in anagrafica.keys():\n",
    "    print(k, anagrafica[k])"
   ]
  },
  {
   "cell_type": "markdown",
   "metadata": {
    "hidden": true
   },
   "source": [
    "Metodi importanti dei dizionari:"
   ]
  },
  {
   "cell_type": "code",
   "execution_count": null,
   "metadata": {
    "ExecuteTime": {
     "end_time": "2021-04-23T20:17:23.758711Z",
     "start_time": "2021-04-23T20:17:23.745717Z"
    },
    "hidden": true
   },
   "outputs": [],
   "source": [
    "anagrafica.keys()"
   ]
  },
  {
   "cell_type": "code",
   "execution_count": null,
   "metadata": {
    "ExecuteTime": {
     "end_time": "2021-04-23T20:17:49.818205Z",
     "start_time": "2021-04-23T20:17:49.805975Z"
    },
    "hidden": true
   },
   "outputs": [],
   "source": [
    "anagrafica.values()"
   ]
  },
  {
   "cell_type": "code",
   "execution_count": null,
   "metadata": {
    "ExecuteTime": {
     "end_time": "2021-04-23T20:17:33.807889Z",
     "start_time": "2021-04-23T20:17:33.797195Z"
    },
    "hidden": true
   },
   "outputs": [],
   "source": [
    "anagrafica.items()"
   ]
  },
  {
   "cell_type": "code",
   "execution_count": null,
   "metadata": {
    "ExecuteTime": {
     "end_time": "2021-04-23T20:18:01.293718Z",
     "start_time": "2021-04-23T20:18:01.279415Z"
    },
    "hidden": true
   },
   "outputs": [],
   "source": [
    "dir(anagrafica)"
   ]
  },
  {
   "cell_type": "markdown",
   "metadata": {
    "hidden": true
   },
   "source": [
    "Aggiungere un elemento a un dizionario:"
   ]
  },
  {
   "cell_type": "code",
   "execution_count": null,
   "metadata": {
    "ExecuteTime": {
     "end_time": "2021-04-23T20:26:44.840947Z",
     "start_time": "2021-04-23T20:26:44.831679Z"
    },
    "hidden": true
   },
   "outputs": [],
   "source": [
    "anagrafica['citta'] = 'galveston'"
   ]
  },
  {
   "cell_type": "code",
   "execution_count": null,
   "metadata": {
    "ExecuteTime": {
     "end_time": "2021-04-23T20:26:48.574999Z",
     "start_time": "2021-04-23T20:26:48.560634Z"
    },
    "hidden": true
   },
   "outputs": [],
   "source": [
    "anagrafica"
   ]
  },
  {
   "cell_type": "markdown",
   "metadata": {
    "hidden": true
   },
   "source": [
    "Posso collezionare dizionari in una lista:"
   ]
  },
  {
   "cell_type": "code",
   "execution_count": null,
   "metadata": {
    "ExecuteTime": {
     "end_time": "2021-04-23T20:36:21.366107Z",
     "start_time": "2021-04-23T20:36:21.348635Z"
    },
    "hidden": true
   },
   "outputs": [],
   "source": [
    "bbt = [\n",
    "    {\n",
    "        'nome':'sheldon',\n",
    "        'cognome':'cooper',\n",
    "        'citta':'galveston'\n",
    "    },\n",
    "    {\n",
    "        'nome':'leonard',\n",
    "        'cognome':'hofstadter',\n",
    "        'citta':'new jersey'\n",
    "    },\n",
    "    {\n",
    "        'nome':'rajesh',\n",
    "        'cognome':'koothrappali',\n",
    "        'citta':'new dehli'\n",
    "    },\n",
    "    {\n",
    "        'nome':'howard',\n",
    "        'cognome':'wolowitz',\n",
    "        'citta':'new york'\n",
    "    }\n",
    "]"
   ]
  },
  {
   "cell_type": "code",
   "execution_count": null,
   "metadata": {
    "ExecuteTime": {
     "end_time": "2021-04-23T20:37:14.167867Z",
     "start_time": "2021-04-23T20:37:14.154855Z"
    },
    "hidden": true
   },
   "outputs": [],
   "source": [
    "for person in bbt:\n",
    "    print(person)"
   ]
  },
  {
   "cell_type": "markdown",
   "metadata": {
    "heading_collapsed": true,
    "hidden": true
   },
   "source": [
    "## Esercitazione"
   ]
  },
  {
   "cell_type": "markdown",
   "metadata": {
    "hidden": true
   },
   "source": [
    "Elencare tutti i nomi propri:"
   ]
  },
  {
   "cell_type": "code",
   "execution_count": null,
   "metadata": {
    "ExecuteTime": {
     "end_time": "2021-04-23T21:15:16.608419Z",
     "start_time": "2021-04-23T21:15:16.594009Z"
    },
    "hidden": true
   },
   "outputs": [],
   "source": [
    "for person in bbt:\n",
    "    print(person['nome'])"
   ]
  },
  {
   "cell_type": "markdown",
   "metadata": {
    "hidden": true
   },
   "source": [
    "Elencare tutti i cognomi:"
   ]
  },
  {
   "cell_type": "code",
   "execution_count": null,
   "metadata": {
    "ExecuteTime": {
     "end_time": "2021-04-23T21:16:12.586512Z",
     "start_time": "2021-04-23T21:16:12.580930Z"
    },
    "hidden": true
   },
   "outputs": [],
   "source": [
    "for person in bbt:\n",
    "    print(person['cognome'])"
   ]
  },
  {
   "cell_type": "markdown",
   "metadata": {
    "heading_collapsed": true,
    "hidden": true
   },
   "source": [
    "## Eseritazione"
   ]
  },
  {
   "cell_type": "markdown",
   "metadata": {
    "hidden": true
   },
   "source": [
    "Elencare i cognomi in ordine alfabetico. Usare il metodo **.sort()** o la funzione **sorted()**"
   ]
  },
  {
   "cell_type": "code",
   "execution_count": null,
   "metadata": {
    "ExecuteTime": {
     "end_time": "2021-04-23T21:26:01.744289Z",
     "start_time": "2021-04-23T21:26:01.726335Z"
    },
    "hidden": true
   },
   "outputs": [],
   "source": [
    "nomi = []\n",
    "\n",
    "for person in bbt:\n",
    "    nomi.append(person['nome'])\n",
    "\n",
    "nomi.sort()\n",
    "\n",
    "for nome in nomi:\n",
    "    print(nome)"
   ]
  },
  {
   "cell_type": "markdown",
   "metadata": {
    "heading_collapsed": true
   },
   "source": [
    "# Creare dizionari programmaticamente"
   ]
  },
  {
   "cell_type": "markdown",
   "metadata": {
    "hidden": true
   },
   "source": [
    "Creiamo un dizionario con un algoritmo.  \n",
    "Vogliamo che il dizionario, che chiamaremo *quintupli*, abbia come chiave i primi 5 numeri interi e come valori i suoi quintupli.  \n",
    "Esempio:  \n",
    "\n",
    "```python\n",
    "{\n",
    "    1: 5,\n",
    "    2: 10,\n",
    "    3: 15,\n",
    "    4: 20,\n",
    "    5: 25\n",
    "}\n",
    "```"
   ]
  },
  {
   "cell_type": "markdown",
   "metadata": {
    "heading_collapsed": true
   },
   "source": [
    "# Importare il dataset sui 500 migliori album del XX secolo (secondo la rivista Rolling Stones)"
   ]
  },
  {
   "cell_type": "code",
   "execution_count": null,
   "metadata": {
    "ExecuteTime": {
     "end_time": "2021-04-23T21:18:55.517576Z",
     "start_time": "2021-04-23T21:18:55.495559Z"
    },
    "hidden": true
   },
   "outputs": [],
   "source": [
    "import pandas as pd\n",
    "\n",
    "albums = pd.read_csv(\"albumlist.csv\")\n",
    "albums = albums.to_dict(orient='records')"
   ]
  },
  {
   "cell_type": "code",
   "execution_count": null,
   "metadata": {
    "ExecuteTime": {
     "end_time": "2021-04-23T21:26:53.048676Z",
     "start_time": "2021-04-23T21:26:53.040166Z"
    },
    "hidden": true
   },
   "outputs": [],
   "source": [
    "albums[:3]"
   ]
  },
  {
   "cell_type": "markdown",
   "metadata": {
    "heading_collapsed": true,
    "hidden": true
   },
   "source": [
    "## Esercizio"
   ]
  },
  {
   "cell_type": "markdown",
   "metadata": {
    "hidden": true
   },
   "source": [
    "Qual è l'anno meno recente di pubblicazione? e il più recente?   \n",
    "- Suggerimento: a partire dal dizionario costruisci una lista con tutti gli anni di pubblicazione e poi usa le funzioni min() e max() per trovare il più vecchio e il più recente"
   ]
  },
  {
   "cell_type": "code",
   "execution_count": null,
   "metadata": {
    "ExecuteTime": {
     "end_time": "2021-04-23T21:21:15.618428Z",
     "start_time": "2021-04-23T21:21:15.613122Z"
    },
    "hidden": true
   },
   "outputs": [],
   "source": [
    "# svolgimento"
   ]
  },
  {
   "cell_type": "markdown",
   "metadata": {
    "heading_collapsed": true,
    "hidden": true
   },
   "source": [
    "## Esercizio"
   ]
  },
  {
   "cell_type": "markdown",
   "metadata": {
    "hidden": true
   },
   "source": [
    "Elenca tutti i generi presenti nella collezione, senza ripetizioni (la chiave per il genere, nel dizionario, è **Genre**)"
   ]
  },
  {
   "cell_type": "code",
   "execution_count": null,
   "metadata": {
    "ExecuteTime": {
     "end_time": "2021-04-23T21:27:10.691854Z",
     "start_time": "2021-04-23T21:27:10.682700Z"
    },
    "hidden": true
   },
   "outputs": [],
   "source": [
    "# svolgimento"
   ]
  },
  {
   "cell_type": "markdown",
   "metadata": {
    "heading_collapsed": true,
    "hidden": true
   },
   "source": [
    "## Esercizio"
   ]
  },
  {
   "cell_type": "markdown",
   "metadata": {
    "hidden": true
   },
   "source": [
    "Elenca tutti gli artisti in ordine alfabetico"
   ]
  },
  {
   "cell_type": "code",
   "execution_count": null,
   "metadata": {
    "ExecuteTime": {
     "end_time": "2021-04-23T21:27:59.724678Z",
     "start_time": "2021-04-23T21:27:59.718620Z"
    },
    "hidden": true
   },
   "outputs": [],
   "source": [
    "# svolgimento"
   ]
  }
 ],
 "metadata": {
  "kernelspec": {
   "display_name": "Python 3",
   "language": "python",
   "name": "python3"
  },
  "language_info": {
   "codemirror_mode": {
    "name": "ipython",
    "version": 3
   },
   "file_extension": ".py",
   "mimetype": "text/x-python",
   "name": "python",
   "nbconvert_exporter": "python",
   "pygments_lexer": "ipython3",
   "version": "3.7.6"
  },
  "toc": {
   "base_numbering": 1,
   "nav_menu": {},
   "number_sections": true,
   "sideBar": true,
   "skip_h1_title": false,
   "title_cell": "Table of Contents",
   "title_sidebar": "Contents",
   "toc_cell": false,
   "toc_position": {},
   "toc_section_display": true,
   "toc_window_display": false
  }
 },
 "nbformat": 4,
 "nbformat_minor": 4
}
