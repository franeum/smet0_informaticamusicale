{
 "cells": [
  {
   "cell_type": "markdown",
   "metadata": {
    "heading_collapsed": true
   },
   "source": [
    "# Builtin types"
   ]
  },
  {
   "cell_type": "markdown",
   "metadata": {
    "hidden": true
   },
   "source": [
    "* bool\n",
    "* integer\n",
    "* float\n",
    "* list\n",
    "* tuple\n",
    "* dict\n",
    "* str\n",
    "* set"
   ]
  },
  {
   "cell_type": "markdown",
   "metadata": {
    "hidden": true
   },
   "source": [
    "## immutable "
   ]
  },
  {
   "cell_type": "markdown",
   "metadata": {
    "hidden": true
   },
   "source": [
    "bool, integer, float, tuple, str"
   ]
  },
  {
   "cell_type": "markdown",
   "metadata": {
    "hidden": true
   },
   "source": [
    "## mutable"
   ]
  },
  {
   "cell_type": "markdown",
   "metadata": {
    "hidden": true
   },
   "source": [
    "list, dict, set"
   ]
  },
  {
   "cell_type": "markdown",
   "metadata": {
    "heading_collapsed": true
   },
   "source": [
    "# set()"
   ]
  },
  {
   "cell_type": "markdown",
   "metadata": {
    "hidden": true
   },
   "source": [
    "set significa insieme e rappresenta una collezione non ordinata di oggetti unici e immutabili (una lista, ad esempio, non può fare parte di un set).\n",
    "\n",
    "si instanzia con:"
   ]
  },
  {
   "cell_type": "code",
   "execution_count": 5,
   "metadata": {
    "ExecuteTime": {
     "end_time": "2021-05-14T20:50:14.019460Z",
     "start_time": "2021-05-14T20:50:14.013046Z"
    },
    "hidden": true
   },
   "outputs": [],
   "source": [
    "my_set = set() # insieme vuoto"
   ]
  },
  {
   "cell_type": "markdown",
   "metadata": {
    "ExecuteTime": {
     "end_time": "2021-05-14T20:54:24.972454Z",
     "start_time": "2021-05-14T20:54:24.965657Z"
    },
    "hidden": true
   },
   "source": [
    "creare un set pieno si ottiene utilizzando le { }"
   ]
  },
  {
   "cell_type": "code",
   "execution_count": 12,
   "metadata": {
    "ExecuteTime": {
     "end_time": "2021-05-14T20:54:24.972454Z",
     "start_time": "2021-05-14T20:54:24.965657Z"
    },
    "hidden": true
   },
   "outputs": [],
   "source": [
    "my_set = {1,3,5,7, \"ciao\", (1,2,3)}"
   ]
  },
  {
   "cell_type": "code",
   "execution_count": 9,
   "metadata": {
    "ExecuteTime": {
     "end_time": "2021-05-14T20:51:55.283857Z",
     "start_time": "2021-05-14T20:51:55.272916Z"
    },
    "hidden": true
   },
   "outputs": [
    {
     "data": {
      "text/plain": [
       "{(1, 2, 3), 1, 3, 5, 7, 'ciao'}"
      ]
     },
     "execution_count": 9,
     "metadata": {},
     "output_type": "execute_result"
    }
   ],
   "source": [
    "my_set"
   ]
  },
  {
   "cell_type": "markdown",
   "metadata": {
    "ExecuteTime": {
     "end_time": "2021-05-14T20:52:17.834336Z",
     "start_time": "2021-05-14T20:52:17.816069Z"
    },
    "hidden": true
   },
   "source": [
    "aggiungere elementi a un set"
   ]
  },
  {
   "cell_type": "code",
   "execution_count": 13,
   "metadata": {
    "ExecuteTime": {
     "end_time": "2021-05-14T20:56:05.363971Z",
     "start_time": "2021-05-14T20:56:05.354936Z"
    },
    "hidden": true
   },
   "outputs": [],
   "source": [
    "my_set.add(\"nuovo elemento\")"
   ]
  },
  {
   "cell_type": "code",
   "execution_count": 14,
   "metadata": {
    "ExecuteTime": {
     "end_time": "2021-05-14T20:56:09.619073Z",
     "start_time": "2021-05-14T20:56:09.602632Z"
    },
    "hidden": true
   },
   "outputs": [
    {
     "data": {
      "text/plain": [
       "{(1, 2, 3), 1, 3, 5, 7, 'ciao', 'nuovo elemento'}"
      ]
     },
     "execution_count": 14,
     "metadata": {},
     "output_type": "execute_result"
    }
   ],
   "source": [
    "my_set"
   ]
  },
  {
   "cell_type": "markdown",
   "metadata": {
    "hidden": true
   },
   "source": [
    "## Operazioni sugli insiemi\n",
    "- intersezione\n",
    "- unione\n",
    "- differenza\n",
    "- differenza simmetrica\n",
    "- appartenenze"
   ]
  },
  {
   "cell_type": "markdown",
   "metadata": {
    "hidden": true
   },
   "source": [
    "### intersezione"
   ]
  },
  {
   "cell_type": "markdown",
   "metadata": {
    "hidden": true
   },
   "source": [
    "l'intersezione fra due insiemi restituisce un nuovo insieme costituito dagli elementi appartenenti sia al primo che al secondo insieme"
   ]
  },
  {
   "cell_type": "code",
   "execution_count": 15,
   "metadata": {
    "ExecuteTime": {
     "end_time": "2021-05-14T20:59:43.293485Z",
     "start_time": "2021-05-14T20:59:43.285766Z"
    },
    "hidden": true
   },
   "outputs": [],
   "source": [
    "a = {1,3,5,7,9,11,13,15}\n",
    "b = {7,9,11,13,15,17}"
   ]
  },
  {
   "cell_type": "code",
   "execution_count": 17,
   "metadata": {
    "ExecuteTime": {
     "end_time": "2021-05-14T21:00:01.750490Z",
     "start_time": "2021-05-14T21:00:01.738626Z"
    },
    "hidden": true
   },
   "outputs": [
    {
     "data": {
      "text/plain": [
       "{7, 9, 11, 13, 15}"
      ]
     },
     "execution_count": 17,
     "metadata": {},
     "output_type": "execute_result"
    }
   ],
   "source": [
    "a.intersection(b)"
   ]
  },
  {
   "cell_type": "markdown",
   "metadata": {
    "hidden": true
   },
   "source": [
    "### unione"
   ]
  },
  {
   "cell_type": "markdown",
   "metadata": {
    "hidden": true
   },
   "source": [
    "l'unione fra due insiemi restituisce un nuovo insieme costituito dagli elementi del primo e del secondo insieme"
   ]
  },
  {
   "cell_type": "code",
   "execution_count": 18,
   "metadata": {
    "ExecuteTime": {
     "end_time": "2021-05-14T21:01:10.393284Z",
     "start_time": "2021-05-14T21:01:10.378057Z"
    },
    "hidden": true
   },
   "outputs": [
    {
     "data": {
      "text/plain": [
       "{1, 3, 5, 7, 9, 11, 13, 15, 17}"
      ]
     },
     "execution_count": 18,
     "metadata": {},
     "output_type": "execute_result"
    }
   ],
   "source": [
    "a.union(b)"
   ]
  },
  {
   "cell_type": "markdown",
   "metadata": {
    "hidden": true
   },
   "source": [
    "### differenza"
   ]
  },
  {
   "cell_type": "markdown",
   "metadata": {
    "hidden": true
   },
   "source": [
    "la differenza fra due insiemi resistuisce l'insieme costituito dagli elementi del primo insieme che non sono presenti nel secondo insieme"
   ]
  },
  {
   "cell_type": "code",
   "execution_count": 19,
   "metadata": {
    "ExecuteTime": {
     "end_time": "2021-05-14T21:05:44.482008Z",
     "start_time": "2021-05-14T21:05:44.470845Z"
    },
    "hidden": true
   },
   "outputs": [
    {
     "data": {
      "text/plain": [
       "{1, 3, 5}"
      ]
     },
     "execution_count": 19,
     "metadata": {},
     "output_type": "execute_result"
    }
   ],
   "source": [
    "a - b"
   ]
  },
  {
   "cell_type": "code",
   "execution_count": 20,
   "metadata": {
    "ExecuteTime": {
     "end_time": "2021-05-14T21:05:52.689100Z",
     "start_time": "2021-05-14T21:05:52.683516Z"
    },
    "hidden": true
   },
   "outputs": [
    {
     "data": {
      "text/plain": [
       "{17}"
      ]
     },
     "execution_count": 20,
     "metadata": {},
     "output_type": "execute_result"
    }
   ],
   "source": [
    "b - a"
   ]
  },
  {
   "cell_type": "markdown",
   "metadata": {
    "hidden": true
   },
   "source": [
    "La differenza non è commutativa, quindi `(a - b)` è diverso da `(b - a)`"
   ]
  },
  {
   "cell_type": "markdown",
   "metadata": {
    "hidden": true
   },
   "source": [
    "### differenza simmetrica"
   ]
  },
  {
   "cell_type": "markdown",
   "metadata": {
    "ExecuteTime": {
     "end_time": "2021-05-14T21:08:07.452286Z",
     "start_time": "2021-05-14T21:08:07.446122Z"
    },
    "hidden": true
   },
   "source": [
    "restituisce gli elementi che NON sono comuni fra due insiemi"
   ]
  },
  {
   "cell_type": "code",
   "execution_count": 29,
   "metadata": {
    "ExecuteTime": {
     "end_time": "2021-05-14T21:10:35.016577Z",
     "start_time": "2021-05-14T21:10:35.002702Z"
    },
    "hidden": true
   },
   "outputs": [
    {
     "data": {
      "text/plain": [
       "{1, 3, 5, 17}"
      ]
     },
     "execution_count": 29,
     "metadata": {},
     "output_type": "execute_result"
    }
   ],
   "source": [
    "a.symmetric_difference(b)"
   ]
  },
  {
   "cell_type": "markdown",
   "metadata": {
    "hidden": true
   },
   "source": [
    "### appartenenza"
   ]
  },
  {
   "cell_type": "code",
   "execution_count": 57,
   "metadata": {
    "ExecuteTime": {
     "end_time": "2021-05-14T22:03:00.170202Z",
     "start_time": "2021-05-14T22:03:00.159454Z"
    },
    "hidden": true
   },
   "outputs": [
    {
     "data": {
      "text/plain": [
       "True"
      ]
     },
     "execution_count": 57,
     "metadata": {},
     "output_type": "execute_result"
    }
   ],
   "source": [
    "3 in a"
   ]
  },
  {
   "cell_type": "code",
   "execution_count": 56,
   "metadata": {
    "ExecuteTime": {
     "end_time": "2021-05-14T22:02:33.331315Z",
     "start_time": "2021-05-14T22:02:33.321854Z"
    },
    "hidden": true
   },
   "outputs": [
    {
     "data": {
      "text/plain": [
       "True"
      ]
     },
     "execution_count": 56,
     "metadata": {},
     "output_type": "execute_result"
    }
   ],
   "source": [
    "{3,5}.issubset(a)"
   ]
  },
  {
   "cell_type": "code",
   "execution_count": 58,
   "metadata": {
    "ExecuteTime": {
     "end_time": "2021-05-14T22:03:13.899744Z",
     "start_time": "2021-05-14T22:03:13.887065Z"
    },
    "hidden": true
   },
   "outputs": [
    {
     "data": {
      "text/plain": [
       "True"
      ]
     },
     "execution_count": 58,
     "metadata": {},
     "output_type": "execute_result"
    }
   ],
   "source": [
    "a.issuperset({3,5})"
   ]
  },
  {
   "cell_type": "markdown",
   "metadata": {
    "hidden": true
   },
   "source": [
    "## caratteristiche di un set"
   ]
  },
  {
   "cell_type": "markdown",
   "metadata": {
    "hidden": true
   },
   "source": [
    "Un set contiene elementi unici, quindi non può avere duplicati.\n",
    "Se convertiamo una lista in un set, eventuali \"doppioni\" verranno eliminati."
   ]
  },
  {
   "cell_type": "code",
   "execution_count": 32,
   "metadata": {
    "ExecuteTime": {
     "end_time": "2021-05-14T21:14:45.502064Z",
     "start_time": "2021-05-14T21:14:45.483954Z"
    },
    "hidden": true
   },
   "outputs": [
    {
     "data": {
      "text/plain": [
       "{1, 2, 3, 4, 5, 6, 7}"
      ]
     },
     "execution_count": 32,
     "metadata": {},
     "output_type": "execute_result"
    }
   ],
   "source": [
    "lista = [1,2,3,4,4,5,6,7,7]\n",
    "set(lista)"
   ]
  },
  {
   "cell_type": "markdown",
   "metadata": {
    "hidden": true
   },
   "source": [
    "### trick per eliminare i duplicati in una lista"
   ]
  },
  {
   "cell_type": "code",
   "execution_count": 33,
   "metadata": {
    "ExecuteTime": {
     "end_time": "2021-05-14T21:15:40.503141Z",
     "start_time": "2021-05-14T21:15:40.484393Z"
    },
    "hidden": true
   },
   "outputs": [
    {
     "data": {
      "text/plain": [
       "[1, 2, 3, 4, 5, 6, 7]"
      ]
     },
     "execution_count": 33,
     "metadata": {},
     "output_type": "execute_result"
    }
   ],
   "source": [
    "lista = [1,2,3,4,4,5,6,7,7]\n",
    "lista_senza_dup = list(set(lista))\n",
    "lista_senza_dup"
   ]
  },
  {
   "cell_type": "markdown",
   "metadata": {
    "heading_collapsed": true
   },
   "source": [
    "# recap"
   ]
  },
  {
   "cell_type": "markdown",
   "metadata": {
    "hidden": true
   },
   "source": [
    "## introspezione"
   ]
  },
  {
   "cell_type": "markdown",
   "metadata": {
    "hidden": true
   },
   "source": [
    "le funzioni dir() ed help() ci consentono di conoscere le caratteristiche degli oggetti e delle funzioni."
   ]
  },
  {
   "cell_type": "markdown",
   "metadata": {
    "hidden": true
   },
   "source": [
    "## docstring"
   ]
  },
  {
   "cell_type": "markdown",
   "metadata": {
    "hidden": true
   },
   "source": [
    "le `docstring` ci consentono di documentare le nostre funzioni e rendere disponibili delle informazioni di introspezione sulle nostre funzioni"
   ]
  },
  {
   "cell_type": "code",
   "execution_count": 35,
   "metadata": {
    "ExecuteTime": {
     "end_time": "2021-05-14T21:23:42.788563Z",
     "start_time": "2021-05-14T21:23:42.778583Z"
    },
    "hidden": true
   },
   "outputs": [],
   "source": [
    "def square(x):\n",
    "    \"\"\"calcola il quadrato di un numero\"\"\"\n",
    "    return x*x"
   ]
  },
  {
   "cell_type": "code",
   "execution_count": 36,
   "metadata": {
    "ExecuteTime": {
     "end_time": "2021-05-14T21:23:50.356145Z",
     "start_time": "2021-05-14T21:23:50.343996Z"
    },
    "hidden": true
   },
   "outputs": [
    {
     "name": "stdout",
     "output_type": "stream",
     "text": [
      "Help on function square in module __main__:\n",
      "\n",
      "square(x)\n",
      "    calcola il quadrato di un numero\n",
      "\n"
     ]
    }
   ],
   "source": [
    "help(square)"
   ]
  },
  {
   "cell_type": "markdown",
   "metadata": {
    "hidden": true
   },
   "source": [
    "Una docstring degna di questo nome deve:\n",
    "* descrivere quello che la funzione fa\n",
    "\n",
    "Ma, insituazioni più complesse, dovrebbe contenere anche informazioni sugli argomenti e sull'oggetto di ritorno"
   ]
  },
  {
   "cell_type": "code",
   "execution_count": 38,
   "metadata": {
    "ExecuteTime": {
     "end_time": "2021-05-14T21:34:35.453454Z",
     "start_time": "2021-05-14T21:34:35.450626Z"
    },
    "hidden": true
   },
   "outputs": [],
   "source": [
    "def square(x):\n",
    "    \"\"\"calcola il quadrato di un numero\n",
    "    arg: numero da elevare al quadrato (float)\n",
    "    return: quadrato (float)\n",
    "    \"\"\"\n",
    "    return x*x"
   ]
  },
  {
   "cell_type": "markdown",
   "metadata": {
    "hidden": true
   },
   "source": [
    "Una docstring può contenere, nei casi di funzioni complesse, anche degli esempi:"
   ]
  },
  {
   "cell_type": "code",
   "execution_count": 39,
   "metadata": {
    "ExecuteTime": {
     "end_time": "2021-05-14T21:35:52.720472Z",
     "start_time": "2021-05-14T21:35:52.707309Z"
    },
    "hidden": true
   },
   "outputs": [],
   "source": [
    "def square(x):\n",
    "    \"\"\"calcola il quadrato di un numero\n",
    "    arg: numero da elevare al quadrato (float)\n",
    "    return: quadrato (float)\n",
    "    \n",
    "    >>> square(12)\n",
    "    >>> 144\n",
    "    \"\"\"\n",
    "    return x*x"
   ]
  },
  {
   "cell_type": "code",
   "execution_count": 42,
   "metadata": {
    "ExecuteTime": {
     "end_time": "2021-05-14T21:36:38.896198Z",
     "start_time": "2021-05-14T21:36:38.892725Z"
    },
    "hidden": true
   },
   "outputs": [
    {
     "name": "stdout",
     "output_type": "stream",
     "text": [
      "Help on function square in module __main__:\n",
      "\n",
      "square(x)\n",
      "    calcola il quadrato di un numero\n",
      "    arg: numero da elevare al quadrato (float)\n",
      "    return: quadrato (float)\n",
      "    \n",
      "    >>> square(12)\n",
      "    >>> 144\n",
      "\n"
     ]
    }
   ],
   "source": [
    "help(square)"
   ]
  },
  {
   "cell_type": "markdown",
   "metadata": {
    "hidden": true
   },
   "source": [
    "## modulo (%) e divisione intera (//)"
   ]
  },
  {
   "cell_type": "markdown",
   "metadata": {
    "hidden": true
   },
   "source": [
    "L'operatore modulo consente di ottenere il resto di una divisione. E' utile per:\n",
    "- verificare che un numero sia divisibile per un altro"
   ]
  },
  {
   "cell_type": "markdown",
   "metadata": {
    "ExecuteTime": {
     "end_time": "2021-05-14T21:41:17.998838Z",
     "start_time": "2021-05-14T21:41:17.994626Z"
    },
    "hidden": true
   },
   "source": [
    "verifichiamo che un numero sia divisibile per 7:"
   ]
  },
  {
   "cell_type": "code",
   "execution_count": 44,
   "metadata": {
    "ExecuteTime": {
     "end_time": "2021-05-14T21:41:26.669995Z",
     "start_time": "2021-05-14T21:41:26.663380Z"
    },
    "hidden": true
   },
   "outputs": [],
   "source": [
    "x = 17"
   ]
  },
  {
   "cell_type": "code",
   "execution_count": 45,
   "metadata": {
    "ExecuteTime": {
     "end_time": "2021-05-14T21:41:48.900394Z",
     "start_time": "2021-05-14T21:41:48.888093Z"
    },
    "hidden": true
   },
   "outputs": [
    {
     "data": {
      "text/plain": [
       "False"
      ]
     },
     "execution_count": 45,
     "metadata": {},
     "output_type": "execute_result"
    }
   ],
   "source": [
    "x % 7 == 0"
   ]
  },
  {
   "cell_type": "code",
   "execution_count": 46,
   "metadata": {
    "ExecuteTime": {
     "end_time": "2021-05-14T21:42:02.433863Z",
     "start_time": "2021-05-14T21:42:02.424185Z"
    },
    "hidden": true
   },
   "outputs": [],
   "source": [
    "x = 14"
   ]
  },
  {
   "cell_type": "code",
   "execution_count": 47,
   "metadata": {
    "ExecuteTime": {
     "end_time": "2021-05-14T21:42:12.260268Z",
     "start_time": "2021-05-14T21:42:12.249091Z"
    },
    "hidden": true
   },
   "outputs": [
    {
     "data": {
      "text/plain": [
       "True"
      ]
     },
     "execution_count": 47,
     "metadata": {},
     "output_type": "execute_result"
    }
   ],
   "source": [
    "x % 7 == 0"
   ]
  },
  {
   "cell_type": "markdown",
   "metadata": {
    "hidden": true
   },
   "source": [
    "Il modulo può essere utile anche per `contare`.\n",
    "\n",
    "##### Esempio:\n",
    "Prendiamo una lista di classi di altezze: [\"do\", \"re\", \"mi\", \"fa\", \"sol\", \"la\", \"si\"]. Tali altezze diventano note reali solo quando associamo una classe di altezze ad una \"ottava\" di appartenenza. \"do\" è una classe di altezze, \"do-1\" è il do dell'ottava 1.\n",
    "\n",
    "Ora utilizzando l'operatore % possiamo, a partire da un numero, ricavare di che classe di altezze si tratti:\n"
   ]
  },
  {
   "cell_type": "code",
   "execution_count": 48,
   "metadata": {
    "ExecuteTime": {
     "end_time": "2021-05-14T21:52:39.718041Z",
     "start_time": "2021-05-14T21:52:39.707566Z"
    },
    "hidden": true
   },
   "outputs": [],
   "source": [
    "pitch_class = [\"do\", \"re\", \"mi\", \"fa\", \"sol\", \"la\", \"si\"]"
   ]
  },
  {
   "cell_type": "code",
   "execution_count": 49,
   "metadata": {
    "ExecuteTime": {
     "end_time": "2021-05-14T21:52:54.460900Z",
     "start_time": "2021-05-14T21:52:54.448804Z"
    },
    "hidden": true
   },
   "outputs": [
    {
     "data": {
      "text/plain": [
       "7"
      ]
     },
     "execution_count": 49,
     "metadata": {},
     "output_type": "execute_result"
    }
   ],
   "source": [
    "len(pitch_class)"
   ]
  },
  {
   "cell_type": "code",
   "execution_count": 50,
   "metadata": {
    "ExecuteTime": {
     "end_time": "2021-05-14T21:53:02.606783Z",
     "start_time": "2021-05-14T21:53:02.596210Z"
    },
    "hidden": true
   },
   "outputs": [
    {
     "data": {
      "text/plain": [
       "2"
      ]
     },
     "execution_count": 50,
     "metadata": {},
     "output_type": "execute_result"
    }
   ],
   "source": [
    "23 % 7"
   ]
  }
 ],
 "metadata": {
  "kernelspec": {
   "display_name": "Python 3",
   "language": "python",
   "name": "python3"
  },
  "language_info": {
   "codemirror_mode": {
    "name": "ipython",
    "version": 3
   },
   "file_extension": ".py",
   "mimetype": "text/x-python",
   "name": "python",
   "nbconvert_exporter": "python",
   "pygments_lexer": "ipython3",
   "version": "3.7.6"
  },
  "toc": {
   "base_numbering": 1,
   "nav_menu": {},
   "number_sections": true,
   "sideBar": true,
   "skip_h1_title": false,
   "title_cell": "Table of Contents",
   "title_sidebar": "Contents",
   "toc_cell": false,
   "toc_position": {},
   "toc_section_display": true,
   "toc_window_display": false
  }
 },
 "nbformat": 4,
 "nbformat_minor": 4
}
