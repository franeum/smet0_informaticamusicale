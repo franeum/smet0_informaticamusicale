{
 "cells": [
  {
   "cell_type": "markdown",
   "metadata": {
    "heading_collapsed": true
   },
   "source": [
    "# Liste"
   ]
  },
  {
   "cell_type": "markdown",
   "metadata": {
    "heading_collapsed": true,
    "hidden": true
   },
   "source": [
    "## Descrizione"
   ]
  },
  {
   "cell_type": "markdown",
   "metadata": {
    "hidden": true
   },
   "source": [
    "Il tipo **list** è una struttua che permette di raggruppare (e ordinare) elementi di tipi diversi. Si rappresenta nella seguente forma:"
   ]
  },
  {
   "cell_type": "code",
   "execution_count": 1,
   "metadata": {
    "ExecuteTime": {
     "end_time": "2021-02-23T12:47:30.546641Z",
     "start_time": "2021-02-23T12:47:30.537341Z"
    },
    "hidden": true
   },
   "outputs": [
    {
     "data": {
      "text/plain": [
       "[1, 3, 'ciao', 5, 'mondo']"
      ]
     },
     "execution_count": 1,
     "metadata": {},
     "output_type": "execute_result"
    }
   ],
   "source": [
    "[1, 3, \"ciao\", 5, \"mondo\"]"
   ]
  },
  {
   "cell_type": "markdown",
   "metadata": {
    "ExecuteTime": {
     "end_time": "2021-02-23T12:47:50.437476Z",
     "start_time": "2021-02-23T12:47:50.434611Z"
    },
    "hidden": true
   },
   "source": [
    "Una lista è indicizzata come una stringa:"
   ]
  },
  {
   "cell_type": "code",
   "execution_count": 3,
   "metadata": {
    "ExecuteTime": {
     "end_time": "2021-02-23T12:48:16.339927Z",
     "start_time": "2021-02-23T12:48:16.337878Z"
    },
    "hidden": true
   },
   "outputs": [],
   "source": [
    "collezione = [1, 3, \"ciao\", 5, \"mondo\"]"
   ]
  },
  {
   "cell_type": "code",
   "execution_count": 4,
   "metadata": {
    "ExecuteTime": {
     "end_time": "2021-02-23T12:48:21.911098Z",
     "start_time": "2021-02-23T12:48:21.907473Z"
    },
    "hidden": true
   },
   "outputs": [
    {
     "data": {
      "text/plain": [
       "1"
      ]
     },
     "execution_count": 4,
     "metadata": {},
     "output_type": "execute_result"
    }
   ],
   "source": [
    "collezione[0]"
   ]
  },
  {
   "cell_type": "code",
   "execution_count": 5,
   "metadata": {
    "ExecuteTime": {
     "end_time": "2021-02-23T12:48:39.977869Z",
     "start_time": "2021-02-23T12:48:39.974397Z"
    },
    "hidden": true
   },
   "outputs": [
    {
     "data": {
      "text/plain": [
       "'mondo'"
      ]
     },
     "execution_count": 5,
     "metadata": {},
     "output_type": "execute_result"
    }
   ],
   "source": [
    "collezione[-1]"
   ]
  },
  {
   "cell_type": "markdown",
   "metadata": {
    "hidden": true
   },
   "source": [
    "e supporta lo *slicing*"
   ]
  },
  {
   "cell_type": "code",
   "execution_count": 6,
   "metadata": {
    "ExecuteTime": {
     "end_time": "2021-02-23T12:49:08.733024Z",
     "start_time": "2021-02-23T12:49:08.728453Z"
    },
    "hidden": true
   },
   "outputs": [
    {
     "data": {
      "text/plain": [
       "[3, 'ciao']"
      ]
     },
     "execution_count": 6,
     "metadata": {},
     "output_type": "execute_result"
    }
   ],
   "source": [
    "collezione[1:3]"
   ]
  },
  {
   "cell_type": "code",
   "execution_count": 8,
   "metadata": {
    "ExecuteTime": {
     "end_time": "2021-02-23T12:50:14.849942Z",
     "start_time": "2021-02-23T12:50:14.845378Z"
    },
    "hidden": true
   },
   "outputs": [
    {
     "data": {
      "text/plain": [
       "[3, 'ciao', 5, 'mondo']"
      ]
     },
     "execution_count": 8,
     "metadata": {},
     "output_type": "execute_result"
    }
   ],
   "source": [
    "collezione[1:]"
   ]
  },
  {
   "cell_type": "markdown",
   "metadata": {
    "hidden": true
   },
   "source": [
    "Un elemento di una lista può essere qualunque cosa, inclusa una lista stessa"
   ]
  },
  {
   "cell_type": "code",
   "execution_count": 86,
   "metadata": {
    "ExecuteTime": {
     "end_time": "2021-02-23T13:25:59.296906Z",
     "start_time": "2021-02-23T13:25:59.293228Z"
    },
    "hidden": true
   },
   "outputs": [
    {
     "data": {
      "text/plain": [
       "[1, 3, 5, 7, [2, 4, 6]]"
      ]
     },
     "execution_count": 86,
     "metadata": {},
     "output_type": "execute_result"
    }
   ],
   "source": [
    "c = [1, 3, 5, 7, [2,4,6]]\n",
    "c"
   ]
  },
  {
   "cell_type": "markdown",
   "metadata": {
    "hidden": true
   },
   "source": [
    "Quando un elemento di una lista è una lista, viene indicizzato come gli altri"
   ]
  },
  {
   "cell_type": "code",
   "execution_count": 88,
   "metadata": {
    "ExecuteTime": {
     "end_time": "2021-02-23T13:27:53.085579Z",
     "start_time": "2021-02-23T13:27:53.077485Z"
    },
    "hidden": true
   },
   "outputs": [
    {
     "data": {
      "text/plain": [
       "[2, 4, 6]"
      ]
     },
     "execution_count": 88,
     "metadata": {},
     "output_type": "execute_result"
    }
   ],
   "source": [
    "# Il quinto elemento della lista c è una lista\n",
    "c[4]"
   ]
  },
  {
   "cell_type": "code",
   "execution_count": 90,
   "metadata": {
    "ExecuteTime": {
     "end_time": "2021-02-23T13:29:56.526830Z",
     "start_time": "2021-02-23T13:29:56.523191Z"
    },
    "hidden": true
   },
   "outputs": [
    {
     "data": {
      "text/plain": [
       "[1, 3, 5, 7, [2, 4, 6]]"
      ]
     },
     "execution_count": 90,
     "metadata": {},
     "output_type": "execute_result"
    }
   ],
   "source": [
    "c"
   ]
  },
  {
   "cell_type": "markdown",
   "metadata": {
    "hidden": true
   },
   "source": [
    "Rappresentiamo la lista:\n",
    "\n",
    "| indice | elemento |\n",
    "| --- | --- |\n",
    "| 0 | 1|\n",
    "|1|3|\n",
    "|2|5|\n",
    "|3|7|\n",
    "|4|[2,4,6]|"
   ]
  },
  {
   "cell_type": "code",
   "execution_count": 92,
   "metadata": {
    "ExecuteTime": {
     "end_time": "2021-02-23T13:37:04.693444Z",
     "start_time": "2021-02-23T13:37:04.687821Z"
    },
    "hidden": true
   },
   "outputs": [],
   "source": [
    "# Se volessimo accedere al secondo elemento della lista 'interna'\n",
    "# prendiamo la lista interna (che si trova all'indice 4) e la mettiamo in una nuova variabile\n",
    "\n",
    "interna = c[4]"
   ]
  },
  {
   "cell_type": "code",
   "execution_count": 94,
   "metadata": {
    "ExecuteTime": {
     "end_time": "2021-02-23T13:41:31.348701Z",
     "start_time": "2021-02-23T13:41:31.345287Z"
    },
    "hidden": true
   },
   "outputs": [
    {
     "data": {
      "text/plain": [
       "4"
      ]
     },
     "execution_count": 94,
     "metadata": {},
     "output_type": "execute_result"
    }
   ],
   "source": [
    "# Poi prendiamo da questa lista interna il secondo elemento (indice 1)\n",
    "\n",
    "interna[1]"
   ]
  },
  {
   "cell_type": "code",
   "execution_count": 95,
   "metadata": {
    "ExecuteTime": {
     "end_time": "2021-02-23T13:41:57.434510Z",
     "start_time": "2021-02-23T13:41:57.428469Z"
    },
    "hidden": true
   },
   "outputs": [
    {
     "data": {
      "text/plain": [
       "4"
      ]
     },
     "execution_count": 95,
     "metadata": {},
     "output_type": "execute_result"
    }
   ],
   "source": [
    "# Per abbreviare possiamo usare la notazione a indice doppia:\n",
    "c[4][1]"
   ]
  },
  {
   "cell_type": "markdown",
   "metadata": {
    "heading_collapsed": true,
    "hidden": true
   },
   "source": [
    "## Oggetti mutabili e immutabili"
   ]
  },
  {
   "cell_type": "markdown",
   "metadata": {
    "hidden": true
   },
   "source": [
    "La lista è un tipo di dato **mutabile**, mentre la strina e i numeri sono immutabili. Questo significa che una volta assegnata una stringa ad una variabile, non possiamo in alcun modo cambiarla"
   ]
  },
  {
   "cell_type": "code",
   "execution_count": 11,
   "metadata": {
    "ExecuteTime": {
     "end_time": "2021-02-23T12:55:00.911721Z",
     "start_time": "2021-02-23T12:55:00.909776Z"
    },
    "hidden": true
   },
   "outputs": [],
   "source": [
    "s1 = \"ciao mondo\""
   ]
  },
  {
   "cell_type": "markdown",
   "metadata": {
    "hidden": true
   },
   "source": [
    "Se chiamiamo un metodo sulla stringa, il risultato dell'esecuzione del metodo non modifica la stringa originale, ma restituisce una nuova stringa"
   ]
  },
  {
   "cell_type": "code",
   "execution_count": 12,
   "metadata": {
    "ExecuteTime": {
     "end_time": "2021-02-23T12:55:08.403329Z",
     "start_time": "2021-02-23T12:55:08.400510Z"
    },
    "hidden": true
   },
   "outputs": [
    {
     "data": {
      "text/plain": [
       "'CIAO MONDO'"
      ]
     },
     "execution_count": 12,
     "metadata": {},
     "output_type": "execute_result"
    }
   ],
   "source": [
    "s1.upper()"
   ]
  },
  {
   "cell_type": "code",
   "execution_count": 13,
   "metadata": {
    "ExecuteTime": {
     "end_time": "2021-02-23T12:55:11.171934Z",
     "start_time": "2021-02-23T12:55:11.168804Z"
    },
    "hidden": true
   },
   "outputs": [
    {
     "data": {
      "text/plain": [
       "'ciao mondo'"
      ]
     },
     "execution_count": 13,
     "metadata": {},
     "output_type": "execute_result"
    }
   ],
   "source": [
    "s1"
   ]
  },
  {
   "cell_type": "markdown",
   "metadata": {
    "hidden": true
   },
   "source": [
    "Possiamo eventualmente prendere la stringa originaria, applicare un metodo che la modifichi, e **riassegnare** la modifica alla stessa variabile che conteneva la stringa originale."
   ]
  },
  {
   "cell_type": "code",
   "execution_count": 28,
   "metadata": {
    "ExecuteTime": {
     "end_time": "2021-02-23T13:01:56.326887Z",
     "start_time": "2021-02-23T13:01:56.325052Z"
    },
    "hidden": true
   },
   "outputs": [],
   "source": [
    "s1 = \"ciao mondo\""
   ]
  },
  {
   "cell_type": "code",
   "execution_count": 29,
   "metadata": {
    "ExecuteTime": {
     "end_time": "2021-02-23T13:02:04.238999Z",
     "start_time": "2021-02-23T13:02:04.236192Z"
    },
    "hidden": true
   },
   "outputs": [
    {
     "data": {
      "text/plain": [
       "140114584340720"
      ]
     },
     "execution_count": 29,
     "metadata": {},
     "output_type": "execute_result"
    }
   ],
   "source": [
    "# stampo l'id\n",
    "id(s1)"
   ]
  },
  {
   "cell_type": "code",
   "execution_count": 30,
   "metadata": {
    "ExecuteTime": {
     "end_time": "2021-02-23T13:02:08.141986Z",
     "start_time": "2021-02-23T13:02:08.139966Z"
    },
    "hidden": true
   },
   "outputs": [],
   "source": [
    "s1 = s1.upper()"
   ]
  },
  {
   "cell_type": "code",
   "execution_count": 31,
   "metadata": {
    "ExecuteTime": {
     "end_time": "2021-02-23T13:02:09.911280Z",
     "start_time": "2021-02-23T13:02:09.908755Z"
    },
    "hidden": true
   },
   "outputs": [
    {
     "data": {
      "text/plain": [
       "'CIAO MONDO'"
      ]
     },
     "execution_count": 31,
     "metadata": {},
     "output_type": "execute_result"
    }
   ],
   "source": [
    "s1"
   ]
  },
  {
   "cell_type": "code",
   "execution_count": 32,
   "metadata": {
    "ExecuteTime": {
     "end_time": "2021-02-23T13:02:11.241818Z",
     "start_time": "2021-02-23T13:02:11.239247Z"
    },
    "hidden": true
   },
   "outputs": [
    {
     "data": {
      "text/plain": [
       "140114365665776"
      ]
     },
     "execution_count": 32,
     "metadata": {},
     "output_type": "execute_result"
    }
   ],
   "source": [
    "# stampo l'id\n",
    "id(s1)"
   ]
  },
  {
   "cell_type": "markdown",
   "metadata": {
    "hidden": true
   },
   "source": [
    "Gli id sono diversi perché ho legato all'etichetta *s1* due stringhe diverse"
   ]
  },
  {
   "cell_type": "markdown",
   "metadata": {
    "hidden": true
   },
   "source": [
    "Le liste invece possono essere modificate:"
   ]
  },
  {
   "cell_type": "code",
   "execution_count": 22,
   "metadata": {
    "ExecuteTime": {
     "end_time": "2021-02-23T12:59:41.130133Z",
     "start_time": "2021-02-23T12:59:41.127971Z"
    },
    "hidden": true
   },
   "outputs": [],
   "source": [
    "# creo una lista di 5 elementi\n",
    "a = [1,3,5,7,9]"
   ]
  },
  {
   "cell_type": "code",
   "execution_count": 25,
   "metadata": {
    "ExecuteTime": {
     "end_time": "2021-02-23T13:00:19.858278Z",
     "start_time": "2021-02-23T13:00:19.854187Z"
    },
    "hidden": true
   },
   "outputs": [
    {
     "data": {
      "text/plain": [
       "140114365676832"
      ]
     },
     "execution_count": 25,
     "metadata": {},
     "output_type": "execute_result"
    }
   ],
   "source": [
    "# stamp il suo id\n",
    "id(a)"
   ]
  },
  {
   "cell_type": "code",
   "execution_count": 23,
   "metadata": {
    "ExecuteTime": {
     "end_time": "2021-02-23T12:59:59.123408Z",
     "start_time": "2021-02-23T12:59:59.121221Z"
    },
    "hidden": true
   },
   "outputs": [],
   "source": [
    "# apprendo (cioè aggiungo alla fine) un valore alla lista 'a'\n",
    "a.append(11)"
   ]
  },
  {
   "cell_type": "code",
   "execution_count": 24,
   "metadata": {
    "ExecuteTime": {
     "end_time": "2021-02-23T13:00:02.162742Z",
     "start_time": "2021-02-23T13:00:02.160630Z"
    },
    "hidden": true
   },
   "outputs": [
    {
     "name": "stdout",
     "output_type": "stream",
     "text": [
      "[1, 3, 5, 7, 9, 11]\n"
     ]
    }
   ],
   "source": [
    "# ora la lista a è composta da\n",
    "print(a)"
   ]
  },
  {
   "cell_type": "code",
   "execution_count": 26,
   "metadata": {
    "ExecuteTime": {
     "end_time": "2021-02-23T13:00:31.479095Z",
     "start_time": "2021-02-23T13:00:31.476008Z"
    },
    "hidden": true
   },
   "outputs": [
    {
     "data": {
      "text/plain": [
       "140114365676832"
      ]
     },
     "execution_count": 26,
     "metadata": {},
     "output_type": "execute_result"
    }
   ],
   "source": [
    "# stamp il suo id\n",
    "id(a)"
   ]
  },
  {
   "cell_type": "markdown",
   "metadata": {
    "hidden": true
   },
   "source": [
    "L'id è lo stesso perché ho modificato la lista originale aggiungendo un nuovo elemento, ma la lista fa sempre riferimento allo stesso oggetto"
   ]
  },
  {
   "cell_type": "markdown",
   "metadata": {
    "heading_collapsed": true,
    "hidden": true
   },
   "source": [
    "## Modificare uno o più elementi di una lista"
   ]
  },
  {
   "cell_type": "markdown",
   "metadata": {
    "hidden": true
   },
   "source": [
    "In virtù della sua mutabilità, una lista può essere modificata:"
   ]
  },
  {
   "cell_type": "code",
   "execution_count": 33,
   "metadata": {
    "ExecuteTime": {
     "end_time": "2021-02-23T13:04:46.853045Z",
     "start_time": "2021-02-23T13:04:46.850980Z"
    },
    "hidden": true
   },
   "outputs": [],
   "source": [
    "a = [1,3,5,7,9]"
   ]
  },
  {
   "cell_type": "code",
   "execution_count": 34,
   "metadata": {
    "ExecuteTime": {
     "end_time": "2021-02-23T13:04:55.168929Z",
     "start_time": "2021-02-23T13:04:55.165338Z"
    },
    "hidden": true
   },
   "outputs": [],
   "source": [
    "# Posso riassegnare un valore (tramite l'accesso con l'indice)\n",
    "a[2] = 100"
   ]
  },
  {
   "cell_type": "code",
   "execution_count": 35,
   "metadata": {
    "ExecuteTime": {
     "end_time": "2021-02-23T13:04:57.968613Z",
     "start_time": "2021-02-23T13:04:57.965911Z"
    },
    "hidden": true
   },
   "outputs": [
    {
     "data": {
      "text/plain": [
       "[1, 3, 100, 7, 9]"
      ]
     },
     "execution_count": 35,
     "metadata": {},
     "output_type": "execute_result"
    }
   ],
   "source": [
    "a"
   ]
  },
  {
   "cell_type": "code",
   "execution_count": 42,
   "metadata": {
    "ExecuteTime": {
     "end_time": "2021-02-23T13:07:38.453663Z",
     "start_time": "2021-02-23T13:07:38.451651Z"
    },
    "hidden": true
   },
   "outputs": [],
   "source": [
    "# Posso riassegnare più valori\n",
    "a[:2] = [123, 500]"
   ]
  },
  {
   "cell_type": "code",
   "execution_count": 43,
   "metadata": {
    "ExecuteTime": {
     "end_time": "2021-02-23T13:07:40.724770Z",
     "start_time": "2021-02-23T13:07:40.719141Z"
    },
    "hidden": true
   },
   "outputs": [
    {
     "data": {
      "text/plain": [
       "[123, 500, 100, 7, 9]"
      ]
     },
     "execution_count": 43,
     "metadata": {},
     "output_type": "execute_result"
    }
   ],
   "source": [
    "a"
   ]
  },
  {
   "cell_type": "markdown",
   "metadata": {
    "ExecuteTime": {
     "end_time": "2021-02-23T13:06:17.471123Z",
     "start_time": "2021-02-23T13:06:17.458734Z"
    },
    "heading_collapsed": true,
    "hidden": true
   },
   "source": [
    "## Alcune funzioni utili"
   ]
  },
  {
   "cell_type": "markdown",
   "metadata": {
    "hidden": true
   },
   "source": [
    "Le funzioni operano sulle liste ma **NON** alterano il contenuto della lista originale"
   ]
  },
  {
   "cell_type": "code",
   "execution_count": 44,
   "metadata": {
    "ExecuteTime": {
     "end_time": "2021-02-23T13:08:01.451768Z",
     "start_time": "2021-02-23T13:08:01.447215Z"
    },
    "hidden": true
   },
   "outputs": [
    {
     "data": {
      "text/plain": [
       "5"
      ]
     },
     "execution_count": 44,
     "metadata": {},
     "output_type": "execute_result"
    }
   ],
   "source": [
    "# Lunghezza di una lista\n",
    "len(a)"
   ]
  },
  {
   "cell_type": "code",
   "execution_count": 46,
   "metadata": {
    "ExecuteTime": {
     "end_time": "2021-02-23T13:08:25.811987Z",
     "start_time": "2021-02-23T13:08:25.803819Z"
    },
    "hidden": true
   },
   "outputs": [
    {
     "data": {
      "text/plain": [
       "739"
      ]
     },
     "execution_count": 46,
     "metadata": {},
     "output_type": "execute_result"
    }
   ],
   "source": [
    "# somma tutti i valori presenti in una lista\n",
    "sum(a)"
   ]
  },
  {
   "cell_type": "code",
   "execution_count": 48,
   "metadata": {
    "ExecuteTime": {
     "end_time": "2021-02-23T13:08:57.552031Z",
     "start_time": "2021-02-23T13:08:57.547288Z"
    },
    "hidden": true
   },
   "outputs": [
    {
     "ename": "TypeError",
     "evalue": "unsupported operand type(s) for +: 'int' and 'str'",
     "output_type": "error",
     "traceback": [
      "\u001b[0;31m---------------------------------------------------------------------------\u001b[0m",
      "\u001b[0;31mTypeError\u001b[0m                                 Traceback (most recent call last)",
      "\u001b[0;32m<ipython-input-48-2f2447e517a5>\u001b[0m in \u001b[0;36m<module>\u001b[0;34m\u001b[0m\n\u001b[1;32m      1\u001b[0m \u001b[0;31m# Non posso sommare i valori di una lista se uno o pi\\ elementi sono stringhe\u001b[0m\u001b[0;34m\u001b[0m\u001b[0;34m\u001b[0m\u001b[0;34m\u001b[0m\u001b[0m\n\u001b[0;32m----> 2\u001b[0;31m \u001b[0msum\u001b[0m\u001b[0;34m(\u001b[0m\u001b[0;34m[\u001b[0m\u001b[0;36m1\u001b[0m\u001b[0;34m,\u001b[0m\u001b[0;36m3\u001b[0m\u001b[0;34m,\u001b[0m\u001b[0;36m5\u001b[0m\u001b[0;34m,\u001b[0m\u001b[0;34m\"ciao\"\u001b[0m\u001b[0;34m]\u001b[0m\u001b[0;34m)\u001b[0m\u001b[0;34m\u001b[0m\u001b[0;34m\u001b[0m\u001b[0m\n\u001b[0m",
      "\u001b[0;31mTypeError\u001b[0m: unsupported operand type(s) for +: 'int' and 'str'"
     ]
    }
   ],
   "source": [
    "# Non posso sommare i valori di una lista se uno o pi\\ elementi sono stringhe\n",
    "sum([1,3,5,\"ciao\"])"
   ]
  },
  {
   "cell_type": "code",
   "execution_count": 50,
   "metadata": {
    "ExecuteTime": {
     "end_time": "2021-02-23T13:09:57.314170Z",
     "start_time": "2021-02-23T13:09:57.309203Z"
    },
    "hidden": true
   },
   "outputs": [
    {
     "data": {
      "text/plain": [
       "7"
      ]
     },
     "execution_count": 50,
     "metadata": {},
     "output_type": "execute_result"
    }
   ],
   "source": [
    "min(a)"
   ]
  },
  {
   "cell_type": "code",
   "execution_count": 51,
   "metadata": {
    "ExecuteTime": {
     "end_time": "2021-02-23T13:10:02.508853Z",
     "start_time": "2021-02-23T13:10:02.505988Z"
    },
    "hidden": true
   },
   "outputs": [
    {
     "data": {
      "text/plain": [
       "500"
      ]
     },
     "execution_count": 51,
     "metadata": {},
     "output_type": "execute_result"
    }
   ],
   "source": [
    "max(a)"
   ]
  },
  {
   "cell_type": "code",
   "execution_count": 53,
   "metadata": {
    "ExecuteTime": {
     "end_time": "2021-02-23T13:10:13.762670Z",
     "start_time": "2021-02-23T13:10:13.756910Z"
    },
    "hidden": true
   },
   "outputs": [
    {
     "data": {
      "text/plain": [
       "[7, 9, 100, 123, 500]"
      ]
     },
     "execution_count": 53,
     "metadata": {},
     "output_type": "execute_result"
    }
   ],
   "source": [
    "sorted(a)"
   ]
  },
  {
   "cell_type": "markdown",
   "metadata": {
    "heading_collapsed": true,
    "hidden": true
   },
   "source": [
    "## Operatori su liste"
   ]
  },
  {
   "cell_type": "code",
   "execution_count": 65,
   "metadata": {
    "ExecuteTime": {
     "end_time": "2021-02-23T13:18:00.548953Z",
     "start_time": "2021-02-23T13:18:00.546956Z"
    },
    "hidden": true
   },
   "outputs": [],
   "source": [
    "b = [1,2,3]"
   ]
  },
  {
   "cell_type": "code",
   "execution_count": 66,
   "metadata": {
    "ExecuteTime": {
     "end_time": "2021-02-23T13:18:07.139037Z",
     "start_time": "2021-02-23T13:18:07.135667Z"
    },
    "hidden": true
   },
   "outputs": [
    {
     "data": {
      "text/plain": [
       "[1, 2, 3, 4, 5]"
      ]
     },
     "execution_count": 66,
     "metadata": {},
     "output_type": "execute_result"
    }
   ],
   "source": [
    "b + [4,5]"
   ]
  },
  {
   "cell_type": "code",
   "execution_count": 67,
   "metadata": {
    "ExecuteTime": {
     "end_time": "2021-02-23T13:18:14.103019Z",
     "start_time": "2021-02-23T13:18:14.098635Z"
    },
    "hidden": true
   },
   "outputs": [
    {
     "data": {
      "text/plain": [
       "[1, 2, 3, 1, 2, 3, 1, 2, 3]"
      ]
     },
     "execution_count": 67,
     "metadata": {},
     "output_type": "execute_result"
    }
   ],
   "source": [
    "b * 3"
   ]
  },
  {
   "cell_type": "markdown",
   "metadata": {
    "ExecuteTime": {
     "end_time": "2021-02-23T13:19:00.886011Z",
     "start_time": "2021-02-23T13:19:00.883384Z"
    },
    "hidden": true
   },
   "source": [
    "I due operatori (+,\\*) **NON** modificano la lista originaria, ma restituiscono una nuova lista"
   ]
  },
  {
   "cell_type": "markdown",
   "metadata": {
    "heading_collapsed": true,
    "hidden": true
   },
   "source": [
    "## Alcuni metodi sulle liste"
   ]
  },
  {
   "cell_type": "code",
   "execution_count": 59,
   "metadata": {
    "ExecuteTime": {
     "end_time": "2021-02-23T13:15:23.880280Z",
     "start_time": "2021-02-23T13:15:23.877140Z"
    },
    "hidden": true
   },
   "outputs": [
    {
     "data": {
      "text/plain": [
       "['__add__',\n",
       " '__class__',\n",
       " '__contains__',\n",
       " '__delattr__',\n",
       " '__delitem__',\n",
       " '__dir__',\n",
       " '__doc__',\n",
       " '__eq__',\n",
       " '__format__',\n",
       " '__ge__',\n",
       " '__getattribute__',\n",
       " '__getitem__',\n",
       " '__gt__',\n",
       " '__hash__',\n",
       " '__iadd__',\n",
       " '__imul__',\n",
       " '__init__',\n",
       " '__init_subclass__',\n",
       " '__iter__',\n",
       " '__le__',\n",
       " '__len__',\n",
       " '__lt__',\n",
       " '__mul__',\n",
       " '__ne__',\n",
       " '__new__',\n",
       " '__reduce__',\n",
       " '__reduce_ex__',\n",
       " '__repr__',\n",
       " '__reversed__',\n",
       " '__rmul__',\n",
       " '__setattr__',\n",
       " '__setitem__',\n",
       " '__sizeof__',\n",
       " '__str__',\n",
       " '__subclasshook__',\n",
       " 'append',\n",
       " 'clear',\n",
       " 'copy',\n",
       " 'count',\n",
       " 'extend',\n",
       " 'index',\n",
       " 'insert',\n",
       " 'pop',\n",
       " 'remove',\n",
       " 'reverse',\n",
       " 'sort']"
      ]
     },
     "execution_count": 59,
     "metadata": {},
     "output_type": "execute_result"
    }
   ],
   "source": [
    "dir(list)"
   ]
  },
  {
   "cell_type": "code",
   "execution_count": 60,
   "metadata": {
    "ExecuteTime": {
     "end_time": "2021-02-23T13:15:58.846461Z",
     "start_time": "2021-02-23T13:15:58.841283Z"
    },
    "hidden": true
   },
   "outputs": [],
   "source": [
    "# Aggiungo un elemento alla fi9ne della lista"
   ]
  },
  {
   "cell_type": "code",
   "execution_count": 61,
   "metadata": {
    "ExecuteTime": {
     "end_time": "2021-02-23T13:16:12.007345Z",
     "start_time": "2021-02-23T13:16:12.005017Z"
    },
    "hidden": true
   },
   "outputs": [],
   "source": [
    "a.append(1000)"
   ]
  },
  {
   "cell_type": "code",
   "execution_count": 62,
   "metadata": {
    "ExecuteTime": {
     "end_time": "2021-02-23T13:16:58.857792Z",
     "start_time": "2021-02-23T13:16:58.855736Z"
    },
    "hidden": true
   },
   "outputs": [],
   "source": [
    "# Concateno due liste\n",
    "\n",
    "a.extend([300,301,302])"
   ]
  },
  {
   "cell_type": "code",
   "execution_count": 78,
   "metadata": {
    "ExecuteTime": {
     "end_time": "2021-02-23T13:20:39.542555Z",
     "start_time": "2021-02-23T13:20:39.540079Z"
    },
    "hidden": true
   },
   "outputs": [
    {
     "data": {
      "text/plain": [
       "300"
      ]
     },
     "execution_count": 78,
     "metadata": {},
     "output_type": "execute_result"
    }
   ],
   "source": [
    "# Ritorna l'ultimo elento della lista e lo rimuovo dall'originale\n",
    "a.pop()"
   ]
  },
  {
   "cell_type": "code",
   "execution_count": 77,
   "metadata": {
    "ExecuteTime": {
     "end_time": "2021-02-23T13:20:12.164076Z",
     "start_time": "2021-02-23T13:20:12.158335Z"
    },
    "hidden": true
   },
   "outputs": [
    {
     "data": {
      "text/plain": [
       "[7, 9, 100, 123, 500, 1000, 300]"
      ]
     },
     "execution_count": 77,
     "metadata": {},
     "output_type": "execute_result"
    }
   ],
   "source": [
    "a"
   ]
  },
  {
   "cell_type": "code",
   "execution_count": 82,
   "metadata": {
    "ExecuteTime": {
     "end_time": "2021-02-23T13:23:33.154556Z",
     "start_time": "2021-02-23T13:23:33.151978Z"
    },
    "hidden": true
   },
   "outputs": [
    {
     "data": {
      "text/plain": [
       "100"
      ]
     },
     "execution_count": 82,
     "metadata": {},
     "output_type": "execute_result"
    }
   ],
   "source": [
    "# Il metodo pop accetta un argomento, che è l'indice dell'elemento da eliminare\n",
    "# Elimino il secondo elemento (indice 1):\n",
    "a.pop(1)"
   ]
  },
  {
   "cell_type": "code",
   "execution_count": 84,
   "metadata": {
    "ExecuteTime": {
     "end_time": "2021-02-23T13:23:43.008909Z",
     "start_time": "2021-02-23T13:23:43.005694Z"
    },
    "hidden": true
   },
   "outputs": [
    {
     "data": {
      "text/plain": [
       "[9, 123, 500, 1000]"
      ]
     },
     "execution_count": 84,
     "metadata": {},
     "output_type": "execute_result"
    }
   ],
   "source": [
    "a"
   ]
  },
  {
   "cell_type": "code",
   "execution_count": 98,
   "metadata": {
    "ExecuteTime": {
     "end_time": "2021-02-23T13:43:46.378967Z",
     "start_time": "2021-02-23T13:43:46.376418Z"
    },
    "hidden": true
   },
   "outputs": [
    {
     "data": {
      "text/plain": [
       "2"
      ]
     },
     "execution_count": 98,
     "metadata": {},
     "output_type": "execute_result"
    }
   ],
   "source": [
    "# Restituisce l'indice dell'elemento con valore 500\n",
    "a.index(500)"
   ]
  },
  {
   "cell_type": "markdown",
   "metadata": {
    "heading_collapsed": true,
    "hidden": true
   },
   "source": [
    "## L'operatore *in*"
   ]
  },
  {
   "cell_type": "markdown",
   "metadata": {
    "hidden": true
   },
   "source": [
    "Come per le stringhe, la parola riservata **in** permette di verificare la presenza di un elemento in una lista"
   ]
  },
  {
   "cell_type": "code",
   "execution_count": 106,
   "metadata": {
    "ExecuteTime": {
     "end_time": "2021-02-23T14:14:02.658271Z",
     "start_time": "2021-02-23T14:14:02.650765Z"
    },
    "hidden": true
   },
   "outputs": [],
   "source": [
    "nomi = [\"Mario\", \"Alfredo\", \"Giacomo\", \"Antonella\", \"Goffredo\"]"
   ]
  },
  {
   "cell_type": "code",
   "execution_count": 107,
   "metadata": {
    "ExecuteTime": {
     "end_time": "2021-02-23T14:14:09.969072Z",
     "start_time": "2021-02-23T14:14:09.960431Z"
    },
    "hidden": true
   },
   "outputs": [
    {
     "data": {
      "text/plain": [
       "True"
      ]
     },
     "execution_count": 107,
     "metadata": {},
     "output_type": "execute_result"
    }
   ],
   "source": [
    "\"Mario\" in nomi"
   ]
  },
  {
   "cell_type": "code",
   "execution_count": 109,
   "metadata": {
    "ExecuteTime": {
     "end_time": "2021-02-23T14:15:24.496289Z",
     "start_time": "2021-02-23T14:15:24.487576Z"
    },
    "hidden": true
   },
   "outputs": [
    {
     "name": "stdout",
     "output_type": "stream",
     "text": [
      "Alfredo è presente\n"
     ]
    }
   ],
   "source": [
    "# Possiamo usare *in* nelle istruzioni condizionali:\n",
    "\n",
    "if \"Alfredo\" in nomi:\n",
    "    print(\"Alfredo è presente\")\n",
    "else:\n",
    "    print(\"Alfredo è assente\")"
   ]
  },
  {
   "cell_type": "markdown",
   "metadata": {},
   "source": [
    "# Iterazione"
   ]
  },
  {
   "cell_type": "markdown",
   "metadata": {},
   "source": [
    "## Descrizione"
   ]
  },
  {
   "cell_type": "markdown",
   "metadata": {},
   "source": [
    "L'azione di ripetere un processo al fine di raggiungere un obiettivo o un risultato desiderato"
   ]
  },
  {
   "cell_type": "markdown",
   "metadata": {},
   "source": [
    "In python si usano due parole riservate per effettuare processi iterativi: **for** e **while**"
   ]
  },
  {
   "cell_type": "markdown",
   "metadata": {},
   "source": [
    "## for"
   ]
  },
  {
   "cell_type": "markdown",
   "metadata": {},
   "source": [
    "Tramite un ciclo **for** è possibile *iterare* su una progressione numerica o sugli elementi di una collezione iterabile. In python gli iterabili più comuni sono le liste, le stringhe, le tuple, i generatori."
   ]
  },
  {
   "cell_type": "markdown",
   "metadata": {},
   "source": [
    "La forma generale del costrutto è:\n",
    "\n",
    "```python\n",
    "for etichetta in iterabile:\n",
    "    # fai qualcosa\n",
    "```\n",
    "\n",
    "dove *etichetta* è la variabile in cui viene scritto il valore preso da *iterabile* ad ogni iterazione"
   ]
  },
  {
   "cell_type": "markdown",
   "metadata": {},
   "source": [
    "In python un iterabile è un oggetto su cui si può iterare. Le liste e le stringhe sono iterabili, ma ce ne sono molti altri. Per verificare che un oggetto sia iterabile, si può vedere se possiede il metodo speciale **\\_\\_iter\\_\\_()**"
   ]
  },
  {
   "cell_type": "code",
   "execution_count": 144,
   "metadata": {
    "ExecuteTime": {
     "end_time": "2021-02-23T15:07:39.590605Z",
     "start_time": "2021-02-23T15:07:39.581488Z"
    }
   },
   "outputs": [
    {
     "data": {
      "text/plain": [
       "True"
      ]
     },
     "execution_count": 144,
     "metadata": {},
     "output_type": "execute_result"
    }
   ],
   "source": [
    "hasattr(list,\"__iter__\")"
   ]
  },
  {
   "cell_type": "code",
   "execution_count": 145,
   "metadata": {
    "ExecuteTime": {
     "end_time": "2021-02-23T15:07:43.480681Z",
     "start_time": "2021-02-23T15:07:43.478227Z"
    }
   },
   "outputs": [],
   "source": [
    "note = [\"do\",\"re\",\"mi\",\"fa\",\"sol\",\"la\",\"si\",\"do\"]"
   ]
  },
  {
   "cell_type": "code",
   "execution_count": 146,
   "metadata": {
    "ExecuteTime": {
     "end_time": "2021-02-23T15:07:44.667258Z",
     "start_time": "2021-02-23T15:07:44.664424Z"
    }
   },
   "outputs": [
    {
     "name": "stdout",
     "output_type": "stream",
     "text": [
      "la nota è do\n",
      "la nota è re\n",
      "la nota è mi\n",
      "la nota è fa\n",
      "la nota è sol\n",
      "la nota è la\n",
      "la nota è si\n",
      "la nota è do\n"
     ]
    }
   ],
   "source": [
    "for nota in note:\n",
    "    print(f\"la nota è {nota}\")"
   ]
  },
  {
   "cell_type": "markdown",
   "metadata": {},
   "source": [
    "+ prima iterazione: la variabile *nota* equivale alla stringa \"do\"   \n",
    "+ seconda iterazione: la variabile *nota* equivale alla stringa \"re\"   \n",
    "+ terza iterazione: la variabile *nota* equivale alla stringa \"mi\"   \n",
    "+ ..."
   ]
  },
  {
   "cell_type": "markdown",
   "metadata": {},
   "source": [
    "Per semplificare: *scorriamo* la lista elemento per elemento e mettiamo il valore dell'elemento nell'etichetta dichiarata all'inizio del *for*"
   ]
  },
  {
   "cell_type": "code",
   "execution_count": 120,
   "metadata": {
    "ExecuteTime": {
     "end_time": "2021-02-23T14:33:52.852693Z",
     "start_time": "2021-02-23T14:33:52.844907Z"
    }
   },
   "outputs": [
    {
     "name": "stdout",
     "output_type": "stream",
     "text": [
      "do\n",
      "re\n",
      "mi\n",
      "fa\n",
      "sol\n",
      "la\n",
      "si\n"
     ]
    }
   ],
   "source": [
    "# Possiamo iterare su una slice della lista, invece che sulla lista intera:\n",
    "\n",
    "for nota in note[:-1]:\n",
    "    print(nota)"
   ]
  },
  {
   "cell_type": "markdown",
   "metadata": {},
   "source": [
    "### Esercizio"
   ]
  },
  {
   "cell_type": "markdown",
   "metadata": {},
   "source": [
    "Data una lista di note scritte in minuscolo, stampare tutti gli elementi in caratteri invertiti e maiuscoli.  \n",
    "Output:\n",
    "\n",
    "OD   \n",
    "ER   \n",
    "IM   \n",
    "AF   \n",
    "LOS   \n",
    "AL   \n",
    "IS   \n",
    "OD   "
   ]
  },
  {
   "cell_type": "code",
   "execution_count": 154,
   "metadata": {
    "ExecuteTime": {
     "end_time": "2021-02-23T15:19:56.983149Z",
     "start_time": "2021-02-23T15:19:56.980933Z"
    }
   },
   "outputs": [],
   "source": [
    "# creo la lista di note minuscole\n",
    "\n",
    "note = [\"do\",\"re\",\"mi\",\"fa\",\"sol\",\"la\",\"si\",\"do\"]"
   ]
  },
  {
   "cell_type": "code",
   "execution_count": 155,
   "metadata": {
    "ExecuteTime": {
     "end_time": "2021-02-23T15:19:58.459393Z",
     "start_time": "2021-02-23T15:19:58.452907Z"
    }
   },
   "outputs": [
    {
     "name": "stdout",
     "output_type": "stream",
     "text": [
      "OD\n",
      "ER\n",
      "IM\n",
      "AF\n",
      "LOS\n",
      "AL\n",
      "IS\n",
      "OD\n"
     ]
    }
   ],
   "source": [
    "# itero sulla lista con un ciclo for\n",
    "\n",
    "for nota in note:\n",
    "    # stampo ad ogni iterazione il valore della variabile nota trasformato in maiuscolo\n",
    "    maiuscolo = nota.upper()\n",
    "    print(maiuscolo[::-1])"
   ]
  },
  {
   "cell_type": "markdown",
   "metadata": {},
   "source": [
    "## Iterare su una stringa"
   ]
  },
  {
   "cell_type": "code",
   "execution_count": 158,
   "metadata": {
    "ExecuteTime": {
     "end_time": "2021-02-23T15:24:35.003511Z",
     "start_time": "2021-02-23T15:24:35.001450Z"
    }
   },
   "outputs": [],
   "source": [
    "frase = \"Nel mezzo del cammin di nostra vita\""
   ]
  },
  {
   "cell_type": "code",
   "execution_count": 166,
   "metadata": {
    "ExecuteTime": {
     "end_time": "2021-02-23T15:28:05.434478Z",
     "start_time": "2021-02-23T15:28:05.429177Z"
    }
   },
   "outputs": [
    {
     "name": "stdout",
     "output_type": "stream",
     "text": [
      "N\n",
      "e\n",
      "l\n",
      "m\n",
      "e\n",
      "z\n",
      "z\n",
      "o\n",
      "d\n",
      "e\n",
      "l\n",
      "c\n",
      "a\n",
      "m\n",
      "m\n",
      "i\n",
      "n\n",
      "d\n",
      "i\n",
      "n\n",
      "o\n",
      "s\n",
      "t\n",
      "r\n",
      "a\n",
      "v\n",
      "i\n",
      "t\n",
      "a\n"
     ]
    }
   ],
   "source": [
    "for carattere in frase:\n",
    "    if carattere != \" \":\n",
    "        print(carattere)"
   ]
  },
  {
   "cell_type": "code",
   "execution_count": null,
   "metadata": {},
   "outputs": [],
   "source": []
  },
  {
   "cell_type": "code",
   "execution_count": null,
   "metadata": {},
   "outputs": [],
   "source": []
  },
  {
   "cell_type": "code",
   "execution_count": null,
   "metadata": {},
   "outputs": [],
   "source": []
  },
  {
   "cell_type": "code",
   "execution_count": null,
   "metadata": {},
   "outputs": [],
   "source": []
  },
  {
   "cell_type": "markdown",
   "metadata": {},
   "source": [
    "Per iterare su una progressione numerica usiamo la funzione **range()**, che si usa nelle seguenti forme:  \n",
    "```python\n",
    "range([numero]) # genera la progressione da 0 a numero (escluso)\n",
    "range([inizio,fine]) # genera la progressione da inizio a fine (escluso)\n",
    "range([inizio, fine, step]) # genera la progressione da inizio a fine (escluso) procedendo per step\n",
    "```"
   ]
  },
  {
   "cell_type": "code",
   "execution_count": 123,
   "metadata": {
    "ExecuteTime": {
     "end_time": "2021-02-23T14:40:21.468270Z",
     "start_time": "2021-02-23T14:40:21.465725Z"
    }
   },
   "outputs": [
    {
     "name": "stdout",
     "output_type": "stream",
     "text": [
      "0\n",
      "1\n",
      "2\n",
      "3\n",
      "4\n"
     ]
    }
   ],
   "source": [
    "for numero in range(5):\n",
    "    print(numero)"
   ]
  },
  {
   "cell_type": "code",
   "execution_count": 124,
   "metadata": {
    "ExecuteTime": {
     "end_time": "2021-02-23T14:40:47.416821Z",
     "start_time": "2021-02-23T14:40:47.406078Z"
    }
   },
   "outputs": [
    {
     "name": "stdout",
     "output_type": "stream",
     "text": [
      "5\n",
      "6\n",
      "7\n",
      "8\n",
      "9\n"
     ]
    }
   ],
   "source": [
    "for numero in range(5,10):\n",
    "    print(numero)"
   ]
  },
  {
   "cell_type": "code",
   "execution_count": 126,
   "metadata": {
    "ExecuteTime": {
     "end_time": "2021-02-23T14:41:24.911195Z",
     "start_time": "2021-02-23T14:41:24.908507Z"
    }
   },
   "outputs": [
    {
     "name": "stdout",
     "output_type": "stream",
     "text": [
      "3\n",
      "6\n",
      "9\n",
      "12\n",
      "15\n",
      "18\n"
     ]
    }
   ],
   "source": [
    "for numero in range(3,20,3):\n",
    "    print(numero)"
   ]
  }
 ],
 "metadata": {
  "kernelspec": {
   "display_name": "Python 3",
   "language": "python",
   "name": "python3"
  },
  "language_info": {
   "codemirror_mode": {
    "name": "ipython",
    "version": 3
   },
   "file_extension": ".py",
   "mimetype": "text/x-python",
   "name": "python",
   "nbconvert_exporter": "python",
   "pygments_lexer": "ipython3",
   "version": "3.7.4"
  },
  "toc": {
   "base_numbering": 1,
   "nav_menu": {},
   "number_sections": true,
   "sideBar": true,
   "skip_h1_title": false,
   "title_cell": "Table of Contents",
   "title_sidebar": "Contents",
   "toc_cell": false,
   "toc_position": {},
   "toc_section_display": true,
   "toc_window_display": false
  }
 },
 "nbformat": 4,
 "nbformat_minor": 2
}
