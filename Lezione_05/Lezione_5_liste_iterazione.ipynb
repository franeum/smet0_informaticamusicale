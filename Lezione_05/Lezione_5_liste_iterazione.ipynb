{
 "cells": [
  {
   "cell_type": "markdown",
   "metadata": {
    "heading_collapsed": true
   },
   "source": [
    "# Liste"
   ]
  },
  {
   "cell_type": "markdown",
   "metadata": {
    "heading_collapsed": true,
    "hidden": true
   },
   "source": [
    "## Descrizione"
   ]
  },
  {
   "cell_type": "markdown",
   "metadata": {
    "hidden": true
   },
   "source": [
    "Il tipo **list** è una struttua che permette di raggruppare (e ordinare) elementi di tipi diversi."
   ]
  },
  {
   "cell_type": "code",
   "execution_count": null,
   "metadata": {
    "ExecuteTime": {
     "end_time": "2021-02-26T17:07:57.202467Z",
     "start_time": "2021-02-26T17:07:57.199025Z"
    },
    "hidden": true
   },
   "outputs": [],
   "source": [
    "# creo una lista vuota\n",
    "lista = []\n",
    "# oppure lista = list()"
   ]
  },
  {
   "cell_type": "code",
   "execution_count": null,
   "metadata": {
    "ExecuteTime": {
     "end_time": "2021-02-26T17:08:03.654817Z",
     "start_time": "2021-02-26T17:08:03.651216Z"
    },
    "hidden": true
   },
   "outputs": [],
   "source": [
    "print(type(lista))"
   ]
  },
  {
   "cell_type": "code",
   "execution_count": null,
   "metadata": {
    "ExecuteTime": {
     "end_time": "2021-02-26T17:05:52.673623Z",
     "start_time": "2021-02-26T17:05:52.670358Z"
    },
    "hidden": true
   },
   "outputs": [],
   "source": [
    "print(lista)"
   ]
  },
  {
   "cell_type": "code",
   "execution_count": null,
   "metadata": {
    "ExecuteTime": {
     "end_time": "2021-02-26T17:11:18.906855Z",
     "start_time": "2021-02-26T17:11:18.903627Z"
    },
    "hidden": true
   },
   "outputs": [],
   "source": [
    "# inserisco valori nella lista (stringhe, interi, float o quant'altro):\n",
    "lista.append(\"una stringa\")"
   ]
  },
  {
   "cell_type": "code",
   "execution_count": null,
   "metadata": {
    "ExecuteTime": {
     "end_time": "2021-02-26T17:11:19.775915Z",
     "start_time": "2021-02-26T17:11:19.772725Z"
    },
    "hidden": true
   },
   "outputs": [],
   "source": [
    "print(lista)"
   ]
  },
  {
   "cell_type": "code",
   "execution_count": null,
   "metadata": {
    "ExecuteTime": {
     "end_time": "2021-02-26T17:11:38.903534Z",
     "start_time": "2021-02-26T17:11:38.899568Z"
    },
    "hidden": true
   },
   "outputs": [],
   "source": [
    "lista.append(3)\n",
    "lista.append(\"ciao\")\n",
    "lista.append(5)\n",
    "lista.append(\"Mondo\")\n",
    "lista.append(12.8)\n",
    "lista.append(15)"
   ]
  },
  {
   "cell_type": "code",
   "execution_count": null,
   "metadata": {
    "ExecuteTime": {
     "end_time": "2021-02-26T17:11:39.854994Z",
     "start_time": "2021-02-26T17:11:39.851799Z"
    },
    "hidden": true
   },
   "outputs": [],
   "source": [
    "print(lista)"
   ]
  },
  {
   "cell_type": "markdown",
   "metadata": {
    "ExecuteTime": {
     "end_time": "2021-02-23T12:47:50.437476Z",
     "start_time": "2021-02-23T12:47:50.434611Z"
    },
    "hidden": true
   },
   "source": [
    "Una lista è indicizzata come una stringa:"
   ]
  },
  {
   "cell_type": "code",
   "execution_count": null,
   "metadata": {
    "ExecuteTime": {
     "end_time": "2021-02-26T17:06:45.703446Z",
     "start_time": "2021-02-26T17:06:45.698721Z"
    },
    "hidden": true
   },
   "outputs": [],
   "source": [
    "lista[0]"
   ]
  },
  {
   "cell_type": "code",
   "execution_count": null,
   "metadata": {
    "ExecuteTime": {
     "end_time": "2021-02-26T17:06:47.091768Z",
     "start_time": "2021-02-26T17:06:47.087810Z"
    },
    "hidden": true
   },
   "outputs": [],
   "source": [
    "lista[-1]"
   ]
  },
  {
   "cell_type": "markdown",
   "metadata": {
    "hidden": true
   },
   "source": [
    "e supporta lo *slicing*"
   ]
  },
  {
   "cell_type": "code",
   "execution_count": null,
   "metadata": {
    "ExecuteTime": {
     "end_time": "2021-02-23T12:49:08.733024Z",
     "start_time": "2021-02-23T12:49:08.728453Z"
    },
    "hidden": true
   },
   "outputs": [],
   "source": [
    "lista[1:3]"
   ]
  },
  {
   "cell_type": "code",
   "execution_count": null,
   "metadata": {
    "ExecuteTime": {
     "end_time": "2021-02-23T12:50:14.849942Z",
     "start_time": "2021-02-23T12:50:14.845378Z"
    },
    "hidden": true
   },
   "outputs": [],
   "source": [
    "lista[1:]"
   ]
  },
  {
   "cell_type": "markdown",
   "metadata": {
    "hidden": true
   },
   "source": [
    "Un elemento di una lista può essere qualunque cosa, inclusa una lista stessa"
   ]
  },
  {
   "cell_type": "code",
   "execution_count": null,
   "metadata": {
    "ExecuteTime": {
     "end_time": "2021-02-26T17:12:54.189898Z",
     "start_time": "2021-02-26T17:12:54.185111Z"
    },
    "hidden": true
   },
   "outputs": [],
   "source": [
    "# creo una lista (non vuota)\n",
    "\n",
    "c = [1, 3, 5, 7, [2,4,6]]\n",
    "c"
   ]
  },
  {
   "cell_type": "markdown",
   "metadata": {
    "hidden": true
   },
   "source": [
    "Quando un elemento di una lista è una lista, viene indicizzato come gli altri"
   ]
  },
  {
   "cell_type": "code",
   "execution_count": null,
   "metadata": {
    "ExecuteTime": {
     "end_time": "2021-02-26T17:13:05.997658Z",
     "start_time": "2021-02-26T17:13:05.994006Z"
    },
    "hidden": true
   },
   "outputs": [],
   "source": [
    "# Il quinto elemento della lista c è una lista\n",
    "c[4]"
   ]
  },
  {
   "cell_type": "markdown",
   "metadata": {
    "hidden": true
   },
   "source": [
    "Rappresentiamo la lista:\n",
    "\n",
    "| indice | elemento |\n",
    "| --- | --- |\n",
    "| 0 | 1|\n",
    "|1|3|\n",
    "|2|5|\n",
    "|3|7|\n",
    "|4|[2,4,6]|"
   ]
  },
  {
   "cell_type": "code",
   "execution_count": null,
   "metadata": {
    "ExecuteTime": {
     "end_time": "2021-02-23T13:37:04.693444Z",
     "start_time": "2021-02-23T13:37:04.687821Z"
    },
    "hidden": true
   },
   "outputs": [],
   "source": [
    "# Se volessimo accedere al secondo elemento della lista 'interna'\n",
    "# prendiamo la lista interna (che si trova all'indice 4) e la mettiamo in una nuova variabile\n",
    "\n",
    "interna = c[4]"
   ]
  },
  {
   "cell_type": "code",
   "execution_count": null,
   "metadata": {
    "ExecuteTime": {
     "end_time": "2021-02-23T13:41:31.348701Z",
     "start_time": "2021-02-23T13:41:31.345287Z"
    },
    "hidden": true
   },
   "outputs": [],
   "source": [
    "# Poi prendiamo da questa lista interna il secondo elemento (indice 1)\n",
    "\n",
    "interna[1]"
   ]
  },
  {
   "cell_type": "code",
   "execution_count": null,
   "metadata": {
    "ExecuteTime": {
     "end_time": "2021-02-23T13:41:57.434510Z",
     "start_time": "2021-02-23T13:41:57.428469Z"
    },
    "hidden": true
   },
   "outputs": [],
   "source": [
    "# Per abbreviare possiamo usare la notazione a indice doppia:\n",
    "c[4][1]"
   ]
  },
  {
   "cell_type": "markdown",
   "metadata": {
    "heading_collapsed": true,
    "hidden": true
   },
   "source": [
    "## Oggetti mutabili e immutabili"
   ]
  },
  {
   "cell_type": "markdown",
   "metadata": {
    "hidden": true
   },
   "source": [
    "La lista è un tipo di dato **mutabile**, mentre la stringa e i numeri sono **immutabili**. Questo significa che una volta assegnata una stringa ad una variabile, non possiamo in alcun modo cambiarla"
   ]
  },
  {
   "cell_type": "code",
   "execution_count": null,
   "metadata": {
    "ExecuteTime": {
     "end_time": "2021-02-26T17:15:00.353343Z",
     "start_time": "2021-02-26T17:15:00.350770Z"
    },
    "hidden": true
   },
   "outputs": [],
   "source": [
    "s1 = \"ciao mondo\""
   ]
  },
  {
   "cell_type": "markdown",
   "metadata": {
    "hidden": true
   },
   "source": [
    "Se chiamiamo un metodo sulla stringa, il risultato dell'esecuzione del metodo non modifica la stringa originale, ma restituisce una nuova stringa"
   ]
  },
  {
   "cell_type": "code",
   "execution_count": null,
   "metadata": {
    "ExecuteTime": {
     "end_time": "2021-02-26T17:15:01.244466Z",
     "start_time": "2021-02-26T17:15:01.240308Z"
    },
    "hidden": true
   },
   "outputs": [],
   "source": [
    "s1.upper()"
   ]
  },
  {
   "cell_type": "code",
   "execution_count": null,
   "metadata": {
    "ExecuteTime": {
     "end_time": "2021-02-26T17:15:02.094390Z",
     "start_time": "2021-02-26T17:15:02.090752Z"
    },
    "hidden": true
   },
   "outputs": [],
   "source": [
    "s1"
   ]
  },
  {
   "cell_type": "code",
   "execution_count": null,
   "metadata": {
    "ExecuteTime": {
     "end_time": "2021-02-26T17:15:03.252339Z",
     "start_time": "2021-02-26T17:15:03.244645Z"
    },
    "hidden": true
   },
   "outputs": [],
   "source": [
    "# non posso riassegnare un carattere all'interno di una stringa\n",
    "s1[3] = \"b\""
   ]
  },
  {
   "cell_type": "markdown",
   "metadata": {
    "hidden": true
   },
   "source": [
    "Possiamo eventualmente prendere la stringa originaria, applicare un metodo che la modifichi, e **riassegnare** la nuova stringa restituita alla stessa variabile che conteneva la stringa originale."
   ]
  },
  {
   "cell_type": "code",
   "execution_count": null,
   "metadata": {
    "ExecuteTime": {
     "end_time": "2021-02-26T17:15:41.327730Z",
     "start_time": "2021-02-26T17:15:41.325443Z"
    },
    "hidden": true
   },
   "outputs": [],
   "source": [
    "s1 = \"ciao mondo\""
   ]
  },
  {
   "cell_type": "code",
   "execution_count": null,
   "metadata": {
    "ExecuteTime": {
     "end_time": "2021-02-26T17:15:43.070497Z",
     "start_time": "2021-02-26T17:15:43.066363Z"
    },
    "hidden": true
   },
   "outputs": [],
   "source": [
    "# stampo l'id\n",
    "id(s1)"
   ]
  },
  {
   "cell_type": "code",
   "execution_count": null,
   "metadata": {
    "ExecuteTime": {
     "end_time": "2021-02-23T13:02:08.141986Z",
     "start_time": "2021-02-23T13:02:08.139966Z"
    },
    "hidden": true
   },
   "outputs": [],
   "source": [
    "s1 = s1.upper()"
   ]
  },
  {
   "cell_type": "code",
   "execution_count": null,
   "metadata": {
    "ExecuteTime": {
     "end_time": "2021-02-23T13:02:09.911280Z",
     "start_time": "2021-02-23T13:02:09.908755Z"
    },
    "hidden": true
   },
   "outputs": [],
   "source": [
    "s1"
   ]
  },
  {
   "cell_type": "code",
   "execution_count": null,
   "metadata": {
    "ExecuteTime": {
     "end_time": "2021-02-23T13:02:11.241818Z",
     "start_time": "2021-02-23T13:02:11.239247Z"
    },
    "hidden": true
   },
   "outputs": [],
   "source": [
    "# stampo l'id\n",
    "id(s1)"
   ]
  },
  {
   "cell_type": "markdown",
   "metadata": {
    "hidden": true
   },
   "source": [
    "Gli id sono diversi perché ho legato all'etichetta *s1* a due stringhe diverse"
   ]
  },
  {
   "cell_type": "markdown",
   "metadata": {
    "hidden": true
   },
   "source": [
    "Le liste invece possono essere modificate:"
   ]
  },
  {
   "cell_type": "code",
   "execution_count": null,
   "metadata": {
    "ExecuteTime": {
     "end_time": "2021-02-23T12:59:41.130133Z",
     "start_time": "2021-02-23T12:59:41.127971Z"
    },
    "hidden": true
   },
   "outputs": [],
   "source": [
    "# creo una lista di 5 elementi\n",
    "a = [1,3,5,7,9]"
   ]
  },
  {
   "cell_type": "code",
   "execution_count": null,
   "metadata": {
    "ExecuteTime": {
     "end_time": "2021-02-23T13:00:19.858278Z",
     "start_time": "2021-02-23T13:00:19.854187Z"
    },
    "hidden": true
   },
   "outputs": [],
   "source": [
    "# stamp il suo id\n",
    "id(a)"
   ]
  },
  {
   "cell_type": "code",
   "execution_count": null,
   "metadata": {
    "ExecuteTime": {
     "end_time": "2021-02-23T12:59:59.123408Z",
     "start_time": "2021-02-23T12:59:59.121221Z"
    },
    "hidden": true
   },
   "outputs": [],
   "source": [
    "# apprendo (cioè aggiungo alla fine) un valore alla lista 'a'\n",
    "a.append(11)"
   ]
  },
  {
   "cell_type": "code",
   "execution_count": null,
   "metadata": {
    "ExecuteTime": {
     "end_time": "2021-02-23T13:00:02.162742Z",
     "start_time": "2021-02-23T13:00:02.160630Z"
    },
    "hidden": true
   },
   "outputs": [],
   "source": [
    "# ora la lista a è composta da\n",
    "print(a)"
   ]
  },
  {
   "cell_type": "code",
   "execution_count": null,
   "metadata": {
    "ExecuteTime": {
     "end_time": "2021-02-23T13:00:31.479095Z",
     "start_time": "2021-02-23T13:00:31.476008Z"
    },
    "hidden": true
   },
   "outputs": [],
   "source": [
    "# stamp il suo id\n",
    "id(a)"
   ]
  },
  {
   "cell_type": "markdown",
   "metadata": {
    "hidden": true
   },
   "source": [
    "L'id è lo stesso perché ho modificato la lista originale aggiungendo un nuovo elemento, ma la lista fa sempre riferimento allo stesso oggetto"
   ]
  },
  {
   "cell_type": "markdown",
   "metadata": {
    "heading_collapsed": true,
    "hidden": true
   },
   "source": [
    "## Modificare uno o più elementi di una lista"
   ]
  },
  {
   "cell_type": "markdown",
   "metadata": {
    "hidden": true
   },
   "source": [
    "In virtù della sua mutabilità, una lista può essere modificata:"
   ]
  },
  {
   "cell_type": "code",
   "execution_count": null,
   "metadata": {
    "ExecuteTime": {
     "end_time": "2021-02-25T16:13:05.688924Z",
     "start_time": "2021-02-25T16:13:05.686499Z"
    },
    "hidden": true
   },
   "outputs": [],
   "source": [
    "a = [1,3,5,7,9]"
   ]
  },
  {
   "cell_type": "code",
   "execution_count": null,
   "metadata": {
    "ExecuteTime": {
     "end_time": "2021-02-25T16:13:06.611569Z",
     "start_time": "2021-02-25T16:13:06.609696Z"
    },
    "hidden": true
   },
   "outputs": [],
   "source": [
    "# Posso riassegnare un valore (con l'accesso tramite l'indice)\n",
    "a[2] = 100"
   ]
  },
  {
   "cell_type": "code",
   "execution_count": null,
   "metadata": {
    "ExecuteTime": {
     "end_time": "2021-02-23T13:04:57.968613Z",
     "start_time": "2021-02-23T13:04:57.965911Z"
    },
    "hidden": true
   },
   "outputs": [],
   "source": [
    "a"
   ]
  },
  {
   "cell_type": "code",
   "execution_count": null,
   "metadata": {
    "ExecuteTime": {
     "end_time": "2021-02-23T13:07:38.453663Z",
     "start_time": "2021-02-23T13:07:38.451651Z"
    },
    "hidden": true
   },
   "outputs": [],
   "source": [
    "# Posso riassegnare più valori\n",
    "a[:2] = [123, 500]"
   ]
  },
  {
   "cell_type": "code",
   "execution_count": null,
   "metadata": {
    "ExecuteTime": {
     "end_time": "2021-02-25T16:13:25.355130Z",
     "start_time": "2021-02-25T16:13:25.352059Z"
    },
    "hidden": true
   },
   "outputs": [],
   "source": [
    "a"
   ]
  },
  {
   "cell_type": "code",
   "execution_count": null,
   "metadata": {
    "ExecuteTime": {
     "end_time": "2021-02-25T16:13:46.828989Z",
     "start_time": "2021-02-25T16:13:46.823593Z"
    },
    "hidden": true
   },
   "outputs": [],
   "source": [
    "a[:3] = [0]\n",
    "a"
   ]
  },
  {
   "cell_type": "markdown",
   "metadata": {
    "ExecuteTime": {
     "end_time": "2021-02-23T13:06:17.471123Z",
     "start_time": "2021-02-23T13:06:17.458734Z"
    },
    "heading_collapsed": true,
    "hidden": true
   },
   "source": [
    "## Alcune funzioni utili"
   ]
  },
  {
   "cell_type": "markdown",
   "metadata": {
    "hidden": true
   },
   "source": [
    "Le funzioni operano sulle liste ma **NON** alterano il contenuto della lista originale"
   ]
  },
  {
   "cell_type": "code",
   "execution_count": null,
   "metadata": {
    "ExecuteTime": {
     "end_time": "2021-02-25T16:14:13.656776Z",
     "start_time": "2021-02-25T16:14:13.653157Z"
    },
    "hidden": true
   },
   "outputs": [],
   "source": [
    "# Lunghezza di una lista\n",
    "len(a)"
   ]
  },
  {
   "cell_type": "code",
   "execution_count": null,
   "metadata": {
    "ExecuteTime": {
     "end_time": "2021-02-25T16:14:14.743535Z",
     "start_time": "2021-02-25T16:14:14.740680Z"
    },
    "hidden": true
   },
   "outputs": [],
   "source": [
    "# somma tutti i valori presenti in una lista\n",
    "sum(a)"
   ]
  },
  {
   "cell_type": "code",
   "execution_count": null,
   "metadata": {
    "ExecuteTime": {
     "end_time": "2021-02-26T17:16:51.433570Z",
     "start_time": "2021-02-26T17:16:51.419498Z"
    },
    "hidden": true
   },
   "outputs": [],
   "source": [
    "# Non posso sommare i valori di una lista se uno o più elementi sono stringhe\n",
    "sum([1,3,5,\"ciao\"])"
   ]
  },
  {
   "cell_type": "code",
   "execution_count": null,
   "metadata": {
    "ExecuteTime": {
     "end_time": "2021-02-23T13:09:57.314170Z",
     "start_time": "2021-02-23T13:09:57.309203Z"
    },
    "hidden": true
   },
   "outputs": [],
   "source": [
    "min(a)"
   ]
  },
  {
   "cell_type": "code",
   "execution_count": null,
   "metadata": {
    "ExecuteTime": {
     "end_time": "2021-02-23T13:10:02.508853Z",
     "start_time": "2021-02-23T13:10:02.505988Z"
    },
    "hidden": true
   },
   "outputs": [],
   "source": [
    "max(a)"
   ]
  },
  {
   "cell_type": "code",
   "execution_count": null,
   "metadata": {
    "ExecuteTime": {
     "end_time": "2021-02-23T13:10:13.762670Z",
     "start_time": "2021-02-23T13:10:13.756910Z"
    },
    "hidden": true
   },
   "outputs": [],
   "source": [
    "sorted(a)"
   ]
  },
  {
   "cell_type": "markdown",
   "metadata": {
    "heading_collapsed": true,
    "hidden": true
   },
   "source": [
    "## Operatori su liste"
   ]
  },
  {
   "cell_type": "code",
   "execution_count": null,
   "metadata": {
    "ExecuteTime": {
     "end_time": "2021-02-23T13:18:00.548953Z",
     "start_time": "2021-02-23T13:18:00.546956Z"
    },
    "hidden": true
   },
   "outputs": [],
   "source": [
    "b = [1,2,3]"
   ]
  },
  {
   "cell_type": "code",
   "execution_count": null,
   "metadata": {
    "ExecuteTime": {
     "end_time": "2021-02-26T17:17:30.761542Z",
     "start_time": "2021-02-26T17:17:30.754733Z"
    },
    "hidden": true
   },
   "outputs": [],
   "source": [
    "b + [4,5]"
   ]
  },
  {
   "cell_type": "code",
   "execution_count": null,
   "metadata": {
    "ExecuteTime": {
     "end_time": "2021-02-23T13:18:14.103019Z",
     "start_time": "2021-02-23T13:18:14.098635Z"
    },
    "hidden": true
   },
   "outputs": [],
   "source": [
    "b * 3"
   ]
  },
  {
   "cell_type": "markdown",
   "metadata": {
    "ExecuteTime": {
     "end_time": "2021-02-23T13:19:00.886011Z",
     "start_time": "2021-02-23T13:19:00.883384Z"
    },
    "hidden": true
   },
   "source": [
    "I due operatori (+,\\*) **NON** modificano la lista originaria, ma restituiscono una nuova lista"
   ]
  },
  {
   "cell_type": "markdown",
   "metadata": {
    "heading_collapsed": true,
    "hidden": true
   },
   "source": [
    "## Alcuni metodi sulle liste"
   ]
  },
  {
   "cell_type": "code",
   "execution_count": null,
   "metadata": {
    "ExecuteTime": {
     "end_time": "2021-02-23T13:15:23.880280Z",
     "start_time": "2021-02-23T13:15:23.877140Z"
    },
    "hidden": true
   },
   "outputs": [],
   "source": [
    "dir(list)"
   ]
  },
  {
   "cell_type": "code",
   "execution_count": null,
   "metadata": {
    "ExecuteTime": {
     "end_time": "2021-02-23T13:15:58.846461Z",
     "start_time": "2021-02-23T13:15:58.841283Z"
    },
    "hidden": true
   },
   "outputs": [],
   "source": [
    "# Aggiungo un elemento alla fine della lista\n",
    "\n",
    "a.append(1000)"
   ]
  },
  {
   "cell_type": "code",
   "execution_count": null,
   "metadata": {
    "ExecuteTime": {
     "end_time": "2021-02-23T13:16:58.857792Z",
     "start_time": "2021-02-23T13:16:58.855736Z"
    },
    "hidden": true
   },
   "outputs": [],
   "source": [
    "# Concateno due liste trasformando la lista originale a\n",
    "\n",
    "a.extend([300,301,302])"
   ]
  },
  {
   "cell_type": "code",
   "execution_count": null,
   "metadata": {
    "ExecuteTime": {
     "end_time": "2021-02-23T13:20:39.542555Z",
     "start_time": "2021-02-23T13:20:39.540079Z"
    },
    "hidden": true
   },
   "outputs": [],
   "source": [
    "# Ritorna l'ultimo elento della lista e lo rimuovo dall'originale\n",
    "a.pop()"
   ]
  },
  {
   "cell_type": "code",
   "execution_count": null,
   "metadata": {
    "ExecuteTime": {
     "end_time": "2021-02-23T13:20:12.164076Z",
     "start_time": "2021-02-23T13:20:12.158335Z"
    },
    "hidden": true
   },
   "outputs": [],
   "source": [
    "a"
   ]
  },
  {
   "cell_type": "code",
   "execution_count": null,
   "metadata": {
    "ExecuteTime": {
     "end_time": "2021-02-23T13:23:33.154556Z",
     "start_time": "2021-02-23T13:23:33.151978Z"
    },
    "hidden": true
   },
   "outputs": [],
   "source": [
    "# Il metodo pop accetta un argomento, che è l'indice dell'elemento da eliminare\n",
    "# Elimino il secondo elemento (indice 1):\n",
    "a.pop(1)"
   ]
  },
  {
   "cell_type": "code",
   "execution_count": null,
   "metadata": {
    "ExecuteTime": {
     "end_time": "2021-02-23T13:23:43.008909Z",
     "start_time": "2021-02-23T13:23:43.005694Z"
    },
    "hidden": true
   },
   "outputs": [],
   "source": [
    "a"
   ]
  },
  {
   "cell_type": "code",
   "execution_count": null,
   "metadata": {
    "ExecuteTime": {
     "end_time": "2021-02-23T13:43:46.378967Z",
     "start_time": "2021-02-23T13:43:46.376418Z"
    },
    "hidden": true
   },
   "outputs": [],
   "source": [
    "# Restituisce l'indice dell'elemento con valore 500\n",
    "a.index(500)"
   ]
  },
  {
   "cell_type": "markdown",
   "metadata": {
    "heading_collapsed": true,
    "hidden": true
   },
   "source": [
    "## L'operatore *in*"
   ]
  },
  {
   "cell_type": "markdown",
   "metadata": {
    "hidden": true
   },
   "source": [
    "Come per le stringhe, la parola riservata **in** permette di verificare la presenza di un elemento in una lista"
   ]
  },
  {
   "cell_type": "code",
   "execution_count": null,
   "metadata": {
    "ExecuteTime": {
     "end_time": "2021-02-26T17:18:49.983071Z",
     "start_time": "2021-02-26T17:18:49.980307Z"
    },
    "hidden": true
   },
   "outputs": [],
   "source": [
    "nomi = [\"Mario\", \"Alfredo\", \"Giacomo\", \"Antonella\", \"Goffredo\"]"
   ]
  },
  {
   "cell_type": "code",
   "execution_count": null,
   "metadata": {
    "ExecuteTime": {
     "end_time": "2021-02-26T17:18:50.644312Z",
     "start_time": "2021-02-26T17:18:50.640447Z"
    },
    "hidden": true
   },
   "outputs": [],
   "source": [
    "\"Mario\" in nomi"
   ]
  },
  {
   "cell_type": "code",
   "execution_count": null,
   "metadata": {
    "ExecuteTime": {
     "end_time": "2021-02-26T17:18:52.855204Z",
     "start_time": "2021-02-26T17:18:52.851803Z"
    },
    "hidden": true
   },
   "outputs": [],
   "source": [
    "# Possiamo usare *in* nelle istruzioni condizionali:\n",
    "\n",
    "if \"Alfredo\" in nomi:\n",
    "    print(\"Alfredo è presente\")\n",
    "else:\n",
    "    print(\"Alfredo è assente\")"
   ]
  },
  {
   "cell_type": "markdown",
   "metadata": {
    "heading_collapsed": true
   },
   "source": [
    "# Iterazione"
   ]
  },
  {
   "cell_type": "markdown",
   "metadata": {
    "heading_collapsed": true,
    "hidden": true
   },
   "source": [
    "## Descrizione"
   ]
  },
  {
   "cell_type": "markdown",
   "metadata": {
    "hidden": true
   },
   "source": [
    "L'azione di ripetere un processo al fine di raggiungere un obiettivo o un risultato desiderato"
   ]
  },
  {
   "cell_type": "markdown",
   "metadata": {
    "hidden": true
   },
   "source": [
    "In python si usano due parole riservate per effettuare processi iterativi: **for** e **while**"
   ]
  },
  {
   "cell_type": "markdown",
   "metadata": {
    "heading_collapsed": true,
    "hidden": true
   },
   "source": [
    "## for"
   ]
  },
  {
   "cell_type": "markdown",
   "metadata": {
    "hidden": true
   },
   "source": [
    "Tramite un ciclo **for** è possibile *iterare* su una progressione numerica o sugli elementi di una collezione iterabile. In python gli iterabili più comuni sono le liste, le stringhe, le tuple, i generatori, i dizionari."
   ]
  },
  {
   "cell_type": "markdown",
   "metadata": {
    "hidden": true
   },
   "source": [
    "La forma generale del costrutto è:\n",
    "\n",
    "```python\n",
    "for etichetta in iterabile:\n",
    "    # fai qualcosa\n",
    "```\n",
    "\n",
    "dove *etichetta* è la variabile in cui viene scritto il valore preso da *iterabile* ad ogni iterazione"
   ]
  },
  {
   "cell_type": "markdown",
   "metadata": {
    "hidden": true
   },
   "source": [
    "In python un iterabile è un oggetto su cui si può iterare. Le liste e le stringhe sono iterabili, ma ce ne sono molti altri. Per verificare che un oggetto sia iterabile, si può vedere se possiede il metodo speciale **\\_\\_iter\\_\\_()**"
   ]
  },
  {
   "cell_type": "code",
   "execution_count": null,
   "metadata": {
    "ExecuteTime": {
     "end_time": "2021-02-23T15:07:39.590605Z",
     "start_time": "2021-02-23T15:07:39.581488Z"
    },
    "hidden": true
   },
   "outputs": [],
   "source": [
    "hasattr(list,\"__iter__\")"
   ]
  },
  {
   "cell_type": "code",
   "execution_count": null,
   "metadata": {
    "ExecuteTime": {
     "end_time": "2021-02-23T15:07:43.480681Z",
     "start_time": "2021-02-23T15:07:43.478227Z"
    },
    "hidden": true
   },
   "outputs": [],
   "source": [
    "note = [\"do\",\"re\",\"mi\",\"fa\",\"sol\",\"la\",\"si\",\"do\"]"
   ]
  },
  {
   "cell_type": "code",
   "execution_count": null,
   "metadata": {
    "ExecuteTime": {
     "end_time": "2021-02-23T15:07:44.667258Z",
     "start_time": "2021-02-23T15:07:44.664424Z"
    },
    "hidden": true
   },
   "outputs": [],
   "source": [
    "for nota in note:\n",
    "    print(f\"la nota è {nota}\")"
   ]
  },
  {
   "cell_type": "markdown",
   "metadata": {
    "hidden": true
   },
   "source": [
    "+ prima iterazione: la variabile *nota* equivale alla stringa \"do\"   \n",
    "+ seconda iterazione: la variabile *nota* equivale alla stringa \"re\"   \n",
    "+ terza iterazione: la variabile *nota* equivale alla stringa \"mi\"   \n",
    "+ ..."
   ]
  },
  {
   "cell_type": "markdown",
   "metadata": {
    "hidden": true
   },
   "source": [
    "Per semplificare: *scorriamo* la lista elemento per elemento e mettiamo il valore dell'elemento nell'etichetta dichiarata all'inizio del *for*"
   ]
  },
  {
   "cell_type": "code",
   "execution_count": null,
   "metadata": {
    "ExecuteTime": {
     "end_time": "2021-02-23T14:33:52.852693Z",
     "start_time": "2021-02-23T14:33:52.844907Z"
    },
    "hidden": true
   },
   "outputs": [],
   "source": [
    "# Possiamo iterare su una slice della lista, invece che sulla lista intera:\n",
    "\n",
    "for nota in note[:-1]:\n",
    "    print(nota)"
   ]
  },
  {
   "cell_type": "markdown",
   "metadata": {
    "heading_collapsed": true,
    "hidden": true
   },
   "source": [
    "### Esercizio"
   ]
  },
  {
   "cell_type": "markdown",
   "metadata": {
    "hidden": true
   },
   "source": [
    "Data una lista di note scritte in minuscolo, stampare tutti gli elementi in caratteri invertiti e maiuscoli.  \n",
    "Output:\n",
    "\n",
    "OD   \n",
    "ER   \n",
    "IM   \n",
    "AF   \n",
    "LOS   \n",
    "AL   \n",
    "IS   \n",
    "OD   "
   ]
  },
  {
   "cell_type": "code",
   "execution_count": null,
   "metadata": {
    "ExecuteTime": {
     "end_time": "2021-02-23T15:19:56.983149Z",
     "start_time": "2021-02-23T15:19:56.980933Z"
    },
    "hidden": true
   },
   "outputs": [],
   "source": [
    "# creo la lista di note minuscole\n",
    "\n",
    "note = [\"do\",\"re\",\"mi\",\"fa\",\"sol\",\"la\",\"si\",\"do\"]"
   ]
  },
  {
   "cell_type": "code",
   "execution_count": null,
   "metadata": {
    "ExecuteTime": {
     "end_time": "2021-02-23T15:19:58.459393Z",
     "start_time": "2021-02-23T15:19:58.452907Z"
    },
    "hidden": true
   },
   "outputs": [],
   "source": [
    "# itero sulla lista con un ciclo for\n",
    "\n",
    "for nota in note:\n",
    "    # stampo ad ogni iterazione il valore della variabile nota trasformato in maiuscolo\n",
    "    maiuscolo = nota.upper()\n",
    "    print(maiuscolo[::-1])"
   ]
  },
  {
   "cell_type": "markdown",
   "metadata": {
    "heading_collapsed": true,
    "hidden": true
   },
   "source": [
    "## Iterare su una stringa"
   ]
  },
  {
   "cell_type": "code",
   "execution_count": null,
   "metadata": {
    "ExecuteTime": {
     "end_time": "2021-02-26T17:20:38.432714Z",
     "start_time": "2021-02-26T17:20:38.430302Z"
    },
    "hidden": true
   },
   "outputs": [],
   "source": [
    "frase = \"Nel mezzo del cammin di nostra vita\""
   ]
  },
  {
   "cell_type": "code",
   "execution_count": null,
   "metadata": {
    "ExecuteTime": {
     "end_time": "2021-02-26T17:20:39.343301Z",
     "start_time": "2021-02-26T17:20:39.336776Z"
    },
    "hidden": true
   },
   "outputs": [],
   "source": [
    "for carattere in frase:\n",
    "    if carattere != \" \":\n",
    "        print(carattere)"
   ]
  },
  {
   "cell_type": "markdown",
   "metadata": {
    "heading_collapsed": true,
    "hidden": true
   },
   "source": [
    "## Iterare su una progressione numerica"
   ]
  },
  {
   "cell_type": "markdown",
   "metadata": {
    "hidden": true
   },
   "source": [
    "Per iterare su una progressione numerica usiamo l'oggetto **range()**, che si usa nelle seguenti forme:  \n",
    "```python\n",
    "range(fine) # genera la progressione da 0 a <fine> (escluso)\n",
    "range(inizio,fine) # genera la progressione da <inizio> a <fine> (escluso)\n",
    "range(inizio, fine, step) # genera la progressione da <inizio> a <fine> (escluso) procedendo per <step>\n",
    "```"
   ]
  },
  {
   "cell_type": "code",
   "execution_count": null,
   "metadata": {
    "ExecuteTime": {
     "end_time": "2021-02-26T15:10:21.553676Z",
     "start_time": "2021-02-26T15:10:21.543660Z"
    },
    "hidden": true
   },
   "outputs": [],
   "source": [
    "# creo l'oggetto range \n",
    "range(5)"
   ]
  },
  {
   "cell_type": "code",
   "execution_count": null,
   "metadata": {
    "ExecuteTime": {
     "end_time": "2021-02-26T15:10:44.471151Z",
     "start_time": "2021-02-26T15:10:44.466803Z"
    },
    "hidden": true
   },
   "outputs": [],
   "source": [
    "# Posso convertire un'istanza di range() in lista:\n",
    "list(range(5))"
   ]
  },
  {
   "cell_type": "code",
   "execution_count": null,
   "metadata": {
    "ExecuteTime": {
     "end_time": "2021-02-26T15:11:03.689774Z",
     "start_time": "2021-02-26T15:11:03.685456Z"
    },
    "hidden": true
   },
   "outputs": [],
   "source": [
    "# Posso iterare con un for su un range:\n",
    "for numero in range(5):\n",
    "    print(numero)"
   ]
  },
  {
   "cell_type": "code",
   "execution_count": null,
   "metadata": {
    "ExecuteTime": {
     "end_time": "2021-02-23T14:40:47.416821Z",
     "start_time": "2021-02-23T14:40:47.406078Z"
    },
    "hidden": true
   },
   "outputs": [],
   "source": [
    "for numero in range(5,10):\n",
    "    print(numero)"
   ]
  },
  {
   "cell_type": "code",
   "execution_count": null,
   "metadata": {
    "ExecuteTime": {
     "end_time": "2021-02-26T15:12:01.852202Z",
     "start_time": "2021-02-26T15:12:01.847386Z"
    },
    "hidden": true
   },
   "outputs": [],
   "source": [
    "# Itero in un range che va da 3 a 20 procedendo a passi di 3:\n",
    "\n",
    "for numero in range(3,20,3):\n",
    "    print(numero)"
   ]
  },
  {
   "cell_type": "markdown",
   "metadata": {
    "heading_collapsed": true,
    "hidden": true
   },
   "source": [
    "### Esercizio"
   ]
  },
  {
   "cell_type": "markdown",
   "metadata": {
    "hidden": true
   },
   "source": [
    "Stampare la tabellina del 10, valore per valore"
   ]
  },
  {
   "cell_type": "code",
   "execution_count": null,
   "metadata": {
    "ExecuteTime": {
     "end_time": "2021-02-26T15:21:12.927376Z",
     "start_time": "2021-02-26T15:21:12.923088Z"
    },
    "hidden": true
   },
   "outputs": [],
   "source": [
    "n = 10\n",
    "tabellina_10 = []\n",
    "\n",
    "for i in range(10, 10*n+1, 10):\n",
    "    print(i)"
   ]
  },
  {
   "cell_type": "markdown",
   "metadata": {
    "heading_collapsed": true,
    "hidden": true
   },
   "source": [
    "## Due metodi molto comodi..."
   ]
  },
  {
   "cell_type": "markdown",
   "metadata": {
    "heading_collapsed": true,
    "hidden": true
   },
   "source": [
    "### str.split()"
   ]
  },
  {
   "cell_type": "markdown",
   "metadata": {
    "hidden": true
   },
   "source": [
    "Spesso capita di dover suddividere una stringa lunga in elementi indivisibili, come le parole.  \n",
    "Per intenderci, poniamo di voler dividere una frase in singole parole e di mettere queste parole in una lista di stringhe"
   ]
  },
  {
   "cell_type": "markdown",
   "metadata": {
    "hidden": true
   },
   "source": [
    "Usiamo il metodo (per le stringhe) **split(*separatore*)**"
   ]
  },
  {
   "cell_type": "code",
   "execution_count": null,
   "metadata": {
    "ExecuteTime": {
     "end_time": "2021-02-26T15:23:08.294971Z",
     "start_time": "2021-02-26T15:23:08.292290Z"
    },
    "hidden": true
   },
   "outputs": [],
   "source": [
    "filastrocca = \"amba ra ba ci ci cò cò\""
   ]
  },
  {
   "cell_type": "code",
   "execution_count": null,
   "metadata": {
    "ExecuteTime": {
     "end_time": "2021-02-26T15:23:09.203469Z",
     "start_time": "2021-02-26T15:23:09.198897Z"
    },
    "hidden": true
   },
   "outputs": [],
   "source": [
    "filastrocca.split()"
   ]
  },
  {
   "cell_type": "markdown",
   "metadata": {
    "hidden": true
   },
   "source": [
    "*split()* accetta anche un argomeneto che rappresenta il *separatore*:"
   ]
  },
  {
   "cell_type": "code",
   "execution_count": null,
   "metadata": {
    "ExecuteTime": {
     "end_time": "2021-02-26T15:24:34.098101Z",
     "start_time": "2021-02-26T15:24:34.095255Z"
    },
    "hidden": true
   },
   "outputs": [],
   "source": [
    "test = \"occhio-al-separatore-di-parole\""
   ]
  },
  {
   "cell_type": "code",
   "execution_count": null,
   "metadata": {
    "ExecuteTime": {
     "end_time": "2021-02-26T15:24:48.799395Z",
     "start_time": "2021-02-26T15:24:48.794871Z"
    },
    "hidden": true
   },
   "outputs": [],
   "source": [
    "test.split(\"-\")"
   ]
  },
  {
   "cell_type": "markdown",
   "metadata": {
    "heading_collapsed": true,
    "hidden": true
   },
   "source": [
    "#### Esercizio"
   ]
  },
  {
   "cell_type": "markdown",
   "metadata": {
    "hidden": true
   },
   "source": [
    "Data una frase, prendere le parole che iniziano con la maiuscola e stampare (la maiuscola) sul display"
   ]
  },
  {
   "cell_type": "code",
   "execution_count": null,
   "metadata": {
    "ExecuteTime": {
     "end_time": "2021-02-25T15:57:31.343495Z",
     "start_time": "2021-02-25T15:57:31.336078Z"
    },
    "hidden": true
   },
   "outputs": [],
   "source": [
    "frase = \"Solutore Hobbistico di Equazioni con Limite Differenziale Ottimizzato alla Numerazione\""
   ]
  },
  {
   "cell_type": "code",
   "execution_count": null,
   "metadata": {
    "ExecuteTime": {
     "end_time": "2021-02-25T16:22:10.545007Z",
     "start_time": "2021-02-25T16:22:10.542311Z"
    },
    "hidden": true
   },
   "outputs": [],
   "source": [
    "parole = frase.split(\" \")\n",
    "parole"
   ]
  },
  {
   "cell_type": "code",
   "execution_count": null,
   "metadata": {
    "ExecuteTime": {
     "end_time": "2021-02-25T16:22:11.516465Z",
     "start_time": "2021-02-25T16:22:11.509111Z"
    },
    "hidden": true
   },
   "outputs": [],
   "source": [
    "for parola in parole:\n",
    "    if parola[0].isupper():\n",
    "        print(parola[0])"
   ]
  },
  {
   "cell_type": "markdown",
   "metadata": {
    "heading_collapsed": true,
    "hidden": true
   },
   "source": [
    "### str.join(list)"
   ]
  },
  {
   "cell_type": "markdown",
   "metadata": {
    "hidden": true
   },
   "source": [
    "Al contrario di str.split(sep), il metodo join prende una lista di stringhe e le unisce in un'unica stringa. "
   ]
  },
  {
   "cell_type": "code",
   "execution_count": null,
   "metadata": {
    "ExecuteTime": {
     "end_time": "2021-02-25T16:58:25.728765Z",
     "start_time": "2021-02-25T16:58:25.726763Z"
    },
    "hidden": true
   },
   "outputs": [],
   "source": [
    "lista = [\"ciao\",\"a\",\"tutti\"]"
   ]
  },
  {
   "cell_type": "code",
   "execution_count": null,
   "metadata": {
    "ExecuteTime": {
     "end_time": "2021-02-25T16:59:01.169718Z",
     "start_time": "2021-02-25T16:59:01.167219Z"
    },
    "hidden": true
   },
   "outputs": [],
   "source": [
    "# Il metodo si applica ad una stringa che rappresenta il carattere separatore\n",
    "\" \".join(lista)"
   ]
  },
  {
   "cell_type": "code",
   "execution_count": null,
   "metadata": {
    "ExecuteTime": {
     "end_time": "2021-02-25T16:59:08.144609Z",
     "start_time": "2021-02-25T16:59:08.139455Z"
    },
    "hidden": true
   },
   "outputs": [],
   "source": [
    "\"-\".join(lista)"
   ]
  },
  {
   "cell_type": "markdown",
   "metadata": {
    "heading_collapsed": true
   },
   "source": [
    "# Numeri pseudo-casuali"
   ]
  },
  {
   "cell_type": "markdown",
   "metadata": {
    "heading_collapsed": true,
    "hidden": true
   },
   "source": [
    "## Descrizione"
   ]
  },
  {
   "cell_type": "markdown",
   "metadata": {
    "hidden": true
   },
   "source": [
    "La generazione di numeri *realmente* casuali è impossibile attraverso un computer, quindi si parla di numeri pseudo-casuali in quanto generati da un algoritmo (deterministico) che produce valori che *somigliano* a valori casuali."
   ]
  },
  {
   "cell_type": "markdown",
   "metadata": {
    "hidden": true
   },
   "source": [
    "In python il modulo **random** offre funzioni che generano numeri casuali.  "
   ]
  },
  {
   "cell_type": "code",
   "execution_count": null,
   "metadata": {
    "ExecuteTime": {
     "end_time": "2021-02-26T17:22:26.790392Z",
     "start_time": "2021-02-26T17:22:26.788157Z"
    },
    "hidden": true
   },
   "outputs": [],
   "source": [
    "# Importare il modulo random\n",
    "import random"
   ]
  },
  {
   "cell_type": "code",
   "execution_count": null,
   "metadata": {
    "ExecuteTime": {
     "end_time": "2021-02-26T17:22:38.328506Z",
     "start_time": "2021-02-26T17:22:38.323172Z"
    },
    "hidden": true
   },
   "outputs": [],
   "source": [
    "# chiamare una funzione che genera numeri interi compresi fra un minnimo e un massimo (inclusi)\n",
    "# la chiamata di una funzione appartenente ad un modulo avviene con l'operatore puntoi (.)\n",
    "random.randint(0,100)"
   ]
  },
  {
   "cell_type": "markdown",
   "metadata": {
    "heading_collapsed": true,
    "hidden": true
   },
   "source": [
    "## Creare una lista di numeri casuali"
   ]
  },
  {
   "cell_type": "code",
   "execution_count": null,
   "metadata": {
    "ExecuteTime": {
     "end_time": "2021-02-25T17:10:38.591828Z",
     "start_time": "2021-02-25T17:10:38.589129Z"
    },
    "hidden": true
   },
   "outputs": [],
   "source": [
    "# creo una lista vuota\n",
    "casuali = []"
   ]
  },
  {
   "cell_type": "code",
   "execution_count": null,
   "metadata": {
    "ExecuteTime": {
     "end_time": "2021-02-25T17:12:36.211674Z",
     "start_time": "2021-02-25T17:12:36.207662Z"
    },
    "hidden": true
   },
   "outputs": [],
   "source": [
    "# eseguo un ciclo sul range (100), quindi un processo che si ripete 100 volte\n",
    "# e ad ogni ripetizione del processo aggiungo (con append) un numero casuale alla lista\n",
    "\n",
    "for i in range(100):\n",
    "    numero = random.randint(0,100)\n",
    "    casuali.append(numero)"
   ]
  },
  {
   "cell_type": "code",
   "execution_count": null,
   "metadata": {
    "ExecuteTime": {
     "end_time": "2021-02-25T17:12:46.383669Z",
     "start_time": "2021-02-25T17:12:46.381082Z"
    },
    "hidden": true
   },
   "outputs": [],
   "source": [
    "# stampo la lista\n",
    "\n",
    "print(casuali)"
   ]
  },
  {
   "cell_type": "markdown",
   "metadata": {
    "heading_collapsed": true,
    "hidden": true
   },
   "source": [
    "### Esercizio"
   ]
  },
  {
   "cell_type": "markdown",
   "metadata": {
    "hidden": true
   },
   "source": [
    "Scorrere i valori casuali della lista precedente e stampare solo quelli pari"
   ]
  },
  {
   "cell_type": "code",
   "execution_count": null,
   "metadata": {
    "ExecuteTime": {
     "end_time": "2021-02-25T17:13:52.124107Z",
     "start_time": "2021-02-25T17:13:52.118738Z"
    },
    "hidden": true,
    "scrolled": true
   },
   "outputs": [],
   "source": [
    "for num in casuali:\n",
    "    if num % 2 == 0:\n",
    "        print(num)"
   ]
  },
  {
   "cell_type": "markdown",
   "metadata": {
    "heading_collapsed": true,
    "hidden": true
   },
   "source": [
    "### Esercizio"
   ]
  },
  {
   "attachments": {
    "piano-keys.gif": {
     "image/gif": "[encoded data removed]"
    }
   },
   "cell_type": "markdown",
   "metadata": {
    "hidden": true
   },
   "source": [
    "![piano-keys.gif](attachment:piano-keys.gif)"
   ]
  },
  {
   "cell_type": "markdown",
   "metadata": {
    "hidden": true
   },
   "source": [
    "Rappresentare le note della scala cromatica in una lista di stringhe."
   ]
  },
  {
   "cell_type": "code",
   "execution_count": null,
   "metadata": {
    "ExecuteTime": {
     "end_time": "2021-02-26T15:47:32.621250Z",
     "start_time": "2021-02-26T15:47:32.616260Z"
    },
    "hidden": true
   },
   "outputs": [],
   "source": [
    "note = \"c c# d d# e f f# g g# a a# b\"\n",
    "note = note.split(\" \")\n",
    "note"
   ]
  },
  {
   "cell_type": "markdown",
   "metadata": {
    "hidden": true
   },
   "source": [
    "Come si converte un numero qualunque in una nota? Ad esempio il 60 che nota è?"
   ]
  }
 ],
 "metadata": {
  "kernelspec": {
   "display_name": "Python 3",
   "language": "python",
   "name": "python3"
  },
  "language_info": {
   "codemirror_mode": {
    "name": "ipython",
    "version": 3
   },
   "file_extension": ".py",
   "mimetype": "text/x-python",
   "name": "python",
   "nbconvert_exporter": "python",
   "pygments_lexer": "ipython3",
   "version": "3.7.6"
  },
  "toc": {
   "base_numbering": 1,
   "nav_menu": {},
   "number_sections": true,
   "sideBar": true,
   "skip_h1_title": false,
   "title_cell": "Table of Contents",
   "title_sidebar": "Contents",
   "toc_cell": false,
   "toc_position": {
    "height": "calc(100% - 180px)",
    "left": "10px",
    "top": "150px",
    "width": "314.667px"
   },
   "toc_section_display": true,
   "toc_window_display": true
  }
 },
 "nbformat": 4,
 "nbformat_minor": 2
}
