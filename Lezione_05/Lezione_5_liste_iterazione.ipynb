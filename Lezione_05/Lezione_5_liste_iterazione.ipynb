{
 "cells": [
  {
   "cell_type": "markdown",
   "metadata": {
    "heading_collapsed": true
   },
   "source": [
    "# Liste"
   ]
  },
  {
   "cell_type": "markdown",
   "metadata": {
    "heading_collapsed": true,
    "hidden": true
   },
   "source": [
    "## Descrizione"
   ]
  },
  {
   "cell_type": "markdown",
   "metadata": {
    "hidden": true
   },
   "source": [
    "Il tipo **list** è una struttua che permette di raggruppare (e ordinare) elementi di tipi diversi. Si rappresenta nella seguente forma:"
   ]
  },
  {
   "cell_type": "code",
   "execution_count": 1,
   "metadata": {
    "ExecuteTime": {
     "end_time": "2021-02-23T12:47:30.546641Z",
     "start_time": "2021-02-23T12:47:30.537341Z"
    },
    "hidden": true
   },
   "outputs": [
    {
     "data": {
      "text/plain": [
       "[1, 3, 'ciao', 5, 'mondo']"
      ]
     },
     "execution_count": 1,
     "metadata": {},
     "output_type": "execute_result"
    }
   ],
   "source": [
    "[1, 3, \"ciao\", 5, \"mondo\"]"
   ]
  },
  {
   "cell_type": "markdown",
   "metadata": {
    "ExecuteTime": {
     "end_time": "2021-02-23T12:47:50.437476Z",
     "start_time": "2021-02-23T12:47:50.434611Z"
    },
    "hidden": true
   },
   "source": [
    "Una lista è indicizzata come una stringa:"
   ]
  },
  {
   "cell_type": "code",
   "execution_count": 3,
   "metadata": {
    "ExecuteTime": {
     "end_time": "2021-02-23T12:48:16.339927Z",
     "start_time": "2021-02-23T12:48:16.337878Z"
    },
    "hidden": true
   },
   "outputs": [],
   "source": [
    "collezione = [1, 3, \"ciao\", 5, \"mondo\"]"
   ]
  },
  {
   "cell_type": "code",
   "execution_count": 4,
   "metadata": {
    "ExecuteTime": {
     "end_time": "2021-02-23T12:48:21.911098Z",
     "start_time": "2021-02-23T12:48:21.907473Z"
    },
    "hidden": true
   },
   "outputs": [
    {
     "data": {
      "text/plain": [
       "1"
      ]
     },
     "execution_count": 4,
     "metadata": {},
     "output_type": "execute_result"
    }
   ],
   "source": [
    "collezione[0]"
   ]
  },
  {
   "cell_type": "code",
   "execution_count": 5,
   "metadata": {
    "ExecuteTime": {
     "end_time": "2021-02-23T12:48:39.977869Z",
     "start_time": "2021-02-23T12:48:39.974397Z"
    },
    "hidden": true
   },
   "outputs": [
    {
     "data": {
      "text/plain": [
       "'mondo'"
      ]
     },
     "execution_count": 5,
     "metadata": {},
     "output_type": "execute_result"
    }
   ],
   "source": [
    "collezione[-1]"
   ]
  },
  {
   "cell_type": "markdown",
   "metadata": {
    "hidden": true
   },
   "source": [
    "e supporta lo *slicing*"
   ]
  },
  {
   "cell_type": "code",
   "execution_count": 6,
   "metadata": {
    "ExecuteTime": {
     "end_time": "2021-02-23T12:49:08.733024Z",
     "start_time": "2021-02-23T12:49:08.728453Z"
    },
    "hidden": true
   },
   "outputs": [
    {
     "data": {
      "text/plain": [
       "[3, 'ciao']"
      ]
     },
     "execution_count": 6,
     "metadata": {},
     "output_type": "execute_result"
    }
   ],
   "source": [
    "collezione[1:3]"
   ]
  },
  {
   "cell_type": "code",
   "execution_count": 8,
   "metadata": {
    "ExecuteTime": {
     "end_time": "2021-02-23T12:50:14.849942Z",
     "start_time": "2021-02-23T12:50:14.845378Z"
    },
    "hidden": true
   },
   "outputs": [
    {
     "data": {
      "text/plain": [
       "[3, 'ciao', 5, 'mondo']"
      ]
     },
     "execution_count": 8,
     "metadata": {},
     "output_type": "execute_result"
    }
   ],
   "source": [
    "collezione[1:]"
   ]
  },
  {
   "cell_type": "markdown",
   "metadata": {
    "hidden": true
   },
   "source": [
    "Una lista può essere vuota:"
   ]
  },
  {
   "cell_type": "code",
   "execution_count": 74,
   "metadata": {
    "ExecuteTime": {
     "end_time": "2021-02-25T16:15:29.513807Z",
     "start_time": "2021-02-25T16:15:29.505437Z"
    },
    "hidden": true
   },
   "outputs": [],
   "source": [
    "vuota = []"
   ]
  },
  {
   "cell_type": "code",
   "execution_count": 75,
   "metadata": {
    "ExecuteTime": {
     "end_time": "2021-02-25T16:15:39.325193Z",
     "start_time": "2021-02-25T16:15:39.322523Z"
    },
    "hidden": true
   },
   "outputs": [
    {
     "data": {
      "text/plain": [
       "list"
      ]
     },
     "execution_count": 75,
     "metadata": {},
     "output_type": "execute_result"
    }
   ],
   "source": [
    "type(vuota)"
   ]
  },
  {
   "cell_type": "markdown",
   "metadata": {
    "hidden": true
   },
   "source": [
    "Un elemento di una lista può essere qualunque cosa, inclusa una lista stessa"
   ]
  },
  {
   "cell_type": "code",
   "execution_count": 86,
   "metadata": {
    "ExecuteTime": {
     "end_time": "2021-02-23T13:25:59.296906Z",
     "start_time": "2021-02-23T13:25:59.293228Z"
    },
    "hidden": true
   },
   "outputs": [
    {
     "data": {
      "text/plain": [
       "[1, 3, 5, 7, [2, 4, 6]]"
      ]
     },
     "execution_count": 86,
     "metadata": {},
     "output_type": "execute_result"
    }
   ],
   "source": [
    "c = [1, 3, 5, 7, [2,4,6]]\n",
    "c"
   ]
  },
  {
   "cell_type": "markdown",
   "metadata": {
    "hidden": true
   },
   "source": [
    "Quando un elemento di una lista è una lista, viene indicizzato come gli altri"
   ]
  },
  {
   "cell_type": "code",
   "execution_count": 88,
   "metadata": {
    "ExecuteTime": {
     "end_time": "2021-02-23T13:27:53.085579Z",
     "start_time": "2021-02-23T13:27:53.077485Z"
    },
    "hidden": true
   },
   "outputs": [
    {
     "data": {
      "text/plain": [
       "[2, 4, 6]"
      ]
     },
     "execution_count": 88,
     "metadata": {},
     "output_type": "execute_result"
    }
   ],
   "source": [
    "# Il quinto elemento della lista c è una lista\n",
    "c[4]"
   ]
  },
  {
   "cell_type": "code",
   "execution_count": 90,
   "metadata": {
    "ExecuteTime": {
     "end_time": "2021-02-23T13:29:56.526830Z",
     "start_time": "2021-02-23T13:29:56.523191Z"
    },
    "hidden": true
   },
   "outputs": [
    {
     "data": {
      "text/plain": [
       "[1, 3, 5, 7, [2, 4, 6]]"
      ]
     },
     "execution_count": 90,
     "metadata": {},
     "output_type": "execute_result"
    }
   ],
   "source": [
    "c"
   ]
  },
  {
   "cell_type": "markdown",
   "metadata": {
    "hidden": true
   },
   "source": [
    "Rappresentiamo la lista:\n",
    "\n",
    "| indice | elemento |\n",
    "| --- | --- |\n",
    "| 0 | 1|\n",
    "|1|3|\n",
    "|2|5|\n",
    "|3|7|\n",
    "|4|[2,4,6]|"
   ]
  },
  {
   "cell_type": "code",
   "execution_count": 92,
   "metadata": {
    "ExecuteTime": {
     "end_time": "2021-02-23T13:37:04.693444Z",
     "start_time": "2021-02-23T13:37:04.687821Z"
    },
    "hidden": true
   },
   "outputs": [],
   "source": [
    "# Se volessimo accedere al secondo elemento della lista 'interna'\n",
    "# prendiamo la lista interna (che si trova all'indice 4) e la mettiamo in una nuova variabile\n",
    "\n",
    "interna = c[4]"
   ]
  },
  {
   "cell_type": "code",
   "execution_count": 94,
   "metadata": {
    "ExecuteTime": {
     "end_time": "2021-02-23T13:41:31.348701Z",
     "start_time": "2021-02-23T13:41:31.345287Z"
    },
    "hidden": true
   },
   "outputs": [
    {
     "data": {
      "text/plain": [
       "4"
      ]
     },
     "execution_count": 94,
     "metadata": {},
     "output_type": "execute_result"
    }
   ],
   "source": [
    "# Poi prendiamo da questa lista interna il secondo elemento (indice 1)\n",
    "\n",
    "interna[1]"
   ]
  },
  {
   "cell_type": "code",
   "execution_count": 95,
   "metadata": {
    "ExecuteTime": {
     "end_time": "2021-02-23T13:41:57.434510Z",
     "start_time": "2021-02-23T13:41:57.428469Z"
    },
    "hidden": true
   },
   "outputs": [
    {
     "data": {
      "text/plain": [
       "4"
      ]
     },
     "execution_count": 95,
     "metadata": {},
     "output_type": "execute_result"
    }
   ],
   "source": [
    "# Per abbreviare possiamo usare la notazione a indice doppia:\n",
    "c[4][1]"
   ]
  },
  {
   "cell_type": "markdown",
   "metadata": {
    "heading_collapsed": true,
    "hidden": true
   },
   "source": [
    "## Oggetti mutabili e immutabili"
   ]
  },
  {
   "cell_type": "markdown",
   "metadata": {
    "hidden": true
   },
   "source": [
    "La lista è un tipo di dato **mutabile**, mentre la stringa e i numeri sono immutabili. Questo significa che una volta assegnata una stringa ad una variabile, non possiamo in alcun modo cambiarla"
   ]
  },
  {
   "cell_type": "code",
   "execution_count": 11,
   "metadata": {
    "ExecuteTime": {
     "end_time": "2021-02-23T12:55:00.911721Z",
     "start_time": "2021-02-23T12:55:00.909776Z"
    },
    "hidden": true
   },
   "outputs": [],
   "source": [
    "s1 = \"ciao mondo\""
   ]
  },
  {
   "cell_type": "markdown",
   "metadata": {
    "hidden": true
   },
   "source": [
    "Se chiamiamo un metodo sulla stringa, il risultato dell'esecuzione del metodo non modifica la stringa originale, ma restituisce una nuova stringa"
   ]
  },
  {
   "cell_type": "code",
   "execution_count": 12,
   "metadata": {
    "ExecuteTime": {
     "end_time": "2021-02-23T12:55:08.403329Z",
     "start_time": "2021-02-23T12:55:08.400510Z"
    },
    "hidden": true
   },
   "outputs": [
    {
     "data": {
      "text/plain": [
       "'CIAO MONDO'"
      ]
     },
     "execution_count": 12,
     "metadata": {},
     "output_type": "execute_result"
    }
   ],
   "source": [
    "s1.upper()"
   ]
  },
  {
   "cell_type": "code",
   "execution_count": 13,
   "metadata": {
    "ExecuteTime": {
     "end_time": "2021-02-23T12:55:11.171934Z",
     "start_time": "2021-02-23T12:55:11.168804Z"
    },
    "hidden": true
   },
   "outputs": [
    {
     "data": {
      "text/plain": [
       "'ciao mondo'"
      ]
     },
     "execution_count": 13,
     "metadata": {},
     "output_type": "execute_result"
    }
   ],
   "source": [
    "s1"
   ]
  },
  {
   "cell_type": "markdown",
   "metadata": {
    "hidden": true
   },
   "source": [
    "Possiamo eventualmente prendere la stringa originaria, applicare un metodo che la modifichi, e **riassegnare** la modifica alla stessa variabile che conteneva la stringa originale."
   ]
  },
  {
   "cell_type": "code",
   "execution_count": 28,
   "metadata": {
    "ExecuteTime": {
     "end_time": "2021-02-23T13:01:56.326887Z",
     "start_time": "2021-02-23T13:01:56.325052Z"
    },
    "hidden": true
   },
   "outputs": [],
   "source": [
    "s1 = \"ciao mondo\""
   ]
  },
  {
   "cell_type": "code",
   "execution_count": 29,
   "metadata": {
    "ExecuteTime": {
     "end_time": "2021-02-23T13:02:04.238999Z",
     "start_time": "2021-02-23T13:02:04.236192Z"
    },
    "hidden": true
   },
   "outputs": [
    {
     "data": {
      "text/plain": [
       "140114584340720"
      ]
     },
     "execution_count": 29,
     "metadata": {},
     "output_type": "execute_result"
    }
   ],
   "source": [
    "# stampo l'id\n",
    "id(s1)"
   ]
  },
  {
   "cell_type": "code",
   "execution_count": 30,
   "metadata": {
    "ExecuteTime": {
     "end_time": "2021-02-23T13:02:08.141986Z",
     "start_time": "2021-02-23T13:02:08.139966Z"
    },
    "hidden": true
   },
   "outputs": [],
   "source": [
    "s1 = s1.upper()"
   ]
  },
  {
   "cell_type": "code",
   "execution_count": 31,
   "metadata": {
    "ExecuteTime": {
     "end_time": "2021-02-23T13:02:09.911280Z",
     "start_time": "2021-02-23T13:02:09.908755Z"
    },
    "hidden": true
   },
   "outputs": [
    {
     "data": {
      "text/plain": [
       "'CIAO MONDO'"
      ]
     },
     "execution_count": 31,
     "metadata": {},
     "output_type": "execute_result"
    }
   ],
   "source": [
    "s1"
   ]
  },
  {
   "cell_type": "code",
   "execution_count": 32,
   "metadata": {
    "ExecuteTime": {
     "end_time": "2021-02-23T13:02:11.241818Z",
     "start_time": "2021-02-23T13:02:11.239247Z"
    },
    "hidden": true
   },
   "outputs": [
    {
     "data": {
      "text/plain": [
       "140114365665776"
      ]
     },
     "execution_count": 32,
     "metadata": {},
     "output_type": "execute_result"
    }
   ],
   "source": [
    "# stampo l'id\n",
    "id(s1)"
   ]
  },
  {
   "cell_type": "markdown",
   "metadata": {
    "hidden": true
   },
   "source": [
    "Gli id sono diversi perché ho legato all'etichetta *s1* a due stringhe diverse"
   ]
  },
  {
   "cell_type": "markdown",
   "metadata": {
    "hidden": true
   },
   "source": [
    "Le liste invece possono essere modificate:"
   ]
  },
  {
   "cell_type": "code",
   "execution_count": 22,
   "metadata": {
    "ExecuteTime": {
     "end_time": "2021-02-23T12:59:41.130133Z",
     "start_time": "2021-02-23T12:59:41.127971Z"
    },
    "hidden": true
   },
   "outputs": [],
   "source": [
    "# creo una lista di 5 elementi\n",
    "a = [1,3,5,7,9]"
   ]
  },
  {
   "cell_type": "code",
   "execution_count": 25,
   "metadata": {
    "ExecuteTime": {
     "end_time": "2021-02-23T13:00:19.858278Z",
     "start_time": "2021-02-23T13:00:19.854187Z"
    },
    "hidden": true
   },
   "outputs": [
    {
     "data": {
      "text/plain": [
       "140114365676832"
      ]
     },
     "execution_count": 25,
     "metadata": {},
     "output_type": "execute_result"
    }
   ],
   "source": [
    "# stamp il suo id\n",
    "id(a)"
   ]
  },
  {
   "cell_type": "code",
   "execution_count": 23,
   "metadata": {
    "ExecuteTime": {
     "end_time": "2021-02-23T12:59:59.123408Z",
     "start_time": "2021-02-23T12:59:59.121221Z"
    },
    "hidden": true
   },
   "outputs": [],
   "source": [
    "# apprendo (cioè aggiungo alla fine) un valore alla lista 'a'\n",
    "a.append(11)"
   ]
  },
  {
   "cell_type": "code",
   "execution_count": 24,
   "metadata": {
    "ExecuteTime": {
     "end_time": "2021-02-23T13:00:02.162742Z",
     "start_time": "2021-02-23T13:00:02.160630Z"
    },
    "hidden": true
   },
   "outputs": [
    {
     "name": "stdout",
     "output_type": "stream",
     "text": [
      "[1, 3, 5, 7, 9, 11]\n"
     ]
    }
   ],
   "source": [
    "# ora la lista a è composta da\n",
    "print(a)"
   ]
  },
  {
   "cell_type": "code",
   "execution_count": 26,
   "metadata": {
    "ExecuteTime": {
     "end_time": "2021-02-23T13:00:31.479095Z",
     "start_time": "2021-02-23T13:00:31.476008Z"
    },
    "hidden": true
   },
   "outputs": [
    {
     "data": {
      "text/plain": [
       "140114365676832"
      ]
     },
     "execution_count": 26,
     "metadata": {},
     "output_type": "execute_result"
    }
   ],
   "source": [
    "# stamp il suo id\n",
    "id(a)"
   ]
  },
  {
   "cell_type": "markdown",
   "metadata": {
    "hidden": true
   },
   "source": [
    "L'id è lo stesso perché ho modificato la lista originale aggiungendo un nuovo elemento, ma la lista fa sempre riferimento allo stesso oggetto"
   ]
  },
  {
   "cell_type": "markdown",
   "metadata": {
    "heading_collapsed": true,
    "hidden": true
   },
   "source": [
    "## Modificare uno o più elementi di una lista"
   ]
  },
  {
   "cell_type": "markdown",
   "metadata": {
    "hidden": true
   },
   "source": [
    "In virtù della sua mutabilità, una lista può essere modificata:"
   ]
  },
  {
   "cell_type": "code",
   "execution_count": 63,
   "metadata": {
    "ExecuteTime": {
     "end_time": "2021-02-25T16:13:05.688924Z",
     "start_time": "2021-02-25T16:13:05.686499Z"
    },
    "hidden": true
   },
   "outputs": [],
   "source": [
    "a = [1,3,5,7,9]"
   ]
  },
  {
   "cell_type": "code",
   "execution_count": 64,
   "metadata": {
    "ExecuteTime": {
     "end_time": "2021-02-25T16:13:06.611569Z",
     "start_time": "2021-02-25T16:13:06.609696Z"
    },
    "hidden": true
   },
   "outputs": [],
   "source": [
    "# Posso riassegnare un valore (con l'accesso tramite l'indice)\n",
    "a[2] = 100"
   ]
  },
  {
   "cell_type": "code",
   "execution_count": 35,
   "metadata": {
    "ExecuteTime": {
     "end_time": "2021-02-23T13:04:57.968613Z",
     "start_time": "2021-02-23T13:04:57.965911Z"
    },
    "hidden": true
   },
   "outputs": [
    {
     "data": {
      "text/plain": [
       "[1, 3, 100, 7, 9]"
      ]
     },
     "execution_count": 35,
     "metadata": {},
     "output_type": "execute_result"
    }
   ],
   "source": [
    "a"
   ]
  },
  {
   "cell_type": "code",
   "execution_count": 42,
   "metadata": {
    "ExecuteTime": {
     "end_time": "2021-02-23T13:07:38.453663Z",
     "start_time": "2021-02-23T13:07:38.451651Z"
    },
    "hidden": true
   },
   "outputs": [],
   "source": [
    "# Posso riassegnare più valori\n",
    "a[:2] = [123, 500]"
   ]
  },
  {
   "cell_type": "code",
   "execution_count": 65,
   "metadata": {
    "ExecuteTime": {
     "end_time": "2021-02-25T16:13:25.355130Z",
     "start_time": "2021-02-25T16:13:25.352059Z"
    },
    "hidden": true
   },
   "outputs": [
    {
     "data": {
      "text/plain": [
       "[1, 3, 100, 7, 9]"
      ]
     },
     "execution_count": 65,
     "metadata": {},
     "output_type": "execute_result"
    }
   ],
   "source": [
    "a"
   ]
  },
  {
   "cell_type": "code",
   "execution_count": 67,
   "metadata": {
    "ExecuteTime": {
     "end_time": "2021-02-25T16:13:46.828989Z",
     "start_time": "2021-02-25T16:13:46.823593Z"
    },
    "hidden": true
   },
   "outputs": [
    {
     "data": {
      "text/plain": [
       "[0, 7, 9]"
      ]
     },
     "execution_count": 67,
     "metadata": {},
     "output_type": "execute_result"
    }
   ],
   "source": [
    "a[:3] = [0]\n",
    "a"
   ]
  },
  {
   "cell_type": "markdown",
   "metadata": {
    "ExecuteTime": {
     "end_time": "2021-02-23T13:06:17.471123Z",
     "start_time": "2021-02-23T13:06:17.458734Z"
    },
    "heading_collapsed": true,
    "hidden": true
   },
   "source": [
    "## Alcune funzioni utili"
   ]
  },
  {
   "cell_type": "markdown",
   "metadata": {
    "hidden": true
   },
   "source": [
    "Le funzioni operano sulle liste ma **NON** alterano il contenuto della lista originale"
   ]
  },
  {
   "cell_type": "code",
   "execution_count": 69,
   "metadata": {
    "ExecuteTime": {
     "end_time": "2021-02-25T16:14:13.656776Z",
     "start_time": "2021-02-25T16:14:13.653157Z"
    },
    "hidden": true
   },
   "outputs": [
    {
     "data": {
      "text/plain": [
       "3"
      ]
     },
     "execution_count": 69,
     "metadata": {},
     "output_type": "execute_result"
    }
   ],
   "source": [
    "# Lunghezza di una lista\n",
    "len(a)"
   ]
  },
  {
   "cell_type": "code",
   "execution_count": 70,
   "metadata": {
    "ExecuteTime": {
     "end_time": "2021-02-25T16:14:14.743535Z",
     "start_time": "2021-02-25T16:14:14.740680Z"
    },
    "hidden": true
   },
   "outputs": [
    {
     "data": {
      "text/plain": [
       "16"
      ]
     },
     "execution_count": 70,
     "metadata": {},
     "output_type": "execute_result"
    }
   ],
   "source": [
    "# somma tutti i valori presenti in una lista\n",
    "sum(a)"
   ]
  },
  {
   "cell_type": "code",
   "execution_count": 71,
   "metadata": {
    "ExecuteTime": {
     "end_time": "2021-02-25T16:14:16.689224Z",
     "start_time": "2021-02-25T16:14:16.678986Z"
    },
    "hidden": true
   },
   "outputs": [
    {
     "ename": "TypeError",
     "evalue": "unsupported operand type(s) for +: 'int' and 'str'",
     "output_type": "error",
     "traceback": [
      "\u001b[0;31m---------------------------------------------------------------------------\u001b[0m",
      "\u001b[0;31mTypeError\u001b[0m                                 Traceback (most recent call last)",
      "\u001b[0;32m<ipython-input-71-e011596e2990>\u001b[0m in \u001b[0;36m<module>\u001b[0;34m\u001b[0m\n\u001b[1;32m      1\u001b[0m \u001b[0;31m# Non posso sommare i valori di una lista se uno o più elementi sono stringhe\u001b[0m\u001b[0;34m\u001b[0m\u001b[0;34m\u001b[0m\u001b[0;34m\u001b[0m\u001b[0m\n\u001b[0;32m----> 2\u001b[0;31m \u001b[0msum\u001b[0m\u001b[0;34m(\u001b[0m\u001b[0;34m[\u001b[0m\u001b[0;36m1\u001b[0m\u001b[0;34m,\u001b[0m\u001b[0;36m3\u001b[0m\u001b[0;34m,\u001b[0m\u001b[0;36m5\u001b[0m\u001b[0;34m,\u001b[0m\u001b[0;34m\"ciao\"\u001b[0m\u001b[0;34m]\u001b[0m\u001b[0;34m)\u001b[0m\u001b[0;34m\u001b[0m\u001b[0;34m\u001b[0m\u001b[0m\n\u001b[0m",
      "\u001b[0;31mTypeError\u001b[0m: unsupported operand type(s) for +: 'int' and 'str'"
     ]
    }
   ],
   "source": [
    "# Non posso sommare i valori di una lista se uno o più elementi sono stringhe\n",
    "sum([1,3,5,\"ciao\"])"
   ]
  },
  {
   "cell_type": "code",
   "execution_count": 50,
   "metadata": {
    "ExecuteTime": {
     "end_time": "2021-02-23T13:09:57.314170Z",
     "start_time": "2021-02-23T13:09:57.309203Z"
    },
    "hidden": true
   },
   "outputs": [
    {
     "data": {
      "text/plain": [
       "7"
      ]
     },
     "execution_count": 50,
     "metadata": {},
     "output_type": "execute_result"
    }
   ],
   "source": [
    "min(a)"
   ]
  },
  {
   "cell_type": "code",
   "execution_count": 51,
   "metadata": {
    "ExecuteTime": {
     "end_time": "2021-02-23T13:10:02.508853Z",
     "start_time": "2021-02-23T13:10:02.505988Z"
    },
    "hidden": true
   },
   "outputs": [
    {
     "data": {
      "text/plain": [
       "500"
      ]
     },
     "execution_count": 51,
     "metadata": {},
     "output_type": "execute_result"
    }
   ],
   "source": [
    "max(a)"
   ]
  },
  {
   "cell_type": "code",
   "execution_count": 53,
   "metadata": {
    "ExecuteTime": {
     "end_time": "2021-02-23T13:10:13.762670Z",
     "start_time": "2021-02-23T13:10:13.756910Z"
    },
    "hidden": true
   },
   "outputs": [
    {
     "data": {
      "text/plain": [
       "[7, 9, 100, 123, 500]"
      ]
     },
     "execution_count": 53,
     "metadata": {},
     "output_type": "execute_result"
    }
   ],
   "source": [
    "sorted(a)"
   ]
  },
  {
   "cell_type": "markdown",
   "metadata": {
    "heading_collapsed": true,
    "hidden": true
   },
   "source": [
    "## Operatori su liste"
   ]
  },
  {
   "cell_type": "code",
   "execution_count": 65,
   "metadata": {
    "ExecuteTime": {
     "end_time": "2021-02-23T13:18:00.548953Z",
     "start_time": "2021-02-23T13:18:00.546956Z"
    },
    "hidden": true
   },
   "outputs": [],
   "source": [
    "b = [1,2,3]"
   ]
  },
  {
   "cell_type": "code",
   "execution_count": 66,
   "metadata": {
    "ExecuteTime": {
     "end_time": "2021-02-23T13:18:07.139037Z",
     "start_time": "2021-02-23T13:18:07.135667Z"
    },
    "hidden": true
   },
   "outputs": [
    {
     "data": {
      "text/plain": [
       "[1, 2, 3, 4, 5]"
      ]
     },
     "execution_count": 66,
     "metadata": {},
     "output_type": "execute_result"
    }
   ],
   "source": [
    "b + [4,5]"
   ]
  },
  {
   "cell_type": "code",
   "execution_count": 67,
   "metadata": {
    "ExecuteTime": {
     "end_time": "2021-02-23T13:18:14.103019Z",
     "start_time": "2021-02-23T13:18:14.098635Z"
    },
    "hidden": true
   },
   "outputs": [
    {
     "data": {
      "text/plain": [
       "[1, 2, 3, 1, 2, 3, 1, 2, 3]"
      ]
     },
     "execution_count": 67,
     "metadata": {},
     "output_type": "execute_result"
    }
   ],
   "source": [
    "b * 3"
   ]
  },
  {
   "cell_type": "markdown",
   "metadata": {
    "ExecuteTime": {
     "end_time": "2021-02-23T13:19:00.886011Z",
     "start_time": "2021-02-23T13:19:00.883384Z"
    },
    "hidden": true
   },
   "source": [
    "I due operatori (+,\\*) **NON** modificano la lista originaria, ma restituiscono una nuova lista"
   ]
  },
  {
   "cell_type": "markdown",
   "metadata": {
    "heading_collapsed": true,
    "hidden": true
   },
   "source": [
    "## Alcuni metodi sulle liste"
   ]
  },
  {
   "cell_type": "code",
   "execution_count": 59,
   "metadata": {
    "ExecuteTime": {
     "end_time": "2021-02-23T13:15:23.880280Z",
     "start_time": "2021-02-23T13:15:23.877140Z"
    },
    "hidden": true
   },
   "outputs": [
    {
     "data": {
      "text/plain": [
       "['__add__',\n",
       " '__class__',\n",
       " '__contains__',\n",
       " '__delattr__',\n",
       " '__delitem__',\n",
       " '__dir__',\n",
       " '__doc__',\n",
       " '__eq__',\n",
       " '__format__',\n",
       " '__ge__',\n",
       " '__getattribute__',\n",
       " '__getitem__',\n",
       " '__gt__',\n",
       " '__hash__',\n",
       " '__iadd__',\n",
       " '__imul__',\n",
       " '__init__',\n",
       " '__init_subclass__',\n",
       " '__iter__',\n",
       " '__le__',\n",
       " '__len__',\n",
       " '__lt__',\n",
       " '__mul__',\n",
       " '__ne__',\n",
       " '__new__',\n",
       " '__reduce__',\n",
       " '__reduce_ex__',\n",
       " '__repr__',\n",
       " '__reversed__',\n",
       " '__rmul__',\n",
       " '__setattr__',\n",
       " '__setitem__',\n",
       " '__sizeof__',\n",
       " '__str__',\n",
       " '__subclasshook__',\n",
       " 'append',\n",
       " 'clear',\n",
       " 'copy',\n",
       " 'count',\n",
       " 'extend',\n",
       " 'index',\n",
       " 'insert',\n",
       " 'pop',\n",
       " 'remove',\n",
       " 'reverse',\n",
       " 'sort']"
      ]
     },
     "execution_count": 59,
     "metadata": {},
     "output_type": "execute_result"
    }
   ],
   "source": [
    "dir(list)"
   ]
  },
  {
   "cell_type": "code",
   "execution_count": 60,
   "metadata": {
    "ExecuteTime": {
     "end_time": "2021-02-23T13:15:58.846461Z",
     "start_time": "2021-02-23T13:15:58.841283Z"
    },
    "hidden": true
   },
   "outputs": [],
   "source": [
    "# Aggiungo un elemento alla fi9ne della lista"
   ]
  },
  {
   "cell_type": "code",
   "execution_count": 61,
   "metadata": {
    "ExecuteTime": {
     "end_time": "2021-02-23T13:16:12.007345Z",
     "start_time": "2021-02-23T13:16:12.005017Z"
    },
    "hidden": true
   },
   "outputs": [],
   "source": [
    "a.append(1000)"
   ]
  },
  {
   "cell_type": "code",
   "execution_count": 62,
   "metadata": {
    "ExecuteTime": {
     "end_time": "2021-02-23T13:16:58.857792Z",
     "start_time": "2021-02-23T13:16:58.855736Z"
    },
    "hidden": true
   },
   "outputs": [],
   "source": [
    "# Concateno due liste\n",
    "\n",
    "a.extend([300,301,302])"
   ]
  },
  {
   "cell_type": "code",
   "execution_count": 78,
   "metadata": {
    "ExecuteTime": {
     "end_time": "2021-02-23T13:20:39.542555Z",
     "start_time": "2021-02-23T13:20:39.540079Z"
    },
    "hidden": true
   },
   "outputs": [
    {
     "data": {
      "text/plain": [
       "300"
      ]
     },
     "execution_count": 78,
     "metadata": {},
     "output_type": "execute_result"
    }
   ],
   "source": [
    "# Ritorna l'ultimo elento della lista e lo rimuovo dall'originale\n",
    "a.pop()"
   ]
  },
  {
   "cell_type": "code",
   "execution_count": 77,
   "metadata": {
    "ExecuteTime": {
     "end_time": "2021-02-23T13:20:12.164076Z",
     "start_time": "2021-02-23T13:20:12.158335Z"
    },
    "hidden": true
   },
   "outputs": [
    {
     "data": {
      "text/plain": [
       "[7, 9, 100, 123, 500, 1000, 300]"
      ]
     },
     "execution_count": 77,
     "metadata": {},
     "output_type": "execute_result"
    }
   ],
   "source": [
    "a"
   ]
  },
  {
   "cell_type": "code",
   "execution_count": 82,
   "metadata": {
    "ExecuteTime": {
     "end_time": "2021-02-23T13:23:33.154556Z",
     "start_time": "2021-02-23T13:23:33.151978Z"
    },
    "hidden": true
   },
   "outputs": [
    {
     "data": {
      "text/plain": [
       "100"
      ]
     },
     "execution_count": 82,
     "metadata": {},
     "output_type": "execute_result"
    }
   ],
   "source": [
    "# Il metodo pop accetta un argomento, che è l'indice dell'elemento da eliminare\n",
    "# Elimino il secondo elemento (indice 1):\n",
    "a.pop(1)"
   ]
  },
  {
   "cell_type": "code",
   "execution_count": 84,
   "metadata": {
    "ExecuteTime": {
     "end_time": "2021-02-23T13:23:43.008909Z",
     "start_time": "2021-02-23T13:23:43.005694Z"
    },
    "hidden": true
   },
   "outputs": [
    {
     "data": {
      "text/plain": [
       "[9, 123, 500, 1000]"
      ]
     },
     "execution_count": 84,
     "metadata": {},
     "output_type": "execute_result"
    }
   ],
   "source": [
    "a"
   ]
  },
  {
   "cell_type": "code",
   "execution_count": 98,
   "metadata": {
    "ExecuteTime": {
     "end_time": "2021-02-23T13:43:46.378967Z",
     "start_time": "2021-02-23T13:43:46.376418Z"
    },
    "hidden": true
   },
   "outputs": [
    {
     "data": {
      "text/plain": [
       "2"
      ]
     },
     "execution_count": 98,
     "metadata": {},
     "output_type": "execute_result"
    }
   ],
   "source": [
    "# Restituisce l'indice dell'elemento con valore 500\n",
    "a.index(500)"
   ]
  },
  {
   "cell_type": "markdown",
   "metadata": {
    "heading_collapsed": true,
    "hidden": true
   },
   "source": [
    "## L'operatore *in*"
   ]
  },
  {
   "cell_type": "markdown",
   "metadata": {
    "hidden": true
   },
   "source": [
    "Come per le stringhe, la parola riservata **in** permette di verificare la presenza di un elemento in una lista"
   ]
  },
  {
   "cell_type": "code",
   "execution_count": 106,
   "metadata": {
    "ExecuteTime": {
     "end_time": "2021-02-23T14:14:02.658271Z",
     "start_time": "2021-02-23T14:14:02.650765Z"
    },
    "hidden": true
   },
   "outputs": [],
   "source": [
    "nomi = [\"Mario\", \"Alfredo\", \"Giacomo\", \"Antonella\", \"Goffredo\"]"
   ]
  },
  {
   "cell_type": "code",
   "execution_count": 107,
   "metadata": {
    "ExecuteTime": {
     "end_time": "2021-02-23T14:14:09.969072Z",
     "start_time": "2021-02-23T14:14:09.960431Z"
    },
    "hidden": true
   },
   "outputs": [
    {
     "data": {
      "text/plain": [
       "True"
      ]
     },
     "execution_count": 107,
     "metadata": {},
     "output_type": "execute_result"
    }
   ],
   "source": [
    "\"Mario\" in nomi"
   ]
  },
  {
   "cell_type": "code",
   "execution_count": 109,
   "metadata": {
    "ExecuteTime": {
     "end_time": "2021-02-23T14:15:24.496289Z",
     "start_time": "2021-02-23T14:15:24.487576Z"
    },
    "hidden": true
   },
   "outputs": [
    {
     "name": "stdout",
     "output_type": "stream",
     "text": [
      "Alfredo è presente\n"
     ]
    }
   ],
   "source": [
    "# Possiamo usare *in* nelle istruzioni condizionali:\n",
    "\n",
    "if \"Alfredo\" in nomi:\n",
    "    print(\"Alfredo è presente\")\n",
    "else:\n",
    "    print(\"Alfredo è assente\")"
   ]
  },
  {
   "cell_type": "markdown",
   "metadata": {
    "heading_collapsed": true
   },
   "source": [
    "# Iterazione"
   ]
  },
  {
   "cell_type": "markdown",
   "metadata": {
    "heading_collapsed": true,
    "hidden": true
   },
   "source": [
    "## Descrizione"
   ]
  },
  {
   "cell_type": "markdown",
   "metadata": {
    "hidden": true
   },
   "source": [
    "L'azione di ripetere un processo al fine di raggiungere un obiettivo o un risultato desiderato"
   ]
  },
  {
   "cell_type": "markdown",
   "metadata": {
    "hidden": true
   },
   "source": [
    "In python si usano due parole riservate per effettuare processi iterativi: **for** e **while**"
   ]
  },
  {
   "cell_type": "markdown",
   "metadata": {
    "heading_collapsed": true,
    "hidden": true
   },
   "source": [
    "## for"
   ]
  },
  {
   "cell_type": "markdown",
   "metadata": {
    "hidden": true
   },
   "source": [
    "Tramite un ciclo **for** è possibile *iterare* su una progressione numerica o sugli elementi di una collezione iterabile. In python gli iterabili più comuni sono le liste, le stringhe, le tuple, i generatori."
   ]
  },
  {
   "cell_type": "markdown",
   "metadata": {
    "hidden": true
   },
   "source": [
    "La forma generale del costrutto è:\n",
    "\n",
    "```python\n",
    "for etichetta in iterabile:\n",
    "    # fai qualcosa\n",
    "```\n",
    "\n",
    "dove *etichetta* è la variabile in cui viene scritto il valore preso da *iterabile* ad ogni iterazione"
   ]
  },
  {
   "cell_type": "markdown",
   "metadata": {
    "hidden": true
   },
   "source": [
    "In python un iterabile è un oggetto su cui si può iterare. Le liste e le stringhe sono iterabili, ma ce ne sono molti altri. Per verificare che un oggetto sia iterabile, si può vedere se possiede il metodo speciale **\\_\\_iter\\_\\_()**"
   ]
  },
  {
   "cell_type": "code",
   "execution_count": 144,
   "metadata": {
    "ExecuteTime": {
     "end_time": "2021-02-23T15:07:39.590605Z",
     "start_time": "2021-02-23T15:07:39.581488Z"
    },
    "hidden": true
   },
   "outputs": [
    {
     "data": {
      "text/plain": [
       "True"
      ]
     },
     "execution_count": 144,
     "metadata": {},
     "output_type": "execute_result"
    }
   ],
   "source": [
    "hasattr(list,\"__iter__\")"
   ]
  },
  {
   "cell_type": "code",
   "execution_count": 145,
   "metadata": {
    "ExecuteTime": {
     "end_time": "2021-02-23T15:07:43.480681Z",
     "start_time": "2021-02-23T15:07:43.478227Z"
    },
    "hidden": true
   },
   "outputs": [],
   "source": [
    "note = [\"do\",\"re\",\"mi\",\"fa\",\"sol\",\"la\",\"si\",\"do\"]"
   ]
  },
  {
   "cell_type": "code",
   "execution_count": 146,
   "metadata": {
    "ExecuteTime": {
     "end_time": "2021-02-23T15:07:44.667258Z",
     "start_time": "2021-02-23T15:07:44.664424Z"
    },
    "hidden": true
   },
   "outputs": [
    {
     "name": "stdout",
     "output_type": "stream",
     "text": [
      "la nota è do\n",
      "la nota è re\n",
      "la nota è mi\n",
      "la nota è fa\n",
      "la nota è sol\n",
      "la nota è la\n",
      "la nota è si\n",
      "la nota è do\n"
     ]
    }
   ],
   "source": [
    "for nota in note:\n",
    "    print(f\"la nota è {nota}\")"
   ]
  },
  {
   "cell_type": "markdown",
   "metadata": {
    "hidden": true
   },
   "source": [
    "+ prima iterazione: la variabile *nota* equivale alla stringa \"do\"   \n",
    "+ seconda iterazione: la variabile *nota* equivale alla stringa \"re\"   \n",
    "+ terza iterazione: la variabile *nota* equivale alla stringa \"mi\"   \n",
    "+ ..."
   ]
  },
  {
   "cell_type": "markdown",
   "metadata": {
    "hidden": true
   },
   "source": [
    "Per semplificare: *scorriamo* la lista elemento per elemento e mettiamo il valore dell'elemento nell'etichetta dichiarata all'inizio del *for*"
   ]
  },
  {
   "cell_type": "code",
   "execution_count": 120,
   "metadata": {
    "ExecuteTime": {
     "end_time": "2021-02-23T14:33:52.852693Z",
     "start_time": "2021-02-23T14:33:52.844907Z"
    },
    "hidden": true
   },
   "outputs": [
    {
     "name": "stdout",
     "output_type": "stream",
     "text": [
      "do\n",
      "re\n",
      "mi\n",
      "fa\n",
      "sol\n",
      "la\n",
      "si\n"
     ]
    }
   ],
   "source": [
    "# Possiamo iterare su una slice della lista, invece che sulla lista intera:\n",
    "\n",
    "for nota in note[:-1]:\n",
    "    print(nota)"
   ]
  },
  {
   "cell_type": "markdown",
   "metadata": {
    "heading_collapsed": true,
    "hidden": true
   },
   "source": [
    "### Esercizio"
   ]
  },
  {
   "cell_type": "markdown",
   "metadata": {
    "hidden": true
   },
   "source": [
    "Data una lista di note scritte in minuscolo, stampare tutti gli elementi in caratteri invertiti e maiuscoli.  \n",
    "Output:\n",
    "\n",
    "OD   \n",
    "ER   \n",
    "IM   \n",
    "AF   \n",
    "LOS   \n",
    "AL   \n",
    "IS   \n",
    "OD   "
   ]
  },
  {
   "cell_type": "code",
   "execution_count": 154,
   "metadata": {
    "ExecuteTime": {
     "end_time": "2021-02-23T15:19:56.983149Z",
     "start_time": "2021-02-23T15:19:56.980933Z"
    },
    "hidden": true
   },
   "outputs": [],
   "source": [
    "# creo la lista di note minuscole\n",
    "\n",
    "note = [\"do\",\"re\",\"mi\",\"fa\",\"sol\",\"la\",\"si\",\"do\"]"
   ]
  },
  {
   "cell_type": "code",
   "execution_count": 155,
   "metadata": {
    "ExecuteTime": {
     "end_time": "2021-02-23T15:19:58.459393Z",
     "start_time": "2021-02-23T15:19:58.452907Z"
    },
    "hidden": true
   },
   "outputs": [
    {
     "name": "stdout",
     "output_type": "stream",
     "text": [
      "OD\n",
      "ER\n",
      "IM\n",
      "AF\n",
      "LOS\n",
      "AL\n",
      "IS\n",
      "OD\n"
     ]
    }
   ],
   "source": [
    "# itero sulla lista con un ciclo for\n",
    "\n",
    "for nota in note:\n",
    "    # stampo ad ogni iterazione il valore della variabile nota trasformato in maiuscolo\n",
    "    maiuscolo = nota.upper()\n",
    "    print(maiuscolo[::-1])"
   ]
  },
  {
   "cell_type": "markdown",
   "metadata": {
    "heading_collapsed": true,
    "hidden": true
   },
   "source": [
    "## Iterare su una stringa"
   ]
  },
  {
   "cell_type": "code",
   "execution_count": 158,
   "metadata": {
    "ExecuteTime": {
     "end_time": "2021-02-23T15:24:35.003511Z",
     "start_time": "2021-02-23T15:24:35.001450Z"
    },
    "hidden": true
   },
   "outputs": [],
   "source": [
    "frase = \"Nel mezzo del cammin di nostra vita\""
   ]
  },
  {
   "cell_type": "code",
   "execution_count": 166,
   "metadata": {
    "ExecuteTime": {
     "end_time": "2021-02-23T15:28:05.434478Z",
     "start_time": "2021-02-23T15:28:05.429177Z"
    },
    "hidden": true
   },
   "outputs": [
    {
     "name": "stdout",
     "output_type": "stream",
     "text": [
      "N\n",
      "e\n",
      "l\n",
      "m\n",
      "e\n",
      "z\n",
      "z\n",
      "o\n",
      "d\n",
      "e\n",
      "l\n",
      "c\n",
      "a\n",
      "m\n",
      "m\n",
      "i\n",
      "n\n",
      "d\n",
      "i\n",
      "n\n",
      "o\n",
      "s\n",
      "t\n",
      "r\n",
      "a\n",
      "v\n",
      "i\n",
      "t\n",
      "a\n"
     ]
    }
   ],
   "source": [
    "for carattere in frase:\n",
    "    if carattere != \" \":\n",
    "        print(carattere)"
   ]
  },
  {
   "cell_type": "code",
   "execution_count": null,
   "metadata": {
    "hidden": true
   },
   "outputs": [],
   "source": []
  },
  {
   "cell_type": "code",
   "execution_count": null,
   "metadata": {
    "hidden": true
   },
   "outputs": [],
   "source": []
  },
  {
   "cell_type": "code",
   "execution_count": null,
   "metadata": {
    "hidden": true
   },
   "outputs": [],
   "source": []
  },
  {
   "cell_type": "markdown",
   "metadata": {
    "heading_collapsed": true,
    "hidden": true
   },
   "source": [
    "## Iterare su una progressione numerica"
   ]
  },
  {
   "cell_type": "markdown",
   "metadata": {
    "hidden": true
   },
   "source": [
    "Per iterare su una progressione numerica usiamo la funzione **range()**, che si usa nelle seguenti forme:  \n",
    "```python\n",
    "range([numero]) # genera la progressione da 0 a <numero> (escluso)\n",
    "range([inizio,fine]) # genera la progressione da <inizio> a <fine> (escluso)\n",
    "range([inizio, fine, step]) # genera la progressione da <inizio> a <fine> (escluso) procedendo per <step>\n",
    "```"
   ]
  },
  {
   "cell_type": "code",
   "execution_count": 123,
   "metadata": {
    "ExecuteTime": {
     "end_time": "2021-02-23T14:40:21.468270Z",
     "start_time": "2021-02-23T14:40:21.465725Z"
    },
    "hidden": true
   },
   "outputs": [
    {
     "name": "stdout",
     "output_type": "stream",
     "text": [
      "0\n",
      "1\n",
      "2\n",
      "3\n",
      "4\n"
     ]
    }
   ],
   "source": [
    "for numero in range(5):\n",
    "    print(numero)"
   ]
  },
  {
   "cell_type": "code",
   "execution_count": 124,
   "metadata": {
    "ExecuteTime": {
     "end_time": "2021-02-23T14:40:47.416821Z",
     "start_time": "2021-02-23T14:40:47.406078Z"
    },
    "hidden": true
   },
   "outputs": [
    {
     "name": "stdout",
     "output_type": "stream",
     "text": [
      "5\n",
      "6\n",
      "7\n",
      "8\n",
      "9\n"
     ]
    }
   ],
   "source": [
    "for numero in range(5,10):\n",
    "    print(numero)"
   ]
  },
  {
   "cell_type": "code",
   "execution_count": 126,
   "metadata": {
    "ExecuteTime": {
     "end_time": "2021-02-23T14:41:24.911195Z",
     "start_time": "2021-02-23T14:41:24.908507Z"
    },
    "hidden": true
   },
   "outputs": [
    {
     "name": "stdout",
     "output_type": "stream",
     "text": [
      "3\n",
      "6\n",
      "9\n",
      "12\n",
      "15\n",
      "18\n"
     ]
    }
   ],
   "source": [
    "for numero in range(3,20,3):\n",
    "    print(numero)"
   ]
  },
  {
   "cell_type": "markdown",
   "metadata": {
    "hidden": true
   },
   "source": [
    "### Esercizio"
   ]
  },
  {
   "cell_type": "markdown",
   "metadata": {
    "hidden": true
   },
   "source": [
    "Popolare una lista di n elementi con i primi n multipli di 10. I numeri devono essere inseriti in coda alla lista.   \n",
    "Dopo l’inserimento visualizzare in output i valori della lista e il relativo indice. "
   ]
  },
  {
   "cell_type": "code",
   "execution_count": 15,
   "metadata": {
    "ExecuteTime": {
     "end_time": "2021-02-25T15:37:18.582632Z",
     "start_time": "2021-02-25T15:37:18.576837Z"
    },
    "hidden": true
   },
   "outputs": [
    {
     "name": "stdout",
     "output_type": "stream",
     "text": [
      "index 0: 10\n",
      "index 1: 20\n",
      "index 2: 30\n",
      "index 3: 40\n",
      "index 4: 50\n",
      "index 5: 60\n",
      "index 6: 70\n",
      "index 7: 80\n",
      "index 8: 90\n",
      "index 9: 100\n"
     ]
    }
   ],
   "source": [
    "n = 10\n",
    "tabellina_10 = []\n",
    "\n",
    "for i in range(1,n+1):\n",
    "    tabellina_10.append(i*10)\n",
    "    \n",
    "for i in tabellina_10:\n",
    "    print(f\"index {tabellina_10.index(i)}: {i}\")"
   ]
  },
  {
   "cell_type": "markdown",
   "metadata": {
    "heading_collapsed": true,
    "hidden": true
   },
   "source": [
    "## Due metodi molto comodi..."
   ]
  },
  {
   "cell_type": "markdown",
   "metadata": {
    "heading_collapsed": true,
    "hidden": true
   },
   "source": [
    "### str.split()"
   ]
  },
  {
   "cell_type": "markdown",
   "metadata": {
    "hidden": true
   },
   "source": [
    "Spesso capita di dover suddividere una stringa lunga in elementi indivisibili, come le parole.  \n",
    "Per intenderci, poniamo di voler dividere una frase in singole parole e di mettere queste parole in una lista di stringhe"
   ]
  },
  {
   "cell_type": "markdown",
   "metadata": {
    "hidden": true
   },
   "source": [
    "Usiamo il metodo (per le stringhe) **split(*separatore*)**"
   ]
  },
  {
   "cell_type": "code",
   "execution_count": 76,
   "metadata": {
    "ExecuteTime": {
     "end_time": "2021-02-25T16:18:15.527596Z",
     "start_time": "2021-02-25T16:18:15.525667Z"
    },
    "hidden": true
   },
   "outputs": [],
   "source": [
    "filastrocca = \"amba ra ba ci ci cò cò\""
   ]
  },
  {
   "cell_type": "code",
   "execution_count": 77,
   "metadata": {
    "ExecuteTime": {
     "end_time": "2021-02-25T16:18:24.940100Z",
     "start_time": "2021-02-25T16:18:24.936900Z"
    },
    "hidden": true
   },
   "outputs": [
    {
     "data": {
      "text/plain": [
       "['amba', 'ra', 'ba', 'ci', 'ci', 'cò', 'cò']"
      ]
     },
     "execution_count": 77,
     "metadata": {},
     "output_type": "execute_result"
    }
   ],
   "source": [
    "filastrocca.split(\" \")"
   ]
  },
  {
   "cell_type": "markdown",
   "metadata": {
    "heading_collapsed": true,
    "hidden": true
   },
   "source": [
    "#### Esercizio"
   ]
  },
  {
   "cell_type": "markdown",
   "metadata": {
    "hidden": true
   },
   "source": [
    "Data una frase, prendere le parole che iniziano con la maiuscola e stampare (la maiuscola) sul display"
   ]
  },
  {
   "cell_type": "code",
   "execution_count": 58,
   "metadata": {
    "ExecuteTime": {
     "end_time": "2021-02-25T15:57:31.343495Z",
     "start_time": "2021-02-25T15:57:31.336078Z"
    },
    "hidden": true
   },
   "outputs": [],
   "source": [
    "frase = \"Solutore Hobbistico di Equazioni con Limite Differenziale Ottimizzato alla Numerazione\""
   ]
  },
  {
   "cell_type": "code",
   "execution_count": 80,
   "metadata": {
    "ExecuteTime": {
     "end_time": "2021-02-25T16:22:10.545007Z",
     "start_time": "2021-02-25T16:22:10.542311Z"
    },
    "hidden": true
   },
   "outputs": [
    {
     "data": {
      "text/plain": [
       "['Solutore',\n",
       " 'Hobbistico',\n",
       " 'di',\n",
       " 'Equazioni',\n",
       " 'con',\n",
       " 'Limite',\n",
       " 'Differenziale',\n",
       " 'Ottimizzato',\n",
       " 'alla',\n",
       " 'Numerazione']"
      ]
     },
     "execution_count": 80,
     "metadata": {},
     "output_type": "execute_result"
    }
   ],
   "source": [
    "parole = frase.split(\" \")\n",
    "parole"
   ]
  },
  {
   "cell_type": "code",
   "execution_count": 81,
   "metadata": {
    "ExecuteTime": {
     "end_time": "2021-02-25T16:22:11.516465Z",
     "start_time": "2021-02-25T16:22:11.509111Z"
    },
    "hidden": true
   },
   "outputs": [
    {
     "name": "stdout",
     "output_type": "stream",
     "text": [
      "S\n",
      "H\n",
      "E\n",
      "L\n",
      "D\n",
      "O\n",
      "N\n"
     ]
    }
   ],
   "source": [
    "for parola in parole:\n",
    "    if parola[0].isupper():\n",
    "        print(parola[0])"
   ]
  },
  {
   "cell_type": "markdown",
   "metadata": {
    "heading_collapsed": true,
    "hidden": true
   },
   "source": [
    "### string.join(list)"
   ]
  },
  {
   "cell_type": "markdown",
   "metadata": {
    "hidden": true
   },
   "source": [
    "Al contrario di str.split(sep), il metodo join prende una lista di stringhe e le unisce in un'unica stringa. "
   ]
  },
  {
   "cell_type": "code",
   "execution_count": 128,
   "metadata": {
    "ExecuteTime": {
     "end_time": "2021-02-25T16:58:25.728765Z",
     "start_time": "2021-02-25T16:58:25.726763Z"
    },
    "hidden": true
   },
   "outputs": [],
   "source": [
    "lista = [\"ciao\",\"a\",\"tutti\"]"
   ]
  },
  {
   "cell_type": "code",
   "execution_count": 130,
   "metadata": {
    "ExecuteTime": {
     "end_time": "2021-02-25T16:59:01.169718Z",
     "start_time": "2021-02-25T16:59:01.167219Z"
    },
    "hidden": true
   },
   "outputs": [
    {
     "data": {
      "text/plain": [
       "'ciao a tutti'"
      ]
     },
     "execution_count": 130,
     "metadata": {},
     "output_type": "execute_result"
    }
   ],
   "source": [
    "# Il metodo si applica ad una stringa che rappresenta il carattere separatore\n",
    "\" \".join(lista)"
   ]
  },
  {
   "cell_type": "code",
   "execution_count": 131,
   "metadata": {
    "ExecuteTime": {
     "end_time": "2021-02-25T16:59:08.144609Z",
     "start_time": "2021-02-25T16:59:08.139455Z"
    },
    "hidden": true
   },
   "outputs": [
    {
     "data": {
      "text/plain": [
       "'ciao-a-tutti'"
      ]
     },
     "execution_count": 131,
     "metadata": {},
     "output_type": "execute_result"
    }
   ],
   "source": [
    "\"-\".join(lista)"
   ]
  },
  {
   "cell_type": "markdown",
   "metadata": {},
   "source": [
    "# Numeri pseudo-casuali"
   ]
  },
  {
   "cell_type": "markdown",
   "metadata": {
    "heading_collapsed": true
   },
   "source": [
    "## Descrizione"
   ]
  },
  {
   "cell_type": "markdown",
   "metadata": {
    "hidden": true
   },
   "source": [
    "La generazione di numeri realmente casuali è impossibile attraverso un computer, quindi si parla di numeri pseudo-casuali in quanto generati da un algoritmo (deterministico) che produce valori che *somigliano* a valori casuali."
   ]
  },
  {
   "cell_type": "markdown",
   "metadata": {
    "hidden": true
   },
   "source": [
    "In python il modulo **random** offre alcune funzioni che generano numeri casuali.  "
   ]
  },
  {
   "cell_type": "code",
   "execution_count": 132,
   "metadata": {
    "ExecuteTime": {
     "end_time": "2021-02-25T17:05:15.331654Z",
     "start_time": "2021-02-25T17:05:15.328120Z"
    },
    "hidden": true
   },
   "outputs": [],
   "source": [
    "# Importare il modulo random\n",
    "import random"
   ]
  },
  {
   "cell_type": "code",
   "execution_count": 158,
   "metadata": {
    "ExecuteTime": {
     "end_time": "2021-02-25T17:08:16.026553Z",
     "start_time": "2021-02-25T17:08:16.023839Z"
    },
    "hidden": true
   },
   "outputs": [
    {
     "data": {
      "text/plain": [
       "3"
      ]
     },
     "execution_count": 158,
     "metadata": {},
     "output_type": "execute_result"
    }
   ],
   "source": [
    "# chiamare una funzione che genera numeri interi compresi fra un minnimo e un massimo (inclusi)\n",
    "random.randint(0,100)"
   ]
  },
  {
   "cell_type": "markdown",
   "metadata": {},
   "source": [
    "## Creare una lista di numeri casuali"
   ]
  },
  {
   "cell_type": "code",
   "execution_count": 159,
   "metadata": {
    "ExecuteTime": {
     "end_time": "2021-02-25T17:10:38.591828Z",
     "start_time": "2021-02-25T17:10:38.589129Z"
    }
   },
   "outputs": [],
   "source": [
    "# creo una lista vuota\n",
    "casuali = []"
   ]
  },
  {
   "cell_type": "code",
   "execution_count": 160,
   "metadata": {
    "ExecuteTime": {
     "end_time": "2021-02-25T17:12:36.211674Z",
     "start_time": "2021-02-25T17:12:36.207662Z"
    }
   },
   "outputs": [],
   "source": [
    "# eseguo un ciclo sul range (100), quindi un processo che si ripete 100 volte\n",
    "# e ad ogni ripetizione del processo aggiungo (con append) un numero casuale alla lista\n",
    "\n",
    "for i in range(100):\n",
    "    numero = random.randint(0,100)\n",
    "    casuali.append(numero)"
   ]
  },
  {
   "cell_type": "code",
   "execution_count": 161,
   "metadata": {
    "ExecuteTime": {
     "end_time": "2021-02-25T17:12:46.383669Z",
     "start_time": "2021-02-25T17:12:46.381082Z"
    }
   },
   "outputs": [
    {
     "name": "stdout",
     "output_type": "stream",
     "text": [
      "[64, 6, 54, 20, 7, 6, 84, 28, 68, 68, 79, 39, 9, 71, 89, 80, 46, 17, 76, 46, 1, 93, 37, 78, 88, 73, 1, 73, 93, 73, 1, 40, 69, 41, 99, 39, 64, 62, 60, 83, 18, 100, 57, 88, 26, 46, 56, 53, 33, 55, 14, 7, 67, 98, 36, 83, 82, 22, 94, 43, 35, 69, 43, 29, 21, 64, 66, 82, 3, 85, 46, 87, 29, 12, 19, 82, 67, 46, 65, 61, 11, 59, 7, 65, 46, 9, 100, 20, 45, 47, 78, 52, 3, 16, 47, 2, 9, 44, 22, 76]\n"
     ]
    }
   ],
   "source": [
    "# stampo la lista\n",
    "\n",
    "print(casuali)"
   ]
  },
  {
   "cell_type": "markdown",
   "metadata": {},
   "source": [
    "### Esercizio"
   ]
  },
  {
   "cell_type": "markdown",
   "metadata": {},
   "source": [
    "Scorrere i valori casuali della lista precedente e stampare solo quelli pari"
   ]
  },
  {
   "cell_type": "code",
   "execution_count": 162,
   "metadata": {
    "ExecuteTime": {
     "end_time": "2021-02-25T17:13:52.124107Z",
     "start_time": "2021-02-25T17:13:52.118738Z"
    }
   },
   "outputs": [
    {
     "name": "stdout",
     "output_type": "stream",
     "text": [
      "64\n",
      "6\n",
      "54\n",
      "20\n",
      "6\n",
      "84\n",
      "28\n",
      "68\n",
      "68\n",
      "80\n",
      "46\n",
      "76\n",
      "46\n",
      "78\n",
      "88\n",
      "40\n",
      "64\n",
      "62\n",
      "60\n",
      "18\n",
      "100\n",
      "88\n",
      "26\n",
      "46\n",
      "56\n",
      "14\n",
      "98\n",
      "36\n",
      "82\n",
      "22\n",
      "94\n",
      "64\n",
      "66\n",
      "82\n",
      "46\n",
      "12\n",
      "82\n",
      "46\n",
      "46\n",
      "100\n",
      "20\n",
      "78\n",
      "52\n",
      "16\n",
      "2\n",
      "44\n",
      "22\n",
      "76\n"
     ]
    }
   ],
   "source": [
    "for num in casuali:\n",
    "    if num % 2 == 0:\n",
    "        print(num)"
   ]
  },
  {
   "cell_type": "code",
   "execution_count": 176,
   "metadata": {
    "ExecuteTime": {
     "end_time": "2021-02-25T17:19:23.765332Z",
     "start_time": "2021-02-25T17:19:23.763144Z"
    }
   },
   "outputs": [],
   "source": [
    "note = \"do do# re re# mi fa fa# sol sol# la sib si\""
   ]
  },
  {
   "cell_type": "code",
   "execution_count": 177,
   "metadata": {
    "ExecuteTime": {
     "end_time": "2021-02-25T17:19:25.325813Z",
     "start_time": "2021-02-25T17:19:25.319362Z"
    }
   },
   "outputs": [
    {
     "data": {
      "text/plain": [
       "['do', 'do#', 're', 're#', 'mi', 'fa', 'fa#', 'sol', 'sol#', 'la', 'sib', 'si']"
      ]
     },
     "execution_count": 177,
     "metadata": {},
     "output_type": "execute_result"
    }
   ],
   "source": [
    "note = note.split(\" \")\n",
    "note"
   ]
  },
  {
   "cell_type": "code",
   "execution_count": 168,
   "metadata": {
    "ExecuteTime": {
     "end_time": "2021-02-25T17:16:25.622248Z",
     "start_time": "2021-02-25T17:16:25.620462Z"
    }
   },
   "outputs": [],
   "source": [
    "n = 60"
   ]
  },
  {
   "cell_type": "code",
   "execution_count": 178,
   "metadata": {
    "ExecuteTime": {
     "end_time": "2021-02-25T17:20:00.762820Z",
     "start_time": "2021-02-25T17:20:00.754654Z"
    }
   },
   "outputs": [
    {
     "name": "stdout",
     "output_type": "stream",
     "text": [
      "mi\n",
      "fa#\n",
      "fa#\n",
      "sol#\n",
      "sol\n",
      "fa#\n",
      "do\n",
      "mi\n",
      "sol#\n",
      "sol#\n",
      "sol\n",
      "re#\n",
      "la\n",
      "si\n",
      "fa\n",
      "sol#\n",
      "sib\n",
      "fa\n",
      "mi\n",
      "sib\n",
      "do#\n",
      "la\n",
      "do#\n",
      "fa#\n",
      "mi\n",
      "do#\n",
      "do#\n",
      "do#\n",
      "la\n",
      "do#\n",
      "do#\n",
      "mi\n",
      "la\n",
      "fa\n",
      "re#\n",
      "re#\n",
      "mi\n",
      "re\n",
      "do\n",
      "si\n",
      "fa#\n",
      "mi\n",
      "la\n",
      "mi\n",
      "re\n",
      "sib\n",
      "sol#\n",
      "fa\n",
      "la\n",
      "sol\n",
      "re\n",
      "sol\n",
      "sol\n",
      "re\n",
      "do\n",
      "si\n",
      "sib\n",
      "sib\n",
      "sib\n",
      "sol\n",
      "si\n",
      "la\n",
      "sol\n",
      "fa\n",
      "la\n",
      "mi\n",
      "fa#\n",
      "sib\n",
      "re#\n",
      "do#\n",
      "sib\n",
      "re#\n",
      "fa\n",
      "do\n",
      "sol\n",
      "sib\n",
      "sol\n",
      "sib\n",
      "fa\n",
      "do#\n",
      "si\n",
      "si\n",
      "sol\n",
      "fa\n",
      "sib\n",
      "la\n",
      "mi\n",
      "sol#\n",
      "la\n",
      "si\n",
      "fa#\n",
      "mi\n",
      "re#\n",
      "mi\n",
      "si\n",
      "re\n",
      "la\n",
      "sol#\n",
      "sib\n",
      "mi\n"
     ]
    }
   ],
   "source": [
    "for nota in casuali:\n",
    "    print(note[nota % 12])"
   ]
  },
  {
   "cell_type": "code",
   "execution_count": 1,
   "metadata": {
    "ExecuteTime": {
     "end_time": "2021-02-25T18:16:21.118417Z",
     "start_time": "2021-02-25T18:16:21.043812Z"
    }
   },
   "outputs": [],
   "source": [
    "from pyo import *"
   ]
  },
  {
   "cell_type": "code",
   "execution_count": 2,
   "metadata": {
    "ExecuteTime": {
     "end_time": "2021-02-25T18:16:23.191612Z",
     "start_time": "2021-02-25T18:16:23.161279Z"
    }
   },
   "outputs": [
    {
     "name": "stdout",
     "output_type": "stream",
     "text": [
      "Pyo warning: Buffer size set to Jack engine buffer size: 512.\n",
      "Pyo warning: Portmidi warning: no midi device found!\n",
      "Portmidi closed.\n"
     ]
    }
   ],
   "source": [
    "s = Server(audio='jack').boot()"
   ]
  },
  {
   "cell_type": "code",
   "execution_count": 4,
   "metadata": {
    "ExecuteTime": {
     "end_time": "2021-02-25T17:49:19.861145Z",
     "start_time": "2021-02-25T17:49:19.859348Z"
    }
   },
   "outputs": [],
   "source": [
    "s.amp = 0.1"
   ]
  },
  {
   "cell_type": "code",
   "execution_count": 5,
   "metadata": {
    "ExecuteTime": {
     "end_time": "2021-02-25T18:16:35.459950Z",
     "start_time": "2021-02-25T18:16:35.450584Z"
    }
   },
   "outputs": [
    {
     "data": {
      "text/plain": [
       "<pyo.lib.server.Server at 0x7f151922d310>"
      ]
     },
     "execution_count": 5,
     "metadata": {},
     "output_type": "execute_result"
    }
   ],
   "source": [
    "s.start()"
   ]
  },
  {
   "cell_type": "code",
   "execution_count": 3,
   "metadata": {
    "ExecuteTime": {
     "end_time": "2021-02-25T18:16:30.348632Z",
     "start_time": "2021-02-25T18:16:30.341583Z"
    }
   },
   "outputs": [],
   "source": [
    "osc4 = SuperSaw(freq=100, mul=0.25)"
   ]
  },
  {
   "cell_type": "code",
   "execution_count": 4,
   "metadata": {
    "ExecuteTime": {
     "end_time": "2021-02-25T18:16:32.675803Z",
     "start_time": "2021-02-25T18:16:32.668914Z"
    }
   },
   "outputs": [
    {
     "data": {
      "text/plain": [
       "< Instance of SuperSaw class >"
      ]
     },
     "execution_count": 4,
     "metadata": {},
     "output_type": "execute_result"
    }
   ],
   "source": [
    "osc4.out()"
   ]
  },
  {
   "cell_type": "code",
   "execution_count": 9,
   "metadata": {
    "ExecuteTime": {
     "end_time": "2021-02-25T18:17:10.855037Z",
     "start_time": "2021-02-25T18:17:10.851735Z"
    }
   },
   "outputs": [
    {
     "data": {
      "text/plain": [
       "< Instance of SuperSaw class >"
      ]
     },
     "execution_count": 9,
     "metadata": {},
     "output_type": "execute_result"
    }
   ],
   "source": [
    "osc4.stop()"
   ]
  },
  {
   "cell_type": "code",
   "execution_count": 11,
   "metadata": {
    "ExecuteTime": {
     "end_time": "2021-02-25T17:50:04.748396Z",
     "start_time": "2021-02-25T17:50:04.746312Z"
    }
   },
   "outputs": [],
   "source": [
    "a = Sine().out()"
   ]
  },
  {
   "cell_type": "code",
   "execution_count": 12,
   "metadata": {
    "ExecuteTime": {
     "end_time": "2021-02-25T17:50:06.104606Z",
     "start_time": "2021-02-25T17:50:06.099932Z"
    }
   },
   "outputs": [],
   "source": [
    "a.freq = 100"
   ]
  },
  {
   "cell_type": "code",
   "execution_count": 10,
   "metadata": {
    "ExecuteTime": {
     "end_time": "2021-02-25T17:49:46.112266Z",
     "start_time": "2021-02-25T17:49:46.109057Z"
    }
   },
   "outputs": [
    {
     "data": {
      "text/plain": [
       "['add', 'freq', 'mul', 'phase']"
      ]
     },
     "execution_count": 10,
     "metadata": {},
     "output_type": "execute_result"
    }
   ],
   "source": [
    "dir(a)"
   ]
  },
  {
   "cell_type": "code",
   "execution_count": 13,
   "metadata": {
    "ExecuteTime": {
     "end_time": "2021-02-25T17:50:09.976658Z",
     "start_time": "2021-02-25T17:50:09.974731Z"
    }
   },
   "outputs": [],
   "source": [
    "a.freq = 500"
   ]
  },
  {
   "cell_type": "code",
   "execution_count": 11,
   "metadata": {
    "ExecuteTime": {
     "end_time": "2021-02-25T17:39:22.744128Z",
     "start_time": "2021-02-25T17:39:22.737915Z"
    }
   },
   "outputs": [],
   "source": [
    "a.mul = 0"
   ]
  },
  {
   "cell_type": "code",
   "execution_count": 13,
   "metadata": {
    "ExecuteTime": {
     "end_time": "2021-02-25T17:39:33.645354Z",
     "start_time": "2021-02-25T17:39:33.639194Z"
    }
   },
   "outputs": [],
   "source": [
    "a.mul = 1"
   ]
  },
  {
   "cell_type": "code",
   "execution_count": 15,
   "metadata": {
    "ExecuteTime": {
     "end_time": "2021-02-25T17:50:20.358678Z",
     "start_time": "2021-02-25T17:50:20.356809Z"
    }
   },
   "outputs": [],
   "source": [
    "import time\n",
    "import random"
   ]
  },
  {
   "cell_type": "code",
   "execution_count": 16,
   "metadata": {
    "ExecuteTime": {
     "end_time": "2021-02-25T17:50:26.659007Z",
     "start_time": "2021-02-25T17:50:21.645334Z"
    }
   },
   "outputs": [],
   "source": [
    "for i in range(10):\n",
    "    frequency =  random.randint(200,2000)\n",
    "    a.freq = frequency\n",
    "    time.sleep(0.5)"
   ]
  },
  {
   "cell_type": "code",
   "execution_count": 6,
   "metadata": {
    "ExecuteTime": {
     "end_time": "2021-02-25T18:16:47.874044Z",
     "start_time": "2021-02-25T18:16:47.871527Z"
    }
   },
   "outputs": [],
   "source": [
    "seq = [random.randint(60,200) for _ in range(8)]"
   ]
  },
  {
   "cell_type": "code",
   "execution_count": 8,
   "metadata": {
    "ExecuteTime": {
     "end_time": "2021-02-25T18:17:05.894520Z",
     "start_time": "2021-02-25T18:16:55.865424Z"
    }
   },
   "outputs": [],
   "source": [
    "for i in range(80):\n",
    "    osc4.freq = seq[i%8]\n",
    "    time.sleep(0.125)"
   ]
  },
  {
   "cell_type": "code",
   "execution_count": 10,
   "metadata": {
    "ExecuteTime": {
     "end_time": "2021-02-25T18:17:16.458883Z",
     "start_time": "2021-02-25T18:17:16.456761Z"
    }
   },
   "outputs": [],
   "source": [
    "s.stop()"
   ]
  },
  {
   "cell_type": "code",
   "execution_count": null,
   "metadata": {
    "ExecuteTime": {
     "start_time": "2021-02-25T17:55:20.594Z"
    }
   },
   "outputs": [],
   "source": [
    "s.gui(locals())"
   ]
  },
  {
   "cell_type": "code",
   "execution_count": null,
   "metadata": {
    "ExecuteTime": {
     "start_time": "2021-02-25T18:17:18.131Z"
    }
   },
   "outputs": [],
   "source": [
    "s.shutdown()"
   ]
  },
  {
   "cell_type": "code",
   "execution_count": 31,
   "metadata": {
    "ExecuteTime": {
     "end_time": "2021-02-25T17:43:55.565078Z",
     "start_time": "2021-02-25T17:43:55.561616Z"
    }
   },
   "outputs": [
    {
     "data": {
      "text/plain": [
       "['__class__',\n",
       " '__del__',\n",
       " '__delattr__',\n",
       " '__dict__',\n",
       " '__dir__',\n",
       " '__doc__',\n",
       " '__eq__',\n",
       " '__format__',\n",
       " '__ge__',\n",
       " '__getattribute__',\n",
       " '__gt__',\n",
       " '__hash__',\n",
       " '__init__',\n",
       " '__init_subclass__',\n",
       " '__le__',\n",
       " '__lt__',\n",
       " '__module__',\n",
       " '__ne__',\n",
       " '__new__',\n",
       " '__reduce__',\n",
       " '__reduce_ex__',\n",
       " '__repr__',\n",
       " '__setattr__',\n",
       " '__sizeof__',\n",
       " '__str__',\n",
       " '__subclasshook__',\n",
       " '__weakref__',\n",
       " '_amp',\n",
       " '_dur',\n",
       " '_fileformat',\n",
       " '_filename',\n",
       " '_globalseed',\n",
       " '_ichnls',\n",
       " '_isJackTransportSlave',\n",
       " '_nchnls',\n",
       " '_resampling',\n",
       " '_sampletype',\n",
       " '_server',\n",
       " '_startoffset',\n",
       " '_time',\n",
       " '_verbosity',\n",
       " '_winhost',\n",
       " 'addMidiEvent',\n",
       " 'afterout',\n",
       " 'allowMicrosoftMidiDevices',\n",
       " 'amp',\n",
       " 'beginResamplingBlock',\n",
       " 'bendout',\n",
       " 'boot',\n",
       " 'closeGui',\n",
       " 'ctlout',\n",
       " 'deactivateMidi',\n",
       " 'endResamplingBlock',\n",
       " 'getBufferSize',\n",
       " 'getCurrentAmp',\n",
       " 'getCurrentTime',\n",
       " 'getEmbedICallbackAddr',\n",
       " 'getGlobalDel',\n",
       " 'getGlobalDur',\n",
       " 'getGlobalSeed',\n",
       " 'getInputAddr',\n",
       " 'getIsBooted',\n",
       " 'getIsStarted',\n",
       " 'getMidiActive',\n",
       " 'getNchnls',\n",
       " 'getNumberOfStreams',\n",
       " 'getOutputAddr',\n",
       " 'getSamplingRate',\n",
       " 'getServerAddr',\n",
       " 'getServerID',\n",
       " 'getStreams',\n",
       " 'globalseed',\n",
       " 'gui',\n",
       " 'makenote',\n",
       " 'noteout',\n",
       " 'pressout',\n",
       " 'programout',\n",
       " 'recordOptions',\n",
       " 'recstart',\n",
       " 'recstop',\n",
       " 'reinit',\n",
       " 'setAmp',\n",
       " 'setAutoStartChildren',\n",
       " 'setBufferSize',\n",
       " 'setCallback',\n",
       " 'setDuplex',\n",
       " 'setGlobalDel',\n",
       " 'setGlobalDur',\n",
       " 'setGlobalSeed',\n",
       " 'setIchnls',\n",
       " 'setInOutDevice',\n",
       " 'setInOutOffset',\n",
       " 'setInputDevice',\n",
       " 'setInputOffset',\n",
       " 'setIsJackTransportSlave',\n",
       " 'setJackAuto',\n",
       " 'setJackAutoConnectInputPorts',\n",
       " 'setJackAutoConnectMidiInputPort',\n",
       " 'setJackAutoConnectMidiOutputPort',\n",
       " 'setJackAutoConnectOutputPorts',\n",
       " 'setJackInputPortNames',\n",
       " 'setJackMidiInputPortName',\n",
       " 'setJackMidiOutputPortName',\n",
       " 'setJackOutputPortNames',\n",
       " 'setMeter',\n",
       " 'setMeterCallable',\n",
       " 'setMidiInputDevice',\n",
       " 'setMidiOutputDevice',\n",
       " 'setNchnls',\n",
       " 'setOutputDevice',\n",
       " 'setOutputOffset',\n",
       " 'setSamplingRate',\n",
       " 'setServer',\n",
       " 'setStartOffset',\n",
       " 'setTimeCallable',\n",
       " 'setVerbosity',\n",
       " 'shutdown',\n",
       " 'start',\n",
       " 'startoffset',\n",
       " 'stop',\n",
       " 'sysexout',\n",
       " 'verbosity']"
      ]
     },
     "execution_count": 31,
     "metadata": {},
     "output_type": "execute_result"
    }
   ],
   "source": [
    "dir(s)"
   ]
  }
 ],
 "metadata": {
  "kernelspec": {
   "display_name": "Python 3",
   "language": "python",
   "name": "python3"
  },
  "language_info": {
   "codemirror_mode": {
    "name": "ipython",
    "version": 3
   },
   "file_extension": ".py",
   "mimetype": "text/x-python",
   "name": "python",
   "nbconvert_exporter": "python",
   "pygments_lexer": "ipython3",
   "version": "3.7.4"
  },
  "toc": {
   "base_numbering": 1,
   "nav_menu": {},
   "number_sections": true,
   "sideBar": true,
   "skip_h1_title": false,
   "title_cell": "Table of Contents",
   "title_sidebar": "Contents",
   "toc_cell": false,
   "toc_position": {},
   "toc_section_display": true,
   "toc_window_display": false
  }
 },
 "nbformat": 4,
 "nbformat_minor": 2
}
