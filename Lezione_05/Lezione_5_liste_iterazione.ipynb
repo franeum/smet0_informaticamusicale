{
 "cells": [
  {
   "cell_type": "markdown",
   "metadata": {
    "heading_collapsed": true
   },
   "source": [
    "# Liste"
   ]
  },
  {
   "cell_type": "markdown",
   "metadata": {
    "hidden": true
   },
   "source": [
    "## Descrizione"
   ]
  },
  {
   "cell_type": "markdown",
   "metadata": {
    "hidden": true
   },
   "source": [
    "Il tipo **list** è una struttua che permette di raggruppare (e ordinare) elementi di tipi diversi."
   ]
  },
  {
   "cell_type": "code",
   "execution_count": 1,
   "metadata": {
    "ExecuteTime": {
     "end_time": "2021-02-27T14:03:48.435033Z",
     "start_time": "2021-02-27T14:03:48.419642Z"
    },
    "hidden": true
   },
   "outputs": [],
   "source": [
    "# creo una lista vuota\n",
    "lista = []\n",
    "# oppure lista = list()"
   ]
  },
  {
   "cell_type": "code",
   "execution_count": 2,
   "metadata": {
    "ExecuteTime": {
     "end_time": "2021-02-27T14:04:04.377224Z",
     "start_time": "2021-02-27T14:04:04.373873Z"
    },
    "hidden": true
   },
   "outputs": [
    {
     "name": "stdout",
     "output_type": "stream",
     "text": [
      "<class 'list'>\n"
     ]
    }
   ],
   "source": [
    "print(type(lista))"
   ]
  },
  {
   "cell_type": "code",
   "execution_count": 3,
   "metadata": {
    "ExecuteTime": {
     "end_time": "2021-02-27T14:04:18.367077Z",
     "start_time": "2021-02-27T14:04:18.363549Z"
    },
    "hidden": true
   },
   "outputs": [
    {
     "name": "stdout",
     "output_type": "stream",
     "text": [
      "[]\n"
     ]
    }
   ],
   "source": [
    "print(lista)"
   ]
  },
  {
   "cell_type": "code",
   "execution_count": 6,
   "metadata": {
    "ExecuteTime": {
     "end_time": "2021-02-27T14:05:43.085302Z",
     "start_time": "2021-02-27T14:05:43.080644Z"
    },
    "hidden": true
   },
   "outputs": [],
   "source": [
    "# inserisco valori nella lista (stringhe, interi, float o quant'altro):\n",
    "lista.append(\"una stringa\")"
   ]
  },
  {
   "cell_type": "code",
   "execution_count": 7,
   "metadata": {
    "ExecuteTime": {
     "end_time": "2021-02-27T14:05:48.882863Z",
     "start_time": "2021-02-27T14:05:48.879333Z"
    },
    "hidden": true
   },
   "outputs": [
    {
     "name": "stdout",
     "output_type": "stream",
     "text": [
      "['una stringa']\n"
     ]
    }
   ],
   "source": [
    "print(lista)"
   ]
  },
  {
   "cell_type": "code",
   "execution_count": 8,
   "metadata": {
    "ExecuteTime": {
     "end_time": "2021-02-27T14:06:14.440011Z",
     "start_time": "2021-02-27T14:06:14.434756Z"
    },
    "hidden": true
   },
   "outputs": [],
   "source": [
    "lista.append(3)\n",
    "lista.append(\"ciao\")\n",
    "lista.append(5)\n",
    "lista.append(\"Mondo\")\n",
    "lista.append(12.8)\n",
    "lista.append(15)"
   ]
  },
  {
   "cell_type": "code",
   "execution_count": 9,
   "metadata": {
    "ExecuteTime": {
     "end_time": "2021-02-27T14:06:21.074947Z",
     "start_time": "2021-02-27T14:06:21.070430Z"
    },
    "hidden": true
   },
   "outputs": [
    {
     "name": "stdout",
     "output_type": "stream",
     "text": [
      "['una stringa', 3, 'ciao', 5, 'Mondo', 12.8, 15]\n"
     ]
    }
   ],
   "source": [
    "print(lista)"
   ]
  },
  {
   "cell_type": "markdown",
   "metadata": {
    "ExecuteTime": {
     "end_time": "2021-02-23T12:47:50.437476Z",
     "start_time": "2021-02-23T12:47:50.434611Z"
    },
    "hidden": true
   },
   "source": [
    "Una lista è indicizzata come una stringa:"
   ]
  },
  {
   "cell_type": "code",
   "execution_count": 10,
   "metadata": {
    "ExecuteTime": {
     "end_time": "2021-02-27T14:08:14.573292Z",
     "start_time": "2021-02-27T14:08:14.569202Z"
    },
    "hidden": true
   },
   "outputs": [
    {
     "data": {
      "text/plain": [
       "'una stringa'"
      ]
     },
     "execution_count": 10,
     "metadata": {},
     "output_type": "execute_result"
    }
   ],
   "source": [
    "lista[0]"
   ]
  },
  {
   "cell_type": "code",
   "execution_count": 11,
   "metadata": {
    "ExecuteTime": {
     "end_time": "2021-02-27T14:08:36.139174Z",
     "start_time": "2021-02-27T14:08:36.131251Z"
    },
    "hidden": true
   },
   "outputs": [
    {
     "data": {
      "text/plain": [
       "15"
      ]
     },
     "execution_count": 11,
     "metadata": {},
     "output_type": "execute_result"
    }
   ],
   "source": [
    "lista[-1]"
   ]
  },
  {
   "cell_type": "markdown",
   "metadata": {
    "hidden": true
   },
   "source": [
    "e supporta lo *slicing*"
   ]
  },
  {
   "cell_type": "code",
   "execution_count": 12,
   "metadata": {
    "ExecuteTime": {
     "end_time": "2021-02-27T14:09:14.789499Z",
     "start_time": "2021-02-27T14:09:14.780289Z"
    },
    "hidden": true
   },
   "outputs": [
    {
     "data": {
      "text/plain": [
       "[3, 'ciao']"
      ]
     },
     "execution_count": 12,
     "metadata": {},
     "output_type": "execute_result"
    }
   ],
   "source": [
    "lista[1:3]"
   ]
  },
  {
   "cell_type": "code",
   "execution_count": 13,
   "metadata": {
    "ExecuteTime": {
     "end_time": "2021-02-27T14:09:34.584837Z",
     "start_time": "2021-02-27T14:09:34.578081Z"
    },
    "hidden": true
   },
   "outputs": [
    {
     "data": {
      "text/plain": [
       "[3, 'ciao', 5, 'Mondo', 12.8, 15]"
      ]
     },
     "execution_count": 13,
     "metadata": {},
     "output_type": "execute_result"
    }
   ],
   "source": [
    "lista[1:]"
   ]
  },
  {
   "cell_type": "code",
   "execution_count": 14,
   "metadata": {
    "ExecuteTime": {
     "end_time": "2021-02-27T14:10:24.337641Z",
     "start_time": "2021-02-27T14:10:24.335069Z"
    },
    "hidden": true
   },
   "outputs": [],
   "source": [
    "lista.append(\"torino\")"
   ]
  },
  {
   "cell_type": "code",
   "execution_count": 15,
   "metadata": {
    "ExecuteTime": {
     "end_time": "2021-02-27T14:10:30.405456Z",
     "start_time": "2021-02-27T14:10:30.398950Z"
    },
    "hidden": true
   },
   "outputs": [
    {
     "data": {
      "text/plain": [
       "['una stringa', 3, 'ciao', 5, 'Mondo', 12.8, 15, 'torino']"
      ]
     },
     "execution_count": 15,
     "metadata": {},
     "output_type": "execute_result"
    }
   ],
   "source": [
    "lista"
   ]
  },
  {
   "cell_type": "markdown",
   "metadata": {
    "hidden": true
   },
   "source": [
    "Un elemento di una lista può essere qualunque cosa, inclusa una lista stessa"
   ]
  },
  {
   "cell_type": "code",
   "execution_count": 16,
   "metadata": {
    "ExecuteTime": {
     "end_time": "2021-02-27T14:11:30.348408Z",
     "start_time": "2021-02-27T14:11:30.339481Z"
    },
    "hidden": true
   },
   "outputs": [
    {
     "data": {
      "text/plain": [
       "[1, 3, 5, 7, [2, 4, 6]]"
      ]
     },
     "execution_count": 16,
     "metadata": {},
     "output_type": "execute_result"
    }
   ],
   "source": [
    "# creo una lista (non vuota)\n",
    "\n",
    "c = [1, 3, 5, 7, [2,4,6]]\n",
    "c"
   ]
  },
  {
   "cell_type": "markdown",
   "metadata": {
    "hidden": true
   },
   "source": [
    "Quando un elemento di una lista è una lista, viene indicizzato come gli altri"
   ]
  },
  {
   "cell_type": "code",
   "execution_count": 17,
   "metadata": {
    "ExecuteTime": {
     "end_time": "2021-02-27T14:11:54.875271Z",
     "start_time": "2021-02-27T14:11:54.869703Z"
    },
    "hidden": true
   },
   "outputs": [
    {
     "data": {
      "text/plain": [
       "[2, 4, 6]"
      ]
     },
     "execution_count": 17,
     "metadata": {},
     "output_type": "execute_result"
    }
   ],
   "source": [
    "# Il quinto elemento della lista c è una lista\n",
    "c[4]"
   ]
  },
  {
   "cell_type": "markdown",
   "metadata": {
    "hidden": true
   },
   "source": [
    "Rappresentiamo la lista:\n",
    "\n",
    "| indice | elemento |\n",
    "| --- | --- |\n",
    "| 0 | 1|\n",
    "|1|3|\n",
    "|2|5|\n",
    "|3|7|\n",
    "|4|[2,4,6]|"
   ]
  },
  {
   "cell_type": "code",
   "execution_count": 18,
   "metadata": {
    "ExecuteTime": {
     "end_time": "2021-02-27T14:12:45.354949Z",
     "start_time": "2021-02-27T14:12:45.352569Z"
    },
    "hidden": true
   },
   "outputs": [],
   "source": [
    "# Se volessimo accedere al secondo elemento della lista 'interna'\n",
    "# prendiamo la lista interna (che si trova all'indice 4) e la mettiamo in una nuova variabile\n",
    "\n",
    "interna = c[4]"
   ]
  },
  {
   "cell_type": "code",
   "execution_count": 19,
   "metadata": {
    "ExecuteTime": {
     "end_time": "2021-02-27T14:12:49.069993Z",
     "start_time": "2021-02-27T14:12:49.065314Z"
    },
    "hidden": true
   },
   "outputs": [
    {
     "data": {
      "text/plain": [
       "[2, 4, 6]"
      ]
     },
     "execution_count": 19,
     "metadata": {},
     "output_type": "execute_result"
    }
   ],
   "source": [
    "interna"
   ]
  },
  {
   "cell_type": "code",
   "execution_count": 20,
   "metadata": {
    "ExecuteTime": {
     "end_time": "2021-02-27T14:13:16.471268Z",
     "start_time": "2021-02-27T14:13:16.466785Z"
    },
    "hidden": true
   },
   "outputs": [
    {
     "data": {
      "text/plain": [
       "4"
      ]
     },
     "execution_count": 20,
     "metadata": {},
     "output_type": "execute_result"
    }
   ],
   "source": [
    "# Poi prendiamo da questa lista interna il secondo elemento (indice 1)\n",
    "\n",
    "interna[1]"
   ]
  },
  {
   "cell_type": "code",
   "execution_count": 22,
   "metadata": {
    "ExecuteTime": {
     "end_time": "2021-02-27T14:14:14.811100Z",
     "start_time": "2021-02-27T14:14:14.801607Z"
    },
    "hidden": true
   },
   "outputs": [
    {
     "data": {
      "text/plain": [
       "4"
      ]
     },
     "execution_count": 22,
     "metadata": {},
     "output_type": "execute_result"
    }
   ],
   "source": [
    "# Per abbreviare possiamo usare la notazione a indice doppia:\n",
    "c[4][1]"
   ]
  },
  {
   "cell_type": "markdown",
   "metadata": {
    "heading_collapsed": true,
    "hidden": true
   },
   "source": [
    "## Oggetti mutabili e immutabili"
   ]
  },
  {
   "cell_type": "markdown",
   "metadata": {
    "hidden": true
   },
   "source": [
    "La lista è un tipo di dato **mutabile**, mentre la stringa e i numeri sono **immutabili**. Questo significa che una volta assegnata una stringa ad una variabile, non possiamo in alcun modo cambiarla"
   ]
  },
  {
   "cell_type": "code",
   "execution_count": 24,
   "metadata": {
    "ExecuteTime": {
     "end_time": "2021-02-27T14:15:34.508540Z",
     "start_time": "2021-02-27T14:15:34.505934Z"
    },
    "hidden": true
   },
   "outputs": [],
   "source": [
    "s1 = \"ciao mondo\""
   ]
  },
  {
   "cell_type": "markdown",
   "metadata": {
    "hidden": true
   },
   "source": [
    "Se chiamiamo un metodo sulla stringa, il risultato dell'esecuzione del metodo non modifica la stringa originale, ma restituisce una nuova stringa"
   ]
  },
  {
   "cell_type": "code",
   "execution_count": 25,
   "metadata": {
    "ExecuteTime": {
     "end_time": "2021-02-27T14:15:38.354807Z",
     "start_time": "2021-02-27T14:15:38.349768Z"
    },
    "hidden": true
   },
   "outputs": [
    {
     "data": {
      "text/plain": [
       "'CIAO MONDO'"
      ]
     },
     "execution_count": 25,
     "metadata": {},
     "output_type": "execute_result"
    }
   ],
   "source": [
    "s1.upper()"
   ]
  },
  {
   "cell_type": "code",
   "execution_count": 26,
   "metadata": {
    "ExecuteTime": {
     "end_time": "2021-02-27T14:15:53.783323Z",
     "start_time": "2021-02-27T14:15:53.778787Z"
    },
    "hidden": true
   },
   "outputs": [
    {
     "data": {
      "text/plain": [
       "'ciao mondo'"
      ]
     },
     "execution_count": 26,
     "metadata": {},
     "output_type": "execute_result"
    }
   ],
   "source": [
    "s1"
   ]
  },
  {
   "cell_type": "code",
   "execution_count": 27,
   "metadata": {
    "ExecuteTime": {
     "end_time": "2021-02-27T14:16:25.546541Z",
     "start_time": "2021-02-27T14:16:25.537498Z"
    },
    "hidden": true
   },
   "outputs": [
    {
     "ename": "TypeError",
     "evalue": "'str' object does not support item assignment",
     "output_type": "error",
     "traceback": [
      "\u001b[0;31m---------------------------------------------------------------------------\u001b[0m",
      "\u001b[0;31mTypeError\u001b[0m                                 Traceback (most recent call last)",
      "\u001b[0;32m<ipython-input-27-8cae068f9c24>\u001b[0m in \u001b[0;36m<module>\u001b[0;34m\u001b[0m\n\u001b[1;32m      1\u001b[0m \u001b[0;31m# non posso riassegnare un carattere all'interno di una stringa\u001b[0m\u001b[0;34m\u001b[0m\u001b[0;34m\u001b[0m\u001b[0;34m\u001b[0m\u001b[0m\n\u001b[0;32m----> 2\u001b[0;31m \u001b[0ms1\u001b[0m\u001b[0;34m[\u001b[0m\u001b[0;36m3\u001b[0m\u001b[0;34m]\u001b[0m \u001b[0;34m=\u001b[0m \u001b[0;34m\"b\"\u001b[0m\u001b[0;34m\u001b[0m\u001b[0;34m\u001b[0m\u001b[0m\n\u001b[0m",
      "\u001b[0;31mTypeError\u001b[0m: 'str' object does not support item assignment"
     ]
    }
   ],
   "source": [
    "# non posso riassegnare un carattere all'interno di una stringa\n",
    "s1[3] = \"b\""
   ]
  },
  {
   "cell_type": "markdown",
   "metadata": {
    "hidden": true
   },
   "source": [
    "Possiamo eventualmente prendere la stringa originaria, applicare un metodo che la modifichi, e **riassegnare** la nuova stringa restituita alla stessa variabile che conteneva la stringa originale."
   ]
  },
  {
   "cell_type": "code",
   "execution_count": 28,
   "metadata": {
    "ExecuteTime": {
     "end_time": "2021-02-27T14:17:36.725839Z",
     "start_time": "2021-02-27T14:17:36.719979Z"
    },
    "hidden": true
   },
   "outputs": [],
   "source": [
    "s1 = \"ciao mondo\""
   ]
  },
  {
   "cell_type": "code",
   "execution_count": 29,
   "metadata": {
    "ExecuteTime": {
     "end_time": "2021-02-27T14:17:45.126701Z",
     "start_time": "2021-02-27T14:17:45.122458Z"
    },
    "hidden": true
   },
   "outputs": [
    {
     "data": {
      "text/plain": [
       "4571084592"
      ]
     },
     "execution_count": 29,
     "metadata": {},
     "output_type": "execute_result"
    }
   ],
   "source": [
    "# stampo l'id\n",
    "id(s1)"
   ]
  },
  {
   "cell_type": "code",
   "execution_count": 30,
   "metadata": {
    "ExecuteTime": {
     "end_time": "2021-02-27T14:18:07.291042Z",
     "start_time": "2021-02-27T14:18:07.287344Z"
    },
    "hidden": true
   },
   "outputs": [],
   "source": [
    "s1 = s1.upper()"
   ]
  },
  {
   "cell_type": "code",
   "execution_count": 31,
   "metadata": {
    "ExecuteTime": {
     "end_time": "2021-02-27T14:18:09.202939Z",
     "start_time": "2021-02-27T14:18:09.198876Z"
    },
    "hidden": true
   },
   "outputs": [
    {
     "data": {
      "text/plain": [
       "'CIAO MONDO'"
      ]
     },
     "execution_count": 31,
     "metadata": {},
     "output_type": "execute_result"
    }
   ],
   "source": [
    "s1"
   ]
  },
  {
   "cell_type": "code",
   "execution_count": 32,
   "metadata": {
    "ExecuteTime": {
     "end_time": "2021-02-27T14:18:18.883709Z",
     "start_time": "2021-02-27T14:18:18.879295Z"
    },
    "hidden": true
   },
   "outputs": [
    {
     "data": {
      "text/plain": [
       "4569164464"
      ]
     },
     "execution_count": 32,
     "metadata": {},
     "output_type": "execute_result"
    }
   ],
   "source": [
    "# stampo l'id\n",
    "id(s1)"
   ]
  },
  {
   "cell_type": "markdown",
   "metadata": {
    "hidden": true
   },
   "source": [
    "Gli id sono diversi perché ho legato all'etichetta *s1* a due stringhe diverse"
   ]
  },
  {
   "cell_type": "markdown",
   "metadata": {
    "hidden": true
   },
   "source": [
    "Le liste invece possono essere modificate:"
   ]
  },
  {
   "cell_type": "code",
   "execution_count": 33,
   "metadata": {
    "ExecuteTime": {
     "end_time": "2021-02-27T14:19:06.748331Z",
     "start_time": "2021-02-27T14:19:06.744666Z"
    },
    "hidden": true
   },
   "outputs": [],
   "source": [
    "# creo una lista di 5 elementi\n",
    "a = [1,3,5,7,9]"
   ]
  },
  {
   "cell_type": "code",
   "execution_count": 34,
   "metadata": {
    "ExecuteTime": {
     "end_time": "2021-02-27T14:19:09.253594Z",
     "start_time": "2021-02-27T14:19:09.248327Z"
    },
    "hidden": true
   },
   "outputs": [
    {
     "data": {
      "text/plain": [
       "4568476320"
      ]
     },
     "execution_count": 34,
     "metadata": {},
     "output_type": "execute_result"
    }
   ],
   "source": [
    "# stamp il suo id\n",
    "id(a)"
   ]
  },
  {
   "cell_type": "code",
   "execution_count": 35,
   "metadata": {
    "ExecuteTime": {
     "end_time": "2021-02-27T14:19:13.411911Z",
     "start_time": "2021-02-27T14:19:13.407493Z"
    },
    "hidden": true
   },
   "outputs": [],
   "source": [
    "# apprendo (cioè aggiungo alla fine) un valore alla lista 'a'\n",
    "a.append(11)"
   ]
  },
  {
   "cell_type": "code",
   "execution_count": 36,
   "metadata": {
    "ExecuteTime": {
     "end_time": "2021-02-27T14:19:16.166110Z",
     "start_time": "2021-02-27T14:19:16.163051Z"
    },
    "hidden": true
   },
   "outputs": [
    {
     "name": "stdout",
     "output_type": "stream",
     "text": [
      "[1, 3, 5, 7, 9, 11]\n"
     ]
    }
   ],
   "source": [
    "# ora la lista a è composta da\n",
    "print(a)"
   ]
  },
  {
   "cell_type": "code",
   "execution_count": 37,
   "metadata": {
    "ExecuteTime": {
     "end_time": "2021-02-27T14:19:30.338726Z",
     "start_time": "2021-02-27T14:19:30.334533Z"
    },
    "hidden": true
   },
   "outputs": [
    {
     "data": {
      "text/plain": [
       "4568476320"
      ]
     },
     "execution_count": 37,
     "metadata": {},
     "output_type": "execute_result"
    }
   ],
   "source": [
    "# stamp il suo id\n",
    "id(a)"
   ]
  },
  {
   "cell_type": "markdown",
   "metadata": {
    "hidden": true
   },
   "source": [
    "L'id è lo stesso perché ho modificato la lista originale aggiungendo un nuovo elemento, ma la lista fa sempre riferimento allo stesso oggetto"
   ]
  },
  {
   "cell_type": "markdown",
   "metadata": {
    "hidden": true
   },
   "source": [
    "## Modificare uno o più elementi di una lista"
   ]
  },
  {
   "cell_type": "markdown",
   "metadata": {
    "hidden": true
   },
   "source": [
    "In virtù della sua mutabilità, una lista può essere modificata:"
   ]
  },
  {
   "cell_type": "code",
   "execution_count": 38,
   "metadata": {
    "ExecuteTime": {
     "end_time": "2021-02-27T14:20:43.641259Z",
     "start_time": "2021-02-27T14:20:43.638137Z"
    },
    "hidden": true
   },
   "outputs": [],
   "source": [
    "a = [1,3,5,7,9]"
   ]
  },
  {
   "cell_type": "code",
   "execution_count": 39,
   "metadata": {
    "ExecuteTime": {
     "end_time": "2021-02-27T14:21:13.881484Z",
     "start_time": "2021-02-27T14:21:13.878767Z"
    },
    "hidden": true
   },
   "outputs": [],
   "source": [
    "# Posso riassegnare un valore (con l'accesso tramite l'indice)\n",
    "a[2] = 100"
   ]
  },
  {
   "cell_type": "code",
   "execution_count": 40,
   "metadata": {
    "ExecuteTime": {
     "end_time": "2021-02-27T14:21:16.139915Z",
     "start_time": "2021-02-27T14:21:16.129862Z"
    },
    "hidden": true
   },
   "outputs": [
    {
     "data": {
      "text/plain": [
       "[1, 3, 100, 7, 9]"
      ]
     },
     "execution_count": 40,
     "metadata": {},
     "output_type": "execute_result"
    }
   ],
   "source": [
    "a"
   ]
  },
  {
   "cell_type": "code",
   "execution_count": 41,
   "metadata": {
    "ExecuteTime": {
     "end_time": "2021-02-27T14:21:53.223746Z",
     "start_time": "2021-02-27T14:21:53.220444Z"
    },
    "hidden": true
   },
   "outputs": [],
   "source": [
    "# Posso riassegnare più valori\n",
    "a[:2] = [123, 500]"
   ]
  },
  {
   "cell_type": "code",
   "execution_count": 42,
   "metadata": {
    "ExecuteTime": {
     "end_time": "2021-02-27T14:21:54.573597Z",
     "start_time": "2021-02-27T14:21:54.569905Z"
    },
    "hidden": true
   },
   "outputs": [
    {
     "data": {
      "text/plain": [
       "[123, 500, 100, 7, 9]"
      ]
     },
     "execution_count": 42,
     "metadata": {},
     "output_type": "execute_result"
    }
   ],
   "source": [
    "a"
   ]
  },
  {
   "cell_type": "code",
   "execution_count": 43,
   "metadata": {
    "ExecuteTime": {
     "end_time": "2021-02-27T14:22:35.284428Z",
     "start_time": "2021-02-27T14:22:35.275134Z"
    },
    "hidden": true
   },
   "outputs": [
    {
     "data": {
      "text/plain": [
       "[0, 7, 9]"
      ]
     },
     "execution_count": 43,
     "metadata": {},
     "output_type": "execute_result"
    }
   ],
   "source": [
    "a[:3] = [0]\n",
    "a"
   ]
  },
  {
   "cell_type": "code",
   "execution_count": 44,
   "metadata": {
    "ExecuteTime": {
     "end_time": "2021-02-27T14:23:31.952597Z",
     "start_time": "2021-02-27T14:23:31.949168Z"
    },
    "hidden": true
   },
   "outputs": [],
   "source": [
    "a[:2] = [1,2,3,4,5,6,7,8]"
   ]
  },
  {
   "cell_type": "code",
   "execution_count": 45,
   "metadata": {
    "ExecuteTime": {
     "end_time": "2021-02-27T14:23:34.296168Z",
     "start_time": "2021-02-27T14:23:34.291115Z"
    },
    "hidden": true
   },
   "outputs": [
    {
     "data": {
      "text/plain": [
       "[1, 2, 3, 4, 5, 6, 7, 8, 9]"
      ]
     },
     "execution_count": 45,
     "metadata": {},
     "output_type": "execute_result"
    }
   ],
   "source": [
    "a"
   ]
  },
  {
   "cell_type": "markdown",
   "metadata": {
    "ExecuteTime": {
     "end_time": "2021-02-23T13:06:17.471123Z",
     "start_time": "2021-02-23T13:06:17.458734Z"
    },
    "hidden": true
   },
   "source": [
    "## Alcune funzioni utili"
   ]
  },
  {
   "cell_type": "markdown",
   "metadata": {
    "hidden": true
   },
   "source": [
    "Le funzioni operano sulle liste ma **NON** alterano il contenuto della lista originale"
   ]
  },
  {
   "cell_type": "code",
   "execution_count": 46,
   "metadata": {
    "ExecuteTime": {
     "end_time": "2021-02-27T14:24:50.547197Z",
     "start_time": "2021-02-27T14:24:50.541720Z"
    },
    "hidden": true
   },
   "outputs": [
    {
     "data": {
      "text/plain": [
       "9"
      ]
     },
     "execution_count": 46,
     "metadata": {},
     "output_type": "execute_result"
    }
   ],
   "source": [
    "# Lunghezza di una lista\n",
    "len(a)"
   ]
  },
  {
   "cell_type": "code",
   "execution_count": 47,
   "metadata": {
    "ExecuteTime": {
     "end_time": "2021-02-27T14:25:05.489576Z",
     "start_time": "2021-02-27T14:25:05.484321Z"
    },
    "hidden": true
   },
   "outputs": [
    {
     "data": {
      "text/plain": [
       "45"
      ]
     },
     "execution_count": 47,
     "metadata": {},
     "output_type": "execute_result"
    }
   ],
   "source": [
    "# somma tutti i valori presenti in una lista\n",
    "sum(a)"
   ]
  },
  {
   "cell_type": "code",
   "execution_count": 48,
   "metadata": {
    "ExecuteTime": {
     "end_time": "2021-02-27T14:25:28.455917Z",
     "start_time": "2021-02-27T14:25:28.447369Z"
    },
    "hidden": true
   },
   "outputs": [
    {
     "ename": "TypeError",
     "evalue": "unsupported operand type(s) for +: 'int' and 'str'",
     "output_type": "error",
     "traceback": [
      "\u001b[0;31m---------------------------------------------------------------------------\u001b[0m",
      "\u001b[0;31mTypeError\u001b[0m                                 Traceback (most recent call last)",
      "\u001b[0;32m<ipython-input-48-e011596e2990>\u001b[0m in \u001b[0;36m<module>\u001b[0;34m\u001b[0m\n\u001b[1;32m      1\u001b[0m \u001b[0;31m# Non posso sommare i valori di una lista se uno o più elementi sono stringhe\u001b[0m\u001b[0;34m\u001b[0m\u001b[0;34m\u001b[0m\u001b[0;34m\u001b[0m\u001b[0m\n\u001b[0;32m----> 2\u001b[0;31m \u001b[0msum\u001b[0m\u001b[0;34m(\u001b[0m\u001b[0;34m[\u001b[0m\u001b[0;36m1\u001b[0m\u001b[0;34m,\u001b[0m\u001b[0;36m3\u001b[0m\u001b[0;34m,\u001b[0m\u001b[0;36m5\u001b[0m\u001b[0;34m,\u001b[0m\u001b[0;34m\"ciao\"\u001b[0m\u001b[0;34m]\u001b[0m\u001b[0;34m)\u001b[0m\u001b[0;34m\u001b[0m\u001b[0;34m\u001b[0m\u001b[0m\n\u001b[0m",
      "\u001b[0;31mTypeError\u001b[0m: unsupported operand type(s) for +: 'int' and 'str'"
     ]
    }
   ],
   "source": [
    "# Non posso sommare i valori di una lista se uno o più elementi sono stringhe\n",
    "sum([1,3,5,\"ciao\"])"
   ]
  },
  {
   "cell_type": "code",
   "execution_count": 49,
   "metadata": {
    "ExecuteTime": {
     "end_time": "2021-02-27T14:25:46.916437Z",
     "start_time": "2021-02-27T14:25:46.912237Z"
    },
    "hidden": true
   },
   "outputs": [
    {
     "data": {
      "text/plain": [
       "1"
      ]
     },
     "execution_count": 49,
     "metadata": {},
     "output_type": "execute_result"
    }
   ],
   "source": [
    "min(a)"
   ]
  },
  {
   "cell_type": "code",
   "execution_count": 50,
   "metadata": {
    "ExecuteTime": {
     "end_time": "2021-02-27T14:25:50.367907Z",
     "start_time": "2021-02-27T14:25:50.362396Z"
    },
    "hidden": true
   },
   "outputs": [
    {
     "data": {
      "text/plain": [
       "9"
      ]
     },
     "execution_count": 50,
     "metadata": {},
     "output_type": "execute_result"
    }
   ],
   "source": [
    "max(a)"
   ]
  },
  {
   "cell_type": "code",
   "execution_count": 51,
   "metadata": {
    "ExecuteTime": {
     "end_time": "2021-02-27T14:26:01.996926Z",
     "start_time": "2021-02-27T14:26:01.989470Z"
    },
    "hidden": true
   },
   "outputs": [
    {
     "data": {
      "text/plain": [
       "[1, 2, 3, 4, 5, 6, 7, 8, 9]"
      ]
     },
     "execution_count": 51,
     "metadata": {},
     "output_type": "execute_result"
    }
   ],
   "source": [
    "sorted(a)"
   ]
  },
  {
   "cell_type": "code",
   "execution_count": 52,
   "metadata": {
    "ExecuteTime": {
     "end_time": "2021-02-27T14:26:22.985056Z",
     "start_time": "2021-02-27T14:26:22.975424Z"
    },
    "hidden": true
   },
   "outputs": [
    {
     "data": {
      "text/plain": [
       "[0, 1, 2, 3, 3, 6, 6, 9, 44]"
      ]
     },
     "execution_count": 52,
     "metadata": {},
     "output_type": "execute_result"
    }
   ],
   "source": [
    "sorted([1,6,3,9,6,44,2,3,0])"
   ]
  },
  {
   "cell_type": "markdown",
   "metadata": {
    "hidden": true
   },
   "source": [
    "## Operatori su liste"
   ]
  },
  {
   "cell_type": "code",
   "execution_count": 53,
   "metadata": {
    "ExecuteTime": {
     "end_time": "2021-02-27T14:27:10.531362Z",
     "start_time": "2021-02-27T14:27:10.527121Z"
    },
    "hidden": true
   },
   "outputs": [],
   "source": [
    "b = [1,2,3]"
   ]
  },
  {
   "cell_type": "code",
   "execution_count": 54,
   "metadata": {
    "ExecuteTime": {
     "end_time": "2021-02-27T14:27:24.576316Z",
     "start_time": "2021-02-27T14:27:24.571993Z"
    },
    "hidden": true
   },
   "outputs": [
    {
     "data": {
      "text/plain": [
       "[1, 2, 3, 4, 5]"
      ]
     },
     "execution_count": 54,
     "metadata": {},
     "output_type": "execute_result"
    }
   ],
   "source": [
    "b + [4,5]"
   ]
  },
  {
   "cell_type": "code",
   "execution_count": 55,
   "metadata": {
    "ExecuteTime": {
     "end_time": "2021-02-27T14:27:44.901667Z",
     "start_time": "2021-02-27T14:27:44.894879Z"
    },
    "hidden": true
   },
   "outputs": [
    {
     "ename": "TypeError",
     "evalue": "can only concatenate list (not \"int\") to list",
     "output_type": "error",
     "traceback": [
      "\u001b[0;31m---------------------------------------------------------------------------\u001b[0m",
      "\u001b[0;31mTypeError\u001b[0m                                 Traceback (most recent call last)",
      "\u001b[0;32m<ipython-input-55-813dccb37c04>\u001b[0m in \u001b[0;36m<module>\u001b[0;34m\u001b[0m\n\u001b[0;32m----> 1\u001b[0;31m \u001b[0mb\u001b[0m \u001b[0;34m+\u001b[0m \u001b[0;36m4\u001b[0m\u001b[0;34m\u001b[0m\u001b[0;34m\u001b[0m\u001b[0m\n\u001b[0m",
      "\u001b[0;31mTypeError\u001b[0m: can only concatenate list (not \"int\") to list"
     ]
    }
   ],
   "source": [
    "b + [4]"
   ]
  },
  {
   "cell_type": "code",
   "execution_count": 56,
   "metadata": {
    "ExecuteTime": {
     "end_time": "2021-02-27T14:28:30.358691Z",
     "start_time": "2021-02-27T14:28:30.353588Z"
    },
    "hidden": true
   },
   "outputs": [
    {
     "data": {
      "text/plain": [
       "[1, 2, 3, 1, 2, 3, 1, 2, 3]"
      ]
     },
     "execution_count": 56,
     "metadata": {},
     "output_type": "execute_result"
    }
   ],
   "source": [
    "b * 3"
   ]
  },
  {
   "cell_type": "markdown",
   "metadata": {
    "ExecuteTime": {
     "end_time": "2021-02-23T13:19:00.886011Z",
     "start_time": "2021-02-23T13:19:00.883384Z"
    },
    "hidden": true
   },
   "source": [
    "I due operatori (+,\\*) **NON** modificano la lista originaria, ma restituiscono una nuova lista"
   ]
  },
  {
   "cell_type": "markdown",
   "metadata": {
    "hidden": true
   },
   "source": [
    "## Alcuni metodi sulle liste"
   ]
  },
  {
   "cell_type": "code",
   "execution_count": 58,
   "metadata": {
    "ExecuteTime": {
     "end_time": "2021-02-27T14:29:44.775027Z",
     "start_time": "2021-02-27T14:29:44.767626Z"
    },
    "hidden": true
   },
   "outputs": [
    {
     "data": {
      "text/plain": [
       "['__add__',\n",
       " '__class__',\n",
       " '__contains__',\n",
       " '__delattr__',\n",
       " '__delitem__',\n",
       " '__dir__',\n",
       " '__doc__',\n",
       " '__eq__',\n",
       " '__format__',\n",
       " '__ge__',\n",
       " '__getattribute__',\n",
       " '__getitem__',\n",
       " '__gt__',\n",
       " '__hash__',\n",
       " '__iadd__',\n",
       " '__imul__',\n",
       " '__init__',\n",
       " '__init_subclass__',\n",
       " '__iter__',\n",
       " '__le__',\n",
       " '__len__',\n",
       " '__lt__',\n",
       " '__mul__',\n",
       " '__ne__',\n",
       " '__new__',\n",
       " '__reduce__',\n",
       " '__reduce_ex__',\n",
       " '__repr__',\n",
       " '__reversed__',\n",
       " '__rmul__',\n",
       " '__setattr__',\n",
       " '__setitem__',\n",
       " '__sizeof__',\n",
       " '__str__',\n",
       " '__subclasshook__',\n",
       " 'append',\n",
       " 'clear',\n",
       " 'copy',\n",
       " 'count',\n",
       " 'extend',\n",
       " 'index',\n",
       " 'insert',\n",
       " 'pop',\n",
       " 'remove',\n",
       " 'reverse',\n",
       " 'sort']"
      ]
     },
     "execution_count": 58,
     "metadata": {},
     "output_type": "execute_result"
    }
   ],
   "source": [
    "dir(a)"
   ]
  },
  {
   "cell_type": "code",
   "execution_count": 59,
   "metadata": {
    "ExecuteTime": {
     "end_time": "2021-02-27T14:30:34.709713Z",
     "start_time": "2021-02-27T14:30:34.702040Z"
    },
    "hidden": true
   },
   "outputs": [],
   "source": [
    "# Aggiungo un elemento alla fine della lista\n",
    "\n",
    "a.append(1000)"
   ]
  },
  {
   "cell_type": "code",
   "execution_count": 60,
   "metadata": {
    "ExecuteTime": {
     "end_time": "2021-02-27T14:30:51.187154Z",
     "start_time": "2021-02-27T14:30:51.183700Z"
    },
    "hidden": true
   },
   "outputs": [],
   "source": [
    "# Concateno due liste trasformando la lista originale a\n",
    "\n",
    "a.extend([300,301,302])"
   ]
  },
  {
   "cell_type": "code",
   "execution_count": 61,
   "metadata": {
    "ExecuteTime": {
     "end_time": "2021-02-27T14:30:55.099586Z",
     "start_time": "2021-02-27T14:30:55.089447Z"
    },
    "hidden": true
   },
   "outputs": [
    {
     "data": {
      "text/plain": [
       "[1, 2, 3, 4, 5, 6, 7, 8, 9, 1000, 300, 301, 302]"
      ]
     },
     "execution_count": 61,
     "metadata": {},
     "output_type": "execute_result"
    }
   ],
   "source": [
    "a"
   ]
  },
  {
   "cell_type": "code",
   "execution_count": 63,
   "metadata": {
    "ExecuteTime": {
     "end_time": "2021-02-27T14:32:57.382618Z",
     "start_time": "2021-02-27T14:32:57.379126Z"
    },
    "hidden": true
   },
   "outputs": [],
   "source": [
    "lista1 = [1,2,3]"
   ]
  },
  {
   "cell_type": "code",
   "execution_count": 64,
   "metadata": {
    "ExecuteTime": {
     "end_time": "2021-02-27T14:33:05.763591Z",
     "start_time": "2021-02-27T14:33:05.756891Z"
    },
    "hidden": true
   },
   "outputs": [
    {
     "data": {
      "text/plain": [
       "[1, 2, 3, [4, 5, 6]]"
      ]
     },
     "execution_count": 64,
     "metadata": {},
     "output_type": "execute_result"
    }
   ],
   "source": [
    "lista1.append([4,5,6])\n",
    "lista1"
   ]
  },
  {
   "cell_type": "code",
   "execution_count": 65,
   "metadata": {
    "ExecuteTime": {
     "end_time": "2021-02-27T14:33:27.711238Z",
     "start_time": "2021-02-27T14:33:27.703610Z"
    },
    "hidden": true
   },
   "outputs": [
    {
     "data": {
      "text/plain": [
       "[1, 2, 3, 4, 5, 6]"
      ]
     },
     "execution_count": 65,
     "metadata": {},
     "output_type": "execute_result"
    }
   ],
   "source": [
    "lista1 = [1,2,3]\n",
    "lista1.extend([4,5,6])\n",
    "lista1"
   ]
  },
  {
   "cell_type": "code",
   "execution_count": null,
   "metadata": {
    "hidden": true
   },
   "outputs": [],
   "source": []
  },
  {
   "cell_type": "code",
   "execution_count": 66,
   "metadata": {
    "ExecuteTime": {
     "end_time": "2021-02-27T14:35:00.149247Z",
     "start_time": "2021-02-27T14:35:00.142250Z"
    },
    "hidden": true
   },
   "outputs": [
    {
     "data": {
      "text/plain": [
       "[1, 2, 3, 4, 5, 6, 7, 8, 9, 1000, 300, 301, 302]"
      ]
     },
     "execution_count": 66,
     "metadata": {},
     "output_type": "execute_result"
    }
   ],
   "source": [
    "a"
   ]
  },
  {
   "cell_type": "code",
   "execution_count": 67,
   "metadata": {
    "ExecuteTime": {
     "end_time": "2021-02-27T14:35:15.740794Z",
     "start_time": "2021-02-27T14:35:15.736288Z"
    },
    "hidden": true
   },
   "outputs": [
    {
     "data": {
      "text/plain": [
       "302"
      ]
     },
     "execution_count": 67,
     "metadata": {},
     "output_type": "execute_result"
    }
   ],
   "source": [
    "# Ritorna l'ultimo elento della lista e lo rimuovo dall'originale\n",
    "a.pop()"
   ]
  },
  {
   "cell_type": "code",
   "execution_count": 68,
   "metadata": {
    "ExecuteTime": {
     "end_time": "2021-02-27T14:35:46.575033Z",
     "start_time": "2021-02-27T14:35:46.565756Z"
    },
    "hidden": true
   },
   "outputs": [
    {
     "data": {
      "text/plain": [
       "[1, 2, 3, 4, 5, 6, 7, 8, 9, 1000, 300, 301]"
      ]
     },
     "execution_count": 68,
     "metadata": {},
     "output_type": "execute_result"
    }
   ],
   "source": [
    "a"
   ]
  },
  {
   "cell_type": "code",
   "execution_count": 72,
   "metadata": {
    "ExecuteTime": {
     "end_time": "2021-02-27T14:36:00.146433Z",
     "start_time": "2021-02-27T14:36:00.139735Z"
    },
    "hidden": true
   },
   "outputs": [
    {
     "data": {
      "text/plain": [
       "9"
      ]
     },
     "execution_count": 72,
     "metadata": {},
     "output_type": "execute_result"
    }
   ],
   "source": [
    "a.pop()"
   ]
  },
  {
   "cell_type": "code",
   "execution_count": 73,
   "metadata": {
    "ExecuteTime": {
     "end_time": "2021-02-27T14:36:04.566130Z",
     "start_time": "2021-02-27T14:36:04.560450Z"
    },
    "hidden": true
   },
   "outputs": [
    {
     "data": {
      "text/plain": [
       "[1, 2, 3, 4, 5, 6, 7, 8]"
      ]
     },
     "execution_count": 73,
     "metadata": {},
     "output_type": "execute_result"
    }
   ],
   "source": [
    "a"
   ]
  },
  {
   "cell_type": "code",
   "execution_count": 74,
   "metadata": {
    "ExecuteTime": {
     "end_time": "2021-02-27T14:36:34.107499Z",
     "start_time": "2021-02-27T14:36:34.102853Z"
    },
    "hidden": true
   },
   "outputs": [
    {
     "data": {
      "text/plain": [
       "2"
      ]
     },
     "execution_count": 74,
     "metadata": {},
     "output_type": "execute_result"
    }
   ],
   "source": [
    "# Il metodo pop accetta un argomento, che è l'indice dell'elemento da eliminare\n",
    "# Elimino il secondo elemento (indice 1):\n",
    "a.pop(1)"
   ]
  },
  {
   "cell_type": "code",
   "execution_count": 76,
   "metadata": {
    "ExecuteTime": {
     "end_time": "2021-02-27T14:37:08.190071Z",
     "start_time": "2021-02-27T14:37:08.184321Z"
    },
    "hidden": true
   },
   "outputs": [
    {
     "data": {
      "text/plain": [
       "[1, 3, 4, 5, 6, 7, 8]"
      ]
     },
     "execution_count": 76,
     "metadata": {},
     "output_type": "execute_result"
    }
   ],
   "source": [
    "a"
   ]
  },
  {
   "cell_type": "code",
   "execution_count": 77,
   "metadata": {
    "ExecuteTime": {
     "end_time": "2021-02-27T14:37:28.887615Z",
     "start_time": "2021-02-27T14:37:28.881454Z"
    },
    "hidden": true
   },
   "outputs": [
    {
     "data": {
      "text/plain": [
       "5"
      ]
     },
     "execution_count": 77,
     "metadata": {},
     "output_type": "execute_result"
    }
   ],
   "source": [
    "# Restituisce l'indice dell'elemento con valore 500\n",
    "a.index(7)"
   ]
  },
  {
   "cell_type": "code",
   "execution_count": 78,
   "metadata": {
    "ExecuteTime": {
     "end_time": "2021-02-27T14:40:26.022421Z",
     "start_time": "2021-02-27T14:40:26.019462Z"
    },
    "hidden": true
   },
   "outputs": [],
   "source": [
    "a.insert(0, [\"ciao\",\"antani\"])"
   ]
  },
  {
   "cell_type": "code",
   "execution_count": 79,
   "metadata": {
    "ExecuteTime": {
     "end_time": "2021-02-27T14:40:31.920633Z",
     "start_time": "2021-02-27T14:40:31.910516Z"
    },
    "hidden": true
   },
   "outputs": [
    {
     "data": {
      "text/plain": [
       "[['ciao', 'antani'], 1, 3, 4, 5, 6, 7, 8]"
      ]
     },
     "execution_count": 79,
     "metadata": {},
     "output_type": "execute_result"
    }
   ],
   "source": [
    "a"
   ]
  },
  {
   "cell_type": "markdown",
   "metadata": {
    "heading_collapsed": true,
    "hidden": true
   },
   "source": [
    "## L'operatore *in*"
   ]
  },
  {
   "cell_type": "markdown",
   "metadata": {
    "hidden": true
   },
   "source": [
    "Come per le stringhe, la parola riservata **in** permette di verificare la presenza di un elemento in una lista"
   ]
  },
  {
   "cell_type": "code",
   "execution_count": 80,
   "metadata": {
    "ExecuteTime": {
     "end_time": "2021-02-27T14:41:38.238089Z",
     "start_time": "2021-02-27T14:41:38.234784Z"
    },
    "hidden": true
   },
   "outputs": [],
   "source": [
    "nomi = [\"Mario\", \"Alfredo\", \"Giacomo\", \"Antonella\", \"Goffredo\"]"
   ]
  },
  {
   "cell_type": "code",
   "execution_count": 81,
   "metadata": {
    "ExecuteTime": {
     "end_time": "2021-02-27T14:41:46.517990Z",
     "start_time": "2021-02-27T14:41:46.510695Z"
    },
    "hidden": true
   },
   "outputs": [
    {
     "data": {
      "text/plain": [
       "True"
      ]
     },
     "execution_count": 81,
     "metadata": {},
     "output_type": "execute_result"
    }
   ],
   "source": [
    "\"Mario\" in nomi"
   ]
  },
  {
   "cell_type": "code",
   "execution_count": 82,
   "metadata": {
    "ExecuteTime": {
     "end_time": "2021-02-27T14:42:06.489147Z",
     "start_time": "2021-02-27T14:42:06.485434Z"
    },
    "hidden": true
   },
   "outputs": [
    {
     "data": {
      "text/plain": [
       "False"
      ]
     },
     "execution_count": 82,
     "metadata": {},
     "output_type": "execute_result"
    }
   ],
   "source": [
    "\"Giada\" in nomi"
   ]
  },
  {
   "cell_type": "code",
   "execution_count": 84,
   "metadata": {
    "ExecuteTime": {
     "end_time": "2021-02-27T14:43:28.835213Z",
     "start_time": "2021-02-27T14:43:28.829681Z"
    },
    "hidden": true
   },
   "outputs": [
    {
     "name": "stdout",
     "output_type": "stream",
     "text": [
      "Alfredo è presente\n"
     ]
    }
   ],
   "source": [
    "# Possiamo usare *in* nelle istruzioni condizionali:\n",
    "\n",
    "if \"Alfredo\" in nomi:\n",
    "    print(\"Alfredo è presente\")\n",
    "else:\n",
    "    print(\"Alfredo è assente\")"
   ]
  },
  {
   "cell_type": "markdown",
   "metadata": {},
   "source": [
    "# Iterazione"
   ]
  },
  {
   "cell_type": "markdown",
   "metadata": {
    "heading_collapsed": true
   },
   "source": [
    "## Descrizione"
   ]
  },
  {
   "cell_type": "markdown",
   "metadata": {
    "hidden": true
   },
   "source": [
    "L'azione di ripetere un processo al fine di raggiungere un obiettivo o un risultato desiderato"
   ]
  },
  {
   "cell_type": "markdown",
   "metadata": {
    "hidden": true
   },
   "source": [
    "In python si usano due parole riservate per effettuare processi iterativi: **for** e **while**"
   ]
  },
  {
   "cell_type": "markdown",
   "metadata": {},
   "source": [
    "## for"
   ]
  },
  {
   "cell_type": "markdown",
   "metadata": {},
   "source": [
    "Tramite un ciclo **for** è possibile *iterare* su una progressione numerica o sugli elementi di una collezione iterabile. In python gli iterabili più comuni sono le liste, le stringhe, le tuple, i generatori, i dizionari."
   ]
  },
  {
   "cell_type": "markdown",
   "metadata": {},
   "source": [
    "La forma generale del costrutto è:\n",
    "\n",
    "```python\n",
    "for etichetta in iterabile:\n",
    "    # fai qualcosa\n",
    "```\n",
    "\n",
    "dove *etichetta* è la variabile in cui viene scritto il valore preso da *iterabile* ad ogni iterazione"
   ]
  },
  {
   "cell_type": "markdown",
   "metadata": {},
   "source": [
    "In python un iterabile è un oggetto su cui si può iterare. Le liste e le stringhe sono iterabili, ma ce ne sono molti altri. Per verificare che un oggetto sia iterabile, si può vedere se possiede il metodo speciale **\\_\\_iter\\_\\_()**"
   ]
  },
  {
   "cell_type": "code",
   "execution_count": null,
   "metadata": {
    "ExecuteTime": {
     "end_time": "2021-02-23T15:07:39.590605Z",
     "start_time": "2021-02-23T15:07:39.581488Z"
    }
   },
   "outputs": [],
   "source": [
    "hasattr(list,\"__iter__\")"
   ]
  },
  {
   "cell_type": "code",
   "execution_count": 85,
   "metadata": {
    "ExecuteTime": {
     "end_time": "2021-02-27T14:46:19.384039Z",
     "start_time": "2021-02-27T14:46:19.380825Z"
    }
   },
   "outputs": [],
   "source": [
    "note = [\"do\",\"re\",\"mi\",\"fa\",\"sol\",\"la\",\"si\",\"do\"]"
   ]
  },
  {
   "cell_type": "code",
   "execution_count": 86,
   "metadata": {
    "ExecuteTime": {
     "end_time": "2021-02-27T14:47:04.875940Z",
     "start_time": "2021-02-27T14:47:04.870823Z"
    }
   },
   "outputs": [
    {
     "name": "stdout",
     "output_type": "stream",
     "text": [
      "do\n",
      "re\n",
      "mi\n",
      "fa\n",
      "sol\n",
      "la\n",
      "si\n",
      "do\n"
     ]
    }
   ],
   "source": [
    "for nota in note:\n",
    "    print(nota)"
   ]
  },
  {
   "cell_type": "markdown",
   "metadata": {},
   "source": [
    "+ prima iterazione: la variabile *nota* equivale alla stringa \"do\"   \n",
    "+ seconda iterazione: la variabile *nota* equivale alla stringa \"re\"   \n",
    "+ terza iterazione: la variabile *nota* equivale alla stringa \"mi\"   \n",
    "+ ..."
   ]
  },
  {
   "cell_type": "code",
   "execution_count": 87,
   "metadata": {
    "ExecuteTime": {
     "end_time": "2021-02-27T14:48:21.838430Z",
     "start_time": "2021-02-27T14:48:21.835164Z"
    }
   },
   "outputs": [],
   "source": [
    "numeri = [8,3,2,5,9]"
   ]
  },
  {
   "cell_type": "code",
   "execution_count": 88,
   "metadata": {
    "ExecuteTime": {
     "end_time": "2021-02-27T14:49:26.726384Z",
     "start_time": "2021-02-27T14:49:26.720322Z"
    }
   },
   "outputs": [
    {
     "name": "stdout",
     "output_type": "stream",
     "text": [
      "8\n",
      "3\n",
      "2\n",
      "5\n",
      "9\n"
     ]
    }
   ],
   "source": [
    "for numero in numeri:\n",
    "    print(numero)"
   ]
  },
  {
   "cell_type": "code",
   "execution_count": 93,
   "metadata": {
    "ExecuteTime": {
     "end_time": "2021-02-27T14:55:11.710244Z",
     "start_time": "2021-02-27T14:55:11.702074Z"
    }
   },
   "outputs": [
    {
     "name": "stdout",
     "output_type": "stream",
     "text": [
      "8 64\n",
      "3 9\n",
      "2 4\n",
      "5 25\n",
      "9 81\n",
      "fine\n"
     ]
    }
   ],
   "source": [
    "for numero in numeri:\n",
    "    quadrato = numero*numero\n",
    "    print(numero, quadrato)\n",
    "    \n",
    "print(\"fine\")"
   ]
  },
  {
   "cell_type": "markdown",
   "metadata": {},
   "source": [
    "Per semplificare: *scorriamo* la lista elemento per elemento e mettiamo il valore dell'elemento nell'etichetta dichiarata all'inizio del *for*"
   ]
  },
  {
   "cell_type": "code",
   "execution_count": 94,
   "metadata": {
    "ExecuteTime": {
     "end_time": "2021-02-27T14:56:49.323059Z",
     "start_time": "2021-02-27T14:56:49.317733Z"
    }
   },
   "outputs": [
    {
     "name": "stdout",
     "output_type": "stream",
     "text": [
      "do\n",
      "re\n",
      "mi\n",
      "fa\n",
      "sol\n",
      "la\n",
      "si\n"
     ]
    }
   ],
   "source": [
    "# Possiamo iterare su una slice della lista, invece che sulla lista intera:\n",
    "\n",
    "for nota in note[:-1]:\n",
    "    print(nota)"
   ]
  },
  {
   "cell_type": "markdown",
   "metadata": {},
   "source": [
    "### Esercizio"
   ]
  },
  {
   "cell_type": "markdown",
   "metadata": {},
   "source": [
    "Data una lista di note scritte in minuscolo, stampare tutti gli elementi in caratteri invertiti e maiuscoli.  \n",
    "Output:\n",
    "\n",
    "OD   \n",
    "ER   \n",
    "IM   \n",
    "AF   \n",
    "LOS   \n",
    "AL   \n",
    "IS   \n",
    "OD   "
   ]
  },
  {
   "cell_type": "code",
   "execution_count": 95,
   "metadata": {
    "ExecuteTime": {
     "end_time": "2021-02-27T14:57:45.216293Z",
     "start_time": "2021-02-27T14:57:45.212989Z"
    }
   },
   "outputs": [],
   "source": [
    "# creo la lista di note minuscole\n",
    "\n",
    "note = [\"do\",\"re\",\"mi\",\"fa\",\"sol\",\"la\",\"si\",\"do\"]"
   ]
  },
  {
   "cell_type": "code",
   "execution_count": 96,
   "metadata": {
    "ExecuteTime": {
     "end_time": "2021-02-27T14:58:51.778935Z",
     "start_time": "2021-02-27T14:58:51.767634Z"
    }
   },
   "outputs": [
    {
     "name": "stdout",
     "output_type": "stream",
     "text": [
      "OD\n",
      "ER\n",
      "IM\n",
      "AF\n",
      "LOS\n",
      "AL\n",
      "IS\n",
      "OD\n"
     ]
    }
   ],
   "source": [
    "# itero sulla lista con un ciclo for\n",
    "\n",
    "for nota in note:\n",
    "    # stampo ad ogni iterazione il valore della variabile nota trasformato in maiuscolo\n",
    "    maiuscolo = nota.upper()\n",
    "    print(maiuscolo[::-1])"
   ]
  },
  {
   "cell_type": "markdown",
   "metadata": {},
   "source": [
    "## Iterare su una stringa"
   ]
  },
  {
   "cell_type": "code",
   "execution_count": 97,
   "metadata": {
    "ExecuteTime": {
     "end_time": "2021-02-27T15:00:01.631125Z",
     "start_time": "2021-02-27T15:00:01.626991Z"
    }
   },
   "outputs": [],
   "source": [
    "frase = \"Nel mezzo del cammin di nostra vita\""
   ]
  },
  {
   "cell_type": "code",
   "execution_count": 100,
   "metadata": {
    "ExecuteTime": {
     "end_time": "2021-02-27T15:02:18.131466Z",
     "start_time": "2021-02-27T15:02:18.125476Z"
    }
   },
   "outputs": [
    {
     "data": {
      "text/plain": [
       "'el m'"
      ]
     },
     "execution_count": 100,
     "metadata": {},
     "output_type": "execute_result"
    }
   ],
   "source": [
    "frase[1:5]"
   ]
  },
  {
   "cell_type": "code",
   "execution_count": 99,
   "metadata": {
    "ExecuteTime": {
     "end_time": "2021-02-27T15:01:20.842321Z",
     "start_time": "2021-02-27T15:01:20.835605Z"
    }
   },
   "outputs": [
    {
     "name": "stdout",
     "output_type": "stream",
     "text": [
      "N\n",
      "e\n",
      "l\n",
      "m\n",
      "e\n",
      "z\n",
      "z\n",
      "o\n",
      "d\n",
      "e\n",
      "l\n",
      "c\n",
      "a\n",
      "m\n",
      "m\n",
      "i\n",
      "n\n",
      "d\n",
      "i\n",
      "n\n",
      "o\n",
      "s\n",
      "t\n",
      "r\n",
      "a\n",
      "v\n",
      "i\n",
      "t\n",
      "a\n"
     ]
    }
   ],
   "source": [
    "for carattere in frase:\n",
    "    if carattere != \" \":\n",
    "        print(carattere)"
   ]
  },
  {
   "cell_type": "markdown",
   "metadata": {},
   "source": [
    "## Iterare su una progressione numerica"
   ]
  },
  {
   "cell_type": "markdown",
   "metadata": {},
   "source": [
    "Per iterare su una progressione numerica usiamo l'oggetto **range()**, che si usa nelle seguenti forme:  \n",
    "```python\n",
    "range(fine) # genera la progressione da 0 a <fine> (escluso)\n",
    "range(inizio,fine) # genera la progressione da <inizio> a <fine> (escluso)\n",
    "range(inizio, fine, step) # genera la progressione da <inizio> a <fine> (escluso) procedendo per <step>\n",
    "```"
   ]
  },
  {
   "cell_type": "code",
   "execution_count": 101,
   "metadata": {
    "ExecuteTime": {
     "end_time": "2021-02-27T15:04:05.528194Z",
     "start_time": "2021-02-27T15:04:05.522780Z"
    }
   },
   "outputs": [
    {
     "data": {
      "text/plain": [
       "range(0, 5)"
      ]
     },
     "execution_count": 101,
     "metadata": {},
     "output_type": "execute_result"
    }
   ],
   "source": [
    "# creo l'oggetto range \n",
    "range(5)"
   ]
  },
  {
   "cell_type": "code",
   "execution_count": 102,
   "metadata": {
    "ExecuteTime": {
     "end_time": "2021-02-27T15:04:23.395228Z",
     "start_time": "2021-02-27T15:04:23.388673Z"
    }
   },
   "outputs": [
    {
     "data": {
      "text/plain": [
       "[0, 1, 2, 3, 4]"
      ]
     },
     "execution_count": 102,
     "metadata": {},
     "output_type": "execute_result"
    }
   ],
   "source": [
    "# Posso convertire un'istanza di range() in lista:\n",
    "list(range(5))"
   ]
  },
  {
   "cell_type": "code",
   "execution_count": 103,
   "metadata": {
    "ExecuteTime": {
     "end_time": "2021-02-27T15:04:44.415776Z",
     "start_time": "2021-02-27T15:04:44.408111Z"
    }
   },
   "outputs": [
    {
     "name": "stdout",
     "output_type": "stream",
     "text": [
      "0\n",
      "1\n",
      "2\n",
      "3\n",
      "4\n"
     ]
    }
   ],
   "source": [
    "# Posso iterare con un for su un range:\n",
    "for numero in range(5):\n",
    "    print(numero)"
   ]
  },
  {
   "cell_type": "code",
   "execution_count": 104,
   "metadata": {
    "ExecuteTime": {
     "end_time": "2021-02-27T15:05:25.489725Z",
     "start_time": "2021-02-27T15:05:25.485327Z"
    }
   },
   "outputs": [
    {
     "name": "stdout",
     "output_type": "stream",
     "text": [
      "5\n",
      "6\n",
      "7\n",
      "8\n",
      "9\n"
     ]
    }
   ],
   "source": [
    "for numero in range(5,10):\n",
    "    print(numero)"
   ]
  },
  {
   "cell_type": "code",
   "execution_count": 105,
   "metadata": {
    "ExecuteTime": {
     "end_time": "2021-02-27T15:05:53.692234Z",
     "start_time": "2021-02-27T15:05:53.687612Z"
    }
   },
   "outputs": [
    {
     "name": "stdout",
     "output_type": "stream",
     "text": [
      "3\n",
      "6\n",
      "9\n",
      "12\n",
      "15\n",
      "18\n"
     ]
    }
   ],
   "source": [
    "# Itero in un range che va da 3 a 20 procedendo a passi di 3:\n",
    "\n",
    "for numero in range(3,20,3):\n",
    "    print(numero)"
   ]
  },
  {
   "cell_type": "markdown",
   "metadata": {},
   "source": [
    "### Esercizio"
   ]
  },
  {
   "cell_type": "markdown",
   "metadata": {},
   "source": [
    "Stampare la tabellina del 10, valore per valore"
   ]
  },
  {
   "cell_type": "code",
   "execution_count": 106,
   "metadata": {
    "ExecuteTime": {
     "end_time": "2021-02-27T15:07:44.052880Z",
     "start_time": "2021-02-27T15:07:44.048436Z"
    }
   },
   "outputs": [
    {
     "name": "stdout",
     "output_type": "stream",
     "text": [
      "10\n",
      "20\n",
      "30\n",
      "40\n",
      "50\n",
      "60\n",
      "70\n",
      "80\n",
      "90\n",
      "100\n"
     ]
    }
   ],
   "source": [
    "for numero in range(10, 101, 10):\n",
    "    print(numero)"
   ]
  },
  {
   "cell_type": "code",
   "execution_count": 111,
   "metadata": {
    "ExecuteTime": {
     "end_time": "2021-02-27T15:10:58.855817Z",
     "start_time": "2021-02-27T15:10:58.850658Z"
    }
   },
   "outputs": [
    {
     "name": "stdout",
     "output_type": "stream",
     "text": [
      "31\n",
      "62\n",
      "93\n",
      "124\n",
      "155\n",
      "186\n",
      "217\n",
      "248\n",
      "279\n",
      "310\n"
     ]
    }
   ],
   "source": [
    "n = 31\n",
    "\n",
    "for numero in range(n, n*10+1, n):\n",
    "    print(numero)"
   ]
  },
  {
   "cell_type": "markdown",
   "metadata": {},
   "source": [
    "## Due metodi molto comodi..."
   ]
  },
  {
   "cell_type": "markdown",
   "metadata": {},
   "source": [
    "### str.split()"
   ]
  },
  {
   "cell_type": "markdown",
   "metadata": {},
   "source": [
    "Spesso capita di dover suddividere una stringa lunga in elementi indivisibili, come le parole.  \n",
    "Per intenderci, poniamo di voler dividere una frase in singole parole e di mettere queste parole in una lista di stringhe"
   ]
  },
  {
   "cell_type": "markdown",
   "metadata": {},
   "source": [
    "Usiamo il metodo (per le stringhe) **split(*separatore*)**"
   ]
  },
  {
   "cell_type": "code",
   "execution_count": 112,
   "metadata": {
    "ExecuteTime": {
     "end_time": "2021-02-27T15:11:59.278915Z",
     "start_time": "2021-02-27T15:11:59.273949Z"
    }
   },
   "outputs": [],
   "source": [
    "filastrocca = \"amba ra ba ci ci cò cò\""
   ]
  },
  {
   "cell_type": "code",
   "execution_count": 113,
   "metadata": {
    "ExecuteTime": {
     "end_time": "2021-02-27T15:12:03.231546Z",
     "start_time": "2021-02-27T15:12:03.223926Z"
    }
   },
   "outputs": [
    {
     "data": {
      "text/plain": [
       "['amba', 'ra', 'ba', 'ci', 'ci', 'cò', 'cò']"
      ]
     },
     "execution_count": 113,
     "metadata": {},
     "output_type": "execute_result"
    }
   ],
   "source": [
    "filastrocca.split()"
   ]
  },
  {
   "cell_type": "markdown",
   "metadata": {},
   "source": [
    "*split()* accetta anche un argomeneto che rappresenta il *separatore*:"
   ]
  },
  {
   "cell_type": "code",
   "execution_count": 114,
   "metadata": {
    "ExecuteTime": {
     "end_time": "2021-02-27T15:12:55.759519Z",
     "start_time": "2021-02-27T15:12:55.756621Z"
    }
   },
   "outputs": [],
   "source": [
    "test = \"occhio-al-separatore-di-parole\""
   ]
  },
  {
   "cell_type": "code",
   "execution_count": 116,
   "metadata": {
    "ExecuteTime": {
     "end_time": "2021-02-27T15:13:08.528305Z",
     "start_time": "2021-02-27T15:13:08.523764Z"
    }
   },
   "outputs": [
    {
     "data": {
      "text/plain": [
       "['occhio-al-separatore-di-parole']"
      ]
     },
     "execution_count": 116,
     "metadata": {},
     "output_type": "execute_result"
    }
   ],
   "source": [
    "test.split()"
   ]
  },
  {
   "cell_type": "markdown",
   "metadata": {},
   "source": [
    "#### Esercizio"
   ]
  },
  {
   "cell_type": "markdown",
   "metadata": {},
   "source": [
    "Data una frase, prendere le parole che iniziano con la maiuscola e stampare (la maiuscola) sul display"
   ]
  },
  {
   "cell_type": "code",
   "execution_count": 117,
   "metadata": {
    "ExecuteTime": {
     "end_time": "2021-02-27T15:13:42.469900Z",
     "start_time": "2021-02-27T15:13:42.467534Z"
    }
   },
   "outputs": [],
   "source": [
    "frase = \"Solutore Hobbistico di Equazioni con Limite Differenziale Ottimizzato alla Numerazione\""
   ]
  },
  {
   "cell_type": "code",
   "execution_count": null,
   "metadata": {},
   "outputs": [],
   "source": [
    "stringa[0].isupper()"
   ]
  },
  {
   "cell_type": "markdown",
   "metadata": {},
   "source": [
    "### str.join(list)"
   ]
  },
  {
   "cell_type": "markdown",
   "metadata": {},
   "source": [
    "Al contrario di str.split(sep), il metodo join prende una lista di stringhe e le unisce in un'unica stringa. "
   ]
  },
  {
   "cell_type": "code",
   "execution_count": 119,
   "metadata": {
    "ExecuteTime": {
     "end_time": "2021-02-27T15:15:47.906100Z",
     "start_time": "2021-02-27T15:15:47.898882Z"
    }
   },
   "outputs": [],
   "source": [
    "lista = [\"ciao\",\"a\",\"tutti\"]"
   ]
  },
  {
   "cell_type": "code",
   "execution_count": 120,
   "metadata": {
    "ExecuteTime": {
     "end_time": "2021-02-27T15:15:51.372151Z",
     "start_time": "2021-02-27T15:15:51.366402Z"
    }
   },
   "outputs": [
    {
     "data": {
      "text/plain": [
       "'ciao a tutti'"
      ]
     },
     "execution_count": 120,
     "metadata": {},
     "output_type": "execute_result"
    }
   ],
   "source": [
    "# Il metodo si applica ad una stringa che rappresenta il carattere separatore\n",
    "\" \".join(lista)"
   ]
  },
  {
   "cell_type": "code",
   "execution_count": 121,
   "metadata": {
    "ExecuteTime": {
     "end_time": "2021-02-27T15:16:07.512469Z",
     "start_time": "2021-02-27T15:16:07.507369Z"
    }
   },
   "outputs": [
    {
     "data": {
      "text/plain": [
       "'ciao-----a-----tutti'"
      ]
     },
     "execution_count": 121,
     "metadata": {},
     "output_type": "execute_result"
    }
   ],
   "source": [
    "\"-----\".join(lista)"
   ]
  },
  {
   "cell_type": "code",
   "execution_count": null,
   "metadata": {},
   "outputs": [],
   "source": []
  },
  {
   "cell_type": "code",
   "execution_count": null,
   "metadata": {},
   "outputs": [],
   "source": []
  },
  {
   "cell_type": "code",
   "execution_count": 122,
   "metadata": {
    "ExecuteTime": {
     "end_time": "2021-02-27T15:18:21.273235Z",
     "start_time": "2021-02-27T15:18:21.268096Z"
    }
   },
   "outputs": [
    {
     "name": "stdout",
     "output_type": "stream",
     "text": [
      "[43, 66, 87, 99, 44]\n"
     ]
    }
   ],
   "source": [
    "# lista originale\n",
    "y1 = [1,5,2,43,66,87,99,12,44]\n",
    "\n",
    "# lista che riempirò con i valori maggiori di 30\n",
    "y2 = []\n",
    "\n",
    "# itero su y1\n",
    "for val in y1:\n",
    "    # controllo che il valore sia > di 30\n",
    "    if val > 30:\n",
    "        # appendo il valore alla lista y2\n",
    "        y2.append(val)\n",
    "        \n",
    "print(y2)"
   ]
  },
  {
   "cell_type": "markdown",
   "metadata": {
    "heading_collapsed": true
   },
   "source": [
    "# Numeri pseudo-casuali"
   ]
  },
  {
   "cell_type": "markdown",
   "metadata": {
    "heading_collapsed": true,
    "hidden": true
   },
   "source": [
    "## Descrizione"
   ]
  },
  {
   "cell_type": "markdown",
   "metadata": {
    "hidden": true
   },
   "source": [
    "La generazione di numeri *realmente* casuali è impossibile attraverso un computer, quindi si parla di numeri pseudo-casuali in quanto generati da un algoritmo (deterministico) che produce valori che *somigliano* a valori casuali."
   ]
  },
  {
   "cell_type": "markdown",
   "metadata": {
    "hidden": true
   },
   "source": [
    "In python il modulo **random** offre funzioni che generano numeri casuali.  "
   ]
  },
  {
   "cell_type": "code",
   "execution_count": null,
   "metadata": {
    "ExecuteTime": {
     "end_time": "2021-02-26T17:22:26.790392Z",
     "start_time": "2021-02-26T17:22:26.788157Z"
    },
    "hidden": true
   },
   "outputs": [],
   "source": [
    "# Importare il modulo random\n",
    "import random"
   ]
  },
  {
   "cell_type": "code",
   "execution_count": null,
   "metadata": {
    "ExecuteTime": {
     "end_time": "2021-02-26T17:22:38.328506Z",
     "start_time": "2021-02-26T17:22:38.323172Z"
    },
    "hidden": true
   },
   "outputs": [],
   "source": [
    "# chiamare una funzione che genera numeri interi compresi fra un minnimo e un massimo (inclusi)\n",
    "# la chiamata di una funzione appartenente ad un modulo avviene con l'operatore puntoi (.)\n",
    "random.randint(0,100)"
   ]
  },
  {
   "cell_type": "markdown",
   "metadata": {
    "heading_collapsed": true,
    "hidden": true
   },
   "source": [
    "## Creare una lista di numeri casuali"
   ]
  },
  {
   "cell_type": "code",
   "execution_count": null,
   "metadata": {
    "ExecuteTime": {
     "end_time": "2021-02-25T17:10:38.591828Z",
     "start_time": "2021-02-25T17:10:38.589129Z"
    },
    "hidden": true
   },
   "outputs": [],
   "source": [
    "# creo una lista vuota\n",
    "casuali = []"
   ]
  },
  {
   "cell_type": "code",
   "execution_count": null,
   "metadata": {
    "ExecuteTime": {
     "end_time": "2021-02-25T17:12:36.211674Z",
     "start_time": "2021-02-25T17:12:36.207662Z"
    },
    "hidden": true
   },
   "outputs": [],
   "source": [
    "# eseguo un ciclo sul range (100), quindi un processo che si ripete 100 volte\n",
    "# e ad ogni ripetizione del processo aggiungo (con append) un numero casuale alla lista\n",
    "\n",
    "for i in range(100):\n",
    "    numero = random.randint(0,100)\n",
    "    casuali.append(numero)"
   ]
  },
  {
   "cell_type": "code",
   "execution_count": null,
   "metadata": {
    "ExecuteTime": {
     "end_time": "2021-02-25T17:12:46.383669Z",
     "start_time": "2021-02-25T17:12:46.381082Z"
    },
    "hidden": true
   },
   "outputs": [],
   "source": [
    "# stampo la lista\n",
    "\n",
    "print(casuali)"
   ]
  },
  {
   "cell_type": "markdown",
   "metadata": {
    "heading_collapsed": true,
    "hidden": true
   },
   "source": [
    "### Esercizio"
   ]
  },
  {
   "cell_type": "markdown",
   "metadata": {
    "hidden": true
   },
   "source": [
    "Scorrere i valori casuali della lista precedente e stampare solo quelli pari"
   ]
  },
  {
   "cell_type": "code",
   "execution_count": null,
   "metadata": {
    "ExecuteTime": {
     "end_time": "2021-02-25T17:13:52.124107Z",
     "start_time": "2021-02-25T17:13:52.118738Z"
    },
    "hidden": true,
    "scrolled": true
   },
   "outputs": [],
   "source": [
    "for num in casuali:\n",
    "    if num % 2 == 0:\n",
    "        print(num)"
   ]
  },
  {
   "cell_type": "markdown",
   "metadata": {
    "heading_collapsed": true,
    "hidden": true
   },
   "source": [
    "### Esercizio"
   ]
  },
  {
   "attachments": {
    "piano-keys.gif": {
     "image/gif": "[encoded data removed]"
    }
   },
   "cell_type": "markdown",
   "metadata": {
    "hidden": true
   },
   "source": [
    "![piano-keys.gif](attachment:piano-keys.gif)"
   ]
  },
  {
   "cell_type": "markdown",
   "metadata": {
    "hidden": true
   },
   "source": [
    "Rappresentare le note della scala cromatica in una lista di stringhe."
   ]
  },
  {
   "cell_type": "code",
   "execution_count": null,
   "metadata": {
    "ExecuteTime": {
     "end_time": "2021-02-26T15:47:32.621250Z",
     "start_time": "2021-02-26T15:47:32.616260Z"
    },
    "hidden": true
   },
   "outputs": [],
   "source": [
    "note = \"c c# d d# e f f# g g# a a# b\"\n",
    "note = note.split(\" \")\n",
    "note"
   ]
  },
  {
   "cell_type": "markdown",
   "metadata": {
    "hidden": true
   },
   "source": [
    "Come si converte un numero qualunque in una nota? Ad esempio il 60 che nota è?"
   ]
  }
 ],
 "metadata": {
  "kernelspec": {
   "display_name": "Python 3",
   "language": "python",
   "name": "python3"
  },
  "language_info": {
   "codemirror_mode": {
    "name": "ipython",
    "version": 3
   },
   "file_extension": ".py",
   "mimetype": "text/x-python",
   "name": "python",
   "nbconvert_exporter": "python",
   "pygments_lexer": "ipython3",
   "version": "3.7.6"
  },
  "toc": {
   "base_numbering": 1,
   "nav_menu": {},
   "number_sections": true,
   "sideBar": true,
   "skip_h1_title": false,
   "title_cell": "Table of Contents",
   "title_sidebar": "Contents",
   "toc_cell": false,
   "toc_position": {
    "height": "calc(100% - 180px)",
    "left": "10px",
    "top": "150px",
    "width": "314.667px"
   },
   "toc_section_display": true,
   "toc_window_display": true
  }
 },
 "nbformat": 4,
 "nbformat_minor": 2
}
