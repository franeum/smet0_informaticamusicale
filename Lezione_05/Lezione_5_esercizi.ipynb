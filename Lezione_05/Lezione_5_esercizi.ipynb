{
 "cells": [
  {
   "cell_type": "markdown",
   "metadata": {},
   "source": [
    "# Esercizio"
   ]
  },
  {
   "cell_type": "markdown",
   "metadata": {},
   "source": [
    "Stampare la tabellina del 5, un valore alla volta.  \n",
    "Usare un ciclo **for** in combinazione con l'oggetto **range**."
   ]
  },
  {
   "cell_type": "code",
   "execution_count": 1,
   "metadata": {
    "ExecuteTime": {
     "end_time": "2021-02-25T21:32:14.410672Z",
     "start_time": "2021-02-25T21:32:14.404510Z"
    }
   },
   "outputs": [],
   "source": [
    "# svolgimento"
   ]
  },
  {
   "cell_type": "markdown",
   "metadata": {},
   "source": [
    "# Esercizio"
   ]
  },
  {
   "cell_type": "markdown",
   "metadata": {},
   "source": [
    "Data la stringa sottostante eseguire i due compiti seguenti: \n",
    "1. contare le parole (ogni lessema preceduto e seguito da uno spazio)\n",
    "2. creare una lista con le sole parole formate da più di 4 caratteri"
   ]
  },
  {
   "cell_type": "code",
   "execution_count": 6,
   "metadata": {
    "ExecuteTime": {
     "end_time": "2021-02-25T21:47:06.809630Z",
     "start_time": "2021-02-25T21:47:06.802498Z"
    }
   },
   "outputs": [],
   "source": [
    "star = \"\"\"\"Non mi piace la sabbia.\n",
    "È granulosa, ruvida, irrita la pelle e si infila dappertutto.\"\"\""
   ]
  },
  {
   "cell_type": "code",
   "execution_count": 8,
   "metadata": {
    "ExecuteTime": {
     "end_time": "2021-02-25T21:49:41.720032Z",
     "start_time": "2021-02-25T21:49:41.713205Z"
    }
   },
   "outputs": [],
   "source": [
    "# svolgimento"
   ]
  },
  {
   "cell_type": "markdown",
   "metadata": {},
   "source": [
    "# Esercizio"
   ]
  },
  {
   "cell_type": "markdown",
   "metadata": {
    "ExecuteTime": {
     "end_time": "2021-02-25T22:10:33.055881Z",
     "start_time": "2021-02-25T22:10:33.050646Z"
    }
   },
   "source": [
    "Creare una lista con i primi 50 numeri naturali e poi stampare la sua inversione.   \n",
    "I primi 50 numeri naturali sono 1, 2, 3, ... , 49, 50   \n",
    "La sua inversione sarà: 50, 49, 48, ..., 3, 2, 1"
   ]
  },
  {
   "cell_type": "code",
   "execution_count": 23,
   "metadata": {
    "ExecuteTime": {
     "end_time": "2021-02-25T22:13:51.099983Z",
     "start_time": "2021-02-25T22:13:51.095318Z"
    }
   },
   "outputs": [],
   "source": [
    "# svolgimento"
   ]
  },
  {
   "cell_type": "markdown",
   "metadata": {},
   "source": [
    "# Esercizio"
   ]
  },
  {
   "cell_type": "markdown",
   "metadata": {
    "ExecuteTime": {
     "end_time": "2021-02-25T22:19:59.789698Z",
     "start_time": "2021-02-25T22:19:59.784960Z"
    }
   },
   "source": [
    "Creare una lista con i quadrati dei primi 20 numeri naturali (da 1 a 20, incluso).  \n",
    "Output atteso: \n",
    "\n",
    "    [1, 4, 9, 16, 25, 36, 49, 64, 81, 100, 121, 144, 169, 196, 225, 256, 289, 324, 361, 400]"
   ]
  },
  {
   "cell_type": "code",
   "execution_count": 30,
   "metadata": {
    "ExecuteTime": {
     "end_time": "2021-02-25T22:22:02.325278Z",
     "start_time": "2021-02-25T22:22:02.322869Z"
    }
   },
   "outputs": [],
   "source": [
    "# svolgimento"
   ]
  },
  {
   "cell_type": "markdown",
   "metadata": {},
   "source": [
    "# Esercizio"
   ]
  },
  {
   "cell_type": "markdown",
   "metadata": {},
   "source": [
    "Qui di seguito c'è una lista dei nomi e cognomi di compositori del XX secolo. Eseguire i seguenti task:  \n",
    "1. Contare gli elementi della lista\n",
    "2. Mettere la lista in ordine alfabetico\n",
    "3. Creare una lista con i soli compositori la cua iniziale è 'S'"
   ]
  },
  {
   "cell_type": "code",
   "execution_count": 57,
   "metadata": {
    "ExecuteTime": {
     "end_time": "2021-02-25T23:26:38.655985Z",
     "start_time": "2021-02-25T23:26:38.622443Z"
    }
   },
   "outputs": [],
   "source": [
    "composers = ['Head, Michael Dewar',\n",
    " 'Weill, Kurt',\n",
    " 'Copland, Aaron',\n",
    " 'Apostel, Hans Erich',\n",
    " 'Poot, Marcel',\n",
    " 'Rubbra, Edmund',\n",
    " 'Finzi, Gerald',\n",
    " 'Rodrigo, Joaquín',\n",
    " 'Durufle, Maurice',\n",
    " 'Walton, Sir William Turner',\n",
    " 'Joseph, William',\n",
    " 'Rodgers, Richard',\n",
    " 'Berkeley, Sir Lennox',\n",
    " \"Khachaturian, Aram Il'yich\",\n",
    " 'Giannini, Vittorio',\n",
    " 'Antill, John',\n",
    " 'Addinsell, Richard',\n",
    " 'Kabalevsky, Dmitri Borisovich',\n",
    " 'Milstein, Nathan',\n",
    " 'Tippett, Sir Michael Kemp',\n",
    " 'Halffter, Ernesto',\n",
    " 'Bozza, Eugene',\n",
    " 'Rawsthorne, Alan',\n",
    " 'Seiber, Matyas',\n",
    " 'Tubin, Eduard',\n",
    " 'Sternefeld, Daniel',\n",
    " 'Wiren, Dag Ivar',\n",
    " 'Alwyn, William',\n",
    " 'Frankel, Benjamin',\n",
    " 'Shostakovich, Dmitri',\n",
    " 'Creston, Paul',\n",
    " 'Guarnieri, Mozart Camargo',\n",
    " 'Maconchy, Elizabeth',\n",
    " 'Rózsa, Miklós',\n",
    " 'Partos, Oedoen',\n",
    " 'Perkins, Frank',\n",
    " 'Distler, Hugo',\n",
    " 'Ferguson, Howard',\n",
    " 'Messiaen, Olivier',\n",
    " 'Constantinescu, Paul',\n",
    " 'Holmboe, Vagn',\n",
    " 'Chajes, Julius',\n",
    " 'Barber, Samuel',\n",
    " 'Reed, H. Owen',\n",
    " 'Binge, Ronald',\n",
    " 'Schuman, William Howard',\n",
    " 'Glaser, Werner Wolf',\n",
    " 'Elenescu, Emanuel',\n",
    " 'Alain, Jehan',\n",
    " 'Hovhaness, Alan',\n",
    " 'Herrmann, Bernard',\n",
    " 'Menotti, Gian Carlo',\n",
    " 'Pettersson, Gustav Allan',\n",
    " 'Guastavino, Carlos',\n",
    " 'Françaix, Jean',\n",
    " 'Joio, Norman Dello',\n",
    " 'Lutoslavski, Witold',\n",
    " 'Lloyd, George',\n",
    " 'Britten, Lord Benjamin',\n",
    " 'Gould, Morton',\n",
    " 'Webber, William Southcombe Lloyd',\n",
    " 'Truscott, Harold',\n",
    " 'Surinach, Carlos',\n",
    " 'Diamond, David',\n",
    " 'Lilburn, Douglas',\n",
    " 'Dutilleux, Henri',\n",
    " 'Stevens, Bernard',\n",
    " 'Ginastera, Alberto',\n",
    " 'Farnon, Robert Joseph',\n",
    " 'Zimmermann, Bernd Alois',\n",
    " 'Rochberg, George',\n",
    " 'Bernstein, Leonard',\n",
    " 'Nelhybel, Vaclav',\n",
    " 'Weinberg, Mieczysław',\n",
    " 'Basarab, Mircea',\n",
    " 'Simpson, Robert',\n",
    " 'Nixon, Roger',\n",
    " 'Arnold, Malcolm',\n",
    " 'Petit, Pierre',\n",
    " 'Raid, Kaljo',\n",
    " 'Williams, James Clifton',\n",
    " 'Mennin, Peter',\n",
    " 'Braun, Günter',\n",
    " 'Presti, Ida',\n",
    " 'Tomlinson, Ernest',\n",
    " 'Lamb, Peter',\n",
    " 'Mechem, Kirke',\n",
    " 'Orbon, Julian',\n",
    " 'Jirko, Ivan',\n",
    " 'Gielen, Michael',\n",
    " 'Muczynski, Robert',\n",
    " 'Matton, Roger',\n",
    " 'Leighton, Kenneth',\n",
    " 'Nelson, Ron',\n",
    " 'Tormis, Veljo',\n",
    " 'Shchedrin, Rodion Konstantinovich',\n",
    " 'Gorecki, Henryk Mikolaj',\n",
    " 'McLeod, John',\n",
    " 'Mathias, William',\n",
    " 'Schnittke, Alfred',\n",
    " 'Part, Arvo',\n",
    " 'Maw, Nicholas',\n",
    " 'Kymlicka, Milan',\n",
    " 'Bennett, Richard Rodney',\n",
    " 'Nobre, Marlos',\n",
    " 'Bruzdowicz, Joanna',\n",
    " 'Holloway, Robin',\n",
    " 'Tavener, John',\n",
    " 'Rutter, John',\n",
    " 'Tabakov, Emil',\n",
    " 'Webber, Andrew Lloyd',\n",
    " 'Gallant, Pierre',\n",
    " 'Febel, Reinhard',\n",
    " 'Saxton, Robert']"
   ]
  },
  {
   "cell_type": "code",
   "execution_count": 48,
   "metadata": {
    "ExecuteTime": {
     "end_time": "2021-02-25T23:14:21.810048Z",
     "start_time": "2021-02-25T23:14:21.801566Z"
    }
   },
   "outputs": [],
   "source": [
    "# svolgimento"
   ]
  },
  {
   "cell_type": "markdown",
   "metadata": {},
   "source": [
    "# Esercizio"
   ]
  },
  {
   "cell_type": "markdown",
   "metadata": {},
   "source": [
    "Data la lista di nome `lista`, cercare il valore 20 e, se presente, sostituirlo con il valore 200"
   ]
  },
  {
   "cell_type": "code",
   "execution_count": 60,
   "metadata": {
    "ExecuteTime": {
     "end_time": "2021-02-25T23:31:54.228726Z",
     "start_time": "2021-02-25T23:31:54.224568Z"
    }
   },
   "outputs": [],
   "source": [
    "lista = [5, 10, 15, 20, 25, 50]"
   ]
  },
  {
   "cell_type": "code",
   "execution_count": 61,
   "metadata": {
    "ExecuteTime": {
     "end_time": "2021-02-25T23:32:04.767176Z",
     "start_time": "2021-02-25T23:32:04.764423Z"
    }
   },
   "outputs": [],
   "source": [
    "# svolgimento"
   ]
  }
 ],
 "metadata": {
  "kernelspec": {
   "display_name": "Python 3",
   "language": "python",
   "name": "python3"
  },
  "language_info": {
   "codemirror_mode": {
    "name": "ipython",
    "version": 3
   },
   "file_extension": ".py",
   "mimetype": "text/x-python",
   "name": "python",
   "nbconvert_exporter": "python",
   "pygments_lexer": "ipython3",
   "version": "3.7.6"
  },
  "toc": {
   "base_numbering": 1,
   "nav_menu": {},
   "number_sections": true,
   "sideBar": true,
   "skip_h1_title": false,
   "title_cell": "Table of Contents",
   "title_sidebar": "Contents",
   "toc_cell": false,
   "toc_position": {},
   "toc_section_display": true,
   "toc_window_display": false
  }
 },
 "nbformat": 4,
 "nbformat_minor": 4
}
