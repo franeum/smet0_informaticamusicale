{
 "cells": [
  {
   "cell_type": "markdown",
   "metadata": {
    "heading_collapsed": true
   },
   "source": [
    "# Esercizio"
   ]
  },
  {
   "cell_type": "markdown",
   "metadata": {
    "hidden": true
   },
   "source": [
    "Stampare la tabellina del 5, un valore alla volta.  \n",
    "Usare un ciclo **for** in combinazione con l'oggetto **range**."
   ]
  },
  {
   "cell_type": "code",
   "execution_count": null,
   "metadata": {
    "ExecuteTime": {
     "end_time": "2021-02-25T21:32:14.410672Z",
     "start_time": "2021-02-25T21:32:14.404510Z"
    },
    "hidden": true
   },
   "outputs": [],
   "source": [
    "# svolgimento"
   ]
  },
  {
   "cell_type": "code",
   "execution_count": 6,
   "metadata": {
    "ExecuteTime": {
     "end_time": "2021-03-06T14:39:57.908812Z",
     "start_time": "2021-03-06T14:39:57.893075Z"
    },
    "hidden": true
   },
   "outputs": [
    {
     "name": "stdout",
     "output_type": "stream",
     "text": [
      "5\n",
      "10\n",
      "15\n",
      "20\n",
      "25\n",
      "30\n",
      "35\n",
      "40\n",
      "45\n",
      "50\n"
     ]
    }
   ],
   "source": [
    "n = 5\n",
    "\n",
    "for num in range(n, n*10+1, n):\n",
    "    print(num)"
   ]
  },
  {
   "cell_type": "markdown",
   "metadata": {
    "heading_collapsed": true
   },
   "source": [
    "# Esercizio"
   ]
  },
  {
   "cell_type": "markdown",
   "metadata": {
    "hidden": true
   },
   "source": [
    "Data la stringa `star` sottostante eseguire i due compiti seguenti: \n",
    "1. contare le parole\n",
    "2. creare una lista con le sole parole formate da più di 4 caratteri"
   ]
  },
  {
   "cell_type": "code",
   "execution_count": 8,
   "metadata": {
    "ExecuteTime": {
     "end_time": "2021-03-06T14:42:07.666279Z",
     "start_time": "2021-03-06T14:42:07.659636Z"
    },
    "hidden": true
   },
   "outputs": [],
   "source": [
    "star = \"\"\"Non mi piace la sabbia.\n",
    "È granulosa, ruvida, irrita la pelle e si infila dappertutto.\"\"\""
   ]
  },
  {
   "cell_type": "code",
   "execution_count": 9,
   "metadata": {
    "ExecuteTime": {
     "end_time": "2021-03-06T14:42:51.147469Z",
     "start_time": "2021-03-06T14:42:51.144569Z"
    },
    "hidden": true
   },
   "outputs": [],
   "source": [
    "# svolgimento\n",
    "\n",
    "lista = star.split()"
   ]
  },
  {
   "cell_type": "code",
   "execution_count": 13,
   "metadata": {
    "ExecuteTime": {
     "end_time": "2021-03-06T14:43:52.026696Z",
     "start_time": "2021-03-06T14:43:52.020382Z"
    },
    "hidden": true
   },
   "outputs": [],
   "source": [
    "lunghezza = len(lista)"
   ]
  },
  {
   "cell_type": "code",
   "execution_count": 14,
   "metadata": {
    "ExecuteTime": {
     "end_time": "2021-03-06T14:43:53.331201Z",
     "start_time": "2021-03-06T14:43:53.327448Z"
    },
    "hidden": true
   },
   "outputs": [
    {
     "name": "stdout",
     "output_type": "stream",
     "text": [
      "Il numero delle parole è 15\n"
     ]
    }
   ],
   "source": [
    "print(f\"Il numero delle parole è {lunghezza}\")"
   ]
  },
  {
   "cell_type": "code",
   "execution_count": 15,
   "metadata": {
    "ExecuteTime": {
     "end_time": "2021-03-06T14:45:16.274044Z",
     "start_time": "2021-03-06T14:45:16.269651Z"
    },
    "hidden": true
   },
   "outputs": [
    {
     "name": "stdout",
     "output_type": "stream",
     "text": [
      "['piace', 'sabbia.', 'granulosa,', 'ruvida,', 'irrita', 'pelle', 'infila', 'dappertutto.']\n"
     ]
    }
   ],
   "source": [
    "over4 = []\n",
    "\n",
    "for parola in lista:\n",
    "    if len(parola) > 4:\n",
    "        over4.append(parola)\n",
    "        \n",
    "print(over4)"
   ]
  },
  {
   "cell_type": "code",
   "execution_count": 16,
   "metadata": {
    "ExecuteTime": {
     "end_time": "2021-03-06T14:45:57.233316Z",
     "start_time": "2021-03-06T14:45:57.227145Z"
    },
    "hidden": true
   },
   "outputs": [
    {
     "data": {
      "text/plain": [
       "'Non mi piace la sabbia.\\nÈ granulosa, ruvida, irrita la pelle e si infila dappertutto.'"
      ]
     },
     "execution_count": 16,
     "metadata": {},
     "output_type": "execute_result"
    }
   ],
   "source": [
    "star"
   ]
  },
  {
   "cell_type": "code",
   "execution_count": 18,
   "metadata": {
    "ExecuteTime": {
     "end_time": "2021-03-06T14:46:47.263823Z",
     "start_time": "2021-03-06T14:46:47.259401Z"
    },
    "hidden": true
   },
   "outputs": [],
   "source": [
    "star = star.replace(\".\",\"\")"
   ]
  },
  {
   "cell_type": "code",
   "execution_count": 19,
   "metadata": {
    "ExecuteTime": {
     "end_time": "2021-03-06T14:46:59.586721Z",
     "start_time": "2021-03-06T14:46:59.584151Z"
    },
    "hidden": true
   },
   "outputs": [],
   "source": [
    "star = star.replace(\",\",\"\")"
   ]
  },
  {
   "cell_type": "code",
   "execution_count": 21,
   "metadata": {
    "ExecuteTime": {
     "end_time": "2021-03-06T14:47:18.501535Z",
     "start_time": "2021-03-06T14:47:18.494846Z"
    },
    "hidden": true
   },
   "outputs": [
    {
     "name": "stdout",
     "output_type": "stream",
     "text": [
      "Non mi piace la sabbia\n",
      "È granulosa ruvida irrita la pelle e si infila dappertutto\n"
     ]
    }
   ],
   "source": [
    "print(star)"
   ]
  },
  {
   "cell_type": "markdown",
   "metadata": {
    "heading_collapsed": true
   },
   "source": [
    "# Esercizio"
   ]
  },
  {
   "cell_type": "markdown",
   "metadata": {
    "ExecuteTime": {
     "end_time": "2021-02-25T22:10:33.055881Z",
     "start_time": "2021-02-25T22:10:33.050646Z"
    },
    "hidden": true
   },
   "source": [
    "Creare una lista con i primi 50 numeri naturali e poi stampare la sua inversione.   \n",
    "I primi 50 numeri naturali sono 1, 2, 3, ... , 49, 50   \n",
    "La sua inversione sarà: 50, 49, 48, ..., 3, 2, 1"
   ]
  },
  {
   "cell_type": "code",
   "execution_count": 22,
   "metadata": {
    "ExecuteTime": {
     "end_time": "2021-03-06T14:48:43.690044Z",
     "start_time": "2021-03-06T14:48:43.686651Z"
    },
    "hidden": true
   },
   "outputs": [],
   "source": [
    "# svolgimento\n",
    "naturali = list(range(1,51))"
   ]
  },
  {
   "cell_type": "code",
   "execution_count": 24,
   "metadata": {
    "ExecuteTime": {
     "end_time": "2021-03-06T14:49:10.051108Z",
     "start_time": "2021-03-06T14:49:10.047951Z"
    },
    "hidden": true
   },
   "outputs": [
    {
     "name": "stdout",
     "output_type": "stream",
     "text": [
      "[50, 49, 48, 47, 46, 45, 44, 43, 42, 41, 40, 39, 38, 37, 36, 35, 34, 33, 32, 31, 30, 29, 28, 27, 26, 25, 24, 23, 22, 21, 20, 19, 18, 17, 16, 15, 14, 13, 12, 11, 10, 9, 8, 7, 6, 5, 4, 3, 2, 1]\n"
     ]
    }
   ],
   "source": [
    "print(naturali[::-1])"
   ]
  },
  {
   "cell_type": "markdown",
   "metadata": {
    "heading_collapsed": true
   },
   "source": [
    "# Esercizio"
   ]
  },
  {
   "cell_type": "markdown",
   "metadata": {
    "ExecuteTime": {
     "end_time": "2021-02-25T22:19:59.789698Z",
     "start_time": "2021-02-25T22:19:59.784960Z"
    },
    "hidden": true
   },
   "source": [
    "Creare una lista con i quadrati dei primi 20 numeri naturali (da 1 a 20, incluso).  \n",
    "Output atteso: \n",
    "\n",
    "    [1, 4, 9, 16, 25, 36, 49, 64, 81, 100, 121, 144, 169, 196, 225, 256, 289, 324, 361, 400]"
   ]
  },
  {
   "cell_type": "code",
   "execution_count": 25,
   "metadata": {
    "ExecuteTime": {
     "end_time": "2021-03-06T14:49:59.504596Z",
     "start_time": "2021-03-06T14:49:59.500822Z"
    },
    "hidden": true
   },
   "outputs": [],
   "source": [
    "# svolgimento\n",
    "quadrati = list(range(1,21))"
   ]
  },
  {
   "cell_type": "code",
   "execution_count": 26,
   "metadata": {
    "ExecuteTime": {
     "end_time": "2021-03-06T14:50:02.619248Z",
     "start_time": "2021-03-06T14:50:02.615160Z"
    },
    "hidden": true
   },
   "outputs": [
    {
     "data": {
      "text/plain": [
       "[1, 2, 3, 4, 5, 6, 7, 8, 9, 10, 11, 12, 13, 14, 15, 16, 17, 18, 19, 20]"
      ]
     },
     "execution_count": 26,
     "metadata": {},
     "output_type": "execute_result"
    }
   ],
   "source": [
    "quadrati"
   ]
  },
  {
   "cell_type": "code",
   "execution_count": 27,
   "metadata": {
    "ExecuteTime": {
     "end_time": "2021-03-06T14:50:52.983075Z",
     "start_time": "2021-03-06T14:50:52.970933Z"
    },
    "hidden": true
   },
   "outputs": [
    {
     "name": "stdout",
     "output_type": "stream",
     "text": [
      "[1, 4, 9, 16, 25, 36, 49, 64, 81, 100, 121, 144, 169, 196, 225, 256, 289, 324, 361, 400]\n"
     ]
    }
   ],
   "source": [
    "squares = []\n",
    "\n",
    "for i in quadrati:\n",
    "    squares.append(i*i)\n",
    "    \n",
    "print(squares)"
   ]
  },
  {
   "cell_type": "markdown",
   "metadata": {
    "heading_collapsed": true
   },
   "source": [
    "# Esercizio"
   ]
  },
  {
   "cell_type": "markdown",
   "metadata": {
    "hidden": true
   },
   "source": [
    "Qui di seguito c'è una lista dei nomi e cognomi di compositori del XX secolo. Eseguire i seguenti task:  \n",
    "1. Contare gli elementi della lista\n",
    "2. Mettere la lista in ordine alfabetico (usare *sort()*)\n",
    "3. Creare una lista con i soli compositori la cua iniziale è 'S'"
   ]
  },
  {
   "cell_type": "code",
   "execution_count": 28,
   "metadata": {
    "ExecuteTime": {
     "end_time": "2021-03-06T14:52:28.692613Z",
     "start_time": "2021-03-06T14:52:28.678601Z"
    },
    "hidden": true
   },
   "outputs": [],
   "source": [
    "composers = ['Head, Michael Dewar',\n",
    " 'Weill, Kurt',\n",
    " 'Copland, Aaron',\n",
    " 'Apostel, Hans Erich',\n",
    " 'Poot, Marcel',\n",
    " 'Rubbra, Edmund',\n",
    " 'Finzi, Gerald',\n",
    " 'Rodrigo, Joaquín',\n",
    " 'Durufle, Maurice',\n",
    " 'Walton, Sir William Turner',\n",
    " 'Joseph, William',\n",
    " 'Rodgers, Richard',\n",
    " 'Berkeley, Sir Lennox',\n",
    " \"Khachaturian, Aram Il'yich\",\n",
    " 'Giannini, Vittorio',\n",
    " 'Antill, John',\n",
    " 'Addinsell, Richard',\n",
    " 'Kabalevsky, Dmitri Borisovich',\n",
    " 'Milstein, Nathan',\n",
    " 'Tippett, Sir Michael Kemp',\n",
    " 'Halffter, Ernesto',\n",
    " 'Bozza, Eugene',\n",
    " 'Rawsthorne, Alan',\n",
    " 'Seiber, Matyas',\n",
    " 'Tubin, Eduard',\n",
    " 'Sternefeld, Daniel',\n",
    " 'Wiren, Dag Ivar',\n",
    " 'Alwyn, William',\n",
    " 'Frankel, Benjamin',\n",
    " 'Shostakovich, Dmitri',\n",
    " 'Creston, Paul',\n",
    " 'Guarnieri, Mozart Camargo',\n",
    " 'Maconchy, Elizabeth',\n",
    " 'Rózsa, Miklós',\n",
    " 'Partos, Oedoen',\n",
    " 'Perkins, Frank',\n",
    " 'Distler, Hugo',\n",
    " 'Ferguson, Howard',\n",
    " 'Messiaen, Olivier',\n",
    " 'Constantinescu, Paul',\n",
    " 'Holmboe, Vagn',\n",
    " 'Chajes, Julius',\n",
    " 'Barber, Samuel',\n",
    " 'Reed, H. Owen',\n",
    " 'Binge, Ronald',\n",
    " 'Schuman, William Howard',\n",
    " 'Glaser, Werner Wolf',\n",
    " 'Elenescu, Emanuel',\n",
    " 'Alain, Jehan',\n",
    " 'Hovhaness, Alan',\n",
    " 'Herrmann, Bernard',\n",
    " 'Menotti, Gian Carlo',\n",
    " 'Pettersson, Gustav Allan',\n",
    " 'Guastavino, Carlos',\n",
    " 'Françaix, Jean',\n",
    " 'Joio, Norman Dello',\n",
    " 'Lutoslavski, Witold',\n",
    " 'Lloyd, George',\n",
    " 'Britten, Lord Benjamin',\n",
    " 'Gould, Morton',\n",
    " 'Webber, William Southcombe Lloyd',\n",
    " 'Truscott, Harold',\n",
    " 'Surinach, Carlos',\n",
    " 'Diamond, David',\n",
    " 'Lilburn, Douglas',\n",
    " 'Dutilleux, Henri',\n",
    " 'Stevens, Bernard',\n",
    " 'Ginastera, Alberto',\n",
    " 'Farnon, Robert Joseph',\n",
    " 'Zimmermann, Bernd Alois',\n",
    " 'Rochberg, George',\n",
    " 'Bernstein, Leonard',\n",
    " 'Nelhybel, Vaclav',\n",
    " 'Weinberg, Mieczysław',\n",
    " 'Basarab, Mircea',\n",
    " 'Simpson, Robert',\n",
    " 'Nixon, Roger',\n",
    " 'Arnold, Malcolm',\n",
    " 'Petit, Pierre',\n",
    " 'Raid, Kaljo',\n",
    " 'Williams, James Clifton',\n",
    " 'Mennin, Peter',\n",
    " 'Braun, Günter',\n",
    " 'Presti, Ida',\n",
    " 'Tomlinson, Ernest',\n",
    " 'Lamb, Peter',\n",
    " 'Mechem, Kirke',\n",
    " 'Orbon, Julian',\n",
    " 'Jirko, Ivan',\n",
    " 'Gielen, Michael',\n",
    " 'Muczynski, Robert',\n",
    " 'Matton, Roger',\n",
    " 'Leighton, Kenneth',\n",
    " 'Nelson, Ron',\n",
    " 'Tormis, Veljo',\n",
    " 'Shchedrin, Rodion Konstantinovich',\n",
    " 'Gorecki, Henryk Mikolaj',\n",
    " 'McLeod, John',\n",
    " 'Mathias, William',\n",
    " 'Schnittke, Alfred',\n",
    " 'Part, Arvo',\n",
    " 'Maw, Nicholas',\n",
    " 'Kymlicka, Milan',\n",
    " 'Bennett, Richard Rodney',\n",
    " 'Nobre, Marlos',\n",
    " 'Bruzdowicz, Joanna',\n",
    " 'Holloway, Robin',\n",
    " 'Tavener, John',\n",
    " 'Rutter, John',\n",
    " 'Tabakov, Emil',\n",
    " 'Webber, Andrew Lloyd',\n",
    " 'Gallant, Pierre',\n",
    " 'Febel, Reinhard',\n",
    " 'Saxton, Robert']"
   ]
  },
  {
   "cell_type": "code",
   "execution_count": 29,
   "metadata": {
    "ExecuteTime": {
     "end_time": "2021-03-06T14:52:56.390184Z",
     "start_time": "2021-03-06T14:52:56.384030Z"
    },
    "hidden": true
   },
   "outputs": [
    {
     "data": {
      "text/plain": [
       "['Addinsell, Richard',\n",
       " 'Alain, Jehan',\n",
       " 'Alwyn, William',\n",
       " 'Antill, John',\n",
       " 'Apostel, Hans Erich',\n",
       " 'Arnold, Malcolm',\n",
       " 'Barber, Samuel',\n",
       " 'Basarab, Mircea',\n",
       " 'Bennett, Richard Rodney',\n",
       " 'Berkeley, Sir Lennox',\n",
       " 'Bernstein, Leonard',\n",
       " 'Binge, Ronald',\n",
       " 'Bozza, Eugene',\n",
       " 'Braun, Günter',\n",
       " 'Britten, Lord Benjamin',\n",
       " 'Bruzdowicz, Joanna',\n",
       " 'Chajes, Julius',\n",
       " 'Constantinescu, Paul',\n",
       " 'Copland, Aaron',\n",
       " 'Creston, Paul',\n",
       " 'Diamond, David',\n",
       " 'Distler, Hugo',\n",
       " 'Durufle, Maurice',\n",
       " 'Dutilleux, Henri',\n",
       " 'Elenescu, Emanuel',\n",
       " 'Farnon, Robert Joseph',\n",
       " 'Febel, Reinhard',\n",
       " 'Ferguson, Howard',\n",
       " 'Finzi, Gerald',\n",
       " 'Frankel, Benjamin',\n",
       " 'Françaix, Jean',\n",
       " 'Gallant, Pierre',\n",
       " 'Giannini, Vittorio',\n",
       " 'Gielen, Michael',\n",
       " 'Ginastera, Alberto',\n",
       " 'Glaser, Werner Wolf',\n",
       " 'Gorecki, Henryk Mikolaj',\n",
       " 'Gould, Morton',\n",
       " 'Guarnieri, Mozart Camargo',\n",
       " 'Guastavino, Carlos',\n",
       " 'Halffter, Ernesto',\n",
       " 'Head, Michael Dewar',\n",
       " 'Herrmann, Bernard',\n",
       " 'Holloway, Robin',\n",
       " 'Holmboe, Vagn',\n",
       " 'Hovhaness, Alan',\n",
       " 'Jirko, Ivan',\n",
       " 'Joio, Norman Dello',\n",
       " 'Joseph, William',\n",
       " 'Kabalevsky, Dmitri Borisovich',\n",
       " \"Khachaturian, Aram Il'yich\",\n",
       " 'Kymlicka, Milan',\n",
       " 'Lamb, Peter',\n",
       " 'Leighton, Kenneth',\n",
       " 'Lilburn, Douglas',\n",
       " 'Lloyd, George',\n",
       " 'Lutoslavski, Witold',\n",
       " 'Maconchy, Elizabeth',\n",
       " 'Mathias, William',\n",
       " 'Matton, Roger',\n",
       " 'Maw, Nicholas',\n",
       " 'McLeod, John',\n",
       " 'Mechem, Kirke',\n",
       " 'Mennin, Peter',\n",
       " 'Menotti, Gian Carlo',\n",
       " 'Messiaen, Olivier',\n",
       " 'Milstein, Nathan',\n",
       " 'Muczynski, Robert',\n",
       " 'Nelhybel, Vaclav',\n",
       " 'Nelson, Ron',\n",
       " 'Nixon, Roger',\n",
       " 'Nobre, Marlos',\n",
       " 'Orbon, Julian',\n",
       " 'Part, Arvo',\n",
       " 'Partos, Oedoen',\n",
       " 'Perkins, Frank',\n",
       " 'Petit, Pierre',\n",
       " 'Pettersson, Gustav Allan',\n",
       " 'Poot, Marcel',\n",
       " 'Presti, Ida',\n",
       " 'Raid, Kaljo',\n",
       " 'Rawsthorne, Alan',\n",
       " 'Reed, H. Owen',\n",
       " 'Rochberg, George',\n",
       " 'Rodgers, Richard',\n",
       " 'Rodrigo, Joaquín',\n",
       " 'Rubbra, Edmund',\n",
       " 'Rutter, John',\n",
       " 'Rózsa, Miklós',\n",
       " 'Saxton, Robert',\n",
       " 'Schnittke, Alfred',\n",
       " 'Schuman, William Howard',\n",
       " 'Seiber, Matyas',\n",
       " 'Shchedrin, Rodion Konstantinovich',\n",
       " 'Shostakovich, Dmitri',\n",
       " 'Simpson, Robert',\n",
       " 'Sternefeld, Daniel',\n",
       " 'Stevens, Bernard',\n",
       " 'Surinach, Carlos',\n",
       " 'Tabakov, Emil',\n",
       " 'Tavener, John',\n",
       " 'Tippett, Sir Michael Kemp',\n",
       " 'Tomlinson, Ernest',\n",
       " 'Tormis, Veljo',\n",
       " 'Truscott, Harold',\n",
       " 'Tubin, Eduard',\n",
       " 'Walton, Sir William Turner',\n",
       " 'Webber, Andrew Lloyd',\n",
       " 'Webber, William Southcombe Lloyd',\n",
       " 'Weill, Kurt',\n",
       " 'Weinberg, Mieczysław',\n",
       " 'Williams, James Clifton',\n",
       " 'Wiren, Dag Ivar',\n",
       " 'Zimmermann, Bernd Alois']"
      ]
     },
     "execution_count": 29,
     "metadata": {},
     "output_type": "execute_result"
    }
   ],
   "source": [
    "sorted(composers)"
   ]
  },
  {
   "cell_type": "code",
   "execution_count": 30,
   "metadata": {
    "ExecuteTime": {
     "end_time": "2021-03-06T14:53:14.430331Z",
     "start_time": "2021-03-06T14:53:14.427559Z"
    },
    "hidden": true
   },
   "outputs": [],
   "source": [
    "composers.sort()"
   ]
  },
  {
   "cell_type": "code",
   "execution_count": 31,
   "metadata": {
    "ExecuteTime": {
     "end_time": "2021-03-06T14:53:21.920745Z",
     "start_time": "2021-03-06T14:53:21.912061Z"
    },
    "hidden": true
   },
   "outputs": [
    {
     "data": {
      "text/plain": [
       "['Addinsell, Richard',\n",
       " 'Alain, Jehan',\n",
       " 'Alwyn, William',\n",
       " 'Antill, John',\n",
       " 'Apostel, Hans Erich',\n",
       " 'Arnold, Malcolm',\n",
       " 'Barber, Samuel',\n",
       " 'Basarab, Mircea',\n",
       " 'Bennett, Richard Rodney',\n",
       " 'Berkeley, Sir Lennox',\n",
       " 'Bernstein, Leonard',\n",
       " 'Binge, Ronald',\n",
       " 'Bozza, Eugene',\n",
       " 'Braun, Günter',\n",
       " 'Britten, Lord Benjamin',\n",
       " 'Bruzdowicz, Joanna',\n",
       " 'Chajes, Julius',\n",
       " 'Constantinescu, Paul',\n",
       " 'Copland, Aaron',\n",
       " 'Creston, Paul',\n",
       " 'Diamond, David',\n",
       " 'Distler, Hugo',\n",
       " 'Durufle, Maurice',\n",
       " 'Dutilleux, Henri',\n",
       " 'Elenescu, Emanuel',\n",
       " 'Farnon, Robert Joseph',\n",
       " 'Febel, Reinhard',\n",
       " 'Ferguson, Howard',\n",
       " 'Finzi, Gerald',\n",
       " 'Frankel, Benjamin',\n",
       " 'Françaix, Jean',\n",
       " 'Gallant, Pierre',\n",
       " 'Giannini, Vittorio',\n",
       " 'Gielen, Michael',\n",
       " 'Ginastera, Alberto',\n",
       " 'Glaser, Werner Wolf',\n",
       " 'Gorecki, Henryk Mikolaj',\n",
       " 'Gould, Morton',\n",
       " 'Guarnieri, Mozart Camargo',\n",
       " 'Guastavino, Carlos',\n",
       " 'Halffter, Ernesto',\n",
       " 'Head, Michael Dewar',\n",
       " 'Herrmann, Bernard',\n",
       " 'Holloway, Robin',\n",
       " 'Holmboe, Vagn',\n",
       " 'Hovhaness, Alan',\n",
       " 'Jirko, Ivan',\n",
       " 'Joio, Norman Dello',\n",
       " 'Joseph, William',\n",
       " 'Kabalevsky, Dmitri Borisovich',\n",
       " \"Khachaturian, Aram Il'yich\",\n",
       " 'Kymlicka, Milan',\n",
       " 'Lamb, Peter',\n",
       " 'Leighton, Kenneth',\n",
       " 'Lilburn, Douglas',\n",
       " 'Lloyd, George',\n",
       " 'Lutoslavski, Witold',\n",
       " 'Maconchy, Elizabeth',\n",
       " 'Mathias, William',\n",
       " 'Matton, Roger',\n",
       " 'Maw, Nicholas',\n",
       " 'McLeod, John',\n",
       " 'Mechem, Kirke',\n",
       " 'Mennin, Peter',\n",
       " 'Menotti, Gian Carlo',\n",
       " 'Messiaen, Olivier',\n",
       " 'Milstein, Nathan',\n",
       " 'Muczynski, Robert',\n",
       " 'Nelhybel, Vaclav',\n",
       " 'Nelson, Ron',\n",
       " 'Nixon, Roger',\n",
       " 'Nobre, Marlos',\n",
       " 'Orbon, Julian',\n",
       " 'Part, Arvo',\n",
       " 'Partos, Oedoen',\n",
       " 'Perkins, Frank',\n",
       " 'Petit, Pierre',\n",
       " 'Pettersson, Gustav Allan',\n",
       " 'Poot, Marcel',\n",
       " 'Presti, Ida',\n",
       " 'Raid, Kaljo',\n",
       " 'Rawsthorne, Alan',\n",
       " 'Reed, H. Owen',\n",
       " 'Rochberg, George',\n",
       " 'Rodgers, Richard',\n",
       " 'Rodrigo, Joaquín',\n",
       " 'Rubbra, Edmund',\n",
       " 'Rutter, John',\n",
       " 'Rózsa, Miklós',\n",
       " 'Saxton, Robert',\n",
       " 'Schnittke, Alfred',\n",
       " 'Schuman, William Howard',\n",
       " 'Seiber, Matyas',\n",
       " 'Shchedrin, Rodion Konstantinovich',\n",
       " 'Shostakovich, Dmitri',\n",
       " 'Simpson, Robert',\n",
       " 'Sternefeld, Daniel',\n",
       " 'Stevens, Bernard',\n",
       " 'Surinach, Carlos',\n",
       " 'Tabakov, Emil',\n",
       " 'Tavener, John',\n",
       " 'Tippett, Sir Michael Kemp',\n",
       " 'Tomlinson, Ernest',\n",
       " 'Tormis, Veljo',\n",
       " 'Truscott, Harold',\n",
       " 'Tubin, Eduard',\n",
       " 'Walton, Sir William Turner',\n",
       " 'Webber, Andrew Lloyd',\n",
       " 'Webber, William Southcombe Lloyd',\n",
       " 'Weill, Kurt',\n",
       " 'Weinberg, Mieczysław',\n",
       " 'Williams, James Clifton',\n",
       " 'Wiren, Dag Ivar',\n",
       " 'Zimmermann, Bernd Alois']"
      ]
     },
     "execution_count": 31,
     "metadata": {},
     "output_type": "execute_result"
    }
   ],
   "source": [
    "composers"
   ]
  },
  {
   "cell_type": "code",
   "execution_count": 2,
   "metadata": {
    "ExecuteTime": {
     "end_time": "2021-02-27T15:33:11.199481Z",
     "start_time": "2021-02-27T15:33:11.195256Z"
    },
    "hidden": true
   },
   "outputs": [
    {
     "name": "stdout",
     "output_type": "stream",
     "text": [
      "Il numero dei compositori è 114\n"
     ]
    }
   ],
   "source": [
    "# svolgimento\n",
    "\n",
    "nr_composers = len(composers)\n",
    "print(\"Il numero dei compositori è\", nr_composers)"
   ]
  },
  {
   "cell_type": "code",
   "execution_count": 5,
   "metadata": {
    "ExecuteTime": {
     "end_time": "2021-02-27T15:34:49.274532Z",
     "start_time": "2021-02-27T15:34:49.267644Z"
    },
    "hidden": true
   },
   "outputs": [
    {
     "data": {
      "text/plain": [
       "['Addinsell, Richard',\n",
       " 'Alain, Jehan',\n",
       " 'Alwyn, William',\n",
       " 'Antill, John',\n",
       " 'Apostel, Hans Erich',\n",
       " 'Arnold, Malcolm',\n",
       " 'Barber, Samuel',\n",
       " 'Basarab, Mircea',\n",
       " 'Bennett, Richard Rodney',\n",
       " 'Berkeley, Sir Lennox']"
      ]
     },
     "execution_count": 5,
     "metadata": {},
     "output_type": "execute_result"
    }
   ],
   "source": [
    "composers.sort()\n",
    "composers[:10]"
   ]
  },
  {
   "cell_type": "code",
   "execution_count": 6,
   "metadata": {
    "ExecuteTime": {
     "end_time": "2021-02-27T15:35:16.910689Z",
     "start_time": "2021-02-27T15:35:16.900502Z"
    },
    "hidden": true
   },
   "outputs": [
    {
     "data": {
      "text/plain": [
       "['Truscott, Harold',\n",
       " 'Tubin, Eduard',\n",
       " 'Walton, Sir William Turner',\n",
       " 'Webber, Andrew Lloyd',\n",
       " 'Webber, William Southcombe Lloyd',\n",
       " 'Weill, Kurt',\n",
       " 'Weinberg, Mieczysław',\n",
       " 'Williams, James Clifton',\n",
       " 'Wiren, Dag Ivar',\n",
       " 'Zimmermann, Bernd Alois']"
      ]
     },
     "execution_count": 6,
     "metadata": {},
     "output_type": "execute_result"
    }
   ],
   "source": [
    "composers[-10:]"
   ]
  },
  {
   "cell_type": "code",
   "execution_count": 32,
   "metadata": {
    "ExecuteTime": {
     "end_time": "2021-03-06T14:54:12.291072Z",
     "start_time": "2021-03-06T14:54:12.280823Z"
    },
    "hidden": true
   },
   "outputs": [],
   "source": [
    "compositori_s = []"
   ]
  },
  {
   "cell_type": "code",
   "execution_count": 33,
   "metadata": {
    "ExecuteTime": {
     "end_time": "2021-03-06T14:54:15.058784Z",
     "start_time": "2021-03-06T14:54:15.055562Z"
    },
    "hidden": true
   },
   "outputs": [],
   "source": [
    "for comp in composers:\n",
    "    if comp[0] == 'S':\n",
    "        compositori_s.append(comp)"
   ]
  },
  {
   "cell_type": "code",
   "execution_count": 34,
   "metadata": {
    "ExecuteTime": {
     "end_time": "2021-03-06T14:54:17.335943Z",
     "start_time": "2021-03-06T14:54:17.325915Z"
    },
    "hidden": true
   },
   "outputs": [
    {
     "name": "stdout",
     "output_type": "stream",
     "text": [
      "['Saxton, Robert', 'Schnittke, Alfred', 'Schuman, William Howard', 'Seiber, Matyas', 'Shchedrin, Rodion Konstantinovich', 'Shostakovich, Dmitri', 'Simpson, Robert', 'Sternefeld, Daniel', 'Stevens, Bernard', 'Surinach, Carlos']\n"
     ]
    }
   ],
   "source": [
    "        \n",
    "print(compositori_s)"
   ]
  },
  {
   "cell_type": "markdown",
   "metadata": {
    "heading_collapsed": true
   },
   "source": [
    "# Esercizio"
   ]
  },
  {
   "cell_type": "markdown",
   "metadata": {
    "hidden": true
   },
   "source": [
    "Data la lista di nome `lista`, cercare il valore 20 e, se presente, sostituirlo con il valore 200"
   ]
  },
  {
   "cell_type": "code",
   "execution_count": 43,
   "metadata": {
    "ExecuteTime": {
     "end_time": "2021-03-06T14:57:39.458565Z",
     "start_time": "2021-03-06T14:57:39.452542Z"
    },
    "hidden": true
   },
   "outputs": [],
   "source": [
    "lista = [5, 10, 15, 16, 12, 15, 32, 20, 25, 50]"
   ]
  },
  {
   "cell_type": "code",
   "execution_count": 44,
   "metadata": {
    "ExecuteTime": {
     "end_time": "2021-03-06T14:57:40.616165Z",
     "start_time": "2021-03-06T14:57:40.610479Z"
    },
    "hidden": true
   },
   "outputs": [],
   "source": [
    "indice_da_cambiare = lista.index(20)"
   ]
  },
  {
   "cell_type": "code",
   "execution_count": 45,
   "metadata": {
    "ExecuteTime": {
     "end_time": "2021-03-06T14:57:41.578924Z",
     "start_time": "2021-03-06T14:57:41.575921Z"
    },
    "hidden": true
   },
   "outputs": [],
   "source": [
    "lista[indice_da_cambiare] = 200"
   ]
  },
  {
   "cell_type": "code",
   "execution_count": 46,
   "metadata": {
    "ExecuteTime": {
     "end_time": "2021-03-06T14:57:42.841908Z",
     "start_time": "2021-03-06T14:57:42.837593Z"
    },
    "hidden": true
   },
   "outputs": [
    {
     "data": {
      "text/plain": [
       "[5, 10, 15, 16, 12, 15, 32, 200, 25, 50]"
      ]
     },
     "execution_count": 46,
     "metadata": {},
     "output_type": "execute_result"
    }
   ],
   "source": [
    "lista"
   ]
  },
  {
   "cell_type": "code",
   "execution_count": null,
   "metadata": {
    "ExecuteTime": {
     "end_time": "2021-02-25T23:32:04.767176Z",
     "start_time": "2021-02-25T23:32:04.764423Z"
    },
    "hidden": true
   },
   "outputs": [],
   "source": [
    "# svolgimento"
   ]
  },
  {
   "cell_type": "markdown",
   "metadata": {
    "heading_collapsed": true
   },
   "source": [
    "# Esercizio"
   ]
  },
  {
   "cell_type": "markdown",
   "metadata": {
    "ExecuteTime": {
     "end_time": "2021-02-26T16:22:16.826128Z",
     "start_time": "2021-02-26T16:22:16.822182Z"
    },
    "hidden": true
   },
   "source": [
    "Calcolare la media aritmetica e la mediana dei valori della lista `values`.  \n",
    "La **media** si calcola con la seguente formula:  \n",
    "\n",
    "$$M_a = \\frac{1}{n}\\sum_{i=1}^{n} x_i$$   \n",
    "\n",
    "cioè la somma di tutti gli elementi della lista, diviso per il numero degli elementi della lista.\n",
    "\n",
    "La **mediana** si calcola in questo modo:\n",
    "1. Si ordinano gli elementi della lista in ordine crescente\n",
    "2. Se il numero degli elementi è dispari, la mediana corrisponde al valore che sta esattamente nel mezzo della lista ordinata\n",
    "3. Se il numero degli elementi è pari, la mediana corrisponde alla media aritmetica dei due valori centrali della lista ordinata\n",
    "\n",
    "Ricordare che: \n",
    "1. la funzione **sum()** restituisce la somma di tutti gli elementi di una lista \n",
    "2. la funzione **len()** restituisce il numero di elementi di una lista\n",
    "3. il metodo **sort()** orina la lista dal valore più piccolo al più grande"
   ]
  },
  {
   "cell_type": "code",
   "execution_count": 59,
   "metadata": {
    "ExecuteTime": {
     "end_time": "2021-03-06T15:08:06.732872Z",
     "start_time": "2021-03-06T15:08:06.726699Z"
    },
    "hidden": true
   },
   "outputs": [],
   "source": [
    "values = [771, 856, 211, 702, 601, 432, 122, 484, 903, 808, 232, 336, 622, 19, 252, 235, 47, 649, 193, 479, \n",
    "          211, 950, 589, 254, 763, 350, 428, 237, 570, 662, 624, 234, 161, 407, 163, 757, 251, 296, 712, 160, \n",
    "          66, 476, 102, 172, 697, 799, 701, 596, 983, 641, 205, 569, 712, 734, 331, 238, 861, 268, 893, 396, \n",
    "          267, 772, 318, 80, 349, 228, 810, 571, 761, 338, 125, 288, 86, 705, 600, 889, 366, 40, 202, 256, \n",
    "          988, 124, 976, 714, 424, 605, 962, 1, 538, 356, 493, 725, 43, 339, 13, 18, 206, 287, 521, 548, 612, 113]"
   ]
  },
  {
   "cell_type": "code",
   "execution_count": 53,
   "metadata": {
    "ExecuteTime": {
     "end_time": "2021-03-06T15:02:09.507628Z",
     "start_time": "2021-03-06T15:02:09.503947Z"
    },
    "hidden": true
   },
   "outputs": [
    {
     "name": "stdout",
     "output_type": "stream",
     "text": [
      "La media è 452.64356435643566\n"
     ]
    }
   ],
   "source": [
    "print(f\"La media è {sum(values) / len(values)}\")"
   ]
  },
  {
   "cell_type": "code",
   "execution_count": 60,
   "metadata": {
    "ExecuteTime": {
     "end_time": "2021-03-06T15:08:08.795523Z",
     "start_time": "2021-03-06T15:08:08.789856Z"
    },
    "hidden": true
   },
   "outputs": [
    {
     "name": "stdout",
     "output_type": "stream",
     "text": [
      "La mediana è 640.5\n"
     ]
    }
   ],
   "source": [
    "if len(values) % 2 == 1:\n",
    "    indice_mediana = len(values) // 2\n",
    "    mediana = values[indice_mediana]\n",
    "else:\n",
    "    indice_mediana1 = len(values) // 2\n",
    "    indice_mediana2 = indice_mediana1 + 1\n",
    "    mediana = (values[indice_mediana1] + values[indice_mediana2]) / 2\n",
    "                     \n",
    "print(f\"La mediana è {mediana}\")"
   ]
  },
  {
   "cell_type": "code",
   "execution_count": 62,
   "metadata": {
    "ExecuteTime": {
     "end_time": "2021-03-06T15:08:19.112832Z",
     "start_time": "2021-03-06T15:08:19.107650Z"
    },
    "hidden": true
   },
   "outputs": [
    {
     "data": {
      "text/plain": [
       "[569, 712]"
      ]
     },
     "execution_count": 62,
     "metadata": {},
     "output_type": "execute_result"
    }
   ],
   "source": [
    "values[51:53]"
   ]
  },
  {
   "cell_type": "code",
   "execution_count": null,
   "metadata": {
    "ExecuteTime": {
     "end_time": "2021-02-26T16:43:25.781318Z",
     "start_time": "2021-02-26T16:43:25.779073Z"
    },
    "hidden": true
   },
   "outputs": [],
   "source": [
    "# svolgimento"
   ]
  },
  {
   "cell_type": "markdown",
   "metadata": {
    "heading_collapsed": true
   },
   "source": [
    "# Esercizio"
   ]
  },
  {
   "cell_type": "markdown",
   "metadata": {
    "hidden": true
   },
   "source": [
    "Data la lista `frasi`, contenente delle stringhe, calcolare la media della lunghezza delle stringhe"
   ]
  },
  {
   "cell_type": "code",
   "execution_count": 47,
   "metadata": {
    "ExecuteTime": {
     "end_time": "2021-03-06T14:58:41.070984Z",
     "start_time": "2021-03-06T14:58:41.055115Z"
    },
    "hidden": true
   },
   "outputs": [],
   "source": [
    "frasi = [\n",
    "    \"Tutto quanto procede come avevo previsto\",\n",
    "    \"Sia come vuoi, Jedi!\",\n",
    "    \"Se non ti vuoi convertire, allora sarai distrutto!\",\n",
    "    \"Giovane stolto: solo ora, alla fine, acquisti la ragione!\",\n",
    "    \"Hai lavorato bene, Lord Vader. E ora sento che desideri continuare la ricerca del giovane Skywalker.\",\n",
    "    \"Avete fallito, Altezza. Sono uno Jedi, come mio padre prima di me!\",\n",
    "    \"Disattiveranno quello scudo in tempo. O questo sarà l'attacco più breve di tutti i tempi.\"\n",
    "]"
   ]
  },
  {
   "cell_type": "code",
   "execution_count": 48,
   "metadata": {
    "ExecuteTime": {
     "end_time": "2021-03-06T14:59:23.755257Z",
     "start_time": "2021-03-06T14:59:23.750867Z"
    },
    "hidden": true
   },
   "outputs": [],
   "source": [
    "lunghezze = []\n",
    "\n",
    "for frase in frasi:\n",
    "    lunghezze.append(len(frase))"
   ]
  },
  {
   "cell_type": "code",
   "execution_count": 49,
   "metadata": {
    "ExecuteTime": {
     "end_time": "2021-03-06T14:59:27.819939Z",
     "start_time": "2021-03-06T14:59:27.813339Z"
    },
    "hidden": true
   },
   "outputs": [
    {
     "data": {
      "text/plain": [
       "[40, 20, 50, 57, 100, 66, 89]"
      ]
     },
     "execution_count": 49,
     "metadata": {},
     "output_type": "execute_result"
    }
   ],
   "source": [
    "lunghezze"
   ]
  },
  {
   "cell_type": "code",
   "execution_count": 51,
   "metadata": {
    "ExecuteTime": {
     "end_time": "2021-03-06T15:00:30.297116Z",
     "start_time": "2021-03-06T15:00:30.292750Z"
    },
    "hidden": true
   },
   "outputs": [
    {
     "name": "stdout",
     "output_type": "stream",
     "text": [
      "La media è 60\n"
     ]
    }
   ],
   "source": [
    "media = sum(lunghezze) / len(lunghezze)\n",
    "\n",
    "print(f\"La media è {int(media)}\")"
   ]
  },
  {
   "cell_type": "code",
   "execution_count": null,
   "metadata": {
    "ExecuteTime": {
     "end_time": "2021-02-26T17:03:10.055569Z",
     "start_time": "2021-02-26T17:03:10.053448Z"
    },
    "hidden": true
   },
   "outputs": [],
   "source": [
    "# svolgimento"
   ]
  },
  {
   "cell_type": "code",
   "execution_count": null,
   "metadata": {
    "hidden": true
   },
   "outputs": [],
   "source": []
  },
  {
   "cell_type": "code",
   "execution_count": null,
   "metadata": {
    "hidden": true
   },
   "outputs": [],
   "source": []
  }
 ],
 "metadata": {
  "kernelspec": {
   "display_name": "Python 3",
   "language": "python",
   "name": "python3"
  },
  "language_info": {
   "codemirror_mode": {
    "name": "ipython",
    "version": 3
   },
   "file_extension": ".py",
   "mimetype": "text/x-python",
   "name": "python",
   "nbconvert_exporter": "python",
   "pygments_lexer": "ipython3",
   "version": "3.7.6"
  },
  "toc": {
   "base_numbering": 1,
   "nav_menu": {},
   "number_sections": true,
   "sideBar": true,
   "skip_h1_title": false,
   "title_cell": "Table of Contents",
   "title_sidebar": "Contents",
   "toc_cell": false,
   "toc_position": {
    "height": "calc(100% - 180px)",
    "left": "10px",
    "top": "150px",
    "width": "165px"
   },
   "toc_section_display": true,
   "toc_window_display": true
  }
 },
 "nbformat": 4,
 "nbformat_minor": 4
}
