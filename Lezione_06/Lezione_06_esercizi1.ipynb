{
 "cells": [
  {
   "cell_type": "markdown",
   "metadata": {
    "heading_collapsed": true
   },
   "source": [
    "# Esercizio 1"
   ]
  },
  {
   "cell_type": "markdown",
   "metadata": {
    "hidden": true
   },
   "source": [
    "Chiedere all'utente di inserire un numero intero. Verificare che il numero sia pari o dispari, nel primo caso stampare \"Il numero inserito è pari\", altrimenti stampare \"Il numero inserito è dispari\""
   ]
  },
  {
   "cell_type": "code",
   "execution_count": 2,
   "metadata": {
    "ExecuteTime": {
     "end_time": "2021-03-05T21:51:27.385554Z",
     "start_time": "2021-03-05T21:51:25.026858Z"
    },
    "hidden": true
   },
   "outputs": [
    {
     "name": "stdout",
     "output_type": "stream",
     "text": [
      "Inserisci un numero > 9\n"
     ]
    }
   ],
   "source": [
    "# svolgimento\n",
    "\n",
    "numero = int(input(\"Inserisci un numero > \"))"
   ]
  },
  {
   "cell_type": "markdown",
   "metadata": {},
   "source": [
    "# Esercizio 2"
   ]
  },
  {
   "cell_type": "markdown",
   "metadata": {},
   "source": [
    "Chiedere all'utente di inserire due numeri interi, Se il prodotto di quei numeri è maggiore di 1000, stampare la loro somma, altrimenti stampare il prodotto"
   ]
  },
  {
   "cell_type": "code",
   "execution_count": null,
   "metadata": {},
   "outputs": [],
   "source": [
    "# svolgimento\n",
    "\n",
    "numero1 = int(input(\"Inserisci un numero > \"))\n",
    "numero2 = int(input(\"Inserisci un altro numero > \"))"
   ]
  },
  {
   "cell_type": "markdown",
   "metadata": {
    "heading_collapsed": true
   },
   "source": [
    "# Esercizio 3"
   ]
  },
  {
   "cell_type": "markdown",
   "metadata": {
    "hidden": true
   },
   "source": [
    "Chiedere all'utente di inserire una stringa e poi di inserire un numero. Se il numero è minore o uguale alla lunghezza della stringa stampare \"numero adeguato\", altrimenti stampare \"Il numero è troppo alto!\""
   ]
  },
  {
   "cell_type": "code",
   "execution_count": null,
   "metadata": {
    "hidden": true
   },
   "outputs": [],
   "source": [
    "# svolgimento\n",
    "\n",
    "stringa = input(\"Inserisci una stringa > \")\n",
    "numero = int(input(\"Inserisci un numero > \"))"
   ]
  },
  {
   "cell_type": "markdown",
   "metadata": {
    "heading_collapsed": true
   },
   "source": [
    "# Esercizio 4"
   ]
  },
  {
   "cell_type": "markdown",
   "metadata": {
    "hidden": true
   },
   "source": [
    "Chiedere all'utente di inserire una stringa e stampare solo i caratteri che si trovano agli indici in posizione pari se il numero dei caratteri è pari, altrimenti stampare i caratteri agli indici dispari se il numero dei caratteri è dispari."
   ]
  },
  {
   "cell_type": "code",
   "execution_count": null,
   "metadata": {
    "hidden": true
   },
   "outputs": [],
   "source": [
    "# svolgimento\n",
    "\n",
    "stringa = input(\"Inserisci una stringa > \")"
   ]
  },
  {
   "cell_type": "markdown",
   "metadata": {
    "heading_collapsed": true
   },
   "source": [
    "# Esercizio 5"
   ]
  },
  {
   "cell_type": "markdown",
   "metadata": {
    "hidden": true
   },
   "source": [
    "Chiedere all'utente di inserire una stringa e poi stampare la stringa al contrario se il numero dei caratteri è pari, altrimenti stampare la stringa originale."
   ]
  },
  {
   "cell_type": "code",
   "execution_count": null,
   "metadata": {
    "hidden": true
   },
   "outputs": [],
   "source": [
    "# svolgimento\n",
    "\n",
    "stringa = input(\"Inserisci una stringa > \")"
   ]
  },
  {
   "cell_type": "markdown",
   "metadata": {
    "heading_collapsed": true
   },
   "source": [
    "# Esercizio 6"
   ]
  },
  {
   "cell_type": "markdown",
   "metadata": {
    "hidden": true
   },
   "source": [
    "Chiedere all'utente di inserire due numeri interi e stampare il maggiore dei due."
   ]
  },
  {
   "cell_type": "code",
   "execution_count": null,
   "metadata": {
    "hidden": true
   },
   "outputs": [],
   "source": [
    "# svolgimento\n",
    "\n",
    "numero1 = int(input(\"Inserisci un numero > \"))\n",
    "numero2 = int(input(\"Inserisci un altro numero > \"))"
   ]
  },
  {
   "cell_type": "markdown",
   "metadata": {
    "heading_collapsed": true
   },
   "source": [
    "# Esercizio 7"
   ]
  },
  {
   "cell_type": "markdown",
   "metadata": {
    "ExecuteTime": {
     "end_time": "2021-03-05T21:41:38.573624Z",
     "start_time": "2021-03-05T21:41:38.568696Z"
    },
    "hidden": true
   },
   "source": [
    "Chiedere all'utente di inserire due numeri interi e stampare il minore dei due"
   ]
  },
  {
   "cell_type": "code",
   "execution_count": null,
   "metadata": {
    "hidden": true
   },
   "outputs": [],
   "source": [
    "# svolgimento\n",
    "\n",
    "numero1 = int(input(\"Inserisci un numero > \"))\n",
    "numero2 = int(input(\"Inserisci un altro numero > \"))"
   ]
  },
  {
   "cell_type": "markdown",
   "metadata": {
    "heading_collapsed": true
   },
   "source": [
    "# Esercizio 8"
   ]
  },
  {
   "cell_type": "markdown",
   "metadata": {
    "hidden": true
   },
   "source": [
    "Chiedere all'utente di inserire un numero. Se il numero è divisibile per 3 stampare \"Il numero è divisibile per 3\", se è divisibile per 2, stampare \"Il numero è divisibile per 2\", altrimenti stampare \"Il numero non è divisibile né per 2 né per 3\""
   ]
  },
  {
   "cell_type": "code",
   "execution_count": null,
   "metadata": {
    "hidden": true
   },
   "outputs": [],
   "source": [
    "# svolgimento\n",
    "\n",
    "numero = int(input(\"Inserisci un numero > \"))"
   ]
  },
  {
   "cell_type": "markdown",
   "metadata": {
    "heading_collapsed": true
   },
   "source": [
    "# Esercizio 9"
   ]
  },
  {
   "cell_type": "markdown",
   "metadata": {
    "hidden": true
   },
   "source": [
    "Chiedere all'utente di inserire un numero. Se il numero è minore o uguale a 100 stampare tanti asterischi (\\*) quanto vale il numero, altrimenti stampare tanti più (+) quanto vale il numero.\n",
    "Esempio, se il numero è 9, stampare:  \n",
    "```\n",
    "*********\n",
    "```"
   ]
  },
  {
   "cell_type": "code",
   "execution_count": null,
   "metadata": {
    "hidden": true
   },
   "outputs": [],
   "source": [
    "# svolgimento\n",
    "\n",
    "numero = int(input(\"Inserisci un numero > \"))"
   ]
  },
  {
   "cell_type": "markdown",
   "metadata": {},
   "source": [
    "# Sorteggi"
   ]
  },
  {
   "cell_type": "code",
   "execution_count": null,
   "metadata": {},
   "outputs": [],
   "source": []
  },
  {
   "cell_type": "code",
   "execution_count": null,
   "metadata": {},
   "outputs": [],
   "source": []
  },
  {
   "cell_type": "code",
   "execution_count": null,
   "metadata": {},
   "outputs": [],
   "source": []
  },
  {
   "cell_type": "code",
   "execution_count": 3,
   "metadata": {
    "ExecuteTime": {
     "end_time": "2021-03-06T13:49:37.112789Z",
     "start_time": "2021-03-06T13:49:37.105058Z"
    }
   },
   "outputs": [
    {
     "data": {
      "text/plain": [
       "{'Andrea Petruzzo': 3,\n",
       " 'Daniele Palumbo': 5,\n",
       " 'Federico Padrini': 2,\n",
       " 'Francesco Lai': 6,\n",
       " 'Gabriele Canova': 7,\n",
       " 'Maxim Azetov': 1,\n",
       " 'Pietro Barbera': 4}"
      ]
     },
     "execution_count": 3,
     "metadata": {},
     "output_type": "execute_result"
    }
   ],
   "source": [
    "import random\n",
    "\n",
    "studenti = [\n",
    "    \"Andrea Petruzzo\",\n",
    "    \"Daniele Palumbo\",\n",
    "    \"Federico Padrini\",\n",
    "    \"Francesco Lai\",\n",
    "    \"Gabriele Canova\",\n",
    "    \"Maxim Azetov\",\n",
    "    \"Pietro Barbera\"\n",
    "]\n",
    "\n",
    "esercizi = list(range(1,8))\n",
    "\n",
    "random.shuffle(esercizi)    \n",
    "\n",
    "{studente: esercizio for studente, esercizio in zip(studenti, esercizi)}"
   ]
  },
  {
   "cell_type": "code",
   "execution_count": null,
   "metadata": {},
   "outputs": [],
   "source": []
  },
  {
   "cell_type": "code",
   "execution_count": 13,
   "metadata": {
    "ExecuteTime": {
     "end_time": "2021-03-06T14:31:27.416318Z",
     "start_time": "2021-03-06T14:31:22.273802Z"
    }
   },
   "outputs": [
    {
     "name": "stdout",
     "output_type": "stream",
     "text": [
      "inserisci un altro numero > 100\n",
      "Inserisci un altro numero > 2345\n",
      "2445\n"
     ]
    }
   ],
   "source": [
    "numero1 = int(input(\"inserisci un altro numero > \"))\n",
    "numero2 = int(input(\"Inserisci un altro numero > \")) \n",
    "\n",
    "if (numero1 * numero2 > 1000):\n",
    "    print(numero1 + numero2)\n",
    "else:\n",
    "    print(numero1 * numero2)"
   ]
  },
  {
   "cell_type": "code",
   "execution_count": null,
   "metadata": {},
   "outputs": [],
   "source": []
  },
  {
   "cell_type": "code",
   "execution_count": null,
   "metadata": {},
   "outputs": [],
   "source": []
  },
  {
   "cell_type": "code",
   "execution_count": null,
   "metadata": {},
   "outputs": [],
   "source": []
  },
  {
   "cell_type": "code",
   "execution_count": null,
   "metadata": {},
   "outputs": [],
   "source": []
  },
  {
   "cell_type": "code",
   "execution_count": null,
   "metadata": {},
   "outputs": [],
   "source": []
  },
  {
   "cell_type": "code",
   "execution_count": null,
   "metadata": {},
   "outputs": [],
   "source": []
  }
 ],
 "metadata": {
  "kernelspec": {
   "display_name": "Python 3",
   "language": "python",
   "name": "python3"
  },
  "language_info": {
   "codemirror_mode": {
    "name": "ipython",
    "version": 3
   },
   "file_extension": ".py",
   "mimetype": "text/x-python",
   "name": "python",
   "nbconvert_exporter": "python",
   "pygments_lexer": "ipython3",
   "version": "3.7.6"
  },
  "toc": {
   "base_numbering": 1,
   "nav_menu": {},
   "number_sections": true,
   "sideBar": true,
   "skip_h1_title": false,
   "title_cell": "Table of Contents",
   "title_sidebar": "Contents",
   "toc_cell": false,
   "toc_position": {},
   "toc_section_display": true,
   "toc_window_display": false
  }
 },
 "nbformat": 4,
 "nbformat_minor": 4
}
